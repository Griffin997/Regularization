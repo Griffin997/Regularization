{
 "cells": [
  {
   "cell_type": "markdown",
   "metadata": {},
   "source": [
    "# Code Description\n",
    "This code takes the large output of a parameter estimation project and then post-processes all of the data\n",
    "\n",
    "Functions use a standard indexing to refer to our 4 parameters: 0 index is c1, 1 is c2, 2 is T21, and 3 is T22\n",
    "\n",
    "All parameter sets will be loaded in through the summary file associated with the result files\n",
    "\n",
    "This code was initially written by Ryan Neff and then continued by Griffin Hampton (GSH) - Mirage Modi played a very important role in the multiprocessing of the data"
   ]
  },
  {
   "cell_type": "markdown",
   "metadata": {
    "tags": []
   },
   "source": [
    "# Import Packages"
   ]
  },
  {
   "cell_type": "code",
   "execution_count": 35,
   "id": "905d6574",
   "metadata": {},
   "outputs": [],
   "source": [
    "#%matplotlib widget\n",
    "import scipy\n",
    "import scipy.io\n",
    "from scipy.optimize import curve_fit\n",
    "from scipy.optimize import least_squares\n",
    "from scipy import special\n",
    "import matplotlib as mpl\n",
    "import matplotlib.pyplot as plt\n",
    "import numpy as np\n",
    "import statistics\n",
    "import math\n",
    "import time\n",
    "import itertools\n",
    "import colorsys\n",
    "from tqdm import trange\n",
    "from datetime import date\n",
    "import pickle\n",
    "import pandas as pd\n",
    "import os"
   ]
  },
  {
   "cell_type": "markdown",
   "id": "a08391fd",
   "metadata": {},
   "source": [
    "# Options"
   ]
  },
  {
   "cell_type": "code",
   "execution_count": 36,
   "id": "4781ead7",
   "metadata": {},
   "outputs": [],
   "source": [
    "#Noise Increased Data\n",
    "data_date_oi = \"05Jun23\"\n",
    "series_tag = \"RicExp_SNR_100_testCase_\" + data_date_oi\n",
    "\n",
    "#Standard Reference Data\n",
    "gs_date_oi = \"05Jun23\"\n",
    "gs_series_tag = \"RicExp_NoNoise_testCase_\" + gs_date_oi\n",
    "\n",
    "\n",
    "base_folder = \"ExperimentalSets_Rician\"\n",
    "\n",
    "post_normalize_data = True\n",
    "\n",
    "\n",
    "#This takes effect if and only if there are lots and lots of scans and we want to see fewer\n",
    "n_iter_subset = 25\n"
   ]
  },
  {
   "attachments": {},
   "cell_type": "markdown",
   "id": "12b034d7",
   "metadata": {},
   "source": [
    "# Signal Functions"
   ]
  },
  {
   "cell_type": "code",
   "execution_count": 37,
   "id": "8a055628",
   "metadata": {},
   "outputs": [],
   "source": [
    "def G_biX_off(t, con_1, con_2, tau_1, tau_2, offSet): \n",
    "    signal = con_1*np.exp(-t/tau_1) + con_2*np.exp(-t/tau_2) + offSet\n",
    "    return signal\n",
    "\n",
    "def G_moX_off(t, con, tau, offSet): \n",
    "    signal = con*np.exp(-t/tau) + offSet\n",
    "    return signal\n",
    "\n",
    "def G_MB(t, alpha, beta, tau_1, tau_2, offSet):\n",
    "    function = alpha*(beta*np.exp(-t/tau_1) + (1-beta)*np.exp(-t/tau_2)) + offSet\n",
    "    return function\n",
    "\n",
    "def G_biX_Ric(t, con_1, con_2, tau_1, tau_2, sigma): \n",
    "    signal = con_1*np.exp(-t/tau_1) + con_2*np.exp(-t/tau_2)\n",
    "    alpha=(signal/(2*sigma))**2\n",
    "    Expectation = sigma*np.sqrt(np.pi/2)*((1+2*alpha)*special.ive(0, alpha) + 2*alpha*special.ive(1,alpha))\n",
    "    return Expectation\n",
    "\n",
    "def G_moX_Ric(t, con, tau, sigma): \n",
    "    signal = con*np.exp(-t/tau)\n",
    "    alpha=(signal/(2*sigma))**2\n",
    "    Expectation = sigma*np.sqrt(np.pi/2)*((1+2*alpha)*special.ive(0, alpha) + 2*alpha*special.ive(1,alpha))\n",
    "    return Expectation "
   ]
  },
  {
   "cell_type": "markdown",
   "id": "c466e75a",
   "metadata": {},
   "source": [
    "# Define Parameters"
   ]
  },
  {
   "cell_type": "code",
   "execution_count": 38,
   "id": "4515a5f0",
   "metadata": {},
   "outputs": [],
   "source": [
    "### Loading All Data Hyperparameters\n",
    "\n",
    "with open(f'{base_folder}/{series_tag}/hprParameter_info_{data_date_oi}.pkl', 'rb') as handle:\n",
    "    dict = pickle.load(handle)\n",
    "    SNR_goal = dict['SNR_goal']\n",
    "    n_iterations = dict['n_noise_realizations']\n",
    "    num_multistarts = dict['num_multistarts']\n",
    "    lambdas = dict['lambdas']\n",
    "    tdata = dict['tdata']\n",
    "    data_file_oi = dict[\"data_file\"]\n",
    "    data_slice_oi = dict[\"data_slice\"]\n",
    "    model_oi = dict['model_oi']\n",
    "    ob_weight = dict['ob_weight']\n",
    "    upper_bound = dict['upper_bound']\n",
    "    mask_amp = dict['mask_amp']\n",
    "    masked_region = dict['masked_region']\n",
    "    n_hori = dict['n_horizontal']\n",
    "    n_vert = dict['n_verticle']\n",
    "    add_noise, add_mask, apply_normalization, subsection, MB_model, model_selection, multistart_method, testCase = dict['options']\n",
    "    SNR_array = dict['SNR_array']\n",
    "    handle.close()\n",
    "\n",
    "n_elements = len(tdata)\n",
    "\n",
    "n_lambdas = len(lambdas)\n",
    "\n",
    "###################### Parameters Loop Through\n",
    "\n",
    "param_name_list = [r'$c_1$',r'$c_2$',r'$T_{21}$',r'$T_{22}$']\n",
    "\n",
    "if MB_model:\n",
    "    post_normalize_data = False\n",
    "\n",
    "if subsection:\n",
    "    vert1 = 37\n",
    "    vert2 = 47\n",
    "    hori1 = 25\n",
    "    hori2 = 70\n",
    "elif testCase:\n",
    "    vert1 = 0\n",
    "    vert2 = 9\n",
    "    hori1 = 0\n",
    "    hori2 = 9\n",
    "else:\n",
    "    vert1 = 90             #60     #108\n",
    "    vert2 = 110            #125     #116\n",
    "    hori1 = 70            #100      #86\n",
    "    hori2 = 130            #115      #93\n",
    "\n",
    "vBox = (vert1,vert1,vert2,vert2,vert1)\n",
    "hBox = (hori1,hori2,hori2,hori1,hori1)\n",
    "noiseRegion = [vert1,vert2,hori1,hori2]\n",
    "\n",
    "##################### Important for Naming\n",
    "date = date.today()\n",
    "day = date.strftime('%d')\n",
    "month = date.strftime('%B')[0:3]\n",
    "year = date.strftime('%y')"
   ]
  },
  {
   "cell_type": "code",
   "execution_count": 39,
   "id": "b23f2b0f",
   "metadata": {},
   "outputs": [],
   "source": [
    "with open(f'{base_folder}/{gs_series_tag}/hprParameter_info_{gs_date_oi}.pkl', 'rb') as handle:\n",
    "    \n",
    "    dict = pickle.load(handle)\n",
    "    gs_SNR_goal = dict['SNR_goal']\n",
    "    gs_n_iterations = dict['n_noise_realizations']\n",
    "    gs_num_multistarts = dict['num_multistarts']\n",
    "    gs_lambdas = dict['lambdas']\n",
    "    gs_tdata = dict['tdata']\n",
    "    gs_data_file_oi = dict[\"data_file\"]\n",
    "    gs_data_slice_oi = dict[\"data_slice\"]\n",
    "    gs_model_oi = dict['model_oi']\n",
    "    gs_ob_weight = dict['ob_weight']\n",
    "    gs_upper_bound = dict['upper_bound']\n",
    "    gs_mask_amp = dict['mask_amp']\n",
    "    gs_masked_region = dict['masked_region']\n",
    "    gs_n_hori = dict['n_horizontal']\n",
    "    gs_n_vert = dict['n_verticle']\n",
    "    gs_add_noise, gs_add_mask, gs_apply_normalization, gs_subsection, gs_MB_model, gs_model_selection, gs_multistart_method, gs_testCase = dict['options']\n",
    "    gs_SNR_array = dict['SNR_array']\n",
    "    handle.close()\n"
   ]
  },
  {
   "cell_type": "code",
   "execution_count": 40,
   "id": "ea1806da",
   "metadata": {},
   "outputs": [
    {
     "name": "stdout",
     "output_type": "stream",
     "text": [
      "No alignment errors\n"
     ]
    }
   ],
   "source": [
    "assert(add_noise == True)\n",
    "assert(gs_add_noise == False)\n",
    "\n",
    "assert(gs_mask_amp == mask_amp)\n",
    "assert(gs_n_hori == n_hori)\n",
    "assert(gs_n_vert == n_vert)\n",
    "assert(gs_apply_normalization == apply_normalization)\n",
    "assert(gs_model_oi == model_oi)\n",
    "\n",
    "print(\"No alignment errors\")\n"
   ]
  },
  {
   "cell_type": "code",
   "execution_count": 41,
   "id": "6e173b65",
   "metadata": {},
   "outputs": [
    {
     "name": "stdout",
     "output_type": "stream",
     "text": [
      "[163.3161199717759]\n"
     ]
    }
   ],
   "source": [
    "print(gs_SNR_array)"
   ]
  },
  {
   "cell_type": "markdown",
   "id": "e1d2caa1",
   "metadata": {},
   "source": [
    "# Define General Functions"
   ]
  },
  {
   "cell_type": "markdown",
   "id": "c48e13c1",
   "metadata": {},
   "source": [
    "### Small Helper Functions"
   ]
  },
  {
   "cell_type": "code",
   "execution_count": 42,
   "id": "b14c5940",
   "metadata": {},
   "outputs": [],
   "source": [
    "########################### Simple Functions ##############################\n",
    "\n",
    "def J(t, con1, con2, tau1, tau2):\n",
    "    func1 = np.exp(-t/tau1)\n",
    "    func2 = np.exp(-t/tau2)\n",
    "    func3 = (con1*t)*np.exp(-t/tau1)/(tau1**2)\n",
    "    func4 = (con2*t)*np.exp(-t/tau2)/(tau2**2)\n",
    "    jacobian = np.stack((func1, func2, func3, func4), axis=-1)\n",
    "    \n",
    "    return jacobian\n",
    "\n",
    "def cov_matrix(con1, con2, tau1, tau2, SNR):\n",
    "    noise_sd = 1/SNR\n",
    "    jacobians = J(tdata, con1, con2, tau1, tau2).transpose()@J(tdata, con1, con2, tau1, tau2) \n",
    "    covariance = np.linalg.inv(jacobians)\n",
    "    return (noise_sd**2)*covariance\n",
    "\n",
    "def post_normalize(object):\n",
    "    initial_shape = object.shape\n",
    "    stacked_params = np.reshape(object, (-1, initial_shape[-1]))\n",
    "    scaled_params = np.ones(stacked_params.shape)*np.NAN\n",
    "    coeficients = stacked_params[:,0]+stacked_params[:,1]\n",
    "    coeficients = np.where(coeficients == 0, 1-coeficients, coeficients) #to avoid dividing by zero\n",
    "    scaled_params[:,0:2] = stacked_params[:,0:2]/coeficients[:,None]\n",
    "    scaled_params[:,2:] = stacked_params[:,2:]\n",
    "    final_obj = np.reshape(scaled_params, initial_shape)\n",
    "    return final_obj\n",
    "\n",
    "def to_readable(file):\n",
    "    df = pd.read_pickle(file)\n",
    "    ALL_TYPES = np.stack(df[\"Type\"].values) #shape: (voxel)\n",
    "    ALL_DATA = np.stack(df[\"Data\"].values) #shape: (voxel)\n",
    "    ALL_INDICES = np.stack(df[\"Indices\"].values) #shape: (voxel)\n",
    "\n",
    "    ALL_ESTIMATES = df[\"Params\"].values #shape: (voxel, lambda, popt)\n",
    "    ALL_RSS = df[\"RSS\"].values #shape: (voxel, lambda)\n",
    "    \n",
    "    return ALL_DATA, ALL_INDICES, ALL_TYPES, ALL_ESTIMATES, ALL_RSS\n"
   ]
  },
  {
   "cell_type": "markdown",
   "id": "2f0c0832",
   "metadata": {},
   "source": [
    "### Processing Results Functions"
   ]
  },
  {
   "cell_type": "code",
   "execution_count": 43,
   "id": "0b014ea7",
   "metadata": {},
   "outputs": [],
   "source": [
    "##### Regularization Functions on Stored Data\n",
    "\n",
    "def get_GCV_value(params, RSS, lamb):\n",
    "\n",
    "    wmat = np.array([[1,0,0,0],[0,1,0,0],[0,0,0.01,0],[0,0,0,0.01]])\n",
    "    GCVjacobian = J(tdata, *params[:4])\n",
    "    if (lamb < 1e-9):\n",
    "        GCVdenominator = len(tdata) - np.linalg.matrix_rank(GCVjacobian)\n",
    "    else:\n",
    "        C_GCV = GCVjacobian@np.linalg.inv(GCVjacobian.transpose()@GCVjacobian+(lamb**2)*wmat.transpose()@wmat)@GCVjacobian.transpose()\n",
    "        (n,n) = C_GCV.shape\n",
    "        identity = np.identity(n)\n",
    "        GCVdenominator = (identity - C_GCV).trace()\n",
    "    GCV = RSS/(GCVdenominator**2)\n",
    "    return GCV\n",
    "\n",
    "def pull_GCV(est_combos, RSS_combos, lambda_array):\n",
    "\n",
    "    GCV_hold_values = []\n",
    "\n",
    "    count_singular = 0\n",
    "\n",
    "    for iLam in range(len(lambda_array)):    #Loop through all lambda values\n",
    "        try:\n",
    "            GCV_value = get_GCV_value(est_combos[iLam], RSS_combos[iLam], lambda_array[iLam])\n",
    "            GCV_hold_values.append(GCV_value)\n",
    "        except:\n",
    "            GCV_hold_values.append(np.inf)\n",
    "            count_singular += 1\n",
    "\n",
    "    min_GCV_index = np.argmin(GCV_hold_values)   \n",
    "    GCV_final_params = est_combos[min_GCV_index, :]\n",
    "    GCV_RSS = RSS_combos[min_GCV_index]\n",
    "    GCV_final_lam = lambda_array[min_GCV_index]\n",
    "    GCV_curves = GCV_hold_values\n",
    "    \n",
    "    if count_singular > 0:\n",
    "        print(f\"Pixel had {count_singular} singular GCV values associated with nonzero lambda values\")\n",
    "    \n",
    "    return GCV_final_lam, GCV_final_params, GCV_RSS, GCV_curves\n",
    "\n"
   ]
  },
  {
   "attachments": {},
   "cell_type": "markdown",
   "id": "94698366",
   "metadata": {},
   "source": [
    "### Loading and Processing Data Function"
   ]
  },
  {
   "cell_type": "code",
   "execution_count": 44,
   "id": "16e54f2e",
   "metadata": {},
   "outputs": [],
   "source": [
    "def prepare_data(n_iterations, series_tag, n_v = n_vert, n_h = n_hori, n_lam = n_lambdas):\n",
    "\n",
    "    nonreg_estimates = np.zeros((n_iterations, n_v, n_h, 5))\n",
    "    GCV_estimates = np.zeros((n_iterations, n_v, n_h, 5))\n",
    "    nonreg_RSS = np.ones((n_iterations, n_v, n_h))*np.inf\n",
    "    GCV_RSS_list = np.ones((n_iterations, n_v, n_h))*np.inf\n",
    "    GCV_lambdas = np.zeros((n_iterations, n_v, n_h))\n",
    "    GCV_curves = np.zeros((n_iterations, n_v, n_h, n_lambdas))\n",
    "    all_data = np.zeros((n_iterations, n_v, n_h, n_elements))\n",
    "    all_BIC_choices = np.zeros((n_iterations, n_v, n_h))\n",
    "\n",
    "    for iter in trange(n_iterations):\n",
    "        data_name = base_folder + \"/\" + series_tag + \"/brainData_\" + series_tag + f\"_iteration_{iter}.pkl\"\n",
    "\n",
    "        print(\"Retrieving data for \" + data_name)\n",
    "        data, indices, types, estimates, RSS = to_readable(data_name)\n",
    "\n",
    "        for index in range(indices.shape[0]):\n",
    "\n",
    "            # print(f\"Working on horizontal {indices_rs[iter][0]} and verticle {indices_rs[iter][1]}\")\n",
    "            all_BIC_choices[iter, indices[index,0], indices[index,1]] = (types[index]=='biX')\n",
    "            all_data[iter, indices[index,0], indices[index,1],:] = data[index,:]\n",
    "\n",
    "            if types[index]=='biX':\n",
    "                GCV_lambda, GCV_params, GCV_RSS, GCV_curve = pull_GCV(estimates[index], RSS[index], lambdas)\n",
    "\n",
    "                GCV_estimates[iter, indices[index,0], indices[index,1], :] = GCV_params\n",
    "                GCV_RSS_list[iter, indices[index,0], indices[index,1]] = GCV_RSS\n",
    "                GCV_lambdas[iter, indices[index,0], indices[index,1]] = GCV_lambda\n",
    "                GCV_curves[iter, indices[index,0], indices[index,1], :] = GCV_curve\n",
    "\n",
    "                nonreg_estimates[iter, indices[index,0], indices[index,1], :] = estimates[index][0,:]\n",
    "                nonreg_RSS[iter, indices[index,0], indices[index,1]] = RSS[index][0]\n",
    "            elif types[index] == 'moX':\n",
    "                GCV_estimates[iter, indices[index,0], indices[index,1], 1:] = [estimates[index][0],0, *estimates[index][1:]]\n",
    "                nonreg_estimates[iter, indices[index,0], indices[index,1], 1:] = [estimates[index][0],0, *estimates[index][1:]]\n",
    "                GCV_RSS_list[iter, indices[index,0], indices[index,1]] = RSS[index]\n",
    "                nonreg_RSS[iter, indices[index,0], indices[index,1]] = RSS[index]\n",
    "            #The alternative is to be a background type which is disregarded - the parameter values are left as zeros\n",
    "\n",
    "    all_sets = [np.squeeze(all_BIC_choices), np.squeeze(all_data)]\n",
    "    nonreg_sets = [np.squeeze(nonreg_estimates), np.squeeze(nonreg_RSS)]\n",
    "    GCV_sets = [np.squeeze(GCV_estimates), np.squeeze(GCV_RSS_list), np.squeeze(GCV_lambdas), np.squeeze(GCV_curves)]\n",
    "\n",
    "    return all_sets, nonreg_sets, GCV_sets\n"
   ]
  },
  {
   "cell_type": "markdown",
   "id": "9d30e412",
   "metadata": {},
   "source": [
    "# Generate Data Sets"
   ]
  },
  {
   "cell_type": "code",
   "execution_count": 45,
   "id": "0119d1b8",
   "metadata": {},
   "outputs": [
    {
     "name": "stderr",
     "output_type": "stream",
     "text": [
      "  0%|          | 0/2 [00:00<?, ?it/s]"
     ]
    },
    {
     "name": "stdout",
     "output_type": "stream",
     "text": [
      "Retrieving data for ExperimentalSets_Rician/RicExp_SNR_100_testCase_05Jun23/brainData_RicExp_SNR_100_testCase_05Jun23_iteration_0.pkl\n"
     ]
    },
    {
     "name": "stderr",
     "output_type": "stream",
     "text": [
      " 50%|█████     | 1/2 [00:01<00:01,  1.65s/it]"
     ]
    },
    {
     "name": "stdout",
     "output_type": "stream",
     "text": [
      "Retrieving data for ExperimentalSets_Rician/RicExp_SNR_100_testCase_05Jun23/brainData_RicExp_SNR_100_testCase_05Jun23_iteration_1.pkl\n"
     ]
    },
    {
     "name": "stderr",
     "output_type": "stream",
     "text": [
      "100%|██████████| 2/2 [00:03<00:00,  1.63s/it]\n"
     ]
    }
   ],
   "source": [
    "n_iter_input = np.min([n_iterations, n_iter_subset])\n",
    "if n_iter_subset < n_iterations:\n",
    "    print(\"Subset of Noise Iterations Used\") \n",
    "# all_nonreg_estimates, all_reg_estimates, all_RSS, all_GCV_estimates, all_GCV_lambdas, all_GCV_curves, all_data = prepare_data(n_iter_input, series_tag)\n",
    "all_sets, nonreg_sets, GCV_sets = prepare_data(n_iter_input, series_tag)\n",
    "[all_BIC_choices, all_data] = all_sets\n",
    "[nonreg_estimates, nonreg_RSS] = nonreg_sets\n",
    "[GCV_estimates, GCV_RSS, GCV_lambdas, GCV_curves] = GCV_sets\n",
    "\n",
    "if post_normalize_data:\n",
    "        nonreg_estimates = post_normalize(nonreg_estimates)\n",
    "        GCV_estimates = post_normalize(GCV_estimates)"
   ]
  },
  {
   "cell_type": "code",
   "execution_count": 46,
   "id": "40243d7f",
   "metadata": {},
   "outputs": [
    {
     "data": {
      "image/png": "[encoded data removed]",
      "text/plain": [
       "<Figure size 900x300 with 6 Axes>"
      ]
     },
     "metadata": {},
     "output_type": "display_data"
    }
   ],
   "source": [
    "fig, ax = plt.subplots(1,3,figsize=(9,3),tight_layout=True)\n",
    "fig.suptitle('GCV MWF Region Quality Test - First Noise Realization')\n",
    "\n",
    "NR = ax[0].imshow(nonreg_estimates[0,:,:,0], cmap = 'Oranges', vmin = 0, vmax = 1)\n",
    "fig.colorbar(NR,ax=ax[0], fraction=0.046, pad=0.05, location = 'bottom')\n",
    "ax[0].set_title('Nonregularized MWF')\n",
    "\n",
    "GCV = ax[1].imshow(GCV_estimates[0,:,:,0], cmap = 'Oranges', vmin = 0, vmax = 1)\n",
    "fig.colorbar(GCV ,ax=ax[1], fraction=0.046, pad=0.05, location = 'bottom')\n",
    "ax[1].set_title('GCV MWF')\n",
    "\n",
    "diff_values = nonreg_estimates[0,:,:,0]-GCV_estimates[0,:,:,0]\n",
    "diff_range = np.max(np.abs(diff_values))\n",
    "Diff = ax[2].imshow(diff_values, cmap = 'seismic_r', vmin = -diff_range, vmax = diff_range)\n",
    "fig.colorbar(Diff ,ax=ax[2], fraction=0.046, pad=0.05, location = 'bottom')\n",
    "ax[2].set_title('Difference: NR - GCV')\n",
    "\n",
    "plt.show()\n"
   ]
  },
  {
   "cell_type": "code",
   "execution_count": 47,
   "id": "f645e318",
   "metadata": {},
   "outputs": [
    {
     "data": {
      "text/plain": [
       "Text(0.5, 1.0, 'Mono X Region')"
      ]
     },
     "execution_count": 47,
     "metadata": {},
     "output_type": "execute_result"
    },
    {
     "data": {
      "image/png": "[encoded data removed]",
      "text/plain": [
       "<Figure size 900x300 with 3 Axes>"
      ]
     },
     "metadata": {},
     "output_type": "display_data"
    }
   ],
   "source": [
    "fig, ax = plt.subplots(1,3,figsize=(9,3),tight_layout=True)\n",
    "fig.suptitle('BIC Filter Quality Control - First Noise Realization')\n",
    "ax[0].imshow(masked_region[:,:,0])\n",
    "ax[0].set_title('Full Brain')\n",
    "ax[1].imshow(all_BIC_choices[0,:,:])\n",
    "ax[1].set_title('Bi X Region')\n",
    "ax[2].imshow(masked_region[:,:,0]-all_BIC_choices[0,:,:])\n",
    "ax[2].set_title('Mono X Region')"
   ]
  },
  {
   "cell_type": "code",
   "execution_count": 48,
   "id": "d082aab6",
   "metadata": {},
   "outputs": [
    {
     "name": "stderr",
     "output_type": "stream",
     "text": [
      "  0%|          | 0/1 [00:00<?, ?it/s]"
     ]
    },
    {
     "name": "stdout",
     "output_type": "stream",
     "text": [
      "Retrieving data for ExperimentalSets_Rician/RicExp_NoNoise_testCase_05Jun23/brainData_RicExp_NoNoise_testCase_05Jun23_iteration_0.pkl\n"
     ]
    },
    {
     "name": "stderr",
     "output_type": "stream",
     "text": [
      "100%|██████████| 1/1 [00:02<00:00,  2.11s/it]\n"
     ]
    }
   ],
   "source": [
    "# gs_nonreg_estimates, gs_reg_estimates, gs_RSS, gs_GCV_estimates, gs_GCV_lambdas, gs_GCV_curves, gs_data = prepare_data(gs_n_iterations, gs_series_tag)\n",
    "gs_sets, gs_nonreg_sets, gs_GCV_sets = prepare_data(gs_n_iterations, gs_series_tag)\n",
    "[gs_BIC_choices, gs_data] = gs_sets\n",
    "[gs_nonreg_estimates, gs_nonreg_RSS] = gs_nonreg_sets\n",
    "[gs_GCV_estimates, gs_GCV_RSS, gs_GCV_lambdas, gs_GCV_curves] = gs_GCV_sets"
   ]
  },
  {
   "cell_type": "code",
   "execution_count": 49,
   "id": "fb7b7c99",
   "metadata": {},
   "outputs": [
    {
     "data": {
      "text/plain": [
       "Text(0.5, 1.0, 'Mono X Region')"
      ]
     },
     "execution_count": 49,
     "metadata": {},
     "output_type": "execute_result"
    },
    {
     "data": {
      "image/png": "[encoded data removed]",
      "text/plain": [
       "<Figure size 900x300 with 3 Axes>"
      ]
     },
     "metadata": {},
     "output_type": "display_data"
    }
   ],
   "source": [
    "fig, ax = plt.subplots(1,3,figsize=(9,3),tight_layout=True)\n",
    "fig.suptitle('BIC Filter Quality Control - Standard Reference')\n",
    "ax[0].imshow(masked_region[:,:,0])\n",
    "ax[0].set_title('Full Brain')\n",
    "ax[1].imshow(gs_BIC_choices[:,:])\n",
    "ax[1].set_title('Bi X Region')\n",
    "ax[2].imshow(masked_region[:,:,0]-gs_BIC_choices[:,:])\n",
    "ax[2].set_title('Mono X Region')"
   ]
  },
  {
   "cell_type": "code",
   "execution_count": 50,
   "id": "bff93611",
   "metadata": {},
   "outputs": [
    {
     "data": {
      "image/png": "[encoded data removed]",
      "text/plain": [
       "<Figure size 400x400 with 1 Axes>"
      ]
     },
     "metadata": {},
     "output_type": "display_data"
    }
   ],
   "source": [
    "fig, ax = plt.subplots(1,1,figsize=(4,4),tight_layout=True)\n",
    "plt.plot(all_data[0,n_vert//2,n_hori//2,:], color = 'g', label = 'noise iter 1')\n",
    "plt.plot(all_data[1,n_vert//2,n_hori//2,:], color = 'r', label = 'noise iter 2')\n",
    "plt.plot(gs_data[n_vert//2,n_hori//2,:], color = 'k', label = 'standard reference')\n",
    "plt.xlabel('Echo TE (ms)')\n",
    "plt.ylabel('Signal')\n",
    "plt.title('Signal Decay Quality Check')\n",
    "plt.legend()\n",
    "\n",
    "plt.show()"
   ]
  },
  {
   "cell_type": "code",
   "execution_count": 51,
   "id": "f432fdfa",
   "metadata": {},
   "outputs": [],
   "source": [
    "ExpResults = {\n",
    "    'HyperParams_exp': series_tag,\n",
    "    'HyperParams_gs': gs_series_tag,\n",
    "    'iter_subset': n_iter_input,\n",
    "    'post_normalized': post_normalize_data,\n",
    "    'gs_BIC_region': gs_BIC_choices,\n",
    "    'gs_nonreg_est': gs_nonreg_estimates,\n",
    "    'gs_data': gs_data,\n",
    "    'exp_BIC_region': all_BIC_choices,\n",
    "    'exp_nonreg_est': nonreg_estimates,\n",
    "    'exp_GCV_est': GCV_estimates,\n",
    "    'exp_GCV_curves': GCV_curves,\n",
    "    'exp_GCV_lam': GCV_lambdas,\n",
    "    'exp_data': all_data,\n",
    "    'masked_region': masked_region,\n",
    "    'SNR_goal': SNR_goal,\n",
    "    'SNR_array': SNR_array,\n",
    "    'lambdas': lambdas,\n",
    "    'tdata': tdata,\n",
    "    'model': model_oi,\n",
    "    'gs_SNR': gs_SNR_array,\n",
    "    'n_horizontal': n_hori,\n",
    "    'n_verticle': n_vert    \n",
    "}\n",
    "\n",
    "if post_normalize_data:\n",
    "    pn_file = 'Post_Normalized_'\n",
    "else:\n",
    "    pn_file = 'Raw_Params_'\n",
    "\n",
    "try:\n",
    "    os.makedirs(f'Intermediate_ExpResults/{series_tag}')\n",
    "except:\n",
    "    print(\"Directories already exists\")\n",
    "\n",
    "f = open(f'Intermediate_ExpResults/{series_tag}/{pn_file}' + day + month + year +'.pkl','wb')\n",
    "pickle.dump(ExpResults,f)\n",
    "f.close()"
   ]
  }
 ],
 "metadata": {
  "kernelspec": {
   "display_name": "BrainReg",
   "language": "python",
   "name": "python3"
  },
  "language_info": {
   "codemirror_mode": {
    "name": "ipython",
    "version": 3
   },
   "file_extension": ".py",
   "mimetype": "text/x-python",
   "name": "python",
   "nbconvert_exporter": "python",
   "pygments_lexer": "ipython3",
   "version": "3.10.7"
  },
  "vscode": {
   "interpreter": {
    "hash": "89143a808cc22a3eca572ad2dfa2b04c0ba9a8d1dd4b737e502ed05f4a53b9c7"
   }
  }
 },
 "nbformat": 4,
 "nbformat_minor": 5
}
