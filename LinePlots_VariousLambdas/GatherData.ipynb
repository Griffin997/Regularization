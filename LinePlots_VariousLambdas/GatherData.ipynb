{
 "cells": [
  {
   "cell_type": "code",
   "execution_count": 7,
   "metadata": {},
   "outputs": [],
   "source": [
    "import numpy as np\n",
    "import pickle"
   ]
  },
  {
   "cell_type": "markdown",
   "metadata": {},
   "source": [
    "# README\n",
    "\n",
    "This code serves to take all of the data gathered from Dr. Balan's biased CRLB analysis across lambda values for the case of SNR = 20 and c1, c2, T21, T22 = 0.4, 0.6, 50, 70 (the ill posed case) and then condense it into readable .pkl files"
   ]
  },
  {
   "cell_type": "code",
   "execution_count": 8,
   "metadata": {},
   "outputs": [],
   "source": [
    "total_files = 52\n",
    "\n",
    "lam_array = np.zeros(total_files)\n",
    "c1_array = np.zeros(total_files)\n",
    "c2_array = np.zeros(total_files)\n",
    "T21_array = np.zeros(total_files)\n",
    "T22_array = np.zeros(total_files)"
   ]
  },
  {
   "cell_type": "code",
   "execution_count": 10,
   "metadata": {},
   "outputs": [],
   "source": [
    "for iter in range(total_files):\n",
    "    f = open(f\"Variable_lam\\\\lam_{iter}.txt\", \"r\")\n",
    "    all_lines = f.readlines()\n",
    "    assert(len(all_lines) == 32) #ensures constancy between different files\n",
    "\n",
    "    lam_val = all_lines[2].split(\"lambda =  \",1)[1].split(\",\",1)[0]\n",
    "    lam_array[iter] = float(lam_val)\n",
    "\n",
    "    c1_str = all_lines[27].split(\"\\t \")[1]\n",
    "    c1_array[iter] = float(c1_str)\n",
    "\n",
    "    c2_str = all_lines[28].split(\"\\t \")[2]\n",
    "    c2_array[iter] = float(c2_str)\n",
    "\n",
    "    T21_str = all_lines[29].split(\"\\t \")[3]\n",
    "    T21_array[iter] = float(T21_str)\n",
    "\n",
    "    T22_str = all_lines[30].split(\"\\t \")[4]\n",
    "    T22_array[iter] = float(T22_str)"
   ]
  },
  {
   "cell_type": "code",
   "execution_count": null,
   "metadata": {},
   "outputs": [],
   "source": [
    "varLam_data = {\n",
    "    \"lam_array\": lam_array,\n",
    "    \"c1_array\": c1_array,\n",
    "    \"c2_array\": c2_array,\n",
    "    \"T21_array\": T21_array,\n",
    "    \"T22_array\": T22_array\n",
    "}\n",
    "\n",
    "f = open('varLam_data.pkl','wb')\n",
    "pickle.dump(varLam_data,f)\n",
    "f.close()"
   ]
  }
 ],
 "metadata": {
  "kernelspec": {
   "display_name": ".venv",
   "language": "python",
   "name": "python3"
  },
  "language_info": {
   "codemirror_mode": {
    "name": "ipython",
    "version": 3
   },
   "file_extension": ".py",
   "mimetype": "text/x-python",
   "name": "python",
   "nbconvert_exporter": "python",
   "pygments_lexer": "ipython3",
   "version": "3.10.7"
  }
 },
 "nbformat": 4,
 "nbformat_minor": 2
}
