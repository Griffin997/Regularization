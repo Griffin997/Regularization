{
 "cells": [
  {
   "cell_type": "markdown",
   "id": "3a71c9a0-e2e4-4097-8c7b-00e9ae44ac52",
   "metadata": {},
   "source": [
    "# Code Description\n",
    "This code contains many functions for testing regularization methods across parameter sets and noise realizations\n",
    "\n",
    "Functions use a standard indexing to refer to our 4 parameters: 0 index is c1, 1 is c2, 2 is T21, and 3 is T22\n",
    "Regularization is applied through use of scipy.optimize.curve_fit in the estimate_parameters function\n",
    "\n",
    "Application of NLLS and regularization across parameters and noise realization can be seen below\n",
    "\n",
    "Deep neural network (DNN) regularization models are generated using the Neural Network Regularization file\n",
    "\n",
    "    But I would recommend possibly writing it from scratch; that file only took me like a day to write lol :)\n",
    "    I will also send over my current models, but they don't work very well right now\n",
    "    \n",
    "Much of this code is not really used any more, but kept for future use\n",
    "\n",
    "    This includes the first bits of code after functions are defined, discrepancy principle stuff, and testing different cross validation methods\n",
    "\n",
    "This code was ogriginally written by Ryan Neff (RN) and later developed by Griffin Hampton (GSH)"
   ]
  },
  {
   "cell_type": "markdown",
   "id": "10825879-d5bd-4518-aacc-7cb6bb05b719",
   "metadata": {
    "tags": []
   },
   "source": [
    "# Import Packages"
   ]
  },
  {
   "cell_type": "code",
   "execution_count": 1,
   "id": "9c497587-fadd-4c07-a58d-2a2e7b07ae0f",
   "metadata": {},
   "outputs": [],
   "source": [
    "#%matplotlib widget\n",
    "import h5py\n",
    "import scipy\n",
    "import scipy.io\n",
    "from scipy.optimize import curve_fit\n",
    "from scipy.optimize import least_squares\n",
    "import matplotlib as mpl\n",
    "import matplotlib.pyplot as plt\n",
    "import numpy as np\n",
    "import statistics\n",
    "import math\n",
    "import time\n",
    "from tqdm import trange\n",
    "from tensorflow.keras.models import load_model"
   ]
  },
  {
   "cell_type": "markdown",
   "id": "d13eafc1-2088-4b7f-ab2d-c46672cf820c",
   "metadata": {},
   "source": [
    "# Define Parameters"
   ]
  },
  {
   "cell_type": "code",
   "execution_count": 8,
   "id": "6abc6fd2-c1c1-4a97-88ce-e04fa4850d8e",
   "metadata": {},
   "outputs": [],
   "source": [
    "SNR = 100\n",
    "n_elements = 128\n",
    "c1 = 0.5\n",
    "c2 = 1 - c1\n",
    "T21 = 50\n",
    "T22 = 100\n",
    "#Weighting term to ensure the c_i and T2_i are roughly the same magnitude\n",
    "ob_weight = 100\n",
    "Nth = 5\n",
    "n_noise_realizations = 500\n",
    "\n",
    "upper_bound = [1,1,500,1500] #Set upper bound on parameters c1, c2, T21, T22, respectively\n",
    "initial = (0.5, 0.5, 250, 750) #Set initial guesses\n",
    "\n",
    "tdata = np.linspace(0, 635, n_elements)\n",
    "lambdas = np.append(0, np.logspace(-7,3,51))\n",
    "\n",
    "#Two parameter definition of s(t) with regularization parameter lambda\n",
    "def G(t, con_1, con_2, tau_1, tau_2): \n",
    "    function = con_1*np.exp(-t/tau_1) + con_2*np.exp(-t/tau_2)\n",
    "    return function\n",
    "\n",
    "def G_tilde(lam, SA = 1):\n",
    "    #SA defines the signal amplitude, defaults to 1 for simulated data\n",
    "    def Gt_lam(t, con1, con2, tau1, tau2):\n",
    "        return np.append(G(t, con1, con2, tau1, tau2), [lam*con1/SA, lam*con2/SA, lam*tau1/ob_weight, lam*tau2/ob_weight])\n",
    "    return Gt_lam\n",
    "\n",
    "def G_tilde_linear(T21, T22, lam):\n",
    "    def G_linear(t, c1, c2):\n",
    "        return np.append(G(t, c1, c2, T21, T22), [lam*c1, lam*c2])\n",
    "    return G_linear\n",
    "\n",
    "def add_noise(signal, SNR):\n",
    "    #Given a noiseless signal, adds noise at given SNR and returns a noisy signal\n",
    "    signal_length = len(signal)\n",
    "    noise_sd = signal[0]/SNR\n",
    "    noisy_signal = signal + np.random.normal(0, noise_sd, signal_length)\n",
    "    return noisy_signal"
   ]
  },
  {
   "cell_type": "markdown",
   "id": "bed95543-a709-434f-a6ac-7cee1a9c203f",
   "metadata": {},
   "source": [
    "# Generate Data Sets"
   ]
  },
  {
   "cell_type": "code",
   "execution_count": 9,
   "id": "39009d18-b751-4a07-ad81-58bee078711f",
   "metadata": {},
   "outputs": [
    {
     "name": "stderr",
     "output_type": "stream",
     "text": [
      "100%|██████████| 500/500 [00:00<00:00, 55569.89it/s]\n"
     ]
    }
   ],
   "source": [
    "datasets = np.zeros((n_noise_realizations, n_elements))\n",
    "noiseless_curve = G(tdata, c1, c2, T21, T22)\n",
    "for n in trange(n_noise_realizations):\n",
    "    np.random.seed(n)\n",
    "    data = add_noise(noiseless_curve, SNR)\n",
    "    datasets[n,:] = data"
   ]
  },
  {
   "cell_type": "markdown",
   "id": "08b1a4dd-d5c4-4dd5-a7ce-eca4abf0c5d4",
   "metadata": {},
   "source": [
    "# Define General Functions"
   ]
  },
  {
   "cell_type": "code",
   "execution_count": 10,
   "id": "bc70ee46-56a5-40b2-bce8-8babbe4c6b95",
   "metadata": {},
   "outputs": [],
   "source": [
    "def estimate_parameters(data, lam, n_initials = 5):\n",
    "    #Pick n_initials random initial conditions within the bound, and choose the one giving the lowest model-data mismatch residual\n",
    "    random_residuals = []\n",
    "    estimates = np.zeros((4,n_initials))\n",
    "    for i in range(n_initials):\n",
    "        ic1 = np.random.uniform(0,upper_bound[0])\n",
    "        ic2 = np.random.uniform(0,upper_bound[1])\n",
    "        iT21 = np.random.uniform(0,upper_bound[2])\n",
    "        iT22 = np.random.uniform(0,upper_bound[3])\n",
    "        p0 = [ic1,ic2,iT21,iT22]\n",
    "        \n",
    "        data_tilde = np.append(data, [0,0,0,0])  #GSH - what is the purpose of this? How does this work\n",
    "    \n",
    "        (c1e, c2e, T21e, T22e), cov = curve_fit(G_tilde(lam), tdata, data_tilde, bounds = (0, upper_bound), p0=p0, max_nfev = 4000)\n",
    "        #Require T22>T21\n",
    "        if T22e > T21e:\n",
    "            estimates[:,i] = [c1e, c2e, T21e, T22e]\n",
    "            estimated_model = G(tdata, c1e, c2e, T21e, T22e)\n",
    "        else:\n",
    "            estimates[:,i] = [c2e, c1e, T22e, T21e]\n",
    "            estimated_model = G(tdata, c2e, c1e, T22e, T21e)\n",
    "        \n",
    "        residual = np.sum((estimated_model - data)**2)\n",
    "        random_residuals.append(residual)\n",
    "    min_residual_idx = np.argmin(random_residuals)\n",
    "    min_residual_estimates = estimates[:,min_residual_idx]\n",
    "        \n",
    "    return min_residual_estimates\n",
    "\n",
    "def NLLS_toss_outliers(c1, c2, T21, T22, n_noise_realizations, lam, bounds = ([0,0,0,0], upper_bound)):\n",
    "    #Generates NLLS estimates of n noise realizations, tosses estimates outside of the bounds\n",
    "    noiseless_curve = G(tdata, c1, c2, T21, T22)\n",
    "    bound_low = bounds[0]\n",
    "    bound_high = bounds[1]\n",
    "    \n",
    "    estimates = []\n",
    "    \n",
    "    for n in range(n_noise_realizations):\n",
    "        np.random.seed(n)\n",
    "        data = add_noise(noiseless_curve, SNR)\n",
    "        \n",
    "        params = estimate_parameters(data, lam)\n",
    "        \n",
    "        isUnderLower = params[0]<bound_low[0] or params[1]<bound_low[1] or params[2]<bound_low[2] or params[3]<bound_low[3]\n",
    "        isAboveHigher = params[0]>bound_high[0] or params[1]>bound_high[1] or params[2]>bound_high[2] or params[3]>bound_high[3]\n",
    "    \n",
    "        if not (isUnderLower or isAboveHigher):\n",
    "            estimates.append(params)\n",
    "                \n",
    "    return np.array(estimates)\n",
    "\n",
    "def iterate_NLLS_outliers(c1, c2, T21, T22, n, lambdas, bounds=([0,0,0,0],[1,1,1500,1500])):\n",
    "    #Iterates through lambdas, with n noise realizations, tosses outliers\n",
    "    #Calculates bias, variance, and MSE of these estimates\n",
    "    bound_low = bounds[0]\n",
    "    bound_high = bounds[1]\n",
    "    \n",
    "    n_lambdas = len(lambdas)\n",
    "    bias = np.zeros((n_lambdas,4))\n",
    "    variance = np.zeros((n_lambdas,4))\n",
    "    MSE = np.zeros((n_lambdas, 4))\n",
    "    p_true = [c1, c2, T21, T22]\n",
    "    num_remaining_list = [] #GSH - what is the purpose of this list?\n",
    "    for l in range(n_lambdas):\n",
    "        reg_param = lambdas[l]\n",
    "        estimates = NLLS_toss_outliers(c1, c2, T21, T22, n, reg_param, bounds=(bound_low, bound_high))\n",
    "        num_remaining = estimates.shape[0]\n",
    "        num_remaining_list.append(num_remaining)\n",
    "        for p in range(4): #GSH - vectorizable?\n",
    "            pest = estimates[:,p]\n",
    "            bias[l,p] = (pest-[p_true[p]]*num_remaining).sum()/num_remaining\n",
    "            variance[l,p] = np.var(pest)\n",
    "            MSE[l,p] = bias[l,p]**2 + variance[l,p]\n",
    "    return bias, variance, MSE, np.array(num_remaining_list)\n",
    "\n",
    "def min_bias_estimates(c1, c2, T21, T22, n=100, lambdas = np.logspace(-7,3, 51), aggregate=True, agg_arr = [1,1,0.01,0.01]):\n",
    "    #Returns aggregate bias, variance, and MSE of the estimates generated \n",
    "    #from using the lambda which minimizes bias for each noise realization\n",
    "    agg_arr = np.array(agg_arr)\n",
    "    underlying = G(tdata, c1, c2, T21, T22)\n",
    "    \n",
    "    bias = np.zeros(4)\n",
    "    variance = np.zeros(4)\n",
    "    MSE = np.zeros(4)\n",
    "    \n",
    "    min_bias_lambdas = []\n",
    "    min_bias_estimates = []\n",
    "    for i in range(n):\n",
    "        np.random.seed(i)\n",
    "        data = add_noise(noiseless_curve, SNR)\n",
    "        agg_bias_list = []\n",
    "        temp_estimates = []\n",
    "        for l in range(len(lambdas)):\n",
    "            lam = lambdas[l]\n",
    "            est = estimate_parameters(data, lam)\n",
    "            temp_estimates.append(est)\n",
    "            agg_bias_list.append(np.absolute(est-[c1,c2,T21,T22]).dot(agg_arr))\n",
    "        \n",
    "        min_bias_idx = np.argmin(agg_bias_list)\n",
    "        \n",
    "        min_bias_lambdas.append(lambdas[min_bias_idx])\n",
    "        min_bias_estimates.append(temp_estimates[min_bias_idx])\n",
    "    \n",
    "    min_bias_estimates = np.array(min_bias_estimates)\n",
    "    \n",
    "    c1est = min_bias_estimates[:,0]\n",
    "    c2est = min_bias_estimates[:,1]\n",
    "    T21est = min_bias_estimates[:,2]\n",
    "    T22est = min_bias_estimates[:,3]\n",
    "    \n",
    "    bias[0] = (c1est - [c1]*n).sum()/n #GSH - check this - why are we multiplying by n - does this do something to the size - what about broadcasting?\n",
    "    bias[1] = (c2est - [c2]*n).sum()/n\n",
    "    bias[2] = (T21est - [T21]*n).sum()/n\n",
    "    bias[3] = (T22est - [T22]*n).sum()/n\n",
    "    \n",
    "    variance[0] = np.var(c1est)\n",
    "    variance[1] = np.var(c2est)\n",
    "    variance[2] = np.var(T21est)\n",
    "    variance[3] = np.var(T22est)\n",
    "    \n",
    "    MSE = bias**2 + variance\n",
    "    \n",
    "    agg_bias = np.absolute(bias).dot(agg_arr)\n",
    "    agg_variance = variance.dot(agg_arr**2)\n",
    "    agg_MSE = MSE.dot(agg_arr**2)\n",
    "    \n",
    "    if aggregate==True:\n",
    "        return agg_bias, agg_variance, agg_MSE, min_bias_lambdas\n",
    "    else:\n",
    "        return bias, variance, MSE, min_bias_lambdas\n",
    "\n",
    "def J(t, con1, con2, tau1, tau2):\n",
    "    func1 = np.exp(-t/tau1)\n",
    "    func2 = np.exp(-t/tau2)\n",
    "    func3 = (con1*t)*np.exp(-t/tau1)/(tau1**2)\n",
    "    func4 = (con2*t)*np.exp(-t/tau2)/(tau2**2)\n",
    "    jacobian = np.stack((func1, func2, func3, func4), axis=-1)\n",
    "    \n",
    "    return jacobian\n",
    "\n",
    "def cov_matrix(con1, con2, tau1, tau2, SNR):\n",
    "    noise_sd = 1/SNR\n",
    "    jacobians = J(tdata, con1, con2, tau1, tau2).transpose()@J(tdata, con1, con2, tau1, tau2) #What is happening here with the @ sign - typo?\n",
    "    covariance = np.linalg.inv(jacobians)\n",
    "    return (noise_sd**2)*covariance\n",
    "\n",
    "def get_min_MSE_array(c1_set, c2_set, T21_set, T22_set, lambdas, n=100, verbose=False):\n",
    "    #Given a prior set of true parameters and a parameter of interest, \n",
    "    #find lambdas which give lowest MSE for each combination of parameters\n",
    "    n_c1 = len(c1_set)\n",
    "    n_c2 = len(c2_set)\n",
    "    n_T21 = len(T21_set)\n",
    "    n_T22 = len(T22_set)\n",
    "    n_params = n_c1*n_c2*n_T21*n_T22\n",
    "    n_lambdas = len(lambdas)\n",
    "    \n",
    "    min_MSE_array = np.zeros((n_c1,n_c2,n_T21,n_T22,4))\n",
    "    unreg_MSE_array = np.zeros((n_c1,n_c2,n_T21,n_T22,4))\n",
    "    improvement_array = np.zeros((n_c1,n_c2,n_T21,n_T22,4))\n",
    "    min_lambda_array = np.zeros((n_c1,n_c2,n_T21,n_T22,4))\n",
    "    iterator = 1\n",
    "    for ic1 in range(n_c1):\n",
    "        c1 = c1_set[ic1]\n",
    "        for ic2 in range(n_c2):\n",
    "            c2 = c2_set[ic2]\n",
    "            for iT21 in range(n_T21):\n",
    "                T21 = T21_set[iT21]\n",
    "                for iT22 in range(n_T22):\n",
    "                    T22 = T22_set[iT22]\n",
    "                    if verbose:\n",
    "                        print('Calculating combo', iterator, 'of', n_params)\n",
    "                        iterator+=1\n",
    "                    p_true = [c1, c2, T21, T22]\n",
    "                    underlying = G(tdata, c1, c2, T21, T22)\n",
    "                    estimates = np.zeros((n,n_lambdas,4))\n",
    "                    for i in range(n):\n",
    "                        for l in range(n_lambdas):\n",
    "                            data = add_noise(noiseless_curve, SNR)\n",
    "                            est = estimate_parameters(data, lam=lambdas[l])\n",
    "                            estimates[i,l,:] = est\n",
    "                    \n",
    "                    bias = (estimates - p_true).sum(axis=0)/n\n",
    "                    variance = np.var(estimates, axis=0)\n",
    "                    MSE = variance + bias**2\n",
    "                    \n",
    "                    min_MSE = np.min(MSE, axis=0)\n",
    "                    min_MSE_array[ic1,ic2,iT21,iT22,:] = min_MSE\n",
    "                    \n",
    "                    unreg_MSE = MSE[0,:]\n",
    "                    unreg_MSE_array[ic1,ic2,iT21,iT22,:] = unreg_MSE\n",
    "                    \n",
    "                    improvement = (unreg_MSE - min_MSE)/unreg_MSE\n",
    "                    improvement_array[ic1,ic2,iT21,iT22,:] = improvement\n",
    "                    \n",
    "                    min_MSE_lambda_indx = np.argmin(MSE,axis=0)\n",
    "                    min_MSE_lambdas = lambdas[min_MSE_lambda_indx]\n",
    "                    min_lambda_array[ic1,ic2,iT21,iT22,:] = min_MSE_lambdas\n",
    "                    \n",
    "    return min_MSE_array, min_lambda_array, improvement_array, unreg_MSE_array\n",
    "\n",
    "def get_lam_selection_MSE_array(c1_set, c2_set, T21_set, T22_set, lambdas, lam_select, \n",
    "                                n=100, verbose=False, aggregate=False, safety_factor=2, model = None):\n",
    "    #Lam_select is either 'oracle', 'DP', 'GCV', or 'DNN'\n",
    "    #Defines which method is used to select lambda\n",
    "    n_c1 = len(c1_set)\n",
    "    n_c2 = len(c2_set)\n",
    "    n_T21 = len(T21_set)\n",
    "    n_T22 = len(T22_set)\n",
    "    n_params = n_c1*n_c2*n_T21*n_T22\n",
    "    n_lambdas = len(lambdas)\n",
    "    \n",
    "    MSE_array = np.zeros((n_c1,n_c2,n_T21,n_T22,4))\n",
    "    unreg_MSE_array = np.zeros((n_c1,n_c2,n_T21,n_T22,4))\n",
    "    improvement_array = np.zeros((n_c1,n_c2,n_T21,n_T22,4))\n",
    "    lambda_array = np.zeros((n_c1,n_c2,n_T21,n_T22,4))\n",
    "    iterator = 1\n",
    "    for ic1 in range(n_c1):\n",
    "        c1 = c1_set[ic1]\n",
    "        for ic2 in range(n_c2):\n",
    "            c2 = c2_set[ic2]\n",
    "            for iT21 in range(n_T21):\n",
    "                T21 = T21_set[iT21]\n",
    "                for iT22 in range(n_T22):\n",
    "                    T22 = T22_set[iT22]\n",
    "                    if verbose:\n",
    "                        print('Calculating combo', iterator, 'of', n_params)\n",
    "                        iterator+=1\n",
    "                    p_true = [c1, c2, T21, T22]\n",
    "                    underlying = G(tdata, c1, c2, T21, T22)\n",
    "                    estimates = np.zeros((n,4))\n",
    "                    estimates_unreg = np.zeros((n,4))\n",
    "                    for i in range(n):\n",
    "                        data = add_noise(noiseless_curve, SNR)\n",
    "                        if lam_select == 'oracle':\n",
    "                            lam = oracle_lambda(c1, c2, T21, T22, data, lambdas, aggregate=aggregate)[1]\n",
    "                        elif lam_select == 'DP':\n",
    "                            lam = DP_lambda(data, safety_factor, lambdas)\n",
    "                        elif lam_select == 'GCV':\n",
    "                            try:\n",
    "                                lam = GCV_lambda(data, lambdas)\n",
    "                            except:\n",
    "                                lam=0\n",
    "                        elif lam_select == 'DNN':\n",
    "                            lam = DNN_lambda(data, model)\n",
    "                        lambda_array[ic1,ic2,iT21,iT22,:] = lam\n",
    "                        est = estimate_parameters(data, lam)\n",
    "                        est_unreg = estimate_parameters(data, 0)\n",
    "                        estimates[i,:] = est\n",
    "                        estimates_unreg[i,:] = est_unreg\n",
    "                    \n",
    "                    bias = (estimates - p_true).sum(axis=0)/n\n",
    "                    variance = np.var(estimates, axis=0)\n",
    "                    MSE = variance + bias**2\n",
    "                    MSE_array[ic1,ic2,iT21,iT22,:] = MSE\n",
    "                    \n",
    "                    unreg_bias = (estimates_unreg - p_true).sum(axis=0)/n\n",
    "                    unreg_variance = np.var(estimates_unreg, axis=0)\n",
    "                    unreg_MSE = unreg_variance + unreg_bias**2\n",
    "                    unreg_MSE_array[ic1,ic2,iT21,iT22,:] = unreg_MSE\n",
    "                    \n",
    "                    improvement = (unreg_MSE - MSE)/unreg_MSE\n",
    "                    improvement_array[ic1,ic2,iT21,iT22,:] = improvement\n",
    "                    \n",
    "    return MSE_array, lambda_array, improvement_array"
   ]
  },
  {
   "cell_type": "markdown",
   "id": "a8e38ee4-98fb-4e0c-a589-4ec8293540d8",
   "metadata": {},
   "source": [
    "# Define Lambda Selection Methods"
   ]
  },
  {
   "cell_type": "code",
   "execution_count": 5,
   "id": "c3ec6d8d-9b2d-4d6f-8f1a-640cac03ca0b",
   "metadata": {},
   "outputs": [],
   "source": [
    "def DP_lambda(data, safety_factor, disclambdas):\n",
    "    #Returns a value of lambda given the data set, a safety factor, the SD of the noise, and a set of lambdas to iterate over\n",
    "    discrepancy_lambda = 0\n",
    "    noise_sd = data[0]/SNR\n",
    "    error_norm = len(tdata)*(noise_sd)**2\n",
    "    residual_norm = []\n",
    "    for lam in disclambdas:\n",
    "        est = estimate_parameters(data,lam)\n",
    "\n",
    "        residual_norm.append(((G(tdata, est[0], est[1], est[2], est[3])-data)**2).sum())\n",
    "        \n",
    "        for i in range(len(residual_norm)):\n",
    "            if residual_norm[i] < safety_factor*error_norm:\n",
    "                discrepancy_lambda = disclambdas[i]\n",
    "            else:\n",
    "                break\n",
    "    return discrepancy_lambda\n",
    "\n",
    "def oracle_lambda(c1, c2, T21, T22, data, lambdas, aggregate=False, wgt = np.array([1,1,0.01,0.01])):\n",
    "    n_lambdas = len(lambdas)\n",
    "    estimates = np.zeros((n_lambdas,4))\n",
    "    p_true = [c1, c2, T21, T22]\n",
    "    for l in range(n_lambdas):\n",
    "        lam = lambdas[l]\n",
    "        estimates[l,:] = estimate_parameters(data, lam)\n",
    "    error = np.absolute(estimates - p_true)\n",
    "    \n",
    "    if aggregate == True:\n",
    "        #If aggregating, returns the estimates which minimize the weighted sum of the error along with a single lambda\n",
    "        agg_error = error@wgt\n",
    "        min_agg_idx = np.argmin(agg_error)\n",
    "        min_agg_est = estimates[min_agg_idx,:]\n",
    "        min_lambda = lambdas[min_agg_idx]\n",
    "        return min_agg_est, min_lambda\n",
    "    if aggregate == False:\n",
    "        #If not aggregating, returns the estimates for each parameter which minimize their respective errors\n",
    "        #Also returns 4 lambdas, one for each of the 4 parameters\n",
    "        min_idx_array = np.argmin(error,axis=0)\n",
    "        min_est_array = estimates[min_idx_array,:]\n",
    "        min_lambdas_array = lambdas[min_idx_array]\n",
    "        return min_est_array, min_lambdas_array\n",
    "\n",
    "def get_GCV(GCV_data, GCV_lam):\n",
    "    GCVd_tilde = np.append(GCV_data, [0,0,0,0])\n",
    "\n",
    "    (rc1e, rc2e, rT21e, rT22e), rcov = curve_fit(G_tilde(GCV_lam), tdata, GCVd_tilde, bounds = (0, upper_bound), p0=initial, max_nfev = 4000)\n",
    "    \n",
    "    #Require that T22>T21\n",
    "    if rT22e > rT21e:\n",
    "        c1GCV = rc1e\n",
    "        c2GCV = rc2e\n",
    "        T21GCV = rT21e\n",
    "        T22GCV = rT22e\n",
    "    else:\n",
    "        c1GCV = rc2e\n",
    "        c2GCV = rc1e\n",
    "        T21GCV = rT22e\n",
    "        T22GCV = rT21e\n",
    "    wmat = np.array([[1,0,0,0],[0,1,0,0],[0,0,0.01,0],[0,0,0,0.01]])\n",
    "    \n",
    "    GCVjacobian = J(tdata, c1GCV, c2GCV, T21GCV, T22GCV)\n",
    "    GCV_residual = ((G(tdata, c1GCV, c2GCV, T21GCV, T22GCV)-GCV_data)**2).sum()\n",
    "    C_GCV = GCVjacobian@np.linalg.inv(GCVjacobian.transpose()@GCVjacobian+(GCV_lam**2)*wmat.transpose()@wmat)@GCVjacobian.transpose()\n",
    "    (n,n) = C_GCV.shape\n",
    "    identity = np.identity(n)\n",
    "\n",
    "    GCVdenominator = (identity - C_GCV).trace()\n",
    "\n",
    "    GCV = GCV_residual/(GCVdenominator**2)\n",
    "    return GCV\n",
    "\n",
    "def GCV_lambda(GCV_data, GCVlambdas,give_curve=False):\n",
    "    #Given a data set and a set of lambdas to iterate through, gives the lambda which minimizes the GCV equation\n",
    "    GCV_values = []\n",
    "    for GCVlam in GCVlambdas:\n",
    "        GCV_values.append(get_GCV(GCV_data, GCVlam))\n",
    "    min_GCV_lam = GCVlambdas[np.argmin(GCV_values)]\n",
    "    if give_curve:\n",
    "        return min_GCV_lam, GCV_values\n",
    "    else:\n",
    "        return min_GCV_lam\n",
    "\n",
    "def DNN_lambda(data, model):\n",
    "    data_dim = np.reshape(data, (1, len(data)))\n",
    "    DNN_lam = 10**(model(data_dim))\n",
    "    return DNN_lam"
   ]
  },
  {
   "cell_type": "markdown",
   "id": "4ef4db1a-5b9a-495a-87c6-8e246d9eb728",
   "metadata": {},
   "source": [
    "# Test Regularized against Non-regularized"
   ]
  },
  {
   "cell_type": "code",
   "execution_count": 11,
   "id": "16e51bc9-ac49-4e73-a02f-35a13c1c3bf3",
   "metadata": {
    "collapsed": true,
    "jupyter": {
     "outputs_hidden": true,
     "source_hidden": true
    },
    "tags": []
   },
   "outputs": [
    {
     "data": {
      "image/png": "[encoded data removed]",
      "text/plain": [
       "<Figure size 432x288 with 1 Axes>"
      ]
     },
     "metadata": {
      "needs_background": "light"
     },
     "output_type": "display_data"
    }
   ],
   "source": [
    "np.random.seed(4)\n",
    "data = add_noise(noiseless_curve, SNR)\n",
    "est = estimate_parameters(data, 0)\n",
    "est_reg = estimate_parameters(data, 0.16)\n",
    "est_curve = G(tdata, est[0], est[1], est[2], est[3])\n",
    "est_reg_curve = G(tdata, est_reg[0], est_reg[1], est_reg[2], est_reg[3])\n",
    "\n",
    "plt.plot(tdata, noiseless_curve, label='Underlying Signal')\n",
    "plt.plot(tdata, data, label='Noisy signal')\n",
    "plt.plot(tdata, est_curve, label = 'NLLS estimated signal')\n",
    "plt.plot(tdata, est_reg_curve, label = 'Reg NLLS estimated signal')\n",
    "plt.title('Representative Regularization')\n",
    "plt.xlabel('Time')\n",
    "plt.ylabel('Signal amplitude')\n",
    "plt.legend()\n",
    "#plt.text(120, 0.6, 'True c1, c2, T21, T22: 0.4, 0.6, 50, 100')\n",
    "#plt.text(120, 0.5, 'Estimated c1, c2, T21, T22: 0.94, 0.02, 77.8, 1500')\n",
    "plt.show()"
   ]
  },
  {
   "cell_type": "markdown",
   "id": "15ec3278-5e68-4cd2-b768-86a5c663b764",
   "metadata": {},
   "source": [
    "## Test both against many noise realizations"
   ]
  },
  {
   "cell_type": "code",
   "execution_count": 14,
   "id": "5399bd14-fd93-4d02-a479-5b3fb8e6eb84",
   "metadata": {
    "jupyter": {
     "source_hidden": true
    },
    "tags": []
   },
   "outputs": [],
   "source": [
    "lam = 3.5\n",
    "\n",
    "T21_list = []\n",
    "T22_list = []\n",
    "c1_list = []\n",
    "c2_list = []\n",
    "T21_reg_list = []\n",
    "T22_reg_list = []\n",
    "c1_reg_list = []\n",
    "c2_reg_list = []\n",
    "\n",
    "for i in np.arange(n_noise_realizations):\n",
    "    np.random.seed(i)\n",
    "    data = add_noise(noiseless_curve, SNR)\n",
    "    est = estimate_parameters(data, 0)\n",
    "    reg_est = estimate_parameters(data, lam)\n",
    "    \n",
    "    c1_list.append(est[0])\n",
    "    c2_list.append(est[1])\n",
    "    T21_list.append(est[2])\n",
    "    T22_list.append(est[3])\n",
    "    \n",
    "    c1_reg_list.append(reg_est[0])\n",
    "    c2_reg_list.append(reg_est[1])\n",
    "    T21_reg_list.append(reg_est[2])\n",
    "    T22_reg_list.append(reg_est[3])"
   ]
  },
  {
   "cell_type": "markdown",
   "id": "f0ee22d7-a8b2-4528-8acc-c27329901959",
   "metadata": {},
   "source": [
    "### Calculate Bias, variance, and MSE for both regularized and unregularized"
   ]
  },
  {
   "cell_type": "code",
   "execution_count": 15,
   "id": "42e6bcd5-699f-46b8-a8b8-4d1f61ead325",
   "metadata": {
    "collapsed": true,
    "jupyter": {
     "outputs_hidden": true,
     "source_hidden": true
    },
    "tags": []
   },
   "outputs": [
    {
     "name": "stdout",
     "output_type": "stream",
     "text": [
      "Unregularized T21 bias, variance, and MSE: -0.6247489255962437 58.07129043691488 58.461601656948545\n",
      "Unregularized T22 bias, variance, and MSE: 3.4183107918461038 213.14181630815239 224.82666497780394\n",
      "Unregularized c1 bias, variance, and MSE: 0.008582576941125427 0.024982692485155125 0.025056353112105464\n",
      "Unregularized c2 bias, variance, and MSE: -0.008068881087436655 0.025918993669942256 0.02598410051194545\n",
      "\n",
      "\n",
      "Regularized T21 bias, variance, and MSE: -32.81989656197634 0.016283691776032547 1077.1618940306025\n",
      "Regularized T22 bias, variance, and MSE: -82.80707221401924 0.01633944016749387 6857.027548097964\n",
      "Regularized c1 bias, variance, and MSE: -0.3048537264729796 2.3398091066235613e-06 0.09293813435356889\n",
      "Regularized c2 bias, variance, and MSE: -0.304708262599876 2.3384554212949078e-06 0.09284946375205627\n"
     ]
    }
   ],
   "source": [
    "#Turn everything into an np array for statistics\n",
    "T21_list = np.array(T21_list)\n",
    "T22_list = np.array(T22_list)\n",
    "T21_reg_list = np.array(T21_reg_list)\n",
    "T22_reg_list = np.array(T22_reg_list)\n",
    "c1_list = np.array(c1_list)\n",
    "c2_list = np.array(c2_list)\n",
    "c1_reg_list = np.array(c1_reg_list)\n",
    "c2_reg_list = np.array(c2_reg_list)\n",
    "\n",
    "#Calculate the Bias\n",
    "T21_bias = np.mean(T21_list - [T21]*n_noise_realizations)\n",
    "T22_bias = np.mean(T22_list - [T22]*n_noise_realizations)\n",
    "T21_reg_bias = np.mean(T21_reg_list - [T21]*n_noise_realizations)\n",
    "T22_reg_bias = np.mean(T22_reg_list - [T22]*n_noise_realizations)\n",
    "c1_bias = np.mean(c1_list - [c1]*n_noise_realizations)\n",
    "c2_bias = np.mean(c2_list - [c2]*n_noise_realizations)\n",
    "c1_reg_bias = np.mean(c1_reg_list - [c1]*n_noise_realizations)\n",
    "c2_reg_bias = np.mean(c2_reg_list - [c2]*n_noise_realizations)\n",
    "\n",
    "#Calculate the Variance\n",
    "T21_variance = np.var(T21_list)\n",
    "T22_variance = np.var(T22_list)\n",
    "T21_reg_variance = np.var(T21_reg_list)\n",
    "T22_reg_variance = np.var(T22_reg_list)\n",
    "c1_variance = np.var(c1_list)\n",
    "c2_variance = np.var(c2_list)\n",
    "c1_reg_variance = np.var(c1_reg_list)\n",
    "c2_reg_variance = np.var(c2_reg_list)\n",
    "\n",
    "#Calculate the MSE\n",
    "T21_MSE = (1/n_noise_realizations)*(((T21_list - [T21]*n_noise_realizations)**2).sum())\n",
    "T22_MSE = (1/n_noise_realizations)*(((T22_list - [T22]*n_noise_realizations)**2).sum())\n",
    "T21_reg_MSE = (1/n_noise_realizations)*(((T21_reg_list - [T21]*n_noise_realizations)**2).sum())\n",
    "T22_reg_MSE = (1/n_noise_realizations)*(((T22_reg_list - [T22]*n_noise_realizations)**2).sum())\n",
    "c1_MSE = (1/n_noise_realizations)*(((c1_list - [c1]*n_noise_realizations)**2).sum())\n",
    "c2_MSE = (1/n_noise_realizations)*(((c2_list - [c2]*n_noise_realizations)**2).sum())\n",
    "c1_reg_MSE = (1/n_noise_realizations)*(((c1_reg_list - [c1]*n_noise_realizations)**2).sum())\n",
    "c2_reg_MSE = (1/n_noise_realizations)*(((c2_reg_list - [c2]*n_noise_realizations)**2).sum())\n",
    "\n",
    "print('Unregularized T21 bias, variance, and MSE:', T21_bias, T21_variance, T21_MSE)\n",
    "print('Unregularized T22 bias, variance, and MSE:', T22_bias, T22_variance, T22_MSE)\n",
    "print('Unregularized c1 bias, variance, and MSE:', c1_bias, c1_variance, c1_MSE)\n",
    "print('Unregularized c2 bias, variance, and MSE:', c2_bias, c2_variance, c2_MSE)\n",
    "print('\\n')\n",
    "print('Regularized T21 bias, variance, and MSE:', T21_reg_bias, T21_reg_variance, T21_reg_MSE)\n",
    "print('Regularized T22 bias, variance, and MSE:', T22_reg_bias, T22_reg_variance, T22_reg_MSE)\n",
    "print('Regularized c1 bias, variance, and MSE:', c1_reg_bias, c1_reg_variance, c1_reg_MSE)\n",
    "print('Regularized c2 bias, variance, and MSE:', c2_reg_bias, c2_reg_variance, c2_reg_MSE)"
   ]
  },
  {
   "cell_type": "markdown",
   "id": "6ffb01e5-dbe5-4dec-b3ef-f741bc6a42e5",
   "metadata": {},
   "source": [
    "#### Graph the range of results"
   ]
  },
  {
   "cell_type": "code",
   "execution_count": 16,
   "id": "a6145932-e4f8-4207-addf-9b26dd678eb1",
   "metadata": {
    "collapsed": true,
    "jupyter": {
     "outputs_hidden": true,
     "source_hidden": true
    },
    "tags": []
   },
   "outputs": [
    {
     "data": {
      "text/plain": [
       "<Figure size 864x288 with 0 Axes>"
      ]
     },
     "metadata": {},
     "output_type": "display_data"
    },
    {
     "data": {
      "image/png": "[encoded data removed]",
      "text/plain": [
       "<Figure size 1080x360 with 2 Axes>"
      ]
     },
     "metadata": {
      "needs_background": "light"
     },
     "output_type": "display_data"
    }
   ],
   "source": [
    "fig=plt.figure(figsize=(12,4))\n",
    "f, axs = plt.subplots(1,2,figsize=(15,5))\n",
    "\n",
    "#Non-regularized plot\n",
    "axs[0].set_title(\"Non-Regularized Models\\nSNR = %s\" % SNR, fontsize=18)\n",
    "axs[0].text(20, 0.80, \"T21 = %s , T22 = %s, C1 = %s, C2 = %s\" % (T21,T22,c1,c2), fontsize=12)\n",
    "axs[0].text(20, 0.74, \"T21 Bias, Var, MSE = %s , %s, %s\" % (round(T21_bias, 2), (round (T21_variance,2)), round(T21_MSE,2)), fontsize=10)\n",
    "axs[0].text(20, 0.68, \"T22 Bias, Var, MSE = %s , %s, %s\" % (round(T22_bias, 2), (round (T22_variance)), round(T22_MSE)), fontsize=10)\n",
    "axs[0].text(20, 0.62, \"C1 Bias, Var, MSE = %s , %s, %s\" % (round(c1_bias, 3), (round (c1_variance,3)), round(c1_MSE,3)), fontsize=10)\n",
    "axs[0].text(20, 0.56, \"C2 Bias, Var, MSE = %s , %s, %s\" % (round(c2_bias, 3), (round (c2_variance,3)), round(c2_MSE,3)), fontsize=10)\n",
    "axs[0].set_xlabel('Time ', fontsize=18)\n",
    "axs[0].set_ylabel('Signal Amplitude ', fontsize=18)\n",
    "axs[0].plot(tdata, noiseless_curve, 'r', label = 'Underlying Signal', linewidth=7.0)\n",
    "\n",
    "#Create legend using only first curve; the rest use this same legend\n",
    "model_results = G(tdata, c1_list[0], c2_list[0], T21_list[0],T22_list[0])\n",
    "axs[0].plot(tdata, model_results, 'b', label='Fits')\n",
    "axs[0].legend()\n",
    "\n",
    "#Now plot all the rest of the curves, each corresponding to a solution from a particular noise realization\n",
    "for i in range(n_noise_realizations):\n",
    "    if i%Nth==0:\n",
    "        model_results = G(tdata, c1_list[i], c2_list[i], T21_list[i], T22_list[i])\n",
    "        axs[0].plot(tdata, model_results, 'b', label='Fits')\n",
    "\n",
    "#Regularized plot\n",
    "axs[1].set_title(\"Regularized Models\\nLambda=%s  SNR=%s\" % (lam, SNR), fontsize=18)\n",
    "axs[1].text(20, 0.80, \"T21 = %s , T22 = %s, C1 = %s, C2 = %s\" % (T21,T22,c1,c2), fontsize=12)\n",
    "axs[1].text(20, 0.74, \"T21 Bias, Var, MSE = %s , %s, %s\" % (round(T21_reg_bias, 2), (round (T21_reg_variance,2)), round(T21_reg_MSE,2)), fontsize=10)\n",
    "axs[1].text(20, 0.68, \"T22 Bias, Var, MSE = %s , %s, %s\" % (round(T22_reg_bias, 2), (round (T22_reg_variance,2)), round(T22_reg_MSE,2)), fontsize=10)\n",
    "axs[1].text(20, 0.62, \"C1 Bias, Var, MSE = %s , %s, %s\" % (round(c1_reg_bias,3), (round (c1_reg_variance,3)), round(c1_reg_MSE,3)), fontsize=10)\n",
    "axs[1].text(20, 0.56, \"C2 Bias, Var, MSE = %s , %s, %s\" % (round(c2_reg_bias,3), (round (c2_reg_variance,3)), round(c2_reg_MSE,3)), fontsize=10)\n",
    "axs[1].set_xlabel('Time ', fontsize=18)\n",
    "axs[1].set_ylabel('Signal Amplitude ', fontsize=18)\n",
    "axs[1].plot(tdata, noiseless_curve, 'r', label = 'Underlying Signal', linewidth=7.0)\n",
    "\n",
    "#Create legend using only first curve; the rest use this same legend\n",
    "model_results_reg = G(tdata, c1_reg_list[0], c2_reg_list[0], T21_reg_list[0],T22_reg_list[0])\n",
    "axs[1].plot(tdata, model_results_reg, 'b', label='Fits')\n",
    "axs[1].legend()\n",
    "\n",
    "#Now plot all the rest of the curves, each corresponding to a solution from a particular noise realization\n",
    "for i in range(n_noise_realizations):\n",
    "    if i%Nth==0:\n",
    "        model_results_reg = G(tdata, c1_reg_list[i], c2_reg_list[i], T21_reg_list[i],T22_reg_list[i])\n",
    "        axs[1].plot(tdata, model_results_reg, 'b', label='Fitting Function')\n",
    "        \n",
    "plt.show()"
   ]
  },
  {
   "cell_type": "markdown",
   "id": "94951bb6-6ecc-4d38-9214-9fcde9320ff4",
   "metadata": {},
   "source": [
    "#### Determine success by comparing MSE"
   ]
  },
  {
   "cell_type": "code",
   "execution_count": 17,
   "id": "561d0025-d008-420d-8580-db27e4da9044",
   "metadata": {
    "collapsed": true,
    "jupyter": {
     "outputs_hidden": true,
     "source_hidden": true
    },
    "tags": []
   },
   "outputs": [
    {
     "name": "stdout",
     "output_type": "stream",
     "text": [
      "Non-regularized:  T21 bias = -0.62, variance=58.07, MSE=58.46\n",
      "Regularized:  T21 bias = -32.82, variance=0.02, MSE=1077.16\n",
      "Regularization failed for T21; T21 MSE worse by a factor 18.43\n",
      "\n",
      "\n",
      "Non-regularized:  T22 bias = 3.42, variance=213.14, MSE=224.83\n",
      "Regularized:  T22 bias = -82.81, variance=0.02, MSE=6857.03\n",
      "Regularization failed for T22; T22 MSE worse by a factor 30.5\n"
     ]
    }
   ],
   "source": [
    "T21_results_nonreg=f\"Non-regularized:  T21 bias = {round(T21_bias,2)}, variance={round(T21_variance,2)}, MSE={round(T21_MSE,2)}\"\n",
    "print(T21_results_nonreg)\n",
    "T21_results_reg=f\"Regularized:  T21 bias = {round(T21_reg_bias,2)}, variance={round(T21_reg_variance,2)}, MSE={round(T21_reg_MSE,2)}\"\n",
    "print(T21_results_reg)\n",
    "\n",
    "T21_factor_better_with_reg=T21_MSE/T21_reg_MSE\n",
    "T21_factor_worse_with_reg=T21_reg_MSE/T21_MSE\n",
    "if (T21_MSE > T21_reg_MSE):\n",
    "    print(f\"Regularization succeeded for T21; T21 MSE better by a factor of {round(T21_factor_better_with_reg,2)}\")\n",
    "else:\n",
    "    print(f\"Regularization failed for T21; T21 MSE worse by a factor {round(T21_factor_worse_with_reg,2)}\")\n",
    "print(\"\\n\")\n",
    "\n",
    "T22_results_nonreg=f\"Non-regularized:  T22 bias = {round(T22_bias,2)}, variance={round(T22_variance,2)}, MSE={round(T22_MSE,2)}\"\n",
    "print(T22_results_nonreg)\n",
    "T22_results_reg=f\"Regularized:  T22 bias = {round(T22_reg_bias,2)}, variance={round(T22_reg_variance,2)}, MSE={round(T22_reg_MSE,2)}\"\n",
    "print(T22_results_reg)\n",
    "\n",
    "T22_factor_better_with_reg=T22_MSE/T22_reg_MSE\n",
    "T22_factor_worse_with_reg=T22_reg_MSE/T22_MSE\n",
    "if (T22_MSE > T22_reg_MSE):\n",
    "    print(f\"Regularization succeeded for T22; T22 MSE better by a factor of {round(T22_factor_better_with_reg,2)}\")\n",
    "else:\n",
    "    print(f\"Regularization failed for T22; T22 MSE worse by a factor {round(T22_factor_worse_with_reg,2)}\")"
   ]
  },
  {
   "cell_type": "markdown",
   "id": "e6b45d2f-cab0-40e7-b586-d4965f4f0b19",
   "metadata": {},
   "source": [
    "# Test the Discrepancy Principle"
   ]
  },
  {
   "cell_type": "markdown",
   "id": "262b443b-7a0e-46a6-9500-51fc9fa25d00",
   "metadata": {},
   "source": [
    "## Define parameters for the discrepancy principle"
   ]
  },
  {
   "cell_type": "code",
   "execution_count": 18,
   "id": "48e03b44-dfac-4520-a1f3-3cd5aa3e0fd4",
   "metadata": {
    "jupyter": {
     "source_hidden": true
    },
    "tags": []
   },
   "outputs": [],
   "source": [
    "n_disclambdas = 51 #Number of lambdas to loop through\n",
    "disclambdas = np.logspace(-5, 1, n_disclambdas) #Set range of lambda values\n",
    "safety_factor = 2\n",
    "noise_sd = 1/SNR\n",
    "error_norm = len(tdata)*(noise_sd)**2\n",
    "\n",
    "disc_underlying = G(tdata, c1, c2, T21, T22)\n",
    "n_sf = 11\n",
    "sf_list = np.linspace(1, 7, n_sf)"
   ]
  },
  {
   "cell_type": "markdown",
   "id": "4eee3797-7082-4de5-ac34-fd9a955c881b",
   "metadata": {},
   "source": [
    "## Create a plot of the S-Curve to demonstrate the discrepancy principle"
   ]
  },
  {
   "cell_type": "code",
   "execution_count": 19,
   "id": "b1b2370c-2884-48db-a70e-ab172ad0db86",
   "metadata": {
    "jupyter": {
     "source_hidden": true
    },
    "tags": []
   },
   "outputs": [],
   "source": [
    "residual_norm = []\n",
    "d = add_noise(disc_underlying, SNR)\n",
    "d_tilde = np.append(d,[0,0,0,0])\n",
    "for lam in disclambdas:\n",
    "    \n",
    "    (rc1e, rc2e, rT21e, rT22e), rcov = curve_fit(G_tilde(lam), tdata, d_tilde, bounds = (0, upper_bound), p0=initial)\n",
    "\n",
    "    if rT22e > rT21e:\n",
    "        residual_norm.append(((G(tdata, rc1e, rc2e, rT21e, rT22e)-d)**2).sum())\n",
    "    else:\n",
    "        residual_norm.append(((G(tdata, rc2e, rc1e, rT22e, rT21e)-d)**2).sum())\n",
    "        \n",
    "for i in range(len(residual_norm)):\n",
    "    if residual_norm[i] < safety_factor*error_norm:\n",
    "        discrepancy_lambda = disclambdas[i]\n",
    "    else:\n",
    "        break"
   ]
  },
  {
   "cell_type": "markdown",
   "id": "7ff8a4d4-fc6a-4d42-9e5b-8f2bb63b2629",
   "metadata": {
    "tags": []
   },
   "source": [
    "### Visualize"
   ]
  },
  {
   "cell_type": "code",
   "execution_count": 20,
   "id": "54ed217d-80b4-4d47-816c-144e4b6b19d7",
   "metadata": {
    "collapsed": true,
    "jupyter": {
     "outputs_hidden": true,
     "source_hidden": true
    },
    "tags": []
   },
   "outputs": [
    {
     "data": {
      "image/png": "[encoded data removed]",
      "text/plain": [
       "<Figure size 432x288 with 1 Axes>"
      ]
     },
     "metadata": {
      "needs_background": "light"
     },
     "output_type": "display_data"
    }
   ],
   "source": [
    "error_line = [error_norm]*n_disclambdas\n",
    "safety_line = [safety_factor*error_norm]*n_disclambdas\n",
    "plt.semilogx(disclambdas, residual_norm, label='S-Curve')\n",
    "plt.semilogx(disclambdas, error_line, label='Error norm')\n",
    "plt.semilogx(disclambdas, safety_line, label='Error norm with sf = %s'%safety_factor)\n",
    "plt.legend()\n",
    "plt.title('Visualization of the Discrepancy Principle, SNR = %s'%SNR)\n",
    "plt.xlabel('Lambda')\n",
    "plt.ylabel('||Ax-b||2')\n",
    "#plt.text(.001,5,'Discrepancy lambda = %s'%round(discrepancy_lambda,4))\n",
    "plt.show()"
   ]
  },
  {
   "cell_type": "markdown",
   "id": "268b6bcf-a8d1-4622-9c55-ced2ccb089ef",
   "metadata": {},
   "source": [
    "## Test the discrepancy principle using many safety factors"
   ]
  },
  {
   "cell_type": "code",
   "execution_count": 21,
   "id": "14b8ae43-61a8-4d8f-b4b8-3360dbaf5478",
   "metadata": {
    "collapsed": true,
    "jupyter": {
     "outputs_hidden": true,
     "source_hidden": true
    },
    "tags": []
   },
   "outputs": [
    {
     "ename": "NameError",
     "evalue": "name 'discrepancy_principle' is not defined",
     "output_type": "error",
     "traceback": [
      "\u001b[1;31m---------------------------------------------------------------------------\u001b[0m",
      "\u001b[1;31mNameError\u001b[0m                                 Traceback (most recent call last)",
      "\u001b[1;32mc:\\co\\NIA\\Regularization\\4 Parameter Regularization.ipynb Cell 32\u001b[0m in \u001b[0;36m<cell line: 15>\u001b[1;34m()\u001b[0m\n\u001b[0;32m     <a href='vscode-notebook-cell:/c%3A/co/NIA/Regularization/4%20Parameter%20Regularization.ipynb#ch0000031?line=21'>22</a>\u001b[0m \u001b[39mfor\u001b[39;00m s \u001b[39min\u001b[39;00m \u001b[39mrange\u001b[39m(n_sf):\n\u001b[0;32m     <a href='vscode-notebook-cell:/c%3A/co/NIA/Regularization/4%20Parameter%20Regularization.ipynb#ch0000031?line=22'>23</a>\u001b[0m     sf \u001b[39m=\u001b[39m sf_list[s]\n\u001b[1;32m---> <a href='vscode-notebook-cell:/c%3A/co/NIA/Regularization/4%20Parameter%20Regularization.ipynb#ch0000031?line=23'>24</a>\u001b[0m     disclam \u001b[39m=\u001b[39m discrepancy_principle(d, sf, noise_sd, disclambdas) \u001b[39m#See if this can be replaced with DP_lambda\u001b[39;00m\n\u001b[0;32m     <a href='vscode-notebook-cell:/c%3A/co/NIA/Regularization/4%20Parameter%20Regularization.ipynb#ch0000031?line=24'>25</a>\u001b[0m     lambda_list[n,s] \u001b[39m=\u001b[39m disclam\n\u001b[0;32m     <a href='vscode-notebook-cell:/c%3A/co/NIA/Regularization/4%20Parameter%20Regularization.ipynb#ch0000031?line=26'>27</a>\u001b[0m     (rc1e, rc2e, rT21e, rT22e), rcov \u001b[39m=\u001b[39m curve_fit(G_tilde(disclam), tdata, d_tilde, bounds \u001b[39m=\u001b[39m (\u001b[39m0\u001b[39m, upper_bound), p0\u001b[39m=\u001b[39minitial, max_nfev \u001b[39m=\u001b[39m \u001b[39m4000\u001b[39m)\n",
      "\u001b[1;31mNameError\u001b[0m: name 'discrepancy_principle' is not defined"
     ]
    }
   ],
   "source": [
    "start_time = time.time() #Track program run time\n",
    "\n",
    "bias = np.zeros((n_sf, 4))\n",
    "variance = np.zeros((n_sf, 4))\n",
    "MSE = np.zeros((n_sf, 4))\n",
    "lambda_mean = np.zeros((n_sf))\n",
    "lambda_variance = np.zeros((n_sf))\n",
    "\n",
    "#Allocate 4 n_nl matrices for estimated c1, c2, T21, and T22 values\n",
    "c1est = np.zeros((n_noise_realizations, n_sf))\n",
    "c2est = np.zeros((n_noise_realizations, n_sf))\n",
    "T21est = np.zeros((n_noise_realizations, n_sf))\n",
    "T22est = np.zeros((n_noise_realizations, n_sf))\n",
    "lambda_list = np.zeros((n_noise_realizations, n_sf))\n",
    "for n in range(n_noise_realizations):\n",
    "    #Generate n different noise realizations\n",
    "    np.random.seed(n)\n",
    "    d = add_noise(disc_underlying, SNR)\n",
    "    d_tilde = np.append(d, [0,0,0,0])\n",
    "                    \n",
    "    #For each noise realization, estimate parameters for each value of lambda\n",
    "    for s in range(n_sf):\n",
    "        sf = sf_list[s]\n",
    "        disclam = discrepancy_principle(d, sf, noise_sd, disclambdas) #See if this can be replaced with DP_lambda\n",
    "        lambda_list[n,s] = disclam\n",
    "                        \n",
    "        (rc1e, rc2e, rT21e, rT22e), rcov = curve_fit(G_tilde(disclam), tdata, d_tilde, bounds = (0, upper_bound), p0=initial, max_nfev = 4000)\n",
    "    \n",
    "        #Require that T22>T21\n",
    "        if rT22e > rT21e:\n",
    "            c1est[n,s] = rc1e\n",
    "            c2est[n,s] = rc2e\n",
    "            T21est[n,s] = rT21e\n",
    "            T22est[n,s] = rT22e\n",
    "        else:\n",
    "            c2est[n,s] = rc1e\n",
    "            c1est[n,s] = rc2e\n",
    "            T22est[n,s] = rT21e\n",
    "            T21est[n,s] = rT22e\n",
    "        \n",
    "#For each combination of parameters, calculate bias, variance, and MSE as a function of lambda\n",
    "for s in range(n_sf):\n",
    "                    \n",
    "    c1_bias = ((c1est[:,s]-[c1]*n_noise_realizations).sum())/n_noise_realizations\n",
    "    c2_bias = ((c2est[:,s]-[c2]*n_noise_realizations).sum())/n_noise_realizations\n",
    "    T21_bias = ((T21est[:,s]-[T21]*n_noise_realizations).sum())/n_noise_realizations\n",
    "    T22_bias = ((T22est[:,s]-[T22]*n_noise_realizations).sum())/n_noise_realizations\n",
    "                    \n",
    "    c1_variance = np.var(c1est[:,s])\n",
    "    c2_variance = np.var(c2est[:,s])\n",
    "    T21_variance = np.var(T21est[:,s])\n",
    "    T22_variance = np.var(T22est[:,s])\n",
    "                    \n",
    "    c1_MSE = c1_variance + c1_bias**2\n",
    "    c2_MSE = c2_variance + c2_bias**2\n",
    "    T21_MSE = T21_variance + T21_bias**2\n",
    "    T22_MSE = T22_variance + T22_bias**2\n",
    "    \n",
    "    avg_lambda = (lambda_list[:,s].sum())/n_noise_realizations\n",
    "    var_lambda = np.var(lambda_list[:,s])\n",
    "                    \n",
    "    bias[s,0] = c1_bias\n",
    "    bias[s,1] = c2_bias\n",
    "    bias[s,2] = T21_bias\n",
    "    bias[s,3] = T22_bias\n",
    "                    \n",
    "    variance[s,0] = c1_variance\n",
    "    variance[s,1] = c2_variance\n",
    "    variance[s,2] = T21_variance\n",
    "    variance[s,3] = T22_variance\n",
    "                    \n",
    "    MSE[s,0] = c1_MSE\n",
    "    MSE[s,1] = c2_MSE\n",
    "    MSE[s,2] = T21_MSE\n",
    "    MSE[s,3] = T22_MSE\n",
    "    \n",
    "    lambda_mean[s] = avg_lambda\n",
    "    lambda_variance[s] = var_lambda\n",
    "\n",
    "print('Runtime:', time.time()-start_time, 'seconds')"
   ]
  },
  {
   "cell_type": "code",
   "execution_count": 23,
   "id": "4743c0c9-a280-4feb-b7bd-ee59ed71a088",
   "metadata": {
    "collapsed": true,
    "jupyter": {
     "outputs_hidden": true,
     "source_hidden": true
    },
    "tags": []
   },
   "outputs": [
    {
     "name": "stdout",
     "output_type": "stream",
     "text": [
      "CRLB: 0.03081114373213567 0.0317562630502334 59.75256702116004 125.46226809606618\n"
     ]
    },
    {
     "ename": "NameError",
     "evalue": "name 'find_MSE' is not defined",
     "output_type": "error",
     "traceback": [
      "\u001b[1;31m---------------------------------------------------------------------------\u001b[0m",
      "\u001b[1;31mNameError\u001b[0m                                 Traceback (most recent call last)",
      "\u001b[1;32mc:\\co\\NIA\\Regularization\\4 Parameter Regularization.ipynb Cell 33\u001b[0m in \u001b[0;36m<cell line: 10>\u001b[1;34m()\u001b[0m\n\u001b[0;32m      <a href='vscode-notebook-cell:/c%3A/co/NIA/Regularization/4%20Parameter%20Regularization.ipynb#ch0000032?line=6'>7</a>\u001b[0m param_CRLB \u001b[39m=\u001b[39m [c1_CRLB, c2_CRLB, T21_CRLB, T22_CRLB]\n\u001b[0;32m      <a href='vscode-notebook-cell:/c%3A/co/NIA/Regularization/4%20Parameter%20Regularization.ipynb#ch0000032?line=7'>8</a>\u001b[0m \u001b[39mprint\u001b[39m(\u001b[39m'\u001b[39m\u001b[39mCRLB:\u001b[39m\u001b[39m'\u001b[39m, c1_CRLB, c2_CRLB, T21_CRLB, T22_CRLB)\n\u001b[1;32m---> <a href='vscode-notebook-cell:/c%3A/co/NIA/Regularization/4%20Parameter%20Regularization.ipynb#ch0000032?line=9'>10</a>\u001b[0m T21_MSE, T22_MSE, T21_reg_MSE, T22_reg_MSE, c1_MSE, c2_MSE, c1_reg_MSE, c2_reg_MSE \u001b[39m=\u001b[39m find_MSE(c1, c2, T21, T22)\n\u001b[0;32m     <a href='vscode-notebook-cell:/c%3A/co/NIA/Regularization/4%20Parameter%20Regularization.ipynb#ch0000032?line=10'>11</a>\u001b[0m unregMSE \u001b[39m=\u001b[39m [c1_MSE, c2_MSE, T21_MSE, T22_MSE]\n\u001b[0;32m     <a href='vscode-notebook-cell:/c%3A/co/NIA/Regularization/4%20Parameter%20Regularization.ipynb#ch0000032?line=11'>12</a>\u001b[0m \u001b[39mprint\u001b[39m(\u001b[39m'\u001b[39m\u001b[39mUnreg MSE:\u001b[39m\u001b[39m'\u001b[39m, c1_MSE, c2_MSE, T21_MSE, T22_MSE)\n",
      "\u001b[1;31mNameError\u001b[0m: name 'find_MSE' is not defined"
     ]
    }
   ],
   "source": [
    "#Find the CRLB and the Unreg MSE\n",
    "CRLB = cov_matrix(c1, c2, T21, T22,SNR)\n",
    "c1_CRLB = CRLB[0,0]\n",
    "c2_CRLB = CRLB[1,1]\n",
    "T21_CRLB = CRLB[2,2]\n",
    "T22_CRLB = CRLB[3,3]\n",
    "param_CRLB = [c1_CRLB, c2_CRLB, T21_CRLB, T22_CRLB]\n",
    "print('CRLB:', c1_CRLB, c2_CRLB, T21_CRLB, T22_CRLB)\n",
    "\n",
    "T21_MSE, T22_MSE, T21_reg_MSE, T22_reg_MSE, c1_MSE, c2_MSE, c1_reg_MSE, c2_reg_MSE = find_MSE(c1, c2, T21, T22)\n",
    "unregMSE = [c1_MSE, c2_MSE, T21_MSE, T22_MSE]\n",
    "print('Unreg MSE:', c1_MSE, c2_MSE, T21_MSE, T22_MSE)"
   ]
  },
  {
   "cell_type": "markdown",
   "id": "747c0234-452c-4a18-bc19-fe720870d30d",
   "metadata": {},
   "source": [
    "### Plot the bias, variance, and MSE of each parameter vs safety factor"
   ]
  },
  {
   "cell_type": "code",
   "execution_count": 24,
   "id": "0f710954-9377-4a63-8d49-1e5792afda7f",
   "metadata": {
    "collapsed": true,
    "jupyter": {
     "outputs_hidden": true,
     "source_hidden": true
    },
    "tags": []
   },
   "outputs": [
    {
     "ename": "NameError",
     "evalue": "name 'unregMSE' is not defined",
     "output_type": "error",
     "traceback": [
      "\u001b[1;31m---------------------------------------------------------------------------\u001b[0m",
      "\u001b[1;31mNameError\u001b[0m                                 Traceback (most recent call last)",
      "\u001b[1;32mc:\\co\\NIA\\Regularization\\4 Parameter Regularization.ipynb Cell 35\u001b[0m in \u001b[0;36m<cell line: 6>\u001b[1;34m()\u001b[0m\n\u001b[0;32m     <a href='vscode-notebook-cell:/c%3A/co/NIA/Regularization/4%20Parameter%20Regularization.ipynb#ch0000034?line=9'>10</a>\u001b[0m axis[\u001b[39m1\u001b[39m,p]\u001b[39m.\u001b[39mset_ylabel(\u001b[39m'\u001b[39m\u001b[39m%s\u001b[39;00m\u001b[39m variance\u001b[39m\u001b[39m'\u001b[39m\u001b[39m%\u001b[39mplabels[p])\n\u001b[0;32m     <a href='vscode-notebook-cell:/c%3A/co/NIA/Regularization/4%20Parameter%20Regularization.ipynb#ch0000034?line=10'>11</a>\u001b[0m axis[\u001b[39m2\u001b[39m,p]\u001b[39m.\u001b[39msemilogy(sf_list, MSE[:,p], label\u001b[39m=\u001b[39m\u001b[39m'\u001b[39m\u001b[39m%s\u001b[39;00m\u001b[39m MSE\u001b[39m\u001b[39m'\u001b[39m\u001b[39m%\u001b[39mplabels[p])\n\u001b[1;32m---> <a href='vscode-notebook-cell:/c%3A/co/NIA/Regularization/4%20Parameter%20Regularization.ipynb#ch0000034?line=11'>12</a>\u001b[0m axis[\u001b[39m2\u001b[39m,p]\u001b[39m.\u001b[39msemilogy(sf_list, [unregMSE[p]]\u001b[39m*\u001b[39mn_sf, label \u001b[39m=\u001b[39m \u001b[39m'\u001b[39m\u001b[39m%s\u001b[39;00m\u001b[39m Unreg MSE\u001b[39m\u001b[39m'\u001b[39m\u001b[39m%\u001b[39mplabels[p])\n\u001b[0;32m     <a href='vscode-notebook-cell:/c%3A/co/NIA/Regularization/4%20Parameter%20Regularization.ipynb#ch0000034?line=12'>13</a>\u001b[0m axis[\u001b[39m2\u001b[39m,p]\u001b[39m.\u001b[39msemilogy(sf_list, [param_CRLB[p]]\u001b[39m*\u001b[39mn_sf, label \u001b[39m=\u001b[39m \u001b[39m'\u001b[39m\u001b[39m%s\u001b[39;00m\u001b[39m CRLB\u001b[39m\u001b[39m'\u001b[39m\u001b[39m%\u001b[39mplabels[p])\n\u001b[0;32m     <a href='vscode-notebook-cell:/c%3A/co/NIA/Regularization/4%20Parameter%20Regularization.ipynb#ch0000034?line=13'>14</a>\u001b[0m axis[\u001b[39m2\u001b[39m,p]\u001b[39m.\u001b[39mset_ylabel(\u001b[39m'\u001b[39m\u001b[39m%s\u001b[39;00m\u001b[39m MSE\u001b[39m\u001b[39m'\u001b[39m\u001b[39m%\u001b[39mplabels[p])\n",
      "\u001b[1;31mNameError\u001b[0m: name 'unregMSE' is not defined"
     ]
    },
    {
     "name": "stderr",
     "output_type": "stream",
     "text": [
      "c:\\co\\NIA\\.venv\\lib\\site-packages\\matplotlib_inline\\backend_inline.py:234: UserWarning: Data has no positive values, and therefore cannot be log-scaled.\n",
      "  for label in axis.get_ticklabels()])\n"
     ]
    },
    {
     "data": {
      "image/png": "[encoded data removed]",
      "text/plain": [
       "<Figure size 2160x921.6 with 12 Axes>"
      ]
     },
     "metadata": {
      "needs_background": "light"
     },
     "output_type": "display_data"
    }
   ],
   "source": [
    "figure, axis = plt.subplots(3, 4, figsize=(30, 12.8))\n",
    "\n",
    "plabels = ['c1','c2','T21','T22']\n",
    "\n",
    "figure.suptitle('Bias, Variance, and MSE vs Lambda, SNR = %s' % SNR)\n",
    "for p in range(4):\n",
    "    axis[0,p].plot(sf_list, bias[:,p], label='%s bias'%plabels[p])\n",
    "    axis[0,p].set_ylabel('%s bias'%plabels[p])\n",
    "    axis[1,p].plot(sf_list, variance[:,p], label='%s variance'%plabels[p])\n",
    "    axis[1,p].set_ylabel('%s variance'%plabels[p])\n",
    "    axis[2,p].semilogy(sf_list, MSE[:,p], label='%s MSE'%plabels[p])\n",
    "    axis[2,p].semilogy(sf_list, [unregMSE[p]]*n_sf, label = '%s Unreg MSE'%plabels[p])\n",
    "    axis[2,p].semilogy(sf_list, [param_CRLB[p]]*n_sf, label = '%s CRLB'%plabels[p])\n",
    "    axis[2,p].set_ylabel('%s MSE'%plabels[p])\n",
    "    \n",
    "for i in range(3):\n",
    "    for j in range(4):\n",
    "        axis[i,j].legend()\n",
    "        axis[i,j].set_xlabel('Safety factor')\n",
    "\n",
    "plt.show()"
   ]
  },
  {
   "cell_type": "code",
   "execution_count": 255,
   "id": "52c33cdf-9b29-4b86-870a-8ebc54006dc8",
   "metadata": {
    "collapsed": true,
    "jupyter": {
     "outputs_hidden": true,
     "source_hidden": true
    },
    "tags": []
   },
   "outputs": [
    {
     "data": {
      "text/plain": [
       "Text(0.5, 0, 'Safety factor')"
      ]
     },
     "execution_count": 255,
     "metadata": {},
     "output_type": "execute_result"
    },
    {
     "data": {
      "image/png": "[encoded data removed]",
      "text/plain": [
       "<Figure size 720x720 with 2 Axes>"
      ]
     },
     "metadata": {
      "needs_background": "light"
     },
     "output_type": "display_data"
    }
   ],
   "source": [
    "figure,axis = plt.subplots(2,1, figsize = (10,10))\n",
    "\n",
    "axis[0].set_title('Average Lambda vs Safety Factor, SNR = %s'%SNR)\n",
    "axis[0].semilogy(sf_list, lambda_mean)\n",
    "axis[0].set_ylabel('Average Lambda')\n",
    "axis[0].set_xlabel('Safety factor')\n",
    "axis[1].set_title('Variance of Lambda vs Safety Factor, SNR = %s'%SNR)\n",
    "axis[1].plot(sf_list, lambda_variance)\n",
    "axis[1].set_ylabel('Variance of Lambda')\n",
    "axis[1].set_xlabel('Safety factor')"
   ]
  },
  {
   "cell_type": "code",
   "execution_count": 8,
   "id": "58b13651-81db-4305-817d-59b402bb2962",
   "metadata": {
    "jupyter": {
     "source_hidden": true
    },
    "tags": []
   },
   "outputs": [],
   "source": [
    "def average_discrepancy_lambda(disc_underlying, safety_factor, disclambdas, noise_sd, verbose = False):\n",
    "#Gives average value of the lambda given by the discrepancy principle over n noise realizations\n",
    "#disc_underlying is the underlying function used to generate noise realizations\n",
    "#lambdas is the list of lambdas to be used to generate the S-curves\n",
    "#Returns the average lambda and the variance of the lambdas\n",
    "\n",
    "    c1est = np.zeros((n_noise_realizations))\n",
    "    c2est = np.zeros((n_noise_realizations))\n",
    "    T21est = np.zeros((n_noise_realizations))\n",
    "    T22est = np.zeros((n_noise_realizations))\n",
    "    lambda_list = np.zeros((n_noise_realizations))\n",
    "    for n in range(n_noise_realizations):\n",
    "        #Generate n different noise realizations\n",
    "        np.random.seed(n)\n",
    "        d = add_noise(disc_underlying, SNR)\n",
    "        d_tilde = np.append(d, [0,0,0,0])\n",
    "                    \n",
    "        #For each noise realization, estimate parameters for each value of lambda\n",
    "\n",
    "        disclam = discrepancy_principle(d, safety_factor, noise_sd, disclambdas)\n",
    "        lambda_list[n] = disclam\n",
    "                             \n",
    "        (rc1e, rc2e, rT21e, rT22e), rcov = curve_fit(G_tilde(disclam), tdata, d_tilde, bounds = (0, upper_bound), p0=initial, max_nfev = 4000)\n",
    "    \n",
    "        #Require that T22>T21\n",
    "        if rT22e > rT21e:\n",
    "            c1est[n] = rc1e\n",
    "            c2est[n] = rc2e\n",
    "            T21est[n] = rT21e\n",
    "            T22est[n] = rT22e\n",
    "        else:\n",
    "            c2est[n] = rc1e\n",
    "            c1est[n] = rc2e\n",
    "            T22est[n] = rT21e\n",
    "            T21est[n] = rT22e\n",
    "        \n",
    "    #For each combination of parameters, calculate bias, variance, and MSE as a function of lambda\n",
    "    c1_bias = ((c1est-[c1]*n_noise_realizations).sum())/n_noise_realizations\n",
    "    c2_bias = ((c2est-[c2]*n_noise_realizations).sum())/n_noise_realizations\n",
    "    T21_bias = ((T21est-[T21]*n_noise_realizations).sum())/n_noise_realizations\n",
    "    T22_bias = ((T22est-[T22]*n_noise_realizations).sum())/n_noise_realizations\n",
    "                    \n",
    "    c1_variance = np.var(c1est)\n",
    "    c2_variance = np.var(c2est)\n",
    "    T21_variance = np.var(T21est)\n",
    "    T22_variance = np.var(T22est)\n",
    "                    \n",
    "    c1_MSE = c1_variance + c1_bias**2\n",
    "    c2_MSE = c2_variance + c2_bias**2\n",
    "    T21_MSE = T21_variance + T21_bias**2\n",
    "    T22_MSE = T22_variance + T22_bias**2\n",
    "    \n",
    "    avg_lambda = (lambda_list.sum())/n_noise_realizations\n",
    "    var_lambda = np.var(lambda_list)\n",
    "    \n",
    "    if verbose==True:\n",
    "        print('c1, c2, T21, T22 Bias:', c1_bias, c2_bias, T21_bias, T22_bias)\n",
    "        print('c1, c2, T21, T22 variance:', c1_variance, c2_variance, T21_variance, T22_variance)\n",
    "        print('c1, c2, T21, T22 MSE', c1_MSE, c2_MSE, T21_MSE, T22_MSE)\n",
    "        print('Average lambda:', avg_lambda)\n",
    "        print('Variance of lambda:', var_lambda)\n",
    "        \n",
    "    return avg_lambda, var_lambda"
   ]
  },
  {
   "cell_type": "markdown",
   "id": "8e7356bc-60ef-4761-bf04-b8d9f6487f0a",
   "metadata": {},
   "source": [
    "# Apply Generalized Cross Validation to find a good lambda"
   ]
  },
  {
   "cell_type": "markdown",
   "id": "093b026a-3f86-43d8-b80f-509fc4cc635d",
   "metadata": {},
   "source": [
    "## Test GCV manually: Leave one out exhaustively"
   ]
  },
  {
   "cell_type": "code",
   "execution_count": 25,
   "id": "d4488b53-2ae4-4792-861a-03ceaa5d1cba",
   "metadata": {
    "jupyter": {
     "source_hidden": true
    },
    "tags": []
   },
   "outputs": [],
   "source": [
    "def LOO_exhaustive_CV(data, n_LOOlambdas):\n",
    "    lambdas = np.logspace(-7,3,n_LOOlambdas)\n",
    "    CV_function = []\n",
    "    for l in range(n_LOOlambdas):\n",
    "        error = 0\n",
    "        lam = lambdas[l]\n",
    "        for i in range(n_elements):\n",
    "            #Leave out one of the data points\n",
    "            LOOdata = np.delete(data, i)\n",
    "            LOOd_tilde = np.append(LOOdata, [0,0,0,0])\n",
    "            LOO_tdata = np.delete(tdata, i)\n",
    "            #Save removed point for validation\n",
    "            removed_t = tdata[i]\n",
    "            removed_d = data[i]\n",
    "    \n",
    "            #Estimate the parameters using the leave-one-out data\n",
    "            (rc1e, rc2e, rT21e, rT22e), rcov = curve_fit(G_tilde(lam), LOO_tdata, LOOd_tilde, bounds = (0, upper_bound), p0=initial, max_nfev = 4000)\n",
    "    \n",
    "            if rT22e > rT21e:\n",
    "                c1est = rc1e\n",
    "                c2est = rc2e\n",
    "                T21est = rT21e\n",
    "                T22est = rT22e\n",
    "            else:\n",
    "                c1est = rc2e\n",
    "                c2est = rc1e\n",
    "                T21est = rT22e\n",
    "                T22est = rT21e\n",
    "        \n",
    "            #Calculate the mismatch at the removed point   \n",
    "            residual = (removed_d - G(removed_t, c1est, c2est, T21est, T22est))**2\n",
    "            error += residual\n",
    "        \n",
    "        CV_function.append(error)\n",
    "\n",
    "    min_lambda = lambdas[np.argmin(CV_function)]\n",
    "    return min_lambda, CV_function"
   ]
  },
  {
   "cell_type": "markdown",
   "id": "6a87d9fa-8cfb-4941-972b-adf4f3f0f5ca",
   "metadata": {},
   "source": [
    "## Test GCV manually: n-fold cross-validation"
   ]
  },
  {
   "cell_type": "code",
   "execution_count": 26,
   "id": "2f43b25d-a58b-4d40-9635-63a325f53b62",
   "metadata": {
    "jupyter": {
     "source_hidden": true
    },
    "tags": []
   },
   "outputs": [],
   "source": [
    "def n_fold_CV(data, n_data_sets, n_CVlambdas):\n",
    "    lambdas = np.logspace(-7,3,n_CVlambdas)\n",
    "    data_sets = np.array(np.split(data, n_data_sets))\n",
    "    t_sets = np.array(np.split(tdata, n_data_sets))\n",
    "\n",
    "    CV_function = []\n",
    "    for l in range(n_CVlambdas):\n",
    "        lam = lambdas[l]\n",
    "        error = 0\n",
    "        for i in range(n_data_sets):\n",
    "            LOOdata = np.delete(data_sets, i, axis=0)\n",
    "            LOOdata = LOOdata.reshape(int(n_elements-n_elements/n_data_sets))\n",
    "            LOOd_tilde = LOOd_tilde = np.append(LOOdata, [0,0,0,0])\n",
    "            LOO_tdata = np.delete(t_sets, i, axis=0)\n",
    "            LOO_tdata = LOO_tdata.reshape(int(n_elements-n_elements/n_data_sets))\n",
    "        \n",
    "            removed_t_set = t_sets[i,:]\n",
    "            removed_data_set = data_sets[i,:]\n",
    "        \n",
    "            #Estimate the parameters using the leave-one-set-out data\n",
    "            (rc1e, rc2e, rT21e, rT22e), rcov = curve_fit(G_tilde(lam), LOO_tdata, LOOd_tilde, bounds = (0, upper_bound), p0=initial, max_nfev = 4000)\n",
    "    \n",
    "            if rT22e > rT21e:\n",
    "                c1est = rc1e\n",
    "                c2est = rc2e\n",
    "                T21est = rT21e\n",
    "                T22est = rT22e\n",
    "            else:\n",
    "                c1est = rc2e\n",
    "                c2est = rc1e\n",
    "                T21est = rT22e\n",
    "                T22est = rT21e\n",
    "        \n",
    "            #Calculate the mismatch at the removed data set\n",
    "            mismatch = ((removed_data_set - G(removed_t_set, c1est, c2est, T21est, T22est))**2).sum()\n",
    "            error += mismatch\n",
    "        CV_function.append(error)\n",
    "    min_lambda = lambdas[np.argmin(CV_function)]\n",
    "    return min_lambda, CV_function"
   ]
  },
  {
   "cell_type": "markdown",
   "id": "6ea35b3a-3028-4b7d-bfc7-58fb321a2a3b",
   "metadata": {},
   "source": [
    "## Test GCV manually: randomized n-fold cross validation"
   ]
  },
  {
   "cell_type": "code",
   "execution_count": 27,
   "id": "570364d0-b5a8-4ca5-a0ff-a7d3187c35b4",
   "metadata": {
    "jupyter": {
     "source_hidden": true
    },
    "tags": []
   },
   "outputs": [],
   "source": [
    "def randomized_n_fold_CV(data, n_data_sets, n_CVlambdas):\n",
    "\n",
    "    lambdas = np.logspace(-7,3,n_CVlambdas)\n",
    "    n_test = int(n_elements/n_data_sets)\n",
    "    n_training = n_elements-n_test\n",
    "\n",
    "    CV_function = []\n",
    "    for l in range(n_CVlambdas):\n",
    "        lam = lambdas[l]\n",
    "        error = 0\n",
    "        for i in range(n_data_sets):\n",
    "            indices = np.random.permutation(data.shape[0])\n",
    "            training_idx, test_idx = indices[:n_training], indices[n_training:]\n",
    "            training, test = data[training_idx], data[test_idx]\n",
    "            training_tilde = np.append(training, [0,0,0,0])\n",
    "        \n",
    "            training_t = tdata[training_idx]\n",
    "            test_t = tdata[test_idx]\n",
    "        \n",
    "            #Estimate the parameters using the leave-one-set-out data\n",
    "            (rc1e, rc2e, rT21e, rT22e), rcov = curve_fit(G_tilde(lam), training_t, training_tilde, bounds = (0, upper_bound), p0=initial, max_nfev = 4000)\n",
    "    \n",
    "            if rT22e > rT21e:\n",
    "                c1est = rc1e\n",
    "                c2est = rc2e\n",
    "                T21est = rT21e\n",
    "                T22est = rT22e\n",
    "            else:\n",
    "                c1est = rc2e\n",
    "                c2est = rc1e\n",
    "                T21est = rT22e\n",
    "                T22est = rT21e\n",
    "        \n",
    "            #Calculate the mismatch at the removed data set\n",
    "            mismatch = ((test - G(test_t, c1est, c2est, T21est, T22est))**2).sum()\n",
    "            error += mismatch\n",
    "        CV_function.append(error)\n",
    "    min_lambda = lambdas[np.argmin(CV_function)]\n",
    "    \n",
    "    return min_lambda, CV_function"
   ]
  },
  {
   "cell_type": "markdown",
   "id": "9a2f222a-e510-4dfe-82e8-594947df740f",
   "metadata": {
    "tags": []
   },
   "source": [
    "## Define functions for GCV"
   ]
  },
  {
   "cell_type": "code",
   "execution_count": 28,
   "id": "928737d5-b5e0-4706-86a7-e7ae9a29420e",
   "metadata": {
    "jupyter": {
     "source_hidden": true
    },
    "tags": []
   },
   "outputs": [],
   "source": [
    "def GCV_toss_outliers(c1, c2, T21, T22, n_noise_realizations, bounds = ([0,0,0,0], upper_bound)):\n",
    "    #Generates GCV estimates of n noise realizations, tosses estimates outside of the bounds\n",
    "    #Returns the list of remaining estimates and the lambdas used to estimate\n",
    "    noiseless_curve = G(tdata, c1, c2, T21, T22)\n",
    "    bound_low = bounds[0]\n",
    "    bound_high = bounds[1]\n",
    "    GCVlambdas = np.logspace(-7,3,51)\n",
    "    \n",
    "    estimates = []\n",
    "    min_lam_list = []\n",
    "    \n",
    "    for n in range(n_noise_realizations):\n",
    "        np.random.seed(n)\n",
    "        data = add_noise(noiseless_curve, SNR)\n",
    "        GCV_values = []\n",
    "        \n",
    "        min_GCV_lam, GCV_values = GCV_lambda(data, GCVlambdas)\n",
    "        \n",
    "        params = estimate_parameters(data, min_GCV_lam)\n",
    "        \n",
    "        isUnderLower = params[0]<bound_low[0] or params[1]<bound_low[1] or params[2]<bound_low[2] or params[3]<bound_low[3]\n",
    "        isAboveHigher = params[0]>bound_high[0] or params[1]>bound_high[1] or params[2]>bound_high[2] or params[3]>bound_high[3]\n",
    "    \n",
    "        if not (isUnderLower or isAboveHigher):\n",
    "            estimates.append(params)\n",
    "            min_lam_list.append(min_GCV_lam)\n",
    "    estimates = np.array(estimates)\n",
    "    min_lam_list = np.array(min_lam_list)\n",
    "    \n",
    "    #Calculate some statistical quantities and record the number of estimates remaining\n",
    "    GCVbias = np.zeros(4)\n",
    "    GCVvariance = np.zeros(4)\n",
    "    GCVMSE = np.zeros(4)\n",
    "    GCVp_true = [c1, c2, T21, T22]\n",
    "    \n",
    "    n = estimates.shape[0]\n",
    "    for p in range(4):\n",
    "        pest = estimates[:,p]\n",
    "        GCVbias[p] = (pest-[GCVp_true[p]]*n).sum()/n\n",
    "        GCVvariance[p] = np.var(pest)\n",
    "        GCVMSE[p] = GCVbias[p]**2 + GCVvariance[p]\n",
    "                \n",
    "    return estimates, min_lam_list, GCVbias, GCVvariance, GCVMSE, n"
   ]
  },
  {
   "cell_type": "markdown",
   "id": "3e6dd02a-d502-4d4e-a14d-50aaea43a8e2",
   "metadata": {},
   "source": [
    "### Test GCV, Tossing outliers"
   ]
  },
  {
   "cell_type": "code",
   "execution_count": 29,
   "id": "abc9da2b-15f8-4e44-896b-8138d722700c",
   "metadata": {
    "collapsed": true,
    "jupyter": {
     "outputs_hidden": true,
     "source_hidden": true
    },
    "tags": []
   },
   "outputs": [
    {
     "ename": "TypeError",
     "evalue": "cannot unpack non-iterable numpy.float64 object",
     "output_type": "error",
     "traceback": [
      "\u001b[1;31m---------------------------------------------------------------------------\u001b[0m",
      "\u001b[1;31mTypeError\u001b[0m                                 Traceback (most recent call last)",
      "\u001b[1;32mc:\\co\\NIA\\Regularization\\4 Parameter Regularization.ipynb Cell 48\u001b[0m in \u001b[0;36m<cell line: 1>\u001b[1;34m()\u001b[0m\n\u001b[1;32m----> <a href='vscode-notebook-cell:/c%3A/co/NIA/Regularization/4%20Parameter%20Regularization.ipynb#ch0000047?line=0'>1</a>\u001b[0m estimates, min_lam_list, GCVbias, GCVvariance, GCVMSE, num_remaining \u001b[39m=\u001b[39m GCV_toss_outliers(c1, c2, \u001b[39m80\u001b[39;49m, \u001b[39m90\u001b[39;49m, \u001b[39m100\u001b[39;49m, bounds \u001b[39m=\u001b[39;49m ([\u001b[39m0\u001b[39;49m,\u001b[39m0\u001b[39;49m,\u001b[39m10\u001b[39;49m,\u001b[39m10\u001b[39;49m], [\u001b[39m1\u001b[39;49m,\u001b[39m1\u001b[39;49m,\u001b[39m400\u001b[39;49m,\u001b[39m400\u001b[39;49m]))\n\u001b[0;32m      <a href='vscode-notebook-cell:/c%3A/co/NIA/Regularization/4%20Parameter%20Regularization.ipynb#ch0000047?line=1'>2</a>\u001b[0m \u001b[39mprint\u001b[39m(\u001b[39m'\u001b[39m\u001b[39mGCV Bias:\u001b[39m\u001b[39m'\u001b[39m, GCVbias)\n\u001b[0;32m      <a href='vscode-notebook-cell:/c%3A/co/NIA/Regularization/4%20Parameter%20Regularization.ipynb#ch0000047?line=2'>3</a>\u001b[0m \u001b[39mprint\u001b[39m(\u001b[39m'\u001b[39m\u001b[39mGCV Variance:\u001b[39m\u001b[39m'\u001b[39m, GCVvariance)\n",
      "\u001b[1;32mc:\\co\\NIA\\Regularization\\4 Parameter Regularization.ipynb Cell 48\u001b[0m in \u001b[0;36mGCV_toss_outliers\u001b[1;34m(c1, c2, T21, T22, n_noise_realizations, bounds)\u001b[0m\n\u001b[0;32m     <a href='vscode-notebook-cell:/c%3A/co/NIA/Regularization/4%20Parameter%20Regularization.ipynb#ch0000047?line=13'>14</a>\u001b[0m data \u001b[39m=\u001b[39m add_noise(noiseless_curve, SNR)\n\u001b[0;32m     <a href='vscode-notebook-cell:/c%3A/co/NIA/Regularization/4%20Parameter%20Regularization.ipynb#ch0000047?line=14'>15</a>\u001b[0m GCV_values \u001b[39m=\u001b[39m []\n\u001b[1;32m---> <a href='vscode-notebook-cell:/c%3A/co/NIA/Regularization/4%20Parameter%20Regularization.ipynb#ch0000047?line=16'>17</a>\u001b[0m min_GCV_lam, GCV_values \u001b[39m=\u001b[39m GCV_lambda(data, GCVlambdas)\n\u001b[0;32m     <a href='vscode-notebook-cell:/c%3A/co/NIA/Regularization/4%20Parameter%20Regularization.ipynb#ch0000047?line=18'>19</a>\u001b[0m params \u001b[39m=\u001b[39m estimate_parameters(data, min_GCV_lam)\n\u001b[0;32m     <a href='vscode-notebook-cell:/c%3A/co/NIA/Regularization/4%20Parameter%20Regularization.ipynb#ch0000047?line=20'>21</a>\u001b[0m isUnderLower \u001b[39m=\u001b[39m params[\u001b[39m0\u001b[39m]\u001b[39m<\u001b[39mbound_low[\u001b[39m0\u001b[39m] \u001b[39mor\u001b[39;00m params[\u001b[39m1\u001b[39m]\u001b[39m<\u001b[39mbound_low[\u001b[39m1\u001b[39m] \u001b[39mor\u001b[39;00m params[\u001b[39m2\u001b[39m]\u001b[39m<\u001b[39mbound_low[\u001b[39m2\u001b[39m] \u001b[39mor\u001b[39;00m params[\u001b[39m3\u001b[39m]\u001b[39m<\u001b[39mbound_low[\u001b[39m3\u001b[39m]\n",
      "\u001b[1;31mTypeError\u001b[0m: cannot unpack non-iterable numpy.float64 object"
     ]
    }
   ],
   "source": [
    "estimates, min_lam_list, GCVbias, GCVvariance, GCVMSE, num_remaining = GCV_toss_outliers(c1, c2, 80, 90, 100, bounds = ([0,0,10,10], [1,1,400,400]))\n",
    "print('GCV Bias:', GCVbias)\n",
    "print('GCV Variance:', GCVvariance)\n",
    "print('GCV MSE', GCVMSE)"
   ]
  },
  {
   "cell_type": "code",
   "execution_count": 30,
   "id": "2ba8be53-2071-416e-b72f-58e2745da2c7",
   "metadata": {
    "collapsed": true,
    "jupyter": {
     "outputs_hidden": true,
     "source_hidden": true
    },
    "tags": []
   },
   "outputs": [
    {
     "ename": "NameError",
     "evalue": "name 'estimates' is not defined",
     "output_type": "error",
     "traceback": [
      "\u001b[1;31m---------------------------------------------------------------------------\u001b[0m",
      "\u001b[1;31mNameError\u001b[0m                                 Traceback (most recent call last)",
      "\u001b[1;32mc:\\co\\NIA\\Regularization\\4 Parameter Regularization.ipynb Cell 49\u001b[0m in \u001b[0;36m<cell line: 3>\u001b[1;34m()\u001b[0m\n\u001b[0;32m      <a href='vscode-notebook-cell:/c%3A/co/NIA/Regularization/4%20Parameter%20Regularization.ipynb#ch0000048?line=0'>1</a>\u001b[0m fig, ax \u001b[39m=\u001b[39m plt\u001b[39m.\u001b[39msubplots(\u001b[39m2\u001b[39m,\u001b[39m2\u001b[39m, figsize\u001b[39m=\u001b[39m(\u001b[39m10\u001b[39m,\u001b[39m10\u001b[39m), tight_layout\u001b[39m=\u001b[39m\u001b[39mTrue\u001b[39;00m)\n\u001b[1;32m----> <a href='vscode-notebook-cell:/c%3A/co/NIA/Regularization/4%20Parameter%20Regularization.ipynb#ch0000048?line=2'>3</a>\u001b[0m ax[\u001b[39m0\u001b[39m,\u001b[39m0\u001b[39m]\u001b[39m.\u001b[39mhist(estimates[:,\u001b[39m0\u001b[39m])\n\u001b[0;32m      <a href='vscode-notebook-cell:/c%3A/co/NIA/Regularization/4%20Parameter%20Regularization.ipynb#ch0000048?line=3'>4</a>\u001b[0m ax[\u001b[39m0\u001b[39m,\u001b[39m0\u001b[39m]\u001b[39m.\u001b[39mset_title(\u001b[39m'\u001b[39m\u001b[39mC1 Estimates\u001b[39m\u001b[39m'\u001b[39m)\n\u001b[0;32m      <a href='vscode-notebook-cell:/c%3A/co/NIA/Regularization/4%20Parameter%20Regularization.ipynb#ch0000048?line=5'>6</a>\u001b[0m ax[\u001b[39m0\u001b[39m,\u001b[39m1\u001b[39m]\u001b[39m.\u001b[39mhist(estimates[:,\u001b[39m1\u001b[39m])\n",
      "\u001b[1;31mNameError\u001b[0m: name 'estimates' is not defined"
     ]
    },
    {
     "data": {
      "image/png": "[encoded data removed]",
      "text/plain": [
       "<Figure size 720x720 with 4 Axes>"
      ]
     },
     "metadata": {
      "needs_background": "light"
     },
     "output_type": "display_data"
    }
   ],
   "source": [
    "fig, ax = plt.subplots(2,2, figsize=(10,10), tight_layout=True)\n",
    "\n",
    "ax[0,0].hist(estimates[:,0])\n",
    "ax[0,0].set_title('C1 Estimates')\n",
    "\n",
    "ax[0,1].hist(estimates[:,1])\n",
    "ax[0,1].set_title('C2 Estimates')\n",
    "\n",
    "ax[1,0].hist(estimates[:,2])\n",
    "ax[1,0].set_title('T21 Estimates')\n",
    "\n",
    "ax[1,1].hist(estimates[:,3])\n",
    "ax[1,1].set_title('T22 Estimates')"
   ]
  },
  {
   "cell_type": "code",
   "execution_count": 31,
   "id": "945d546b-c93f-4067-b47f-575da77d4f2a",
   "metadata": {
    "collapsed": true,
    "jupyter": {
     "outputs_hidden": true,
     "source_hidden": true
    },
    "tags": []
   },
   "outputs": [
    {
     "ename": "NameError",
     "evalue": "name 'min_lam_list' is not defined",
     "output_type": "error",
     "traceback": [
      "\u001b[1;31m---------------------------------------------------------------------------\u001b[0m",
      "\u001b[1;31mNameError\u001b[0m                                 Traceback (most recent call last)",
      "\u001b[1;32mc:\\co\\NIA\\Regularization\\4 Parameter Regularization.ipynb Cell 50\u001b[0m in \u001b[0;36m<cell line: 1>\u001b[1;34m()\u001b[0m\n\u001b[1;32m----> <a href='vscode-notebook-cell:/c%3A/co/NIA/Regularization/4%20Parameter%20Regularization.ipynb#ch0000049?line=0'>1</a>\u001b[0m lnlambdas \u001b[39m=\u001b[39m np\u001b[39m.\u001b[39mlog10(min_lam_list)\n\u001b[0;32m      <a href='vscode-notebook-cell:/c%3A/co/NIA/Regularization/4%20Parameter%20Regularization.ipynb#ch0000049?line=1'>2</a>\u001b[0m plt\u001b[39m.\u001b[39mfigure(figsize \u001b[39m=\u001b[39m (\u001b[39m10.4\u001b[39m, \u001b[39m6.4\u001b[39m))\n\u001b[0;32m      <a href='vscode-notebook-cell:/c%3A/co/NIA/Regularization/4%20Parameter%20Regularization.ipynb#ch0000049?line=2'>3</a>\u001b[0m n, bins, patches \u001b[39m=\u001b[39m plt\u001b[39m.\u001b[39mhist(lnlambdas, \u001b[39m100\u001b[39m, density\u001b[39m=\u001b[39m\u001b[39mFalse\u001b[39;00m, alpha\u001b[39m=\u001b[39m\u001b[39m0.75\u001b[39m)\n",
      "\u001b[1;31mNameError\u001b[0m: name 'min_lam_list' is not defined"
     ]
    }
   ],
   "source": [
    "lnlambdas = np.log10(min_lam_list)\n",
    "plt.figure(figsize = (10.4, 6.4))\n",
    "n, bins, patches = plt.hist(lnlambdas, 100, density=False, alpha=0.75)\n",
    "\n",
    "plt.xlabel('ln(Lambda) values')\n",
    "plt.ylabel('Lambda counts')\n",
    "plt.title('Histogram of GCV lambdas, SNR = %s' % SNR)\n",
    "plt.show()"
   ]
  }
 ],
 "metadata": {
  "kernelspec": {
   "display_name": "Python 3.9.4 ('.venv': venv)",
   "language": "python",
   "name": "python3"
  },
  "language_info": {
   "codemirror_mode": {
    "name": "ipython",
    "version": 3
   },
   "file_extension": ".py",
   "mimetype": "text/x-python",
   "name": "python",
   "nbconvert_exporter": "python",
   "pygments_lexer": "ipython3",
   "version": "3.9.4"
  },
  "vscode": {
   "interpreter": {
    "hash": "b198fbbcfab0e745ebe2d4427d75efcc0bf102a681278e853c612d284d98e86b"
   }
  }
 },
 "nbformat": 4,
 "nbformat_minor": 5
}
