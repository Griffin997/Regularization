{
 "cells": [
  {
   "cell_type": "markdown",
   "id": "f268370c-809b-4b88-95fa-ed1c985e969b",
   "metadata": {
    "tags": []
   },
   "source": [
    "# Import Packages"
   ]
  },
  {
   "cell_type": "code",
   "execution_count": 5,
   "id": "3915833b-3da2-40e8-919a-e1c233f1fb88",
   "metadata": {},
   "outputs": [],
   "source": [
    "#%matplotlib widget\n",
    "import tensorflow as tf\n",
    "import keras as keras\n",
    "import keras.backend as K\n",
    "import scipy\n",
    "from scipy.optimize import curve_fit\n",
    "from scipy.optimize import leastsq\n",
    "import matplotlib.pyplot as plt\n",
    "import numpy as np\n",
    "import statistics\n",
    "import math\n",
    "import time\n",
    "from tqdm import trange\n",
    "import h5py\n",
    "\n",
    "from sklearn.model_selection import train_test_split\n",
    "from keras import Sequential\n",
    "from keras.layers import Dense\n",
    "from keras.layers import Dropout\n",
    "from keras.layers import BatchNormalization\n",
    "from keras.layers import Activation"
   ]
  },
  {
   "cell_type": "markdown",
   "id": "fb5f8760-25b6-441f-9aa0-dda0199d48c2",
   "metadata": {},
   "source": [
    "# Define Parameters"
   ]
  },
  {
   "cell_type": "code",
   "execution_count": 10,
   "id": "7097c379-4f5d-42d2-ac45-9bce39fd5f7c",
   "metadata": {},
   "outputs": [],
   "source": [
    "SNR = 175\n",
    "n_elements = 128\n",
    "n_elements_brain = 32\n",
    "\n",
    "ob_weight = 100\n",
    "Nth = 10\n",
    "n_noise_realizations = 10\n",
    "\n",
    "upper_bound = [1,1,500,1500] #Set upper bound on parameters c1, c2, T21, T22, respectively\n",
    "initial = (0.5, 0.5, 250, 750) #Set initial guesses\n",
    "initial_brain = (0.5, 0.5, 20, 100)\n",
    "agg_array = np.array([1,1,1/ob_weight, 1/ob_weight])\n",
    "\n",
    "tdata = np.linspace(0, 635, n_elements)\n",
    "t_increment_brain = 11.3\n",
    "tdata_brain = np.linspace(t_increment_brain, (n_elements_brain)*(t_increment_brain), n_elements_brain)\n",
    "\n",
    "#Two parameter definition of s(t) with regularization parameter lambda\n",
    "def G(t, con_1, con_2, tau_1, tau_2): \n",
    "    function = con_1*np.exp(-t/tau_1) + con_2*np.exp(-t/tau_2)\n",
    "    return function\n",
    "\n",
    "def G_tilde(lam, SA = 1):\n",
    "    #SA defines the signal amplitude, defaults to 1 for simulated data\n",
    "    def Gt_lam(t, con1, con2, tau1, tau2):\n",
    "        return np.append(G(t, con1, con2, tau1, tau2), [lam*con1/SA, lam*con2/SA, lam*tau1/ob_weight, lam*tau2/ob_weight])\n",
    "    return Gt_lam\n",
    "\n",
    "noise_sd = 1/SNR\n",
    "\n",
    "def noise(sd):\n",
    "    return np.random.normal(0, sd, n_elements)\n",
    "\n",
    "def noise_brain(sd):\n",
    "    return np.random.normal(0, sd, n_elements_brain)\n",
    "\n",
    "c1_set = np.array([0.1, 0.3, 0.5, 0.7, 0.9])\n",
    "c2_set = 1 - c1_set\n",
    "T21_set = np.array([10, 20, 30, 40, 50, 60])\n",
    "T22_set = np.array([70, 85, 100, 120, 150, 200])\n",
    "n_param_sets = c1_set.size * T21_set.size * T22_set.size\n",
    "\n",
    "SNR_set = np.array([10, 50, 100, 175, 300])\n",
    "\n",
    "n_datasets = 500"
   ]
  },
  {
   "cell_type": "markdown",
   "id": "4e37f540-222e-42ab-918a-e436b6e97ceb",
   "metadata": {},
   "source": [
    "# Define useful functions"
   ]
  },
  {
   "cell_type": "code",
   "execution_count": 11,
   "id": "43b60872-c8dd-4044-9c7c-6e9f50e11653",
   "metadata": {},
   "outputs": [],
   "source": [
    "def estimate_parameters(data, lam):\n",
    "    data_tilde = np.append(data, [0,0,0,0])\n",
    "    \n",
    "    (rc1e, rc2e, rT21e, rT22e), rcov = curve_fit(G_tilde(lam), tdata, data_tilde, bounds = (0, upper_bound), p0=initial, max_nfev = 4000)\n",
    "    \n",
    "    if rT22e > rT21e:\n",
    "        c1est = rc1e\n",
    "        c2est = rc2e\n",
    "        T21est = rT21e\n",
    "        T22est = rT22e\n",
    "    else:\n",
    "        c1est = rc2e\n",
    "        c2est = rc1e\n",
    "        T21est = rT22e\n",
    "        T22est = rT21e\n",
    "        \n",
    "    return c1est, c2est, T21est, T22est\n",
    "\n",
    "def min_lambda(data, c1, c2, T21, T22, lambdas = np.logspace(-7, 3, 51), agg_arr = np.array([1, 1,1/ob_weight,1/ob_weight])):\n",
    "    #Finds the lambda which minimizes the total error of the NLLS estimates for a given data set\n",
    "    p_true = np.array([c1, c2, T21, T22])\n",
    "    abs_error_list = []\n",
    "    estimates = []\n",
    "    for lam in lambdas:\n",
    "        est = np.array(estimate_parameters(data, lam))\n",
    "        estimates.append(est)\n",
    "        error = np.absolute(est-p_true)\n",
    "        abs_error_list.append(error.dot(agg_arr))\n",
    "    \n",
    "    min_error_idx = np.argmin(abs_error_list)\n",
    "    min_error_est = estimates[min_error_idx]\n",
    "    min_error_lambda = lambdas[min_error_idx]\n",
    "\n",
    "    return min_error_est, min_error_lambda\n",
    "\n",
    "def min_bias_estimates(c1, c2, T21, T22, n=100, lambdas = np.logspace(-7,3, 51), agg_arr = [1,1,0.01,0.01]):\n",
    "    #Returns aggregate bias, variance, and MSE of the estimates generated \n",
    "    #from using the lambda which minimizes bias for each noise realization\n",
    "    agg_arr = np.array(agg_arr)\n",
    "    underlying = G(tdata, c1, c2, T21, T22)\n",
    "    \n",
    "    bias = np.zeros(4)\n",
    "    variance = np.zeros(4)\n",
    "    MSE = np.zeros(4)\n",
    "    \n",
    "    min_bias_lambdas = []\n",
    "    min_bias_estimates = []\n",
    "    for i in range(n):\n",
    "        np.random.seed(i)\n",
    "        data = underlying + noise(noise_sd)\n",
    "        agg_bias_list = []\n",
    "        temp_estimates = []\n",
    "        for l in range(len(lambdas)):\n",
    "            lam = lambdas[l]\n",
    "            est = np.array(estimate_parameters(data, lam))\n",
    "            temp_estimates.append(est)\n",
    "            agg_bias_list.append(np.absolute(est-[c1,c2,T21,T22]).dot(agg_arr))\n",
    "        \n",
    "        min_bias_idx = np.argmin(agg_bias_list)\n",
    "        \n",
    "        min_bias_lambdas.append(lambdas[min_bias_idx])\n",
    "        min_bias_estimates.append(temp_estimates[min_bias_idx])\n",
    "    \n",
    "    min_bias_estimates = np.array(min_bias_estimates)\n",
    "    \n",
    "    c1est = min_bias_estimates[:,0]\n",
    "    c2est = min_bias_estimates[:,1]\n",
    "    T21est = min_bias_estimates[:,2]\n",
    "    T22est = min_bias_estimates[:,3]\n",
    "    \n",
    "    bias[0] = (c1est - [c1]*n).sum()/n\n",
    "    bias[1] = (c2est - [c2]*n).sum()/n\n",
    "    bias[2] = (T21est - [T21]*n).sum()/n\n",
    "    bias[3] = (T22est - [T22]*n).sum()/n\n",
    "    \n",
    "    variance[0] = statistics.pvariance(c1est)\n",
    "    variance[1] = statistics.pvariance(c2est)\n",
    "    variance[2] = statistics.pvariance(T21est)\n",
    "    variance[3] = statistics.pvariance(T22est)\n",
    "    \n",
    "    MSE = bias**2 + variance\n",
    "    \n",
    "    agg_bias = np.absolute(bias).dot(agg_arr)\n",
    "    agg_variance = variance.dot(agg_arr**2)\n",
    "    agg_MSE = MSE.dot(agg_arr**2)\n",
    "    \n",
    "    return agg_bias, agg_variance, agg_MSE, np.array(min_bias_lambdas)\n",
    "\n",
    "def J(t, con1, con2, tau1, tau2):\n",
    "    func1 = np.exp(-t/tau1)\n",
    "    func2 = np.exp(-t/tau2)\n",
    "    func3 = (con1*t)*np.exp(-t/tau1)/(tau1**2)\n",
    "    func4 = (con2*t)*np.exp(-t/tau2)/(tau2**2)\n",
    "    jacobian = np.stack((func1, func2, func3, func4), axis=-1)\n",
    "    \n",
    "    return jacobian\n",
    "\n",
    "def cov_matrix(con1, con2, tau1, tau2, noise_sd):\n",
    "    jacobians = J(tdata, con1, con2, tau1, tau2).transpose()@J(tdata, con1, con2, tau1, tau2)\n",
    "    covariance = np.linalg.inv(jacobians)\n",
    "    return noise_sd**2*covariance\n",
    "\n",
    "def estimate_NLLS_brain(data, lam=0, expt_knowledge = [0,0,0,0]):\n",
    "    SA = data[0]\n",
    "    data_tilde = np.append(data, lam*np.array(expt_knowledge))\n",
    "    (rc1e, rc2e, rT21e, rT22e), rcov = curve_fit(\n",
    "        G_tilde(lam, SA = SA), tdata_brain, data_tilde, bounds = ([0,0,0,0], [SA, SA, 40, 300]), p0=initial_brain, max_nfev = 4000)\n",
    "    \n",
    "    if rT22e > rT21e:\n",
    "        c1est = rc1e\n",
    "        c2est = rc2e\n",
    "        T21est = rT21e\n",
    "        T22est = rT22e\n",
    "    else:\n",
    "        c1est = rc2e\n",
    "        c2est = rc1e\n",
    "        T21est = rT22e\n",
    "        T22est = rT21e\n",
    "    #Assume c1 + c2 = 1\n",
    "    ci_sum = c1est + c2est\n",
    "    c1est = c1est/ci_sum\n",
    "    c2est = c2est/ci_sum\n",
    "        \n",
    "    return c1est, c2est, T21est, T22est\n",
    "\n",
    "def min_lambda_brain(data, c1, c2, T21, T22, lambdas = np.logspace(-7, 3, 51), agg_arr = np.array([1, 1,1/ob_weight,1/ob_weight])):\n",
    "    #Finds the lambda which minimizes the total error of the NLLS estimates for a given data set\n",
    "    p_true = np.array([c1, c2, T21, T22])\n",
    "    abs_error_list = []\n",
    "    estimates = []\n",
    "    for lam in lambdas:\n",
    "        est = np.array(estimate_NLLS_brain(data, lam=lam))\n",
    "        estimates.append(est)\n",
    "        error = np.absolute(est-p_true)\n",
    "        abs_error_list.append(error.dot(agg_arr))\n",
    "    \n",
    "    min_error_idx = np.argmin(abs_error_list)\n",
    "    min_error_est = estimates[min_error_idx]\n",
    "    min_error_lambda = lambdas[min_error_idx]\n",
    "\n",
    "    return min_error_est, min_error_lambda\n",
    "\n",
    "def min_bias_estimates_brain(c1, c2, T21, T22, datasets, lambdas = np.logspace(-7,3, 51), agg_arr = [1,1,0.01,0.01]):\n",
    "    #Returns lambdas giving minimum aggregate absolute error for datasets generated from parameters c1, c2, T21, T22\n",
    "    n_datasets = datasets.shape[0]\n",
    "    p_true = [c1, c2, T21, T22]\n",
    "    agg_arr = np.array(agg_arr)\n",
    "    underlying = G(tdata_brain, c1, c2, T21, T22)\n",
    "    \n",
    "    min_bias_lambdas = []\n",
    "    for i in range(n_datasets):\n",
    "        data = datasets[i,:]\n",
    "        agg_bias_list = []\n",
    "        temp_estimates = []\n",
    "        for l in range(len(lambdas)):\n",
    "            lam = lambdas[l]\n",
    "            est = np.array(estimate_NLLS_brain(data, lam=lam))\n",
    "            temp_estimates.append(est)\n",
    "            agg_bias_list.append(np.absolute(est-p_true).dot(agg_arr))\n",
    "        \n",
    "        min_bias_idx = np.argmin(agg_bias_list)\n",
    "        \n",
    "        min_bias_lambdas.append(lambdas[min_bias_idx])\n",
    "    \n",
    "    return np.array(min_bias_lambdas)"
   ]
  },
  {
   "cell_type": "markdown",
   "id": "01f4eff8-f1a1-49e9-94e1-6b957a9de20d",
   "metadata": {},
   "source": [
    "# Generate data sets"
   ]
  },
  {
   "cell_type": "code",
   "execution_count": 13,
   "id": "841c5023-5990-4251-8f70-2e4776d5fd71",
   "metadata": {
    "tags": []
   },
   "outputs": [
    {
     "name": "stderr",
     "output_type": "stream",
     "text": [
      "100%|██████████| 6/6 [00:00<00:00, 11.92it/s]\n",
      "100%|██████████| 6/6 [00:00<00:00, 11.75it/s]\n",
      "100%|██████████| 6/6 [00:00<00:00, 12.46it/s]\n",
      "100%|██████████| 6/6 [00:00<00:00, 10.70it/s]\n",
      "100%|██████████| 6/6 [00:00<00:00, 12.31it/s]\n",
      "100%|██████████| 6/6 [00:00<00:00, 14.32it/s]\n",
      "100%|██████████| 6/6 [00:00<00:00, 14.87it/s]\n",
      "100%|██████████| 6/6 [00:00<00:00, 11.30it/s]\n",
      "100%|██████████| 6/6 [00:00<00:00, 12.06it/s]\n",
      "100%|██████████| 6/6 [00:00<00:00, 15.76it/s]\n",
      "100%|██████████| 6/6 [00:00<00:00, 15.66it/s]\n",
      "100%|██████████| 6/6 [00:00<00:00, 16.35it/s]\n",
      "100%|██████████| 6/6 [00:00<00:00, 12.50it/s]\n",
      "100%|██████████| 6/6 [00:00<00:00,  6.45it/s]\n",
      "100%|██████████| 6/6 [00:00<00:00, 15.30it/s]\n",
      "100%|██████████| 6/6 [00:00<00:00, 16.24it/s]\n",
      "100%|██████████| 6/6 [00:00<00:00, 16.37it/s]\n",
      "100%|██████████| 6/6 [00:00<00:00, 16.77it/s]\n",
      "100%|██████████| 6/6 [00:00<00:00, 14.56it/s]\n",
      "100%|██████████| 6/6 [00:00<00:00,  7.77it/s]\n",
      "100%|██████████| 6/6 [00:00<00:00, 12.35it/s]\n",
      "100%|██████████| 6/6 [00:00<00:00, 14.30it/s]\n",
      "100%|██████████| 6/6 [00:00<00:00, 15.73it/s]\n",
      "100%|██████████| 6/6 [00:00<00:00, 16.46it/s]\n",
      "100%|██████████| 6/6 [00:00<00:00, 13.64it/s]\n"
     ]
    }
   ],
   "source": [
    "#For each true parameter value, generate n_datasets at a certain SNR defined above\n",
    "iterator = 1\n",
    "for SNR in SNR_set:\n",
    "    noise_sd = 1/SNR\n",
    "    with h5py.File('DNN_TrainingData//DNN Brain Datasets 1 norm SNR %s.hdf5'%SNR,'a') as f2:\n",
    "        for c1 in c1_set:\n",
    "            c2 = 1-c1\n",
    "            for iT21 in trange(T21_set.size):\n",
    "                T21 = T21_set[iT21]\n",
    "                for T22 in T22_set:\n",
    "                    noiseless_curve = G(tdata_brain, c1, c2, T21, T22)\n",
    "                    #Generate the datasets from the underlying curve\n",
    "                    datasets = []\n",
    "                    for i in range(n_datasets):\n",
    "                        np.random.seed(i)\n",
    "                        data = noiseless_curve + noise_brain(noise_sd)\n",
    "                        #For brain data, normalize so that the first point is at 1\n",
    "                        data = data/data[0]\n",
    "                        datasets.append(data)\n",
    "    \n",
    "                    datasets = np.array(datasets)\n",
    "                    #Save the data points from each dataset, denoted 'x'\n",
    "                    try:\n",
    "                        dset = f2.create_dataset('{},{},{},{},x'.format(c1,c2,T21,T22),data=datasets)\n",
    "                        #Save the optimal lambdas for each dataset, denoted 'y'\n",
    "                        min_error_lambdas = min_bias_estimates_brain(c1, c2, T21, T22, datasets)\n",
    "                        dset = f2.create_dataset('{},{},{},{},y'.format(c1,c2,T21,T22),data=min_error_lambdas)\n",
    "                        iterator += 1\n",
    "                    except:\n",
    "                        iterator += 1"
   ]
  },
  {
   "cell_type": "code",
   "execution_count": 15,
   "id": "f97b485c-e995-43f5-bf70-fac88bc8fdae",
   "metadata": {
    "collapsed": true,
    "jupyter": {
     "outputs_hidden": true,
     "source_hidden": true
    },
    "tags": []
   },
   "outputs": [
    {
     "ename": "ValueError",
     "evalue": "Unable to create dataset (name already exists)",
     "output_type": "error",
     "traceback": [
      "\u001b[1;31m---------------------------------------------------------------------------\u001b[0m",
      "\u001b[1;31mValueError\u001b[0m                                Traceback (most recent call last)",
      "\u001b[1;32mc:\\co\\NIA\\Regularization\\Neural Network Regularization.ipynb Cell 9\u001b[0m in \u001b[0;36m<cell line: 1>\u001b[1;34m()\u001b[0m\n\u001b[0;32m      <a href='vscode-notebook-cell:/c%3A/co/NIA/Regularization/Neural%20Network%20Regularization.ipynb#X11sZmlsZQ%3D%3D?line=5'>6</a>\u001b[0m         dset \u001b[39m=\u001b[39m f2[key]\n\u001b[0;32m      <a href='vscode-notebook-cell:/c%3A/co/NIA/Regularization/Neural%20Network%20Regularization.ipynb#X11sZmlsZQ%3D%3D?line=6'>7</a>\u001b[0m         dset_lbl \u001b[39m=\u001b[39m SNR_lbl \u001b[39m+\u001b[39m \u001b[39m'\u001b[39m\u001b[39m,\u001b[39m\u001b[39m'\u001b[39m \u001b[39m+\u001b[39m key\n\u001b[1;32m----> <a href='vscode-notebook-cell:/c%3A/co/NIA/Regularization/Neural%20Network%20Regularization.ipynb#X11sZmlsZQ%3D%3D?line=7'>8</a>\u001b[0m         f1\u001b[39m.\u001b[39;49mcreate_dataset(dset_lbl,data\u001b[39m=\u001b[39;49mdset)\n\u001b[0;32m      <a href='vscode-notebook-cell:/c%3A/co/NIA/Regularization/Neural%20Network%20Regularization.ipynb#X11sZmlsZQ%3D%3D?line=8'>9</a>\u001b[0m keys \u001b[39m=\u001b[39m \u001b[39mlist\u001b[39m(f1\u001b[39m.\u001b[39mkeys())\n\u001b[0;32m     <a href='vscode-notebook-cell:/c%3A/co/NIA/Regularization/Neural%20Network%20Regularization.ipynb#X11sZmlsZQ%3D%3D?line=9'>10</a>\u001b[0m \u001b[39mprint\u001b[39m(keys)\n",
      "File \u001b[1;32mc:\\co\\NIA\\.venv\\lib\\site-packages\\h5py\\_hl\\group.py:161\u001b[0m, in \u001b[0;36mGroup.create_dataset\u001b[1;34m(self, name, shape, dtype, data, **kwds)\u001b[0m\n\u001b[0;32m    158\u001b[0m         parent_path, name \u001b[39m=\u001b[39m name\u001b[39m.\u001b[39mrsplit(\u001b[39mb\u001b[39m\u001b[39m'\u001b[39m\u001b[39m/\u001b[39m\u001b[39m'\u001b[39m, \u001b[39m1\u001b[39m)\n\u001b[0;32m    159\u001b[0m         group \u001b[39m=\u001b[39m \u001b[39mself\u001b[39m\u001b[39m.\u001b[39mrequire_group(parent_path)\n\u001b[1;32m--> 161\u001b[0m dsid \u001b[39m=\u001b[39m dataset\u001b[39m.\u001b[39mmake_new_dset(group, shape, dtype, data, name, \u001b[39m*\u001b[39m\u001b[39m*\u001b[39mkwds)\n\u001b[0;32m    162\u001b[0m dset \u001b[39m=\u001b[39m dataset\u001b[39m.\u001b[39mDataset(dsid)\n\u001b[0;32m    163\u001b[0m \u001b[39mreturn\u001b[39;00m dset\n",
      "File \u001b[1;32mc:\\co\\NIA\\.venv\\lib\\site-packages\\h5py\\_hl\\dataset.py:156\u001b[0m, in \u001b[0;36mmake_new_dset\u001b[1;34m(parent, shape, dtype, data, name, chunks, compression, shuffle, fletcher32, maxshape, compression_opts, fillvalue, scaleoffset, track_times, external, track_order, dcpl, dapl, efile_prefix, virtual_prefix, allow_unknown_filter)\u001b[0m\n\u001b[0;32m    152\u001b[0m \u001b[39melse\u001b[39;00m:\n\u001b[0;32m    153\u001b[0m     sid \u001b[39m=\u001b[39m h5s\u001b[39m.\u001b[39mcreate_simple(shape, maxshape)\n\u001b[1;32m--> 156\u001b[0m dset_id \u001b[39m=\u001b[39m h5d\u001b[39m.\u001b[39;49mcreate(parent\u001b[39m.\u001b[39;49mid, name, tid, sid, dcpl\u001b[39m=\u001b[39;49mdcpl, dapl\u001b[39m=\u001b[39;49mdapl)\n\u001b[0;32m    158\u001b[0m \u001b[39mif\u001b[39;00m (data \u001b[39mis\u001b[39;00m \u001b[39mnot\u001b[39;00m \u001b[39mNone\u001b[39;00m) \u001b[39mand\u001b[39;00m (\u001b[39mnot\u001b[39;00m \u001b[39misinstance\u001b[39m(data, Empty)):\n\u001b[0;32m    159\u001b[0m     dset_id\u001b[39m.\u001b[39mwrite(h5s\u001b[39m.\u001b[39mALL, h5s\u001b[39m.\u001b[39mALL, data)\n",
      "File \u001b[1;32mh5py\\_objects.pyx:54\u001b[0m, in \u001b[0;36mh5py._objects.with_phil.wrapper\u001b[1;34m()\u001b[0m\n",
      "File \u001b[1;32mh5py\\_objects.pyx:55\u001b[0m, in \u001b[0;36mh5py._objects.with_phil.wrapper\u001b[1;34m()\u001b[0m\n",
      "File \u001b[1;32mh5py\\h5d.pyx:87\u001b[0m, in \u001b[0;36mh5py.h5d.create\u001b[1;34m()\u001b[0m\n",
      "\u001b[1;31mValueError\u001b[0m: Unable to create dataset (name already exists)"
     ]
    }
   ],
   "source": [
    "with h5py.File('DNN_TrainingData//DNN Brain Datasets 1 norm ALL SNR.hdf5','a') as f1:\n",
    "    SNR_lbl = '300'\n",
    "    with h5py.File('DNN_TrainingData//DNN Brain Datasets 1 norm SNR %s.hdf5'%(SNR_lbl),'a') as f2:\n",
    "        keys = list(f2.keys())\n",
    "        for key in keys:\n",
    "            dset = f2[key]\n",
    "            dset_lbl = SNR_lbl + ',' + key\n",
    "            f1.create_dataset(dset_lbl,data=dset)\n",
    "    keys = list(f1.keys())\n",
    "    print(keys)"
   ]
  },
  {
   "cell_type": "code",
   "execution_count": 17,
   "id": "5d059147-9dd1-483e-9479-cac2890b9f09",
   "metadata": {},
   "outputs": [
    {
     "name": "stdout",
     "output_type": "stream",
     "text": [
      "360\n"
     ]
    }
   ],
   "source": [
    "with h5py.File('DNN_TrainingData//DNN Brain Datasets 1 norm SNR 300.hdf5','a') as f2:\n",
    "    print(len(f2.keys()))"
   ]
  },
  {
   "cell_type": "code",
   "execution_count": 19,
   "id": "05acbc2a-6223-4c98-b0a1-ad640f236aba",
   "metadata": {},
   "outputs": [],
   "source": [
    "#Load in the data into x and y arrays\n",
    "x = []\n",
    "y = []\n",
    "with h5py.File('DNN_TrainingData//DNN Brain Datasets 1 norm ALL SNR.hdf5','a') as f2:\n",
    "    keys = list(f2.keys())\n",
    "    n_param_sets = int(len(keys)/2)\n",
    "    i = 0\n",
    "    for key in keys:\n",
    "        if i%2 == 0:\n",
    "            x.append(np.array(f2[key]))\n",
    "        if i%2 == 1:\n",
    "            y.append(np.array(f2[key]))\n",
    "        i += 1\n",
    "#Reshape the arrays, given many different sets of true parameter values\n",
    "x = np.reshape(np.array(x), (n_param_sets*n_datasets,n_elements_brain))\n",
    "y = np.reshape(y, n_param_sets*n_datasets)\n",
    "y_log = np.log10(y)"
   ]
  },
  {
   "cell_type": "markdown",
   "id": "f404bda6-7ca8-4de6-9196-11be644cd9fd",
   "metadata": {},
   "source": [
    "# Compile and train the DNN"
   ]
  },
  {
   "cell_type": "code",
   "execution_count": 20,
   "id": "3bf98099-0d00-42c1-84dc-1232fbe180c2",
   "metadata": {},
   "outputs": [
    {
     "name": "stdout",
     "output_type": "stream",
     "text": [
      "Initial training loss: 10.353979110717773\n",
      "Initial testing loss: 10.327858924865723\n"
     ]
    },
    {
     "name": "stderr",
     "output_type": "stream",
     "text": [
      "100%|██████████| 25/25 [17:40<00:00, 42.41s/it]\n"
     ]
    }
   ],
   "source": [
    "#Set dropout fraction\n",
    "dd = 0.2\n",
    "#Split data randomly into training and testing sets\n",
    "x_train, x_test, y_train, y_test = train_test_split(x, y_log, test_size = 0.2)\n",
    "\n",
    "n_features = x_train.shape[1]\n",
    "\n",
    "#Initialize the model\n",
    "K.clear_session()\n",
    "model = Sequential()\n",
    "model.add(Dense(75, kernel_initializer='he_normal', input_shape=(n_features,)))\n",
    "model.add(BatchNormalization())\n",
    "model.add(Activation('sigmoid'))\n",
    "#Output of first layer\n",
    "model.add(Dropout(dd))\n",
    "model.add(Dense(50, kernel_initializer='he_normal'))\n",
    "model.add(BatchNormalization())\n",
    "model.add(Activation('sigmoid'))\n",
    "model.add(Dropout(dd))\n",
    "model.add(Dense(25, kernel_initializer='he_normal'))\n",
    "model.add(BatchNormalization())\n",
    "model.add(Activation('sigmoid'))\n",
    "model.add(Dropout(dd))\n",
    "model.add(Dense(12, kernel_initializer='he_normal'))\n",
    "model.add(BatchNormalization())\n",
    "model.add(Activation('sigmoid'))\n",
    "model.add(Dropout(dd))\n",
    "model.add(Dense(6, kernel_initializer='he_normal'))\n",
    "model.add(BatchNormalization())\n",
    "model.add(Activation('sigmoid')) #Test removing\n",
    "model.add(Dropout(dd))\n",
    "model.add(Dense(75, kernel_initializer='he_normal', input_shape=(n_features,)))\n",
    "model.add(BatchNormalization())\n",
    "model.add(Activation('sigmoid'))\n",
    "model.add(Dense(1))\n",
    "\n",
    "#Use an adaptive learning rate which decreases when loss plateaus\n",
    "reduce_lr = tf.keras.callbacks.ReduceLROnPlateau(monitor='loss', factor=0.2, patience=2, min_lr=0.0000001)\n",
    "#Define different optimizers\n",
    "opt_SGD = tf.keras.optimizers.SGD(learning_rate=0.0001)\n",
    "opt_Adam = tf.keras.optimizers.Adam(learning_rate=0.0001, beta_1=0.9, beta_2=0.999, epsilon=1e-07, amsgrad=False)\n",
    "#Compile the model with one of the above optimizers and MSE as the loss function\n",
    "model.compile(optimizer=opt_Adam, loss='mse')\n",
    "#Calculate initial training and testing errors\n",
    "init_train_loss = model.evaluate(x_train, y_train, verbose=0)\n",
    "init_error = model.evaluate(x_test, y_test, verbose=0)\n",
    "print('Initial training loss:', init_train_loss)\n",
    "print('Initial testing loss:', init_error)\n",
    "\n",
    "#Manually iterate through epochs and train the network\n",
    "epochs = 25\n",
    "#Define what you would like to use for validation\n",
    "x_val = x_test\n",
    "y_val = y_test\n",
    "train_loss = np.zeros(epochs)\n",
    "val_loss = np.zeros(epochs)\n",
    "\n",
    "for epoch in trange(epochs):\n",
    "    train_loss[epoch] = np.mean((model(x_train)[:,0]-y_train)**2)\n",
    "    val_loss[epoch] = np.mean((model(x_val)[:,0]-y_val)**2)\n",
    "\n",
    "    model.fit(x_train, y_train, verbose=0, callbacks=[reduce_lr])"
   ]
  },
  {
   "cell_type": "code",
   "execution_count": 21,
   "id": "bd0efa3a-2623-470f-8f29-dde1d47065b7",
   "metadata": {},
   "outputs": [
    {
     "data": {
      "image/png": "[encoded data removed]",
      "text/plain": [
       "<Figure size 432x288 with 1 Axes>"
      ]
     },
     "metadata": {
      "needs_background": "light"
     },
     "output_type": "display_data"
    }
   ],
   "source": [
    "plt.title('Learning Curves')\n",
    "plt.xlabel('Epoch')\n",
    "plt.ylabel('MSE')\n",
    "plt.plot(train_loss, label='train')\n",
    "plt.plot(val_loss, label='val')\n",
    "plt.legend()\n",
    "plt.show()"
   ]
  },
  {
   "cell_type": "code",
   "execution_count": 22,
   "id": "a56cd063-9dbb-4e03-9282-b15e05fd9932",
   "metadata": {},
   "outputs": [
    {
     "data": {
      "image/png": "[encoded data removed]",
      "text/plain": [
       "<Figure size 432x288 with 1 Axes>"
      ]
     },
     "metadata": {
      "needs_background": "light"
     },
     "output_type": "display_data"
    }
   ],
   "source": [
    "plt.hist(y_train, bins=25, label = 'Optimal lambdas')\n",
    "plt.hist((np.array(model(x_train))), bins=25, label = 'DNN lambdas')\n",
    "plt.title('Optimal lambdas')\n",
    "plt.xlabel('log(Lambda)')\n",
    "plt.legend()\n",
    "plt.show()"
   ]
  },
  {
   "cell_type": "code",
   "execution_count": 23,
   "id": "6baad2d1-65c0-422c-963b-d2e061b8ed1a",
   "metadata": {},
   "outputs": [
    {
     "data": {
      "image/png": "[encoded data removed]",
      "text/plain": [
       "<Figure size 432x288 with 1 Axes>"
      ]
     },
     "metadata": {
      "needs_background": "light"
     },
     "output_type": "display_data"
    }
   ],
   "source": [
    "plt.hist(np.array(model(x_train)[:,0])-(y_train), bins=25)\n",
    "plt.title('Relative error in lambda, training')\n",
    "plt.xlabel('log10(Error in Lambda)')\n",
    "plt.show()"
   ]
  },
  {
   "cell_type": "code",
   "execution_count": 24,
   "id": "cb131335-68fd-4348-9ae3-dbb52cf43e57",
   "metadata": {},
   "outputs": [],
   "source": [
    "model.save('DNN Networks//brain reg model 1 norm ALL SNR.h5')"
   ]
  },
  {
   "cell_type": "code",
   "execution_count": 25,
   "id": "9fd1d88b-dc3b-43ed-a0dd-9afa4a1d305a",
   "metadata": {
    "collapsed": true,
    "jupyter": {
     "outputs_hidden": true,
     "source_hidden": true
    },
    "tags": []
   },
   "outputs": [
    {
     "ename": "NameError",
     "evalue": "name 'lin_comb_hist' is not defined",
     "output_type": "error",
     "traceback": [
      "\u001b[1;31m---------------------------------------------------------------------------\u001b[0m",
      "\u001b[1;31mNameError\u001b[0m                                 Traceback (most recent call last)",
      "\u001b[1;32mc:\\co\\NIA\\Regularization\\Neural Network Regularization.ipynb Cell 18\u001b[0m in \u001b[0;36m<cell line: 4>\u001b[1;34m()\u001b[0m\n\u001b[0;32m      <a href='vscode-notebook-cell:/c%3A/co/NIA/Regularization/Neural%20Network%20Regularization.ipynb#X23sZmlsZQ%3D%3D?line=1'>2</a>\u001b[0m weights \u001b[39m=\u001b[39m weights\u001b[39m/\u001b[39mweights\u001b[39m.\u001b[39msum()\n\u001b[0;32m      <a href='vscode-notebook-cell:/c%3A/co/NIA/Regularization/Neural%20Network%20Regularization.ipynb#X23sZmlsZQ%3D%3D?line=2'>3</a>\u001b[0m plt\u001b[39m.\u001b[39mtitle(\u001b[39m'\u001b[39m\u001b[39mLast layer histogram, random linear combination\u001b[39m\u001b[39m'\u001b[39m)\n\u001b[1;32m----> <a href='vscode-notebook-cell:/c%3A/co/NIA/Regularization/Neural%20Network%20Regularization.ipynb#X23sZmlsZQ%3D%3D?line=3'>4</a>\u001b[0m plt\u001b[39m.\u001b[39mhist(lin_comb_hist, bins \u001b[39m=\u001b[39m \u001b[39m25\u001b[39m)\n\u001b[0;32m      <a href='vscode-notebook-cell:/c%3A/co/NIA/Regularization/Neural%20Network%20Regularization.ipynb#X23sZmlsZQ%3D%3D?line=4'>5</a>\u001b[0m plt\u001b[39m.\u001b[39mylabel(\u001b[39m'\u001b[39m\u001b[39mCounts\u001b[39m\u001b[39m'\u001b[39m)\n\u001b[0;32m      <a href='vscode-notebook-cell:/c%3A/co/NIA/Regularization/Neural%20Network%20Regularization.ipynb#X23sZmlsZQ%3D%3D?line=5'>6</a>\u001b[0m plt\u001b[39m.\u001b[39mxlabel(\u001b[39m'\u001b[39m\u001b[39mWeights: \u001b[39m\u001b[39m%s\u001b[39;00m\u001b[39m'\u001b[39m\u001b[39m%\u001b[39mweights\u001b[39m.\u001b[39mround(\u001b[39m2\u001b[39m))\n",
      "\u001b[1;31mNameError\u001b[0m: name 'lin_comb_hist' is not defined"
     ]
    },
    {
     "data": {
      "image/png": "[encoded data removed]",
      "text/plain": [
       "<Figure size 432x288 with 1 Axes>"
      ]
     },
     "metadata": {
      "needs_background": "light"
     },
     "output_type": "display_data"
    }
   ],
   "source": [
    "weights = np.random.uniform(0,1,6)\n",
    "weights = weights/weights.sum()\n",
    "plt.title('Last layer histogram, random linear combination')\n",
    "plt.hist(lin_comb_hist, bins = 25)\n",
    "plt.ylabel('Counts')\n",
    "plt.xlabel('Weights: %s'%weights.round(2))\n",
    "plt.show()"
   ]
  },
  {
   "cell_type": "markdown",
   "id": "b2e53b6c-c6ae-438b-a5d0-1efa191b436f",
   "metadata": {},
   "source": [
    "# Use a DNN to obtain a PDF of lambda"
   ]
  },
  {
   "cell_type": "markdown",
   "id": "60288395-f0fd-442b-9180-c6f1297da4cb",
   "metadata": {},
   "source": [
    "## Define the loss function and validation method"
   ]
  },
  {
   "cell_type": "code",
   "execution_count": 26,
   "id": "2175dce4-0c07-4c3e-8ae4-9bdea600859b",
   "metadata": {},
   "outputs": [],
   "source": [
    "def bin_data(y, n_bins, bins):\n",
    "    #Use the binning scheme to create a set of one-hot arrays, v\n",
    "    y_idx = np.digitize(y, bins)\n",
    "    v = np.zeros((y_idx.size, n_bins))\n",
    "    v[np.arange(y_idx.size),y_idx] = 1\n",
    "\n",
    "    return v\n",
    "    \n",
    "def loss_fun(v_true, p_pred):\n",
    "    #Given: v_true, the true one-hot vector, and p_pred, the predictions from the DNN, caluculate cross entropy for each data point\n",
    "    cross_entropy = np.multiply(v_true,np.log10(p_pred)) + np.multiply((1-v_true),(np.log10(1-p_pred)))\n",
    "    loss = -np.sum(cross_entropy,axis=-1)\n",
    "    return loss\n",
    "\n",
    "def q(idxs, bins):\n",
    "    #Takes an array of indices and converts it back to the binning scheme\n",
    "    output = []\n",
    "    for idx in idxs:\n",
    "        if idx>0:\n",
    "            bin_center = (bins[idx]+bins[idx-1])/2\n",
    "        else:\n",
    "            bin_center = bins[idx]\n",
    "        output.append(bin_center)\n",
    "    return np.array(output)\n",
    "\n",
    "def MAP_lam(p_pred, bins):\n",
    "    #Calculates maximum a posteriori lambda output from the DNN for each data point\n",
    "    #Outputs the log10 of lambda\n",
    "    max_idx = np.argmax(p_pred, axis=-1)\n",
    "    log_lambdas = q(max_idx, bins)\n",
    "    return log_lambdas\n",
    "\n",
    "def MMSE_lam(p_pred, bins):\n",
    "    #Calculates a weighted average of the predicted lambdas\n",
    "    #Outputs the log10 of lambda\n",
    "    return np.array(p_pred)@bins"
   ]
  },
  {
   "cell_type": "code",
   "execution_count": 333,
   "id": "81d47ffe-1d40-4194-a740-566b6f62c8d6",
   "metadata": {},
   "outputs": [],
   "source": [
    "test = np.linspace(-8, 2.9, 1000)\n",
    "#v = bin_data(test, n_bins, bins)\n",
    "max_vals_vector = []\n",
    "for t in test:\n",
    "    v = bin_data(t, n_bins, bins)\n",
    "    max_idx = np.argmax(v, axis=-1)\n",
    "    max_val = q(max_idx, bins)# - 1/8\n",
    "    max_vals_vector.append(max_val)"
   ]
  },
  {
   "cell_type": "markdown",
   "id": "6875786c-dd19-4b85-baf1-a149e40a393d",
   "metadata": {},
   "source": [
    "## Load in the data sets and convert the solutions to binned one-hot arrays"
   ]
  },
  {
   "cell_type": "code",
   "execution_count": 27,
   "id": "8b1d9c2a-3a44-45cf-adc5-84b46741c0ae",
   "metadata": {},
   "outputs": [
    {
     "ename": "FileNotFoundError",
     "evalue": "[Errno 2] Unable to create file (unable to open file: name = 'DNN Datasets//DNN Datasets SNR 10.hdf5', errno = 2, error message = 'No such file or directory', flags = 15, o_flags = 502)",
     "output_type": "error",
     "traceback": [
      "\u001b[1;31m---------------------------------------------------------------------------\u001b[0m",
      "\u001b[1;31mFileNotFoundError\u001b[0m                         Traceback (most recent call last)",
      "File \u001b[1;32mc:\\co\\NIA\\.venv\\lib\\site-packages\\h5py\\_hl\\files.py:238\u001b[0m, in \u001b[0;36mmake_fid\u001b[1;34m(name, mode, userblock_size, fapl, fcpl, swmr)\u001b[0m\n\u001b[0;32m    237\u001b[0m \u001b[39mtry\u001b[39;00m:\n\u001b[1;32m--> 238\u001b[0m     fid \u001b[39m=\u001b[39m h5f\u001b[39m.\u001b[39;49mopen(name, h5f\u001b[39m.\u001b[39;49mACC_RDWR, fapl\u001b[39m=\u001b[39;49mfapl)\n\u001b[0;32m    239\u001b[0m \u001b[39m# Not all drivers raise FileNotFoundError (commented those that do not)\u001b[39;00m\n",
      "File \u001b[1;32mh5py\\_objects.pyx:54\u001b[0m, in \u001b[0;36mh5py._objects.with_phil.wrapper\u001b[1;34m()\u001b[0m\n",
      "File \u001b[1;32mh5py\\_objects.pyx:55\u001b[0m, in \u001b[0;36mh5py._objects.with_phil.wrapper\u001b[1;34m()\u001b[0m\n",
      "File \u001b[1;32mh5py\\h5f.pyx:106\u001b[0m, in \u001b[0;36mh5py.h5f.open\u001b[1;34m()\u001b[0m\n",
      "\u001b[1;31mFileNotFoundError\u001b[0m: [Errno 2] Unable to open file (unable to open file: name = 'DNN Datasets//DNN Datasets SNR 10.hdf5', errno = 2, error message = 'No such file or directory', flags = 1, o_flags = 2)",
      "\nDuring handling of the above exception, another exception occurred:\n",
      "\u001b[1;31mFileNotFoundError\u001b[0m                         Traceback (most recent call last)",
      "\u001b[1;32mc:\\co\\NIA\\Regularization\\Neural Network Regularization.ipynb Cell 24\u001b[0m in \u001b[0;36m<cell line: 5>\u001b[1;34m()\u001b[0m\n\u001b[0;32m      <a href='vscode-notebook-cell:/c%3A/co/NIA/Regularization/Neural%20Network%20Regularization.ipynb#X32sZmlsZQ%3D%3D?line=2'>3</a>\u001b[0m n_bins \u001b[39m=\u001b[39m \u001b[39m45\u001b[39m\n\u001b[0;32m      <a href='vscode-notebook-cell:/c%3A/co/NIA/Regularization/Neural%20Network%20Regularization.ipynb#X32sZmlsZQ%3D%3D?line=3'>4</a>\u001b[0m bins \u001b[39m=\u001b[39m np\u001b[39m.\u001b[39mlinspace(bin_min,bin_max,n_bins)\n\u001b[1;32m----> <a href='vscode-notebook-cell:/c%3A/co/NIA/Regularization/Neural%20Network%20Regularization.ipynb#X32sZmlsZQ%3D%3D?line=4'>5</a>\u001b[0m \u001b[39mwith\u001b[39;00m h5py\u001b[39m.\u001b[39;49mFile(\u001b[39m'\u001b[39;49m\u001b[39mDNN Datasets//DNN Datasets SNR 10.hdf5\u001b[39;49m\u001b[39m'\u001b[39;49m,\u001b[39m'\u001b[39;49m\u001b[39ma\u001b[39;49m\u001b[39m'\u001b[39;49m) \u001b[39mas\u001b[39;00m f2:\n\u001b[0;32m      <a href='vscode-notebook-cell:/c%3A/co/NIA/Regularization/Neural%20Network%20Regularization.ipynb#X32sZmlsZQ%3D%3D?line=5'>6</a>\u001b[0m     keys \u001b[39m=\u001b[39m \u001b[39mlist\u001b[39m(f2\u001b[39m.\u001b[39mkeys())\n\u001b[0;32m      <a href='vscode-notebook-cell:/c%3A/co/NIA/Regularization/Neural%20Network%20Regularization.ipynb#X32sZmlsZQ%3D%3D?line=6'>7</a>\u001b[0m     n_param_sets \u001b[39m=\u001b[39m \u001b[39mint\u001b[39m(\u001b[39mlen\u001b[39m(keys)\u001b[39m/\u001b[39m\u001b[39m2\u001b[39m)\n",
      "File \u001b[1;32mc:\\co\\NIA\\.venv\\lib\\site-packages\\h5py\\_hl\\files.py:533\u001b[0m, in \u001b[0;36mFile.__init__\u001b[1;34m(self, name, mode, driver, libver, userblock_size, swmr, rdcc_nslots, rdcc_nbytes, rdcc_w0, track_order, fs_strategy, fs_persist, fs_threshold, fs_page_size, page_buf_size, min_meta_keep, min_raw_keep, locking, alignment_threshold, alignment_interval, **kwds)\u001b[0m\n\u001b[0;32m    525\u001b[0m     fapl \u001b[39m=\u001b[39m make_fapl(driver, libver, rdcc_nslots, rdcc_nbytes, rdcc_w0,\n\u001b[0;32m    526\u001b[0m                      locking, page_buf_size, min_meta_keep, min_raw_keep,\n\u001b[0;32m    527\u001b[0m                      alignment_threshold\u001b[39m=\u001b[39malignment_threshold,\n\u001b[0;32m    528\u001b[0m                      alignment_interval\u001b[39m=\u001b[39malignment_interval,\n\u001b[0;32m    529\u001b[0m                      \u001b[39m*\u001b[39m\u001b[39m*\u001b[39mkwds)\n\u001b[0;32m    530\u001b[0m     fcpl \u001b[39m=\u001b[39m make_fcpl(track_order\u001b[39m=\u001b[39mtrack_order, fs_strategy\u001b[39m=\u001b[39mfs_strategy,\n\u001b[0;32m    531\u001b[0m                      fs_persist\u001b[39m=\u001b[39mfs_persist, fs_threshold\u001b[39m=\u001b[39mfs_threshold,\n\u001b[0;32m    532\u001b[0m                      fs_page_size\u001b[39m=\u001b[39mfs_page_size)\n\u001b[1;32m--> 533\u001b[0m     fid \u001b[39m=\u001b[39m make_fid(name, mode, userblock_size, fapl, fcpl, swmr\u001b[39m=\u001b[39;49mswmr)\n\u001b[0;32m    535\u001b[0m \u001b[39mif\u001b[39;00m \u001b[39misinstance\u001b[39m(libver, \u001b[39mtuple\u001b[39m):\n\u001b[0;32m    536\u001b[0m     \u001b[39mself\u001b[39m\u001b[39m.\u001b[39m_libver \u001b[39m=\u001b[39m libver\n",
      "File \u001b[1;32mc:\\co\\NIA\\.venv\\lib\\site-packages\\h5py\\_hl\\files.py:252\u001b[0m, in \u001b[0;36mmake_fid\u001b[1;34m(name, mode, userblock_size, fapl, fcpl, swmr)\u001b[0m\n\u001b[0;32m    239\u001b[0m     \u001b[39m# Not all drivers raise FileNotFoundError (commented those that do not)\u001b[39;00m\n\u001b[0;32m    240\u001b[0m     \u001b[39mexcept\u001b[39;00m \u001b[39mFileNotFoundError\u001b[39;00m \u001b[39mif\u001b[39;00m fapl\u001b[39m.\u001b[39mget_driver() \u001b[39min\u001b[39;00m (\n\u001b[0;32m    241\u001b[0m         h5fd\u001b[39m.\u001b[39mSEC2,\n\u001b[0;32m    242\u001b[0m         h5fd\u001b[39m.\u001b[39mDIRECT \u001b[39mif\u001b[39;00m direct_vfd \u001b[39melse\u001b[39;00m \u001b[39m-\u001b[39m\u001b[39m1\u001b[39m,\n\u001b[1;32m   (...)\u001b[0m\n\u001b[0;32m    250\u001b[0m         h5fd\u001b[39m.\u001b[39mROS3D \u001b[39mif\u001b[39;00m ros3 \u001b[39melse\u001b[39;00m \u001b[39m-\u001b[39m\u001b[39m1\u001b[39m,\n\u001b[0;32m    251\u001b[0m     ) \u001b[39melse\u001b[39;00m \u001b[39mOSError\u001b[39;00m:\n\u001b[1;32m--> 252\u001b[0m         fid \u001b[39m=\u001b[39m h5f\u001b[39m.\u001b[39;49mcreate(name, h5f\u001b[39m.\u001b[39;49mACC_EXCL, fapl\u001b[39m=\u001b[39;49mfapl, fcpl\u001b[39m=\u001b[39;49mfcpl)\n\u001b[0;32m    253\u001b[0m \u001b[39melse\u001b[39;00m:\n\u001b[0;32m    254\u001b[0m     \u001b[39mraise\u001b[39;00m \u001b[39mValueError\u001b[39;00m(\u001b[39m\"\u001b[39m\u001b[39mInvalid mode; must be one of r, r+, w, w-, x, a\u001b[39m\u001b[39m\"\u001b[39m)\n",
      "File \u001b[1;32mh5py\\_objects.pyx:54\u001b[0m, in \u001b[0;36mh5py._objects.with_phil.wrapper\u001b[1;34m()\u001b[0m\n",
      "File \u001b[1;32mh5py\\_objects.pyx:55\u001b[0m, in \u001b[0;36mh5py._objects.with_phil.wrapper\u001b[1;34m()\u001b[0m\n",
      "File \u001b[1;32mh5py\\h5f.pyx:126\u001b[0m, in \u001b[0;36mh5py.h5f.create\u001b[1;34m()\u001b[0m\n",
      "\u001b[1;31mFileNotFoundError\u001b[0m: [Errno 2] Unable to create file (unable to open file: name = 'DNN Datasets//DNN Datasets SNR 10.hdf5', errno = 2, error message = 'No such file or directory', flags = 15, o_flags = 502)"
     ]
    }
   ],
   "source": [
    "bin_min = -8\n",
    "bin_max = 3\n",
    "n_bins = 45\n",
    "bins = np.linspace(bin_min,bin_max,n_bins)\n",
    "with h5py.File('DNN Datasets//DNN Datasets SNR 10.hdf5','a') as f2:\n",
    "    keys = list(f2.keys())\n",
    "    n_param_sets = int(len(keys)/2)\n",
    "    x_pdf = []\n",
    "    y_pdf = []\n",
    "    i = 0\n",
    "    #Load in the data and the optimal lambdas\n",
    "    for key in keys:\n",
    "        dset = np.array(f2[key])\n",
    "        if i%2 == 0:\n",
    "            x_pdf.append(dset)\n",
    "        if i%2 == 1:\n",
    "            y_pdf.append(dset)\n",
    "        i += 1\n",
    "    #Reshape the data    \n",
    "    x_pdf = np.array(x_pdf)\n",
    "    x_pdf = np.reshape(x_pdf, (n_param_sets*n_datasets,n_elements))\n",
    "    #Reshape the optimal lambdas\n",
    "    y_pdf = np.log10(np.reshape(y_pdf, n_param_sets*n_datasets))\n",
    "    \n",
    "    #Split data randomly into training and testing sets\n",
    "    x_train, x_test, y_train, y_test = train_test_split(x_pdf, y_pdf, test_size = 0.2)\n",
    "\n",
    "    #Use the binning scheme to create a set of one-hot arrays, v_train and v_test\n",
    "    #y_idx_train = np.digitize(y_train, bins)    \n",
    "    #v_train = np.zeros((y_idx_train.size, n_bins))\n",
    "    #v_train[np.arange(y_idx_train.size),y_idx_train] = 1\n",
    "\n",
    "    #y_idx_test = np.digitize(y_test, bins)    \n",
    "    #v_test = np.zeros((y_idx_test.size, n_bins))\n",
    "    #v_test[np.arange(y_idx_test.size),y_idx_test] = 1\n",
    "    \n",
    "    v_train = bin_data(y_train, n_bins, bins)\n",
    "    v_test = bin_data(y_test, n_bins, bins)"
   ]
  },
  {
   "cell_type": "markdown",
   "id": "45e5a1ba-d5c1-43c3-9e50-dd07c359adb4",
   "metadata": {},
   "source": [
    "## Compile the DNN"
   ]
  },
  {
   "cell_type": "code",
   "execution_count": 41,
   "id": "fa815ef4-9ed8-4e13-9ffa-9120c33535b4",
   "metadata": {},
   "outputs": [],
   "source": [
    "#Set dropout fraction\n",
    "dd = 0.2\n",
    "\n",
    "n_features = x_train.shape[1]\n",
    "\n",
    "#Initialize the model\n",
    "K.clear_session()\n",
    "model_pdf = Sequential()\n",
    "model_pdf.add(Dense(75, kernel_initializer='he_normal', input_shape=(n_features,)))\n",
    "#model_pdf.add(BatchNormalization())\n",
    "model_pdf.add(Activation('sigmoid'))\n",
    "#Output of first layer\n",
    "model_pdf.add(Dropout(dd))\n",
    "model_pdf.add(Dense(50, kernel_initializer='he_normal'))\n",
    "#model_pdf.add(BatchNormalization())\n",
    "model_pdf.add(Activation('sigmoid'))\n",
    "model_pdf.add(Dropout(dd))\n",
    "model_pdf.add(Dense(25, kernel_initializer='he_normal'))\n",
    "#model_pdf.add(BatchNormalization())\n",
    "model_pdf.add(Activation('sigmoid'))\n",
    "model_pdf.add(Dropout(dd))\n",
    "model_pdf.add(Dense(n_bins))\n",
    "model_pdf.add(Activation('softmax'))\n",
    "\n",
    "model_pdf.compile(optimizer='adam', loss=\"binary_crossentropy\")"
   ]
  },
  {
   "cell_type": "markdown",
   "id": "4918356f-2c44-4f07-a728-4667625338a6",
   "metadata": {},
   "source": [
    "## Train the network"
   ]
  },
  {
   "cell_type": "code",
   "execution_count": 42,
   "id": "7de307a3-f560-4148-a98c-b305877caca8",
   "metadata": {},
   "outputs": [
    {
     "name": "stderr",
     "output_type": "stream",
     "text": [
      "  0%|                                                                                          | 0/250 [00:00<?, ?it/s]"
     ]
    },
    {
     "name": "stdout",
     "output_type": "stream",
     "text": [
      "Initial training loss: 0.10436653345823288\n",
      "Initial validation loss: 0.10421758890151978\n"
     ]
    },
    {
     "name": "stderr",
     "output_type": "stream",
     "text": [
      "100%|████████████████████████████████████████████████████████████████████████████████| 250/250 [12:10<00:00,  2.92s/it]\n"
     ]
    }
   ],
   "source": [
    "## Manually iterate through epochs and train the network\n",
    "init_train_loss = model_pdf.evaluate(x_train, v_train, verbose=0)\n",
    "init_val_loss = model_pdf.evaluate(x_test, v_test, verbose=0)\n",
    "print('Initial training loss:', init_train_loss)\n",
    "print('Initial validation loss:', init_val_loss)\n",
    "\n",
    "epochs = 250\n",
    "train_loss = np.zeros(epochs+1)\n",
    "train_loss[0] = init_train_loss\n",
    "val_loss = np.zeros(epochs+1)\n",
    "val_loss[0] = init_val_loss\n",
    "for epoch in trange(epochs):\n",
    "    train_loss[epoch+1] = model_pdf.evaluate(x_train, v_train, verbose=0)\n",
    "    val_loss[epoch+1] = model_pdf.evaluate(x_test, v_test, verbose=0)\n",
    "    model_pdf.fit(x_train, v_train, verbose=0)"
   ]
  },
  {
   "cell_type": "code",
   "execution_count": 43,
   "id": "4898a1b7-7e70-4afe-9c93-67eaa1b94e91",
   "metadata": {},
   "outputs": [
    {
     "data": {
      "image/png": "[encoded data removed]",
      "text/plain": [
       "<Figure size 432x288 with 1 Axes>"
      ]
     },
     "metadata": {
      "needs_background": "light"
     },
     "output_type": "display_data"
    }
   ],
   "source": [
    "plt.title('Learning Curves')\n",
    "plt.xlabel('Epoch')\n",
    "plt.ylabel('Cross entropy')\n",
    "plt.plot(train_loss, label='train')\n",
    "plt.plot(val_loss, label='val')\n",
    "plt.legend()\n",
    "plt.show()"
   ]
  },
  {
   "cell_type": "code",
   "execution_count": 44,
   "id": "6bbdb922-df3d-4c1a-8bdc-ba87644817f2",
   "metadata": {},
   "outputs": [
    {
     "name": "stdout",
     "output_type": "stream",
     "text": [
      "[-5.6]\n"
     ]
    }
   ],
   "source": [
    "test_idx = 100\n",
    "test_output = model_pdf(x_test[test_idx:test_idx+1])\n",
    "test_true = y_test[test_idx:test_idx+1]\n",
    "print(test_true)"
   ]
  },
  {
   "cell_type": "code",
   "execution_count": 45,
   "id": "540b2cf1-d870-462a-8ecd-0246650b0ac1",
   "metadata": {},
   "outputs": [
    {
     "data": {
      "image/png": "[encoded data removed]",
      "text/plain": [
       "<Figure size 432x288 with 1 Axes>"
      ]
     },
     "metadata": {
      "needs_background": "light"
     },
     "output_type": "display_data"
    }
   ],
   "source": [
    "plt.plot(tdata, x_test[test_idx])\n",
    "plt.title('Example Noise Realization, SNR = 10')\n",
    "plt.xlabel('TE')\n",
    "plt.show()"
   ]
  },
  {
   "cell_type": "code",
   "execution_count": 47,
   "id": "9a32b770-fdda-45e6-867a-5dffa0c75de8",
   "metadata": {},
   "outputs": [
    {
     "data": {
      "image/png": "[encoded data removed]",
      "text/plain": [
       "<Figure size 432x288 with 1 Axes>"
      ]
     },
     "metadata": {
      "needs_background": "light"
     },
     "output_type": "display_data"
    }
   ],
   "source": [
    "plt.plot(bins, test_output[0,:])\n",
    "plt.title('Example DNN PDF of lambda')\n",
    "plt.text(test_true, 0.1, 'x True lambda = %s'%test_true)\n",
    "plt.xlabel('log10(lambda)')\n",
    "plt.ylabel('Probability')\n",
    "plt.show()"
   ]
  },
  {
   "cell_type": "code",
   "execution_count": 48,
   "id": "38bf1f45-8e67-49fc-bd5f-920d10dcd049",
   "metadata": {},
   "outputs": [
    {
     "data": {
      "image/png": "[encoded data removed]",
      "text/plain": [
       "<Figure size 360x504 with 2 Axes>"
      ]
     },
     "metadata": {
      "needs_background": "light"
     },
     "output_type": "display_data"
    }
   ],
   "source": [
    "output_pdf = model_pdf(x_train)\n",
    "fig, (ax1, ax2) = plt.subplots(2,figsize = (5,7),tight_layout=True)\n",
    "fig.suptitle('DNN vs Optimal lambda histograms')\n",
    "\n",
    "ax1.hist(MMSE_lam(output_pdf, bins), bins=25)\n",
    "ax1.set_title('MMSE DNN lambdas')\n",
    "ax1.set_xlabel('Log10(lambda)')\n",
    "ax1.set_ylabel('Counts')\n",
    "\n",
    "ax2.hist(MMSE_lam(v_train, bins), bins=25)\n",
    "ax2.set_title('MMSE Optimal lambdas')\n",
    "ax2.set_xlabel('Log10(lambda)')\n",
    "ax2.set_ylabel('Counts')\n",
    "\n",
    "plt.show()"
   ]
  },
  {
   "cell_type": "code",
   "execution_count": 316,
   "id": "0e00da54-c0a6-456b-87fb-0b9d52daf071",
   "metadata": {},
   "outputs": [
    {
     "data": {
      "image/png": "[encoded data removed]",
      "text/plain": [
       "<Figure size 360x504 with 2 Axes>"
      ]
     },
     "metadata": {
      "needs_background": "light"
     },
     "output_type": "display_data"
    }
   ],
   "source": [
    "output_pdf = model_pdf(x_test)\n",
    "fig, (ax1, ax2) = plt.subplots(2,figsize = (5,7),tight_layout=True)\n",
    "fig.suptitle('DNN vs Optimal lambda histograms')\n",
    "\n",
    "ax1.hist(MAP_lam(output_pdf, bins), bins=25)\n",
    "ax1.set_title('MAP DNN lambdas')\n",
    "ax1.set_xlabel('Log10(lambda)')\n",
    "ax1.set_ylabel('Counts')\n",
    "\n",
    "ax2.hist(MAP_lam(v_test, bins), bins=25)\n",
    "ax2.set_title('MAP Optimal lambdas')\n",
    "ax2.set_xlabel('Log10(lambda)')\n",
    "ax2.set_ylabel('Counts')\n",
    "\n",
    "plt.show()"
   ]
  },
  {
   "cell_type": "code",
   "execution_count": 354,
   "id": "929900eb-0207-48f1-ae27-e48056184f6c",
   "metadata": {},
   "outputs": [
    {
     "data": {
      "image/png": "[encoded data removed]",
      "text/plain": [
       "<Figure size 432x288 with 1 Axes>"
      ]
     },
     "metadata": {
      "needs_background": "light"
     },
     "output_type": "display_data"
    }
   ],
   "source": [
    "output_lams = MAP_lam(model_pdf(x_test),bins)\n",
    "error = (output_lams-y_test)\n",
    "plt.hist(error, bins=100)\n",
    "plt.show()"
   ]
  },
  {
   "cell_type": "code",
   "execution_count": 49,
   "id": "c65e079f-f01f-432d-9742-c43c92e7563d",
   "metadata": {},
   "outputs": [],
   "source": [
    "model_pdf.save('DNN Networks//lam pdf reg_model 45 bins dropout 3-2.h5')"
   ]
  },
  {
   "cell_type": "markdown",
   "id": "7ae62f63-5c96-43fe-a730-5b848061c60c",
   "metadata": {},
   "source": [
    "## Iterating through bin sizes, save models to compare performance"
   ]
  },
  {
   "cell_type": "code",
   "execution_count": 7,
   "id": "df0ab2d4-f774-4394-8b67-64aa341a2e52",
   "metadata": {
    "jupyter": {
     "source_hidden": true
    },
    "tags": []
   },
   "outputs": [],
   "source": [
    "bin_min = -8\n",
    "bin_max = 3\n",
    "with h5py.File('DNN Datasets//DNN Datasets SNR 10.hdf5','a') as f2:\n",
    "    keys = list(f2.keys())\n",
    "    n_param_sets = int(len(keys)/2)\n",
    "    x_pdf = []\n",
    "    y_pdf = []\n",
    "    i = 0\n",
    "    #Load in the data and the optimal lambdas\n",
    "    for key in keys:\n",
    "        dset = np.array(f2[key])\n",
    "        if i%2 == 0:\n",
    "            x_pdf.append(dset)\n",
    "        if i%2 == 1:\n",
    "            y_pdf.append(dset)\n",
    "        i += 1\n",
    "    #Reshape the data    \n",
    "    x_pdf = np.array(x_pdf)\n",
    "    x_pdf = np.reshape(x_pdf, (n_param_sets*n_datasets,n_elements))\n",
    "    #Reshape the optimal lambdas\n",
    "    y_pdf = np.log10(np.reshape(y_pdf, n_param_sets*n_datasets))\n",
    "    \n",
    "    #Split data randomly into training and testing sets\n",
    "    x_train, x_test, y_train, y_test = train_test_split(x_pdf, y_pdf, test_size = 0.2)"
   ]
  },
  {
   "cell_type": "code",
   "execution_count": 11,
   "id": "e28ca76a-8533-4dfe-a47a-64e77dd8f93f",
   "metadata": {
    "jupyter": {
     "source_hidden": true
    },
    "tags": []
   },
   "outputs": [
    {
     "name": "stderr",
     "output_type": "stream",
     "text": [
      "100%|████████████████████████████████████████████████████████████████████████████████| 500/500 [34:19<00:00,  4.12s/it]\n",
      "100%|████████████████████████████████████████████████████████████████████████████████| 500/500 [34:42<00:00,  4.17s/it]\n",
      "100%|████████████████████████████████████████████████████████████████████████████████| 500/500 [36:51<00:00,  4.42s/it]\n",
      "100%|████████████████████████████████████████████████████████████████████████████████| 500/500 [35:05<00:00,  4.21s/it]\n",
      "100%|████████████████████████████████████████████████████████████████████████████████| 500/500 [37:26<00:00,  4.49s/it]\n",
      "100%|████████████████████████████████████████████████████████████████████████████████| 500/500 [32:32<00:00,  3.90s/it]\n",
      "100%|████████████████████████████████████████████████████████████████████████████████| 500/500 [32:30<00:00,  3.90s/it]\n",
      "100%|████████████████████████████████████████████████████████████████████████████████| 500/500 [33:51<00:00,  4.06s/it]\n",
      "100%|████████████████████████████████████████████████████████████████████████████████| 500/500 [34:45<00:00,  4.17s/it]\n"
     ]
    }
   ],
   "source": [
    "bin_sizes = [12, 23, 34, 45, 56, 67, 78, 89, 100]\n",
    "epochs = 500\n",
    "train_loss_each_bin = np.zeros((len(bin_sizes),epochs+1))\n",
    "val_loss_each_bin = np.zeros((len(bin_sizes),epochs+1))\n",
    "for i_bin in range(len(bin_sizes)):\n",
    "    bin_num = bin_sizes[i_bin]\n",
    "    #Set the number of bins and define the solution vector v\n",
    "    bins = np.linspace(bin_min, bin_max, bin_num)\n",
    "    v_train = bin_data(y_train, bin_num, bins)\n",
    "    v_test = bin_data(y_test, bin_num, bins)\n",
    "    \n",
    "    #Compile the network with the correct number of outputs\n",
    "    #Set dropout fraction\n",
    "    dd = 0.2\n",
    "\n",
    "    n_features = x_train.shape[1]\n",
    "\n",
    "    #Initialize the model\n",
    "    K.clear_session()\n",
    "    model_pdf = Sequential()\n",
    "    model_pdf.add(Dense(75, kernel_initializer='he_normal', input_shape=(n_features,)))\n",
    "    model_pdf.add(BatchNormalization())\n",
    "    model_pdf.add(Activation('sigmoid'))\n",
    "    #Output of first layer\n",
    "    #model_pdf.add(Dropout(dd))\n",
    "    model_pdf.add(Dense(50, kernel_initializer='he_normal'))\n",
    "    model_pdf.add(BatchNormalization())\n",
    "    model_pdf.add(Activation('sigmoid'))\n",
    "    #model_pdf.add(Dropout(dd))\n",
    "    model_pdf.add(Dense(25, kernel_initializer='he_normal'))\n",
    "    model_pdf.add(BatchNormalization())\n",
    "    model_pdf.add(Activation('sigmoid'))\n",
    "    #model_pdf.add(Dropout(dd))\n",
    "    model_pdf.add(Dense(bin_num))\n",
    "    model_pdf.add(Activation('softmax'))\n",
    "\n",
    "    model_pdf.compile(optimizer='adam', loss=\"binary_crossentropy\")\n",
    "    \n",
    "    #Manually iterate through epochs and train the network\n",
    "    init_train_loss = model_pdf.evaluate(x_train, v_train, verbose=0)\n",
    "    init_val_loss = model_pdf.evaluate(x_test, v_test, verbose=0)\n",
    "\n",
    "    train_loss_each_bin[i_bin,0] = init_train_loss\n",
    "    val_loss_each_bin[i_bin,0] = init_val_loss\n",
    "    for epoch in trange(epochs):\n",
    "        train_loss_each_bin[i_bin,epoch+1] = model_pdf.evaluate(x_train, v_train, verbose=0)\n",
    "        val_loss_each_bin[i_bin,epoch+1] = model_pdf.evaluate(x_test, v_test, verbose=0)\n",
    "        model_pdf.fit(x_train, v_train, verbose=0)\n",
    "        \n",
    "    model_pdf.save('DNN Networks//lam pdf reg_model %s bins 2-22.h5'%bin_num)"
   ]
  }
 ],
 "metadata": {
  "kernelspec": {
   "display_name": "Python 3.9.4 ('.venv': venv)",
   "language": "python",
   "name": "python3"
  },
  "language_info": {
   "codemirror_mode": {
    "name": "ipython",
    "version": 3
   },
   "file_extension": ".py",
   "mimetype": "text/x-python",
   "name": "python",
   "nbconvert_exporter": "python",
   "pygments_lexer": "ipython3",
   "version": "3.9.4"
  },
  "vscode": {
   "interpreter": {
    "hash": "b198fbbcfab0e745ebe2d4427d75efcc0bf102a681278e853c612d284d98e86b"
   }
  }
 },
 "nbformat": 4,
 "nbformat_minor": 5
}
