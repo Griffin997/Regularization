{
 "cells": [
  {
   "cell_type": "markdown",
   "id": "3a71c9a0-e2e4-4097-8c7b-00e9ae44ac52",
   "metadata": {},
   "source": [
    "# Code Description\n",
    "This code contains many functions for testing regularization methods across parameter sets and noise realizations\n",
    "\n",
    "Functions use a standard indexing to refer to our 4 parameters: 0 index is c1, 1 is c2, 2 is T21, and 3 is T22\n",
    "Regularization is applied through use of scipy.optimize.curve_fit in the estimate_parameters function\n",
    "\n",
    "Application of NLLS and regularization across parameters and noise realization can be seen below\n",
    "\n",
    "Deep neural network (DNN) regularization models are generated using the Neural Network Regularization file\n",
    "\n",
    "In general, you will be adjusting SNR below and changing the parameter sets under \"Use prior distributions of c1, c2, T21, and T22, then evaluating how effective our different estimation methods are\n",
    "\n",
    "Numerical method to calculate biased CRLB is currently under progress, so work with Dr. Balan to get that sorted\n",
    "\n",
    "This code was primarily written by Ryan Neff (RN) and then furthur developed by Griffin Hampton (GSH)\n",
    "\n",
    "This is the code that is intended to be used during the manuscript that RN is writing"
   ]
  },
  {
   "cell_type": "markdown",
   "id": "10825879-d5bd-4518-aacc-7cb6bb05b719",
   "metadata": {
    "tags": []
   },
   "source": [
    "# Import Packages"
   ]
  },
  {
   "cell_type": "code",
   "execution_count": 18,
   "id": "9c497587-fadd-4c07-a58d-2a2e7b07ae0f",
   "metadata": {},
   "outputs": [],
   "source": [
    "#%matplotlib widget\n",
    "import h5py\n",
    "import scipy\n",
    "import scipy.io\n",
    "from scipy.optimize import curve_fit\n",
    "from scipy.optimize import least_squares\n",
    "import matplotlib as mpl\n",
    "import matplotlib.pyplot as plt\n",
    "import numpy as np\n",
    "import statistics\n",
    "import math\n",
    "import time\n",
    "import itertools\n",
    "from tqdm import trange\n",
    "from keras.models import load_model\n",
    "from datetime import date\n",
    "import pickle"
   ]
  },
  {
   "cell_type": "markdown",
   "id": "61de66d5",
   "metadata": {},
   "source": [
    "# Options"
   ]
  },
  {
   "cell_type": "code",
   "execution_count": 19,
   "id": "ecc152d7",
   "metadata": {},
   "outputs": [],
   "source": [
    "oracle_opt = False\n",
    "minMSE_opt = False\n",
    "GCV_opt = True\n",
    "load_fig2 = False\n",
    "\n",
    "figure1_opt = False"
   ]
  },
  {
   "cell_type": "markdown",
   "id": "d13eafc1-2088-4b7f-ab2d-c46672cf820c",
   "metadata": {},
   "source": [
    "# Define Parameters"
   ]
  },
  {
   "cell_type": "code",
   "execution_count": 20,
   "id": "6abc6fd2-c1c1-4a97-88ce-e04fa4850d8e",
   "metadata": {},
   "outputs": [],
   "source": [
    "SNR = 100\n",
    "n_elements = 128\n",
    "c1 = 0.5\n",
    "c2 = 1 - c1\n",
    "T21 = 50\n",
    "T22 = 100\n",
    "#Weighting term to ensure the c_i and T2_i are roughly the same magnitude\n",
    "ob_weight = 100\n",
    "Nth = 5\n",
    "n_noise_realizations = 500 #500\n",
    "\n",
    "num_multistarts = 10\n",
    "\n",
    "upper_bound = [2,2,500,1500] #Set upper bound on parameters c1, c2, T21, T22, respectively\n",
    "initial = (0.5, 0.5, 250, 750) #Set initial guesses\n",
    "\n",
    "tdata = np.linspace(0, 635, n_elements)\n",
    "lambdas = np.append(0, np.logspace(-7,3,51))\n",
    "\n",
    "explore_corners = False\n",
    "\n",
    "###################### Parameters Loop Through\n",
    "c1_set = [0.0, 0.2, 0.4, 0.5, 0.6, 0.8, 1.0]\n",
    "c2_set = 1-np.array(c1_set)\n",
    "T21_set = [10,20,30,40,50]\n",
    "T22_set = [70,90,110,130,150]\n",
    "\n",
    "##################### Important for Naming\n",
    "date = date.today()\n",
    "day = date.strftime('%d')\n",
    "month = date.strftime('%B')[0:3]\n",
    "year = date.strftime('%y')\n",
    "\n",
    "##################### Stored Dictionary\n",
    "runInfo = {\n",
    "    \"SNR\": SNR,\n",
    "    \"c1\": c1_set,\n",
    "    \"c2\": c2_set,\n",
    "    \"T21\": T21_set,\n",
    "    \"T22\": T22_set,\n",
    "    'lambdas': lambdas,\n",
    "    'times': tdata,\n",
    "    'noise_realizations': n_noise_realizations\n",
    "}"
   ]
  },
  {
   "cell_type": "markdown",
   "id": "08b1a4dd-d5c4-4dd5-a7ce-eca4abf0c5d4",
   "metadata": {},
   "source": [
    "# Define General Functions"
   ]
  },
  {
   "cell_type": "code",
   "execution_count": 21,
   "id": "bc70ee46-56a5-40b2-bce8-8babbe4c6b95",
   "metadata": {},
   "outputs": [],
   "source": [
    "########################### Simple Functions ##############################\n",
    "# Two parameter definition of s(t) with regularization parameter lambda\n",
    "def G(t, con_1, con_2, tau_1, tau_2): \n",
    "    function = con_1*np.exp(-t/tau_1) + con_2*np.exp(-t/tau_2)\n",
    "    return function\n",
    "\n",
    "def G_tilde(lam, SA = 1):\n",
    "    #SA defines the signal amplitude, defaults to 1 for simulated data\n",
    "    def Gt_lam(t, con1, con2, tau1, tau2):\n",
    "        return np.append(G(t, con1, con2, tau1, tau2), [lam*con1/SA, lam*con2/SA, lam*tau1/ob_weight, lam*tau2/ob_weight])\n",
    "    return Gt_lam\n",
    "\n",
    "def G_tilde_linear(T21, T22, lam):\n",
    "    def G_linear(t, c1, c2):\n",
    "        return np.append(G(t, c1, c2, T21, T22), [lam*c1, lam*c2])\n",
    "    return G_linear\n",
    "\n",
    "def add_noise(signal, SNR):\n",
    "    #Given a noiseless signal, adds noise at given SNR and returns a noisy signal\n",
    "    signal_length = len(signal)\n",
    "    noise_sd = signal[0]/SNR\n",
    "    noisy_signal = signal + np.random.normal(0, noise_sd, signal_length)\n",
    "    return noisy_signal\n",
    "\n",
    "########################### Parameter Estimation Functions ########################\n",
    "\n",
    "def estimate_parameters(data, lam, n_initials = num_multistarts, post_normalize = True):\n",
    "    #Pick n_initials random initial conditions within the bound, and choose the one giving the lowest model-data mismatch residual\n",
    "    random_residuals = []\n",
    "    estimates = np.zeros((4,n_initials))\n",
    "    for i in range(n_initials):\n",
    "        ic1 = np.random.uniform(0,1)\n",
    "        ic2 = 1-ic1\n",
    "        iT21 = np.random.uniform(0,upper_bound[2])\n",
    "        iT22 = np.random.uniform(0,upper_bound[3])\n",
    "        p0 = [ic1,ic2,iT21,iT22]\n",
    "        \n",
    "        data_tilde = np.append(data, [0,0,0,0])  \n",
    "    \n",
    "        (c1e, c2e, T21e, T22e), cov = curve_fit(G_tilde(lam), tdata, data_tilde, bounds = (0, upper_bound), p0=p0, max_nfev = 4000)\n",
    "        \n",
    "        #Require T22>T21\n",
    "        if T22e > T21e:\n",
    "            estimates[:,i] = [c1e, c2e, T21e, T22e]\n",
    "            estimated_model = G(tdata, c1e, c2e, T21e, T22e)\n",
    "        else:\n",
    "            estimates[:,i] = [c2e, c1e, T22e, T21e]\n",
    "            estimated_model = G(tdata, c2e, c1e, T22e, T21e)\n",
    "        \n",
    "        residual = np.sum((estimated_model - data)**2)\n",
    "        random_residuals.append(residual)\n",
    "    min_residual_idx = np.argmin(random_residuals)\n",
    "    min_residual_estimates = estimates[:,min_residual_idx]\n",
    "\n",
    "    if post_normalize:\n",
    "        ci_sum = min_residual_estimates[0] + min_residual_estimates[1]\n",
    "        min_residual_estimates[0] = min_residual_estimates[0]/ci_sum\n",
    "        min_residual_estimates[1] = min_residual_estimates[1]/ci_sum\n",
    "\n",
    "        \n",
    "    return min_residual_estimates\n",
    "\n",
    "\n",
    "### Unused as of 11/2/22\n",
    "def min_bias_estimates(c1, c2, T21, T22, n=100, lambdas = np.logspace(-7,3, 51), aggregate=True, agg_arr = [1,1,0.01,0.01]):\n",
    "    #Returns aggregate bias, variance, and MSE of the estimates generated \n",
    "    #from using the lambda which minimizes bias for each noise realization\n",
    "    agg_arr = np.array(agg_arr)\n",
    "    noiseless_curve = G(tdata, c1, c2, T21, T22)\n",
    "    \n",
    "    bias = np.zeros(4)\n",
    "    variance = np.zeros(4)\n",
    "    MSE = np.zeros(4)\n",
    "    \n",
    "    min_bias_lambdas = []\n",
    "    min_bias_est = []\n",
    "    for i in range(n):\n",
    "        np.random.seed(i)\n",
    "        data = add_noise(noiseless_curve, SNR)\n",
    "        agg_bias_list = []\n",
    "        temp_estimates = []\n",
    "        for l in range(len(lambdas)):\n",
    "            lam = lambdas[l]\n",
    "            est = estimate_parameters(data, lam)\n",
    "            temp_estimates.append(est)\n",
    "            agg_bias_list.append(np.absolute(est-[c1,c2,T21,T22]).dot(agg_arr)) #L1 error\n",
    "        \n",
    "        min_bias_idx = np.argmin(agg_bias_list)\n",
    "        \n",
    "        min_bias_lambdas.append(lambdas[min_bias_idx])\n",
    "        min_bias_est.append(temp_estimates[min_bias_idx])\n",
    "    \n",
    "    min_bias_est = np.array(min_bias_est)\n",
    "    \n",
    "    c1est = min_bias_est[:,0]\n",
    "    c2est = min_bias_est[:,1]\n",
    "    T21est = min_bias_est[:,2]\n",
    "    T22est = min_bias_est[:,3]\n",
    "    \n",
    "    bias[0] = (c1est - [c1]*n).sum()/n #GSH - check this - why are we multiplying by n - does this do something to the size - what about broadcasting?\n",
    "    bias[1] = (c2est - [c2]*n).sum()/n\n",
    "    bias[2] = (T21est - [T21]*n).sum()/n\n",
    "    bias[3] = (T22est - [T22]*n).sum()/n\n",
    "    \n",
    "    variance[0] = np.var(c1est)\n",
    "    variance[1] = np.var(c2est)\n",
    "    variance[2] = np.var(T21est)\n",
    "    variance[3] = np.var(T22est)\n",
    "    \n",
    "    MSE = bias**2 + variance\n",
    "    \n",
    "    agg_bias = np.absolute(bias).dot(agg_arr)\n",
    "    agg_variance = variance.dot(agg_arr**2)\n",
    "    agg_MSE = MSE.dot(agg_arr**2)\n",
    "    \n",
    "    if aggregate==True:\n",
    "        return agg_bias, agg_variance, agg_MSE, min_bias_lambdas\n",
    "    else:\n",
    "        return bias, variance, MSE, min_bias_lambdas\n",
    "\n",
    "def J(t, con1, con2, tau1, tau2):\n",
    "    func1 = np.exp(-t/tau1)\n",
    "    func2 = np.exp(-t/tau2)\n",
    "    func3 = (con1*t)*np.exp(-t/tau1)/(tau1**2)\n",
    "    func4 = (con2*t)*np.exp(-t/tau2)/(tau2**2)\n",
    "    jacobian = np.stack((func1, func2, func3, func4), axis=-1)\n",
    "    \n",
    "    return jacobian\n",
    "\n",
    "def cov_matrix(con1, con2, tau1, tau2, SNR):\n",
    "    noise_sd = 1/SNR\n",
    "    jacobians = J(tdata, con1, con2, tau1, tau2).transpose()@J(tdata, con1, con2, tau1, tau2) \n",
    "    covariance = np.linalg.inv(jacobians)\n",
    "    return (noise_sd**2)*covariance\n",
    "\n",
    "def get_min_MSE_array(c1_set, c2_set, T21_set, T22_set, lambdas, nReps = n_noise_realizations, verbose=False):\n",
    "    #Given a prior set of true parameters and a parameter of interest, \n",
    "    #find lambdas which give lowest MSE for each combination of parameters\n",
    "    n_c1 = len(c1_set)\n",
    "    n_c2 = len(c2_set)\n",
    "    n_T21 = len(T21_set)\n",
    "    n_T22 = len(T22_set)\n",
    "    n_params = n_c1*n_c2*n_T21*n_T22\n",
    "    n_lambdas = len(lambdas)\n",
    "    \n",
    "    min_MSE_array = np.zeros((n_c1,n_c2,n_T21,n_T22,4))\n",
    "    unreg_MSE_array = np.zeros((n_c1,n_c2,n_T21,n_T22,4))\n",
    "    improvement_array = np.zeros((n_c1,n_c2,n_T21,n_T22,4))\n",
    "    min_lambda_array = np.zeros((n_c1,n_c2,n_T21,n_T22,4))\n",
    "    iterator = 1\n",
    "    start_time = time.time()\n",
    "    for ic1 in range(n_c1):\n",
    "        c1 = c1_set[ic1]\n",
    "        for ic2 in range(n_c2):\n",
    "            c2 = c2_set[ic2]\n",
    "            for iT21 in range(n_T21):\n",
    "                T21 = T21_set[iT21]\n",
    "                for iT22 in range(n_T22):\n",
    "                    T22 = T22_set[iT22]\n",
    "                    if verbose:\n",
    "                        print(f'Calculating combo {iterator} of {n_params}: {np.round(iterator/n_params*100,2)}%: ' +  \n",
    "                                f'Projected time left {(time.time()-start_time)/iterator*(n_params-iterator)/60}min')\n",
    "                        iterator+=1\n",
    "                    p_true = [c1, c2, T21, T22]\n",
    "                    noiseless_curve = G(tdata, c1, c2, T21, T22)\n",
    "                    estimates = np.zeros((nReps,n_lambdas,4))\n",
    "                    for i in trange(nReps):\n",
    "                        for l in range(n_lambdas):\n",
    "                            data = add_noise(noiseless_curve, SNR)\n",
    "                            est = estimate_parameters(data, lam=lambdas[l])\n",
    "                            estimates[i,l,:] = est\n",
    "                    \n",
    "                    bias = (estimates - p_true).sum(axis=0)/nReps\n",
    "                    assert(np.allclose(np.mean(estimates - p_true, axis = 0),bias))\n",
    "                    variance = np.var(estimates, axis=0)\n",
    "                    MSE = variance + bias**2\n",
    "                    \n",
    "                    min_MSE = np.min(MSE, axis=0)\n",
    "                    min_MSE_array[ic1,ic2,iT21,iT22,:] = min_MSE\n",
    "                    \n",
    "                    unreg_MSE = MSE[0,:]\n",
    "                    unreg_MSE_array[ic1,ic2,iT21,iT22,:] = unreg_MSE\n",
    "                    \n",
    "                    improvement = (unreg_MSE - min_MSE)/unreg_MSE\n",
    "                    improvement_array[ic1,ic2,iT21,iT22,:] = improvement\n",
    "                    \n",
    "                    min_MSE_lambda_indx = np.argmin(MSE,axis=0)\n",
    "                    min_MSE_lambdas = lambdas[min_MSE_lambda_indx]\n",
    "                    min_lambda_array[ic1,ic2,iT21,iT22,:] = min_MSE_lambdas\n",
    "                    \n",
    "    return min_MSE_array, min_lambda_array, improvement_array, unreg_MSE_array\n",
    "\n",
    "def get_lam_selection_MSE_array(c1_set, c2_set, T21_set, T22_set, lambdas, lam_select, \n",
    "                                noise_iterations=n_noise_realizations, verbose=False, aggregate=False, safety_factor=2, model = None):\n",
    "    #Lam_select is either 'oracle', 'DP', 'GCV', or 'DNN'\n",
    "    #Defines which method is used to select lambda\n",
    "    n_c1 = len(c1_set)\n",
    "    n_c2 = len(c2_set)\n",
    "    n_T21 = len(T21_set)\n",
    "    n_T22 = len(T22_set)\n",
    "    n_params = n_c1*n_c2*n_T21*n_T22\n",
    "    n_lambdas = len(lambdas)\n",
    "    \n",
    "    MSE_array = np.zeros((n_c1,n_c2,n_T21,n_T22,4))\n",
    "    imp_bias_array = np.zeros((n_c1,n_c2,n_T21,n_T22,4))\n",
    "    imp_var_array = np.zeros((n_c1,n_c2,n_T21,n_T22,4))\n",
    "    unreg_MSE_array = np.zeros((n_c1,n_c2,n_T21,n_T22,4))\n",
    "    improvement_array = np.zeros((n_c1,n_c2,n_T21,n_T22,4))\n",
    "    lambda_array = np.zeros((n_c1,n_c2,n_T21,n_T22,4))\n",
    "    iterator = 1\n",
    "    print(\"Starting lam selection with \" + lam_select)\n",
    "    start_time = time.time()\n",
    "    for ic1 in range(n_c1):\n",
    "        c1 = c1_set[ic1]\n",
    "        for ic2 in range(n_c2):\n",
    "            c2 = c2_set[ic2]\n",
    "            for iT21 in range(n_T21):\n",
    "                T21 = T21_set[iT21]\n",
    "                for iT22 in range(n_T22):\n",
    "                    T22 = T22_set[iT22]\n",
    "                    if verbose:\n",
    "                        print(f'{lam_select}: Calculating combo {iterator} of {n_params}: {np.round(iterator/n_params*100,2)}%: ' +  \n",
    "                                f'Projected time left {(time.time()-start_time)/iterator*(n_params-iterator)/60}min')\n",
    "                        iterator+=1\n",
    "                    p_true = [c1, c2, T21, T22]\n",
    "                    noiseless_curve = G(tdata, c1, c2, T21, T22)\n",
    "                    estimates = np.zeros((noise_iterations,4))\n",
    "                    estimates_unreg = np.zeros((noise_iterations,4))\n",
    "                    for i in trange(noise_iterations):\n",
    "                        data = add_noise(noiseless_curve, SNR)\n",
    "                        if lam_select == 'oracle':\n",
    "                            lam = oracle_lambda(c1, c2, T21, T22, data, lambdas, aggregate=aggregate)[1]\n",
    "                        elif lam_select == 'DP':\n",
    "                            lam = DP_lambda(data, safety_factor, lambdas)\n",
    "                        elif lam_select == 'GCV':\n",
    "                            try:\n",
    "                                lam = GCV_lambda(data, lambdas)\n",
    "                            except:\n",
    "                                lam=0\n",
    "                        elif lam_select == 'DNN':\n",
    "                            lam = DNN_lambda(data, model)\n",
    "                        lambda_array[ic1,ic2,iT21,iT22,:] = lam\n",
    "                        est = estimate_parameters(data, lam)\n",
    "                        est_unreg = estimate_parameters(data, 0)\n",
    "                        estimates[i,:] = est\n",
    "                        estimates_unreg[i,:] = est_unreg\n",
    "                    \n",
    "                    bias = (estimates - p_true).sum(axis=0)/noise_iterations\n",
    "                    variance = np.var(estimates, axis=0)\n",
    "                    MSE = variance + bias**2\n",
    "                    MSE_array[ic1,ic2,iT21,iT22,:] = MSE\n",
    "                    \n",
    "                    unreg_bias = (estimates_unreg - p_true).sum(axis=0)/noise_iterations\n",
    "                    unreg_variance = np.var(estimates_unreg, axis=0)\n",
    "                    unreg_MSE = unreg_variance + unreg_bias**2\n",
    "                    unreg_MSE_array[ic1,ic2,iT21,iT22,:] = unreg_MSE\n",
    "                    \n",
    "                    improvement = (unreg_MSE - MSE)/unreg_MSE\n",
    "                    improvement_array[ic1,ic2,iT21,iT22,:] = improvement\n",
    "\n",
    "                    imp_bias_array[ic1,ic2,iT21,iT22,:] = (unreg_bias - bias)/unreg_bias\n",
    "                    imp_var_array[ic1,ic2,iT21,iT22,:] = (unreg_variance - variance)/unreg_variance\n",
    "                    \n",
    "    return MSE_array, lambda_array, improvement_array, imp_bias_array, imp_var_array\n",
    "\n",
    "################## Lambda Selection Methods ########################\n",
    "\n",
    "def DP_lambda(data, safety_factor, disclambdas, fSNR = SNR):\n",
    "    #Returns a value of lambda given the data set, a safety factor, the SD of the noise, and a set of lambdas to iterate over\n",
    "    discrepancy_lambda = 0\n",
    "    noise_sd = data[0]/fSNR\n",
    "    error_norm = len(tdata)*(noise_sd)**2\n",
    "    residual_norm = []\n",
    "    for lam in disclambdas:\n",
    "        est = estimate_parameters(data,lam)\n",
    "\n",
    "        residual_norm.append(((G(tdata, est[0], est[1], est[2], est[3])-data)**2).sum())\n",
    "        \n",
    "        for i in range(len(residual_norm)):\n",
    "            if residual_norm[i] < safety_factor*error_norm:\n",
    "                discrepancy_lambda = disclambdas[i]\n",
    "            else:\n",
    "                break\n",
    "    return discrepancy_lambda\n",
    "\n",
    "def oracle_lambda(c1, c2, T21, T22, data, lambdas, aggregate=False, wgt = np.array([1,1,1/ob_weight,1/ob_weight])):\n",
    "    n_lambdas = len(lambdas)\n",
    "    estimates = np.zeros((n_lambdas,4))\n",
    "    p_true = [c1, c2, T21, T22]\n",
    "    for l in range(n_lambdas):\n",
    "        lam = lambdas[l]\n",
    "        estimates[l,:] = estimate_parameters(data, lam)\n",
    "    error = np.absolute(estimates - p_true)\n",
    "    \n",
    "    if aggregate == True:\n",
    "        #If aggregating, returns the estimates which minimize the weighted sum of the error along with a single lambda\n",
    "        agg_error = np.sum((error*wgt)**2, axis = 1) #error@wgt - L2 vs L1 error\n",
    "        assert(np.size(agg_error) == np.size(lambdas))\n",
    "        min_agg_idx = np.argmin(agg_error)\n",
    "        min_agg_est = estimates[min_agg_idx,:]\n",
    "        min_lambda = lambdas[min_agg_idx]\n",
    "        return min_agg_est, min_lambda\n",
    "    if aggregate == False:\n",
    "        #If not aggregating, returns the estimates for each parameter which minimize their respective errors\n",
    "        #Also returns 4 lambdas, one for each of the 4 parameters\n",
    "        min_idx_array = np.argmin(error,axis=0)\n",
    "        min_est_array = estimates[min_idx_array,:]\n",
    "        min_lambdas_array = lambdas[min_idx_array]\n",
    "        return min_est_array, min_lambdas_array\n",
    "\n",
    "def get_GCV(GCV_data, GCV_lam):\n",
    "    GCVd_tilde = np.append(GCV_data, [0,0,0,0])\n",
    "\n",
    "    (rc1e, rc2e, rT21e, rT22e), rcov = curve_fit(G_tilde(GCV_lam), tdata, GCVd_tilde, bounds = (0, upper_bound), p0=initial, max_nfev = 4000)\n",
    "    \n",
    "    #Require that T22>T21\n",
    "    if rT22e > rT21e:\n",
    "        c1GCV = rc1e\n",
    "        c2GCV = rc2e\n",
    "        T21GCV = rT21e\n",
    "        T22GCV = rT22e\n",
    "    else:\n",
    "        c1GCV = rc2e\n",
    "        c2GCV = rc1e\n",
    "        T21GCV = rT22e\n",
    "        T22GCV = rT21e\n",
    "    wmat = np.array([[1,0,0,0],[0,1,0,0],[0,0,0.01,0],[0,0,0,0.01]])\n",
    "    \n",
    "    GCVjacobian = J(tdata, c1GCV, c2GCV, T21GCV, T22GCV)\n",
    "    GCV_residual = ((G(tdata, c1GCV, c2GCV, T21GCV, T22GCV)-GCV_data)**2).sum()\n",
    "    C_GCV = GCVjacobian@np.linalg.inv(GCVjacobian.transpose()@GCVjacobian+(GCV_lam**2)*wmat.transpose()@wmat)@GCVjacobian.transpose()\n",
    "    (n,n) = C_GCV.shape\n",
    "    identity = np.identity(n)\n",
    "\n",
    "    GCVdenominator = (identity - C_GCV).trace()\n",
    "\n",
    "    GCV = GCV_residual/(GCVdenominator**2)\n",
    "    return GCV\n",
    "\n",
    "def GCV_lambda(GCV_data, GCVlambdas, give_curve=False):\n",
    "    #Given a data set and a set of lambdas to iterate through, gives the lambda which minimizes the GCV equation\n",
    "    GCV_values = []\n",
    "    for GCVlam in GCVlambdas:\n",
    "        GCV_values.append(get_GCV(GCV_data, GCVlam))\n",
    "    min_GCV_lam = GCVlambdas[np.argmin(GCV_values)]\n",
    "    if give_curve:\n",
    "        return min_GCV_lam, GCV_values\n",
    "    else:\n",
    "        return min_GCV_lam\n",
    "\n",
    "def DNN_lambda(data, model):\n",
    "    data_dim = np.reshape(data, (1, len(data)))\n",
    "    DNN_lam = 10**(model(data_dim))\n",
    "    return DNN_lam"
   ]
  },
  {
   "cell_type": "markdown",
   "id": "c5a95f3b-4026-4c78-a2bb-a96280fea05f",
   "metadata": {},
   "source": [
    "# Define Weighted Regularization Functions - Generating MSE vs. Lambda Curves"
   ]
  },
  {
   "cell_type": "code",
   "execution_count": 22,
   "id": "bf6b855c-6a68-4608-acd5-f8ce76a5aae1",
   "metadata": {},
   "outputs": [],
   "source": [
    "def weighted_regularization(n_params, param_values, param_distr, lambdas, datasets):\n",
    "    n_c1 = n_params[0]\n",
    "    n_c2 = n_params[1]\n",
    "    n_T21 = n_params[2]\n",
    "    n_T22 = n_params[3]\n",
    "    \n",
    "    c1_values = param_values[0]\n",
    "    c2_values = param_values[1]\n",
    "    T21_values = param_values[2]\n",
    "    T22_values = param_values[3]\n",
    "    \n",
    "    c1_distribution = param_distr[0]\n",
    "    c2_distribution = param_distr[1]\n",
    "    T21_distribution = param_distr[2]\n",
    "    T22_distribution = param_distr[3]\n",
    "    \n",
    "    n_lambdas = len(lambdas)\n",
    "    \n",
    "    weighted_bias = 0\n",
    "    weighted_variance = 0\n",
    "    weighted_MSE = 0\n",
    "    \n",
    "    iterator = 1\n",
    "    total_combos = n_c1 * n_c2 * n_T21 * n_T22\n",
    "    for nc1 in range(n_c1):\n",
    "        for nc2 in range(n_c2):\n",
    "            for nt1 in range(n_T21):\n",
    "                for nt2 in range(n_T22):\n",
    "                    print(f'Calculating combo {iterator} of {total_combos}')\n",
    "                \n",
    "                    con1 = c1_values[nc1]\n",
    "                    con2 = c2_values[nc2]\n",
    "                    tau1 = T21_values[nt1]\n",
    "                    tau2 = T22_values[nt2]\n",
    "                    p_true = [con1, con2, tau1, tau2]\n",
    "                    weight = c1_distribution[nc1]*c2_distribution[nc2]*T21_distribution[nt1]*T22_distribution[nt2]\n",
    "                    \n",
    "                    estimates = np.zeros((n_noise_realizations,n_lambdas,4))\n",
    "                    for i in trange(n_noise_realizations):\n",
    "                        data = datasets[nc1,nc2,nt1,nt2,i,:]\n",
    "                        for l in range(n_lambdas):\n",
    "                            lam = lambdas[l]\n",
    "                            est = estimate_parameters(data, lam)\n",
    "                            estimates[i,l] = est\n",
    "                    \n",
    "                    bias = (estimates - p_true).sum(axis=0)/n_noise_realizations\n",
    "                    variance = np.var(estimates, axis=0)\n",
    "                    MSE = variance + bias**2\n",
    "                    \n",
    "                    weighted_bias += weight*bias\n",
    "                    weighted_variance += weight*variance\n",
    "                    weighted_MSE += weight*MSE\n",
    "    return weighted_bias, weighted_variance, weighted_MSE\n",
    "\n",
    "def weighted_GCV_reg(n_params, param_values, param_distr, lambdas, datasets):\n",
    "    n_c1 = n_params[0]\n",
    "    n_c2 = n_params[1]\n",
    "    n_T21 = n_params[2]\n",
    "    n_T22 = n_params[3]\n",
    "    \n",
    "    c1_values = param_values[0]\n",
    "    c2_values = param_values[1]\n",
    "    T21_values = param_values[2]\n",
    "    T22_values = param_values[3]\n",
    "    \n",
    "    c1_distribution = param_distr[0]\n",
    "    c2_distribution = param_distr[1]\n",
    "    T21_distribution = param_distr[2]\n",
    "    T22_distribution = param_distr[3]\n",
    "    \n",
    "    n_lambdas = len(lambdas)\n",
    "    \n",
    "    weighted_bias = 0\n",
    "    weighted_variance = 0\n",
    "    weighted_MSE = 0\n",
    "    \n",
    "    GCV_lambda_list = []\n",
    "    iterator = 1\n",
    "    total_combos = n_c1 * n_c2 * n_T21 * n_T22\n",
    "    for nc1 in range(n_c1):\n",
    "        for nc2 in range(n_c2):\n",
    "            for nt1 in range(n_T21):\n",
    "                for nt2 in range(n_T22):\n",
    "                    print(f'Calculating combo {iterator} of {total_combos}')\n",
    "                \n",
    "                    con1 = c1_values[nc1]\n",
    "                    con2 = c2_values[nc2]\n",
    "                    tau1 = T21_values[nt1]\n",
    "                    tau2 = T22_values[nt2]\n",
    "                    p_true = [con1, con2, tau1, tau2]\n",
    "                    weight = c1_distribution[nc1]*c2_distribution[nc2]*T21_distribution[nt1]*T22_distribution[nt2]\n",
    "                    \n",
    "                    GCV_estimates = []\n",
    "                    for i in trange(n_noise_realizations):\n",
    "                        data = datasets[nc1,nc2,nt1,nt2,i,:]\n",
    "                        lam = GCV_lambda(data, lambdas)\n",
    "                        GCV_lambda_list.append(lam)\n",
    "    \n",
    "                        GCVEst = estimate_parameters(data, lam)\n",
    "                        GCV_estimates.append(GCVEst)\n",
    "\n",
    "                    GCV_estimates = np.array(GCV_estimates)\n",
    "                    \n",
    "                    GCV_bias = (GCV_estimates - p_true).sum(axis=0)/n_noise_realizations\n",
    "                    GCV_variance = np.var(GCV_estimates, axis=0)\n",
    "                    GCV_MSE = GCV_variance + GCV_bias**2\n",
    "                    \n",
    "                    weighted_bias += weight*GCV_bias\n",
    "                    weighted_variance += weight*GCV_variance\n",
    "                    weighted_MSE += weight*GCV_MSE\n",
    "    return weighted_bias, weighted_variance, weighted_MSE, GCV_lambda_list\n",
    "\n",
    "def weighted_DNN_reg(model, n_params, param_values, param_distr, datasets):\n",
    "    #Tests the DNN over a range of true parameter values, returns the weighted bias, variance, and MSE of the DNN estimates\n",
    "    n_c1 = n_params[0]\n",
    "    n_c2 = n_params[1]\n",
    "    n_T21 = n_params[2]\n",
    "    n_T22 = n_params[3]\n",
    "    \n",
    "    c1_values = param_values[0]\n",
    "    c2_values = param_values[1]\n",
    "    T21_values = param_values[2]\n",
    "    T22_values = param_values[3]\n",
    "    \n",
    "    c1_distribution = param_distr[0]\n",
    "    c2_distribution = param_distr[1]\n",
    "    T21_distribution = param_distr[2]\n",
    "    T22_distribution = param_distr[3]\n",
    "    \n",
    "    weighted_bias = 0\n",
    "    weighted_variance = 0\n",
    "    weighted_MSE = 0\n",
    "    \n",
    "    total_DNN_lambdas = []\n",
    "\n",
    "    iterator = 1\n",
    "    total_combos = n_c1 * n_c2 * n_T21 * n_T22\n",
    "    for nc1 in range(n_c1):\n",
    "        for nc2 in range(n_c2):\n",
    "            for nt1 in range(n_T21):\n",
    "                for nt2 in range(n_T22):\n",
    "                    print(f'Calculating combo {iterator} of {total_combos}')\n",
    "                \n",
    "                    con1 = c1_values[nc1]\n",
    "                    con2 = c2_values[nc2]\n",
    "                    tau1 = T21_values[nt1]\n",
    "                    tau2 = T22_values[nt2]\n",
    "                    p_true = [con1, con2, tau1, tau2]\n",
    "                \n",
    "                    weight = c1_distribution[nc1]*c2_distribution[nc2]*T21_distribution[nt1]*T22_distribution[nt2]\n",
    "                    underlying = G(tdata, con1, con2, tau1, tau2)\n",
    "                    param_datasets = datasets[nc1,nc2,nt1,nt2,:,:]\n",
    "                    DNN_lambdas = np.array(model(param_datasets))\n",
    "            \n",
    "                    DNN_estimates = []\n",
    "                    for i in range(n_noise_realizations):\n",
    "                        data = param_datasets[i,:]\n",
    "                        lam = 10**DNN_lambdas[i]\n",
    "                        total_DNN_lambdas.append(lam)\n",
    "    \n",
    "                        DNNEst = estimate_parameters(data, lam)\n",
    "                        DNN_estimates.append(DNNEst)\n",
    "\n",
    "                    DNN_estimates = np.array(DNN_estimates)\n",
    "                    \n",
    "                    DNN_bias = (DNN_estimates - p_true).sum(axis=0)/n_noise_realizations\n",
    "                    DNN_variance = np.var(DNN_estimates, axis=0)\n",
    "                    DNN_MSE = DNN_variance + DNN_bias**2\n",
    "                    \n",
    "                    weighted_bias += weight*DNN_bias\n",
    "                    weighted_variance += weight*DNN_variance\n",
    "                    weighted_MSE += weight*DNN_MSE\n",
    "    return weighted_bias, weighted_variance, weighted_MSE, total_DNN_lambdas\n",
    "\n",
    "def weighted_oracle_reg(n_params, param_values, param_distr, lambdas, datasets):\n",
    "    n_c1 = n_params[0]\n",
    "    n_c2 = n_params[1]\n",
    "    n_T21 = n_params[2]\n",
    "    n_T22 = n_params[3]\n",
    "    \n",
    "    c1_values = param_values[0]\n",
    "    c2_values = param_values[1]\n",
    "    T21_values = param_values[2]\n",
    "    T22_values = param_values[3]\n",
    "    \n",
    "    c1_distribution = param_distr[0]\n",
    "    c2_distribution = param_distr[1]\n",
    "    T21_distribution = param_distr[2]\n",
    "    T22_distribution = param_distr[3]\n",
    "    \n",
    "    n_lambdas = len(lambdas)\n",
    "    \n",
    "    weighted_bias = 0\n",
    "    weighted_variance = 0\n",
    "    weighted_MSE = 0\n",
    "    \n",
    "    oracle_lambda_list = []\n",
    "    iterator = 1\n",
    "    total_combos = n_c1 * n_c2 * n_T21 * n_T22\n",
    "    for nc1 in range(n_c1):\n",
    "        for nc2 in range(n_c2):\n",
    "            for nt1 in range(n_T21):\n",
    "                for nt2 in range(n_T22):\n",
    "                    print(f'Calculating combo {iterator} of {total_combos}')\n",
    "                \n",
    "                    con1 = c1_values[nc1]\n",
    "                    con2 = c2_values[nc2]\n",
    "                    tau1 = T21_values[nt1]\n",
    "                    tau2 = T22_values[nt2]\n",
    "                    p_true = [con1, con2, tau1, tau2]\n",
    "                    weight = c1_distribution[nc1]*c2_distribution[nc2]*T21_distribution[nt1]*T22_distribution[nt2]\n",
    "                    \n",
    "                    oracle_estimates = []\n",
    "                    for i in trange(n_noise_realizations):\n",
    "                        data = datasets[nc1,nc2,nt1,nt2,i,:]\n",
    "                        oraEst, lam = oracle_lambda(con1, con2, tau1, tau2, data, lambdas, aggregate=True)\n",
    "                        oracle_lambda_list.append(lam)\n",
    "                        oracle_estimates.append(np.array(oraEst))\n",
    "\n",
    "                    oracle_estimates = np.array(oracle_estimates)\n",
    "                    \n",
    "                    ora_bias = (oracle_estimates - p_true).sum(axis=0)/n_noise_realizations\n",
    "                    #Why not just use the mean?\n",
    "                    ora_variance = np.var(oracle_estimates, axis=0)\n",
    "                    ora_MSE = ora_variance + ora_bias**2\n",
    "                    \n",
    "                    weighted_bias += weight*ora_bias\n",
    "                    weighted_variance += weight*ora_variance\n",
    "                    weighted_MSE += weight*ora_MSE\n",
    "    return weighted_bias, weighted_variance, weighted_MSE, oracle_lambda_list"
   ]
  },
  {
   "cell_type": "markdown",
   "id": "bed95543-a709-434f-a6ac-7cee1a9c203f",
   "metadata": {},
   "source": [
    "# Generate Data Sets"
   ]
  },
  {
   "cell_type": "code",
   "execution_count": 23,
   "id": "39009d18-b751-4a07-ad81-58bee078711f",
   "metadata": {},
   "outputs": [
    {
     "name": "stderr",
     "output_type": "stream",
     "text": [
      "100%|██████████| 500/500 [00:00<00:00, 33429.81it/s]\n"
     ]
    }
   ],
   "source": [
    "datasets = np.zeros((n_noise_realizations, n_elements))\n",
    "noiseless_curve = G(tdata, c1, c2, T21, T22)\n",
    "for n in trange(n_noise_realizations):\n",
    "    np.random.seed(n)\n",
    "    data = add_noise(noiseless_curve, SNR)\n",
    "    datasets[n,:] = data"
   ]
  },
  {
   "cell_type": "markdown",
   "id": "a7920228-1ea3-4ff6-965b-23cffe8af34c",
   "metadata": {},
   "source": [
    "# Use prior distributions of c1, c2, T21, and T22"
   ]
  },
  {
   "cell_type": "code",
   "execution_count": 24,
   "id": "c3c4660d-59f2-4397-a1db-0281da7815cb",
   "metadata": {
    "tags": []
   },
   "outputs": [
    {
     "name": "stderr",
     "output_type": "stream",
     "text": [
      "100%|██████████| 1/1 [00:00<00:00, 91.15it/s]\n"
     ]
    }
   ],
   "source": [
    "#General idea is to define sets of parameters and test regularization methods across those parameters, \n",
    "#then do a weighted average to see how performance is affected by choice of parameter set\n",
    "#Weighting array to ensure parameters are roughly the same magnitude\n",
    "wgt = np.array([1,1,0.01,0.01])\n",
    "#Number of values in each parameter set, index 0 refers to c1, 1 to c2, 2 to T21, and 3 to T22\n",
    "n_params = [1,1,1,1]\n",
    "n_total_params = n_params[0]*n_params[1]*n_params[2]*n_params[3]\n",
    "\n",
    "n_lambdas = 51 #Number of lambdas to loop through\n",
    "lambdas = np.logspace(-7, 3, n_lambdas) #Set range of lambda values\n",
    "#Defines sets for each parameter using np.linspace\n",
    "c1_values = np.linspace(0.5,0.5, n_params[0])\n",
    "c2_values = np.linspace(0.5,0.5, n_params[1])\n",
    "T21_values = np.linspace(40, 40, n_params[2])\n",
    "T22_values = np.linspace(130, 130, n_params[3])\n",
    "#Parametrized version of above, done to save some space\n",
    "param_values = [c1_values, c2_values, T21_values, T22_values]\n",
    "#Define weighted distributions of the parameters, here just weights each value equally\n",
    "c1_distribution = np.array([1]*n_params[0])\n",
    "c1_distribution = c1_distribution/c1_distribution.sum()\n",
    "c2_distribution = np.array([1]*n_params[1])\n",
    "c2_distribution = c2_distribution/c2_distribution.sum()\n",
    "T21_distribution = np.array([1]*n_params[2])\n",
    "T21_distribution = T21_distribution/T21_distribution.sum()\n",
    "T22_distribution = np.array([1]*n_params[3])\n",
    "T22_distribution = T22_distribution/T22_distribution.sum()\n",
    "#Parametrized distributions to save some space\n",
    "param_distr = [c1_distribution, c2_distribution, T21_distribution, T22_distribution]\n",
    "\n",
    "param_averages = [value@distr for value, distr in zip(param_values, param_distr)]\n",
    "\n",
    "#Generate the data sets and calculate the weighted CRLB over the parameter distribution\n",
    "#Pregenerating the data sets saves some computation time later\n",
    "datasets_distr = np.zeros((n_params[0],n_params[1],n_params[2],n_params[3],n_noise_realizations,n_elements))\n",
    "weighted_CRLB = 0\n",
    "for nc1 in trange(n_params[0]):\n",
    "    for nc2 in range(n_params[1]):\n",
    "        for nt1 in range(n_params[2]):\n",
    "            for nt2 in range(n_params[3]):\n",
    "                \n",
    "                con1 = c1_values[nc1]\n",
    "                #con2 = c2_values[nc2]\n",
    "                con2 = 1-con1\n",
    "                tau1 = T21_values[nt1]\n",
    "                tau2 = T22_values[nt2]\n",
    "                \n",
    "                cov = cov_matrix(con1, con2, tau1, tau2, SNR)\n",
    "                weighted_CRLB += np.array([cov[0,0],cov[1,1],cov[2,2],cov[3,3]])/n_total_params  \n",
    "                p_true = [con1, con2, tau1, tau2]\n",
    "                \n",
    "                underlying = G(tdata, con1, con2, tau1, tau2)\n",
    "                datasets = []\n",
    "                for i in range(n_noise_realizations):\n",
    "                    np.random.seed(i)\n",
    "                    data = add_noise(noiseless_curve, SNR)\n",
    "                    datasets_distr[nc1,nc2,nt1,nt2,i,:] = data"
   ]
  },
  {
   "cell_type": "code",
   "execution_count": 25,
   "id": "8abd6564-f44b-4bd7-a6dd-8c51ac60314a",
   "metadata": {},
   "outputs": [],
   "source": [
    "if figure1_opt:\n",
    "    #Test the different methods over the parameter distributions\n",
    "    start_time1 = time.time()\n",
    "    weighted_min_bias, weighted_min_variance, weighted_min_MSE, min_lambdas = weighted_oracle_reg(\n",
    "        n_params, param_values, param_distr, lambdas, datasets_distr)\n",
    "    print('Oracle runtime:', time.time() - start_time1, 'seconds')\n",
    "\n",
    "    start_time2 = time.time()\n",
    "    bias_weighted, variance_weighted, MSE_weighted = weighted_regularization(\n",
    "        n_params, param_values, param_distr, lambdas, datasets_distr)\n",
    "    print('NLLS runtime:', time.time() - start_time2, 'seconds')\n",
    "\n",
    "    start_time3 = time.time()\n",
    "    weighted_GCV_bias, weighted_GCV_variance, weighted_GCV_MSE, GCV_lambdas = weighted_GCV_reg(\n",
    "        n_params, param_values, param_distr, lambdas, datasets_distr)\n",
    "    print('GCV runtime:', time.time() - start_time3, 'seconds')\n",
    "    start_time4 = time.time()\n",
    "    # model = load_model('DNN Networks//reg_model SNR 100 3-23.h5')\n",
    "    # weighted_DNN_bias, weighted_DNN_variance, weighted_DNN_MSE, DNN_lambdas = weighted_DNN_reg(\n",
    "        # model, n_params, param_values, param_distr,datasets_distr)\n",
    "    # print('DNN runtime:', time.time() - start_time4, 'seconds')\n",
    "\n",
    "    print('SNR:', SNR)\n",
    "    print('Weighted CRLB:', weighted_CRLB)\n",
    "    print('Weighted uMSE:', MSE_weighted[0,:])\n",
    "    print('Weighted GCV MSE:', weighted_GCV_MSE)\n",
    "    # print('Weighted DNN MSE:', weighted_DNN_MSE)"
   ]
  },
  {
   "cell_type": "code",
   "execution_count": 26,
   "id": "7f7ee914-f610-4c26-bda6-7b5525cd3f53",
   "metadata": {},
   "outputs": [],
   "source": [
    "if figure1_opt:\n",
    "    fig, ax = plt.subplots(1, 2, figsize = (15,6), tight_layout=True)\n",
    "    fig.suptitle('Lambda selection histograms, SNR = %s'%SNR)\n",
    "    ax[0].hist(np.log10(min_lambdas), bins=20)\n",
    "    ax[1].hist(np.log10(GCV_lambdas), bins=20)\n",
    "    # ax[2].hist(np.log10(DNN_lambdas), bins=20)\n",
    "\n",
    "    ax[0].set_xlabel('log10(lambda)')\n",
    "    ax[0].set_ylabel('Counts')\n",
    "    ax[0].set_title('Optimal, minimum error lambdas')\n",
    "    ax[1].set_xlabel('log10(lambda)')\n",
    "    ax[1].set_ylabel('Counts')\n",
    "    ax[1].set_title('GCV lambdas')\n",
    "    # ax[2].set_xlabel('log10(lambda)')\n",
    "    # ax[2].set_ylabel('Counts')\n",
    "    # ax[2].set_title('Neural network lambdas')\n",
    "    plt.show()"
   ]
  },
  {
   "cell_type": "code",
   "execution_count": 27,
   "id": "b365bd50-2dbb-4274-a614-8b54eeb44338",
   "metadata": {},
   "outputs": [],
   "source": [
    "if figure1_opt:    \n",
    "    figure, axis = plt.subplots(2, 2, figsize=(12, 8),tight_layout=True)\n",
    "\n",
    "    figure.suptitle('Regularized Mean Square Errors vs. Conventional NLLS, SNR = %s'%SNR)\n",
    "\n",
    "    axis[0,0].set_title('c1 MSE vs. Lambda')\n",
    "    axis[0,0].loglog(lambdas, MSE_weighted[:,0], label = 'c1 MSE', color='b')\n",
    "    axis[0,0].axhline(y=MSE_weighted[0,0], label = 'c1 Unreg MSE', color='orange')\n",
    "    #axis[0,0].axhline(y=weighted_CRLB[0], label = 'c1 CRLB',color='c')\n",
    "    axis[0,0].axhline(y=weighted_GCV_MSE[0], label = 'c1 GCV MSE',color='m')\n",
    "    # axis[0,0].axhline(y=weighted_DNN_MSE[0], label = 'c1 DNN MSE', color='r')\n",
    "    axis[0,0].axhline(y=weighted_min_MSE[0], label = 'c1 oracle MSE', color='g')\n",
    "    axis[0,0].set_ylabel('Mean Square Error')\n",
    "    axis[0,0].set_xlabel('Lambda')\n",
    "    axis[0,0].legend()\n",
    "\n",
    "    axis[0,1].set_title('c2 MSE vs. Lambda')\n",
    "    axis[0,1].loglog(lambdas, MSE_weighted[:,1], label = 'c2 MSE', color='b')\n",
    "    axis[0,1].axhline(y=MSE_weighted[0,1], label = 'c2 Unreg MSE', color='orange')\n",
    "    #axis[0,1].axhline(y=weighted_CRLB[1], label = 'c2 CRLB',color='c')\n",
    "    axis[0,1].axhline(y=weighted_GCV_MSE[1], label = 'c2 GCV MSE',color='m')\n",
    "    # axis[0,1].axhline(y=weighted_DNN_MSE[1], label = 'c2 DNN MSE', color='r')\n",
    "    axis[0,1].axhline(y=weighted_min_MSE[1], label = 'c2 oracle MSE', color='g')\n",
    "    axis[0,1].set_ylabel('Mean Square Error')\n",
    "    axis[0,1].set_xlabel('Lambda')\n",
    "    axis[0,1].legend()\n",
    "\n",
    "    axis[1,0].set_title('T21 MSE vs. Lambda')\n",
    "    axis[1,0].loglog(lambdas, MSE_weighted[:,2], label = 'T21 MSE', color='b')\n",
    "    axis[1,0].axhline(y=MSE_weighted[0,2], label = 'T21 Unreg MSE', color='orange')\n",
    "    #axis[1,0].axhline(y=weighted_CRLB[2], label = 'T21 CRLB',color='c')\n",
    "    axis[1,0].axhline(y=weighted_GCV_MSE[2], label = 'T21 GCV MSE',color='m')\n",
    "    # axis[1,0].axhline(y=weighted_DNN_MSE[2], label = 'T21 DNN MSE', color='r')\n",
    "    axis[1,0].axhline(y=weighted_min_MSE[2], label = 'T21 oracle MSE', color='g')\n",
    "    axis[1,0].set_ylabel('Mean Square Error')\n",
    "    axis[1,0].set_xlabel('Lambda')\n",
    "    axis[1,0].legend()\n",
    "\n",
    "    axis[1,1].set_title('T22 MSE vs. Lambda')\n",
    "    axis[1,1].loglog(lambdas, MSE_weighted[:,3], label = 'T22 MSE', color='b')\n",
    "    axis[1,1].axhline(y=MSE_weighted[0,3], label = 'T22 Unreg MSE', color='orange')\n",
    "    #axis[1,1].axhline(y=weighted_CRLB[3], label = 'T22 CRLB',color='c')\n",
    "    axis[1,1].axhline(y=weighted_GCV_MSE[3], label = 'T22 GCV MSE',color='m')\n",
    "    # axis[1,1].axhline(y=weighted_DNN_MSE[3], label = 'T22 DNN MSE', color='r')\n",
    "    axis[1,1].axhline(y=weighted_min_MSE[3], label = 'T22 oracle MSE', color='g')\n",
    "    axis[1,1].set_ylabel('Mean Square Error')\n",
    "    axis[1,1].set_xlabel('Lambda')\n",
    "    axis[1,1].legend()\n",
    "\n",
    "    plt.show()"
   ]
  },
  {
   "cell_type": "code",
   "execution_count": 28,
   "id": "fdf23457-c848-4bdf-94e9-afc83962cbe1",
   "metadata": {
    "tags": []
   },
   "outputs": [],
   "source": [
    "if figure1_opt:\n",
    "    figure, axis = plt.subplots(3, 4, figsize=(30, 12.8),tight_layout=True)\n",
    "\n",
    "    plabels = ['c1','c2','T21','T22']\n",
    "\n",
    "    figure.suptitle('Weighted Bias, Variance, and MSE vs Lambda, SNR = %s' % SNR)\n",
    "    for p in range(4):\n",
    "        axis[0,p].semilogx(lambdas, bias_weighted[:,p], label='%s weighted bias'%plabels[p], color='b')\n",
    "        axis[0,p].axhline(y=weighted_GCV_bias[p], label = '%s GCV Bias'%plabels[p], color='m')\n",
    "        # axis[0,p].axhline(y=weighted_DNN_bias[p], label = '%s DNN Bias'%plabels[p], color='r')\n",
    "        axis[0,p].set_ylabel('%s weighted bias'%plabels[p])\n",
    "        \n",
    "        axis[1,p].semilogx(lambdas, variance_weighted[:,p], label='%s weighted variance'%plabels[p], color='b')\n",
    "        axis[1,p].axhline(y=weighted_GCV_variance[p], label = '%s GCV Variance'%plabels[p], color='m')\n",
    "        # axis[1,p].axhline(y=weighted_DNN_variance[p], label = '%s DNN Variance'%plabels[p], color='r')\n",
    "        axis[1,p].set_ylabel('%s weighted variance'%plabels[p])\n",
    "        \n",
    "        axis[2,p].loglog(lambdas, MSE_weighted[:,p], label='%s weighted MSE'%plabels[p], color='b')\n",
    "        #axis[2,p].axhline(y=param_CRLB[p], label = '%s weighted CRLB'%plabels[p])\n",
    "        axis[2,p].axhline(y=weighted_GCV_MSE[p], label='%s weighted GCV MSE'%plabels[p], color='m')\n",
    "        # axis[2,p].axhline(y=weighted_DNN_MSE[p], label='%s weighted DNN MSE'%plabels[p], color='r')\n",
    "        axis[2,p].set_ylabel('%s weighted CoV'%plabels[p])\n",
    "    for i in range(3):\n",
    "        for j in range(4):\n",
    "            axis[i,j].legend()\n",
    "            axis[i,j].set_xlabel('Lambda')\n",
    "\n",
    "    plt.show()"
   ]
  },
  {
   "cell_type": "markdown",
   "id": "3eea75f5-61b6-4d30-a742-400f64ec82e4",
   "metadata": {},
   "source": [
    "### Show an aggregate measure of bias, variance, and MSE"
   ]
  },
  {
   "cell_type": "code",
   "execution_count": 29,
   "id": "88d06cee-3322-4738-8a3e-abe1a59314a1",
   "metadata": {
    "tags": []
   },
   "outputs": [],
   "source": [
    "if figure1_opt:\n",
    "    aggregate_bias = np.absolute(bias_weighted).dot(wgt)\n",
    "    aggregate_variance = np.array(variance_weighted).dot(wgt**2)\n",
    "    aggregate_MSE = np.array(MSE_weighted).dot(wgt**2)\n",
    "    aggregate_CoV = (np.sqrt(MSE_weighted)/param_averages).sum(axis=-1)/4\n",
    "\n",
    "    agg_GCV_bias = np.absolute(weighted_GCV_bias).dot(wgt)\n",
    "    agg_GCV_variance = weighted_GCV_variance.dot(wgt**2)\n",
    "    agg_GCV_MSE = weighted_GCV_MSE.dot(wgt**2)\n",
    "    agg_GCV_CoV = (np.sqrt(weighted_GCV_MSE)/param_averages).sum()/4\n",
    "\n",
    "    # agg_DNN_bias = np.absolute(weighted_DNN_bias).dot(wgt)\n",
    "    # agg_DNN_variance = np.array(weighted_DNN_variance).dot(wgt**2)\n",
    "    # agg_DNN_MSE = np.array(weighted_DNN_MSE).dot(wgt**2)\n",
    "    # agg_DNN_CoV = (np.sqrt(weighted_DNN_MSE)/param_averages).sum()/4\n",
    "\n",
    "    agg_min_bias = np.absolute(weighted_min_bias).dot(wgt)\n",
    "    agg_min_variance = np.array(weighted_min_variance).dot(wgt**2)\n",
    "    agg_min_MSE = np.array(weighted_min_MSE).dot(wgt**2)\n",
    "    agg_min_CoV = (np.sqrt(weighted_min_MSE)/param_averages).sum()/4\n",
    "\n",
    "    #agg_DNN_pdf_bias = np.absolute(DNN_pdf_bias).dot(wgt)\n",
    "    #agg_DNN_pdf_variance = np.array(DNN_pdf_variance).dot(wgt**2)\n",
    "    #agg_DNN_pdf_MSE = np.array(DNN_pdf_MSE).dot(wgt**2)\n",
    "    #agg_DNN_pdf_CoV = (np.sqrt(DNN_pdf_MSE)/param_averages).dot(wgt)\n",
    "\n",
    "    #agg_CRLB = np.array(param_CRLB).dot(wgt**2)\n",
    "    #agg_CRLB_adjusted = (np.sqrt(param_CRLB)/param_averages).dot(wgt)\n",
    "\n",
    "    fig, ax = plt.subplots(3,1,figsize=(8,12), tight_layout=True)\n",
    "    fig.suptitle('Aggregate measures vs Lambda, SNR = %s' % SNR)\n",
    "    ax[0].semilogx(lambdas, aggregate_bias, label='Aggregate Bias', color='b')\n",
    "    ax[0].semilogx(lambdas, [agg_GCV_bias]*n_lambdas, label = 'Aggregate GCV Bias',color='m')\n",
    "    # ax[0].semilogx(lambdas, [agg_DNN_bias]*n_lambdas, label = 'Aggregate DNN Bias', color='r')\n",
    "    #ax[0].semilogx(lambdas, [agg_DNN_pdf_bias]*n_lambdas, label = 'Aggregate DNN PDF Bias')\n",
    "    ax[0].semilogx(lambdas, [agg_min_bias]*n_lambdas, label = 'Min tot error', color='g')\n",
    "    ax[0].set_ylabel('Bias')\n",
    "    ax[0].set_xlabel('Lambda')\n",
    "    ax[0].set_title('Aggregate Measure of Bias')\n",
    "    ax[0].legend()\n",
    "\n",
    "    ax[1].semilogx(lambdas, aggregate_variance, label='Aggregate Variance', color='b')\n",
    "    ax[1].semilogx(lambdas, [agg_GCV_variance]*n_lambdas, label = 'Aggregate GCV Variance',color='m')\n",
    "    # ax[1].semilogx(lambdas, [agg_DNN_variance]*n_lambdas, label = 'Aggregate DNN Variance', color='r')\n",
    "    #ax[1].semilogx(lambdas, [agg_DNN_pdf_variance]*n_lambdas, label = 'Aggregate DNN PDF Variance')\n",
    "    ax[1].semilogx(lambdas, [agg_min_variance]*n_lambdas, label = 'Min tot error', color='g')\n",
    "    ax[1].set_ylabel('Variance')\n",
    "    ax[1].set_xlabel('Lambda')\n",
    "    ax[1].set_title('Aggregate Measure of Variance')\n",
    "    ax[1].legend()\n",
    "\n",
    "    ax[2].loglog(lambdas, aggregate_MSE, label='Aggregate MSE', color='b')\n",
    "    ax[2].loglog(lambdas, [agg_GCV_MSE]*n_lambdas, label = 'Aggregate GCV MSE',color='m')\n",
    "    # ax[2].loglog(lambdas, [agg_DNN_MSE]*n_lambdas, label = 'Aggregate DNN MSE', color='r')\n",
    "    #ax[2].loglog(lambdas, [agg_DNN_pdf_MSE]*n_lambdas, label = 'Aggregate DNN PDF CoV')\n",
    "    #ax[2].loglog(lambdas, [agg_CRLB_adjusted]*n_lambdas, label = 'Aggregate adjusted CRLB')\n",
    "    ax[2].loglog(lambdas, [agg_min_MSE]*n_lambdas, label = 'Min tot error', color='g')\n",
    "    ax[2].set_ylabel('MSE')\n",
    "    ax[2].set_xlabel('Lambda')\n",
    "    ax[2].set_title('Aggregate Measure of MSE')\n",
    "    ax[2].legend()\n",
    "\n",
    "    plt.show()"
   ]
  },
  {
   "cell_type": "markdown",
   "id": "834d466a-1c47-4386-bd3d-de1f02d0faa1",
   "metadata": {},
   "source": [
    "# Show improvement over a range of T21 and T22"
   ]
  },
  {
   "cell_type": "code",
   "execution_count": 30,
   "id": "0d8a08b1-e1f4-4e8b-b63c-6503bb49525a",
   "metadata": {
    "tags": []
   },
   "outputs": [
    {
     "name": "stdout",
     "output_type": "stream",
     "text": [
      "Starting lam selection with GCV\n",
      "GCV: Calculating combo 1 of 1225: 0.08%: Projected time left 0.0min\n"
     ]
    },
    {
     "name": "stderr",
     "output_type": "stream",
     "text": [
      "100%|██████████| 500/500 [23:46<00:00,  2.85s/it]\n"
     ]
    },
    {
     "name": "stdout",
     "output_type": "stream",
     "text": [
      "GCV: Calculating combo 2 of 1225: 0.16%: Projected time left 14533.554054055612min\n"
     ]
    },
    {
     "name": "stderr",
     "output_type": "stream",
     "text": [
      "100%|██████████| 500/500 [17:04<00:00,  2.05s/it]\n"
     ]
    },
    {
     "name": "stdout",
     "output_type": "stream",
     "text": [
      "GCV: Calculating combo 3 of 1225: 0.24%: Projected time left 16633.38118273682min\n"
     ]
    },
    {
     "name": "stderr",
     "output_type": "stream",
     "text": [
      "100%|██████████| 500/500 [17:00<00:00,  2.04s/it]\n"
     ]
    },
    {
     "name": "stdout",
     "output_type": "stream",
     "text": [
      "GCV: Calculating combo 4 of 1225: 0.33%: Projected time left 17657.602371272445min\n"
     ]
    },
    {
     "name": "stderr",
     "output_type": "stream",
     "text": [
      "100%|██████████| 500/500 [16:42<00:00,  2.00s/it]\n"
     ]
    },
    {
     "name": "stdout",
     "output_type": "stream",
     "text": [
      "GCV: Calculating combo 5 of 1225: 0.41%: Projected time left 18189.888400920234min\n"
     ]
    },
    {
     "name": "stderr",
     "output_type": "stream",
     "text": [
      "100%|██████████| 500/500 [19:45<00:00,  2.37s/it]\n"
     ]
    },
    {
     "name": "stdout",
     "output_type": "stream",
     "text": [
      "GCV: Calculating combo 6 of 1225: 0.49%: Projected time left 19158.762711793184min\n"
     ]
    },
    {
     "name": "stderr",
     "output_type": "stream",
     "text": [
      "100%|██████████| 500/500 [16:09<00:00,  1.94s/it]\n"
     ]
    },
    {
     "name": "stdout",
     "output_type": "stream",
     "text": [
      "GCV: Calculating combo 7 of 1225: 0.57%: Projected time left 19221.0961938858min\n"
     ]
    },
    {
     "name": "stderr",
     "output_type": "stream",
     "text": [
      "100%|██████████| 500/500 [15:51<00:00,  1.90s/it]\n"
     ]
    },
    {
     "name": "stdout",
     "output_type": "stream",
     "text": [
      "GCV: Calculating combo 8 of 1225: 0.65%: Projected time left 19217.618844818076min\n"
     ]
    },
    {
     "name": "stderr",
     "output_type": "stream",
     "text": [
      "100%|██████████| 500/500 [16:45<00:00,  2.01s/it]\n"
     ]
    },
    {
     "name": "stdout",
     "output_type": "stream",
     "text": [
      "GCV: Calculating combo 9 of 1225: 0.73%: Projected time left 19332.154978914612min\n"
     ]
    },
    {
     "name": "stderr",
     "output_type": "stream",
     "text": [
      "100%|██████████| 500/500 [17:07<00:00,  2.05s/it]\n"
     ]
    },
    {
     "name": "stdout",
     "output_type": "stream",
     "text": [
      "GCV: Calculating combo 10 of 1225: 0.82%: Projected time left 19465.175950831173min\n"
     ]
    },
    {
     "name": "stderr",
     "output_type": "stream",
     "text": [
      "100%|██████████| 500/500 [20:30<00:00,  2.46s/it]\n"
     ]
    },
    {
     "name": "stdout",
     "output_type": "stream",
     "text": [
      "GCV: Calculating combo 11 of 1225: 0.9%: Projected time left 19944.25951744571min\n"
     ]
    },
    {
     "name": "stderr",
     "output_type": "stream",
     "text": [
      "100%|██████████| 500/500 [15:42<00:00,  1.89s/it]\n"
     ]
    },
    {
     "name": "stdout",
     "output_type": "stream",
     "text": [
      "GCV: Calculating combo 12 of 1225: 0.98%: Projected time left 19855.66780111591min\n"
     ]
    },
    {
     "name": "stderr",
     "output_type": "stream",
     "text": [
      "100%|██████████| 500/500 [16:36<00:00,  1.99s/it]\n"
     ]
    },
    {
     "name": "stdout",
     "output_type": "stream",
     "text": [
      "GCV: Calculating combo 13 of 1225: 1.06%: Projected time left 19861.62948619769min\n"
     ]
    },
    {
     "name": "stderr",
     "output_type": "stream",
     "text": [
      "100%|██████████| 500/500 [16:28<00:00,  1.98s/it]\n"
     ]
    },
    {
     "name": "stdout",
     "output_type": "stream",
     "text": [
      "GCV: Calculating combo 14 of 1225: 1.14%: Projected time left 19853.288702980677min\n"
     ]
    },
    {
     "name": "stderr",
     "output_type": "stream",
     "text": [
      "100%|██████████| 500/500 [16:55<00:00,  2.03s/it]\n"
     ]
    },
    {
     "name": "stdout",
     "output_type": "stream",
     "text": [
      "GCV: Calculating combo 15 of 1225: 1.22%: Projected time left 19879.60370903015min\n"
     ]
    },
    {
     "name": "stderr",
     "output_type": "stream",
     "text": [
      "100%|██████████| 500/500 [20:07<00:00,  2.42s/it]\n"
     ]
    },
    {
     "name": "stdout",
     "output_type": "stream",
     "text": [
      "GCV: Calculating combo 16 of 1225: 1.31%: Projected time left 20142.670200680197min\n"
     ]
    },
    {
     "name": "stderr",
     "output_type": "stream",
     "text": [
      "100%|██████████| 500/500 [16:14<00:00,  1.95s/it]\n"
     ]
    },
    {
     "name": "stdout",
     "output_type": "stream",
     "text": [
      "GCV: Calculating combo 17 of 1225: 1.39%: Projected time left 20095.82643690857min\n"
     ]
    },
    {
     "name": "stderr",
     "output_type": "stream",
     "text": [
      "100%|██████████| 500/500 [16:15<00:00,  1.95s/it]\n"
     ]
    },
    {
     "name": "stdout",
     "output_type": "stream",
     "text": [
      "GCV: Calculating combo 18 of 1225: 1.47%: Projected time left 20053.81303063035min\n"
     ]
    },
    {
     "name": "stderr",
     "output_type": "stream",
     "text": [
      "100%|██████████| 500/500 [16:39<00:00,  2.00s/it]\n"
     ]
    },
    {
     "name": "stdout",
     "output_type": "stream",
     "text": [
      "GCV: Calculating combo 19 of 1225: 1.55%: Projected time left 20039.74024374736min\n"
     ]
    },
    {
     "name": "stderr",
     "output_type": "stream",
     "text": [
      "100%|██████████| 500/500 [16:39<00:00,  2.00s/it]\n"
     ]
    },
    {
     "name": "stdout",
     "output_type": "stream",
     "text": [
      "GCV: Calculating combo 20 of 1225: 1.63%: Projected time left 20025.89438897272min\n"
     ]
    },
    {
     "name": "stderr",
     "output_type": "stream",
     "text": [
      "100%|██████████| 500/500 [19:54<00:00,  2.39s/it]\n"
     ]
    },
    {
     "name": "stdout",
     "output_type": "stream",
     "text": [
      "GCV: Calculating combo 21 of 1225: 1.71%: Projected time left 20197.820972506204min\n"
     ]
    },
    {
     "name": "stderr",
     "output_type": "stream",
     "text": [
      "100%|██████████| 500/500 [16:24<00:00,  1.97s/it]\n"
     ]
    },
    {
     "name": "stdout",
     "output_type": "stream",
     "text": [
      "GCV: Calculating combo 22 of 1225: 1.8%: Projected time left 20160.530073149093min\n"
     ]
    },
    {
     "name": "stderr",
     "output_type": "stream",
     "text": [
      "100%|██████████| 500/500 [16:45<00:00,  2.01s/it]\n"
     ]
    },
    {
     "name": "stdout",
     "output_type": "stream",
     "text": [
      "GCV: Calculating combo 23 of 1225: 1.88%: Projected time left 20143.743504225346min\n"
     ]
    },
    {
     "name": "stderr",
     "output_type": "stream",
     "text": [
      "100%|██████████| 500/500 [16:33<00:00,  1.99s/it]\n"
     ]
    },
    {
     "name": "stdout",
     "output_type": "stream",
     "text": [
      "GCV: Calculating combo 24 of 1225: 1.96%: Projected time left 20117.170843298238min\n"
     ]
    },
    {
     "name": "stderr",
     "output_type": "stream",
     "text": [
      "100%|██████████| 500/500 [17:20<00:00,  2.08s/it]\n"
     ]
    },
    {
     "name": "stdout",
     "output_type": "stream",
     "text": [
      "GCV: Calculating combo 25 of 1225: 2.04%: Projected time left 20129.03309955597min\n"
     ]
    },
    {
     "name": "stderr",
     "output_type": "stream",
     "text": [
      "100%|██████████| 500/500 [19:51<00:00,  2.38s/it]\n"
     ]
    },
    {
     "name": "stdout",
     "output_type": "stream",
     "text": [
      "GCV: Calculating combo 26 of 1225: 2.12%: Projected time left 20254.555720778004min\n"
     ]
    },
    {
     "name": "stderr",
     "output_type": "stream",
     "text": [
      "100%|██████████| 500/500 [16:02<00:00,  1.92s/it]\n"
     ]
    },
    {
     "name": "stdout",
     "output_type": "stream",
     "text": [
      "GCV: Calculating combo 27 of 1225: 2.2%: Projected time left 20199.752159838325min\n"
     ]
    },
    {
     "name": "stderr",
     "output_type": "stream",
     "text": [
      "100%|██████████| 500/500 [16:48<00:00,  2.02s/it]\n"
     ]
    },
    {
     "name": "stdout",
     "output_type": "stream",
     "text": [
      "GCV: Calculating combo 28 of 1225: 2.29%: Projected time left 20180.523566830158min\n"
     ]
    },
    {
     "name": "stderr",
     "output_type": "stream",
     "text": [
      "100%|██████████| 500/500 [16:27<00:00,  1.97s/it]\n"
     ]
    },
    {
     "name": "stdout",
     "output_type": "stream",
     "text": [
      "GCV: Calculating combo 29 of 1225: 2.37%: Projected time left 20146.86531693086min\n"
     ]
    },
    {
     "name": "stderr",
     "output_type": "stream",
     "text": [
      "100%|██████████| 500/500 [17:31<00:00,  2.10s/it]\n"
     ]
    },
    {
     "name": "stdout",
     "output_type": "stream",
     "text": [
      "GCV: Calculating combo 30 of 1225: 2.45%: Projected time left 20157.000081709357min\n"
     ]
    },
    {
     "name": "stderr",
     "output_type": "stream",
     "text": [
      "100%|██████████| 500/500 [16:40<00:00,  2.00s/it]\n"
     ]
    },
    {
     "name": "stdout",
     "output_type": "stream",
     "text": [
      "GCV: Calculating combo 31 of 1225: 2.53%: Projected time left 20132.513352259513min\n"
     ]
    },
    {
     "name": "stderr",
     "output_type": "stream",
     "text": [
      "100%|██████████| 500/500 [16:19<00:00,  1.96s/it]\n"
     ]
    },
    {
     "name": "stdout",
     "output_type": "stream",
     "text": [
      "GCV: Calculating combo 32 of 1225: 2.61%: Projected time left 20095.529379776493min\n"
     ]
    },
    {
     "name": "stderr",
     "output_type": "stream",
     "text": [
      "100%|██████████| 500/500 [16:53<00:00,  2.03s/it]\n"
     ]
    },
    {
     "name": "stdout",
     "output_type": "stream",
     "text": [
      "GCV: Calculating combo 33 of 1225: 2.69%: Projected time left 20080.097573838088min\n"
     ]
    },
    {
     "name": "stderr",
     "output_type": "stream",
     "text": [
      "100%|██████████| 500/500 [16:37<00:00,  2.00s/it]\n"
     ]
    },
    {
     "name": "stdout",
     "output_type": "stream",
     "text": [
      "GCV: Calculating combo 34 of 1225: 2.78%: Projected time left 20055.723268195812min\n"
     ]
    },
    {
     "name": "stderr",
     "output_type": "stream",
     "text": [
      "100%|██████████| 500/500 [17:58<00:00,  2.16s/it]\n"
     ]
    },
    {
     "name": "stdout",
     "output_type": "stream",
     "text": [
      "GCV: Calculating combo 35 of 1225: 2.86%: Projected time left 20077.67068529129min\n"
     ]
    },
    {
     "name": "stderr",
     "output_type": "stream",
     "text": [
      "100%|██████████| 500/500 [16:28<00:00,  1.98s/it]\n"
     ]
    },
    {
     "name": "stdout",
     "output_type": "stream",
     "text": [
      "GCV: Calculating combo 36 of 1225: 2.94%: Projected time left 20047.935748163858min\n"
     ]
    },
    {
     "name": "stderr",
     "output_type": "stream",
     "text": [
      "100%|██████████| 500/500 [15:59<00:00,  1.92s/it]\n"
     ]
    },
    {
     "name": "stdout",
     "output_type": "stream",
     "text": [
      "GCV: Calculating combo 37 of 1225: 3.02%: Projected time left 20003.332365893028min\n"
     ]
    },
    {
     "name": "stderr",
     "output_type": "stream",
     "text": [
      "100%|██████████| 500/500 [16:48<00:00,  2.02s/it]\n"
     ]
    },
    {
     "name": "stdout",
     "output_type": "stream",
     "text": [
      "GCV: Calculating combo 38 of 1225: 3.1%: Projected time left 19985.51528789129min\n"
     ]
    },
    {
     "name": "stderr",
     "output_type": "stream",
     "text": [
      "100%|██████████| 500/500 [16:46<00:00,  2.01s/it]\n"
     ]
    },
    {
     "name": "stdout",
     "output_type": "stream",
     "text": [
      "GCV: Calculating combo 39 of 1225: 3.18%: Projected time left 19966.76994093198min\n"
     ]
    },
    {
     "name": "stderr",
     "output_type": "stream",
     "text": [
      "100%|██████████| 500/500 [18:14<00:00,  2.19s/it]\n"
     ]
    },
    {
     "name": "stdout",
     "output_type": "stream",
     "text": [
      "GCV: Calculating combo 40 of 1225: 3.27%: Projected time left 19991.683194683494min\n"
     ]
    },
    {
     "name": "stderr",
     "output_type": "stream",
     "text": [
      "100%|██████████| 500/500 [16:40<00:00,  2.00s/it]\n"
     ]
    },
    {
     "name": "stdout",
     "output_type": "stream",
     "text": [
      "GCV: Calculating combo 41 of 1225: 3.35%: Projected time left 19969.222179999min\n"
     ]
    },
    {
     "name": "stderr",
     "output_type": "stream",
     "text": [
      "100%|██████████| 500/500 [16:01<00:00,  1.92s/it]\n"
     ]
    },
    {
     "name": "stdout",
     "output_type": "stream",
     "text": [
      "GCV: Calculating combo 42 of 1225: 3.43%: Projected time left 19928.513226422998min\n"
     ]
    },
    {
     "name": "stderr",
     "output_type": "stream",
     "text": [
      "100%|██████████| 500/500 [17:11<00:00,  2.06s/it]\n"
     ]
    },
    {
     "name": "stdout",
     "output_type": "stream",
     "text": [
      "GCV: Calculating combo 43 of 1225: 3.51%: Projected time left 19921.054072480423min\n"
     ]
    },
    {
     "name": "stderr",
     "output_type": "stream",
     "text": [
      "100%|██████████| 500/500 [16:30<00:00,  1.98s/it]\n"
     ]
    },
    {
     "name": "stdout",
     "output_type": "stream",
     "text": [
      "GCV: Calculating combo 44 of 1225: 3.59%: Projected time left 19895.001177833205min\n"
     ]
    },
    {
     "name": "stderr",
     "output_type": "stream",
     "text": [
      "100%|██████████| 500/500 [18:04<00:00,  2.17s/it]\n"
     ]
    },
    {
     "name": "stdout",
     "output_type": "stream",
     "text": [
      "GCV: Calculating combo 45 of 1225: 3.67%: Projected time left 19910.480875809986min\n"
     ]
    },
    {
     "name": "stderr",
     "output_type": "stream",
     "text": [
      "100%|██████████| 500/500 [16:40<00:00,  2.00s/it]\n"
     ]
    },
    {
     "name": "stdout",
     "output_type": "stream",
     "text": [
      "GCV: Calculating combo 46 of 1225: 3.76%: Projected time left 19888.650996593027min\n"
     ]
    },
    {
     "name": "stderr",
     "output_type": "stream",
     "text": [
      "100%|██████████| 500/500 [16:08<00:00,  1.94s/it]\n"
     ]
    },
    {
     "name": "stdout",
     "output_type": "stream",
     "text": [
      "GCV: Calculating combo 47 of 1225: 3.84%: Projected time left 19853.520296814426min\n"
     ]
    },
    {
     "name": "stderr",
     "output_type": "stream",
     "text": [
      "100%|██████████| 500/500 [16:56<00:00,  2.03s/it]\n"
     ]
    },
    {
     "name": "stdout",
     "output_type": "stream",
     "text": [
      "GCV: Calculating combo 48 of 1225: 3.92%: Projected time left 19838.947179406052min\n"
     ]
    },
    {
     "name": "stderr",
     "output_type": "stream",
     "text": [
      "100%|██████████| 500/500 [17:46<00:00,  2.13s/it]\n"
     ]
    },
    {
     "name": "stdout",
     "output_type": "stream",
     "text": [
      "GCV: Calculating combo 49 of 1225: 4.0%: Projected time left 19843.999529647826min\n"
     ]
    },
    {
     "name": "stderr",
     "output_type": "stream",
     "text": [
      "100%|██████████| 500/500 [19:40<00:00,  2.36s/it]\n"
     ]
    },
    {
     "name": "stdout",
     "output_type": "stream",
     "text": [
      "GCV: Calculating combo 50 of 1225: 4.08%: Projected time left 19892.9887787958min\n"
     ]
    },
    {
     "name": "stderr",
     "output_type": "stream",
     "text": [
      "100%|██████████| 500/500 [16:49<00:00,  2.02s/it]\n"
     ]
    },
    {
     "name": "stdout",
     "output_type": "stream",
     "text": [
      "GCV: Calculating combo 51 of 1225: 4.16%: Projected time left 19873.80710212826min\n"
     ]
    },
    {
     "name": "stderr",
     "output_type": "stream",
     "text": [
      "100%|██████████| 500/500 [15:17<00:00,  1.84s/it]\n"
     ]
    },
    {
     "name": "stdout",
     "output_type": "stream",
     "text": [
      "GCV: Calculating combo 52 of 1225: 4.24%: Projected time left 19820.05792010335min\n"
     ]
    },
    {
     "name": "stderr",
     "output_type": "stream",
     "text": [
      "100%|██████████| 500/500 [15:14<00:00,  1.83s/it]\n"
     ]
    },
    {
     "name": "stdout",
     "output_type": "stream",
     "text": [
      "GCV: Calculating combo 53 of 1225: 4.33%: Projected time left 19766.65160206369min\n"
     ]
    },
    {
     "name": "stderr",
     "output_type": "stream",
     "text": [
      "100%|██████████| 500/500 [15:04<00:00,  1.81s/it]\n"
     ]
    },
    {
     "name": "stdout",
     "output_type": "stream",
     "text": [
      "GCV: Calculating combo 54 of 1225: 4.41%: Projected time left 19710.847005954864min\n"
     ]
    },
    {
     "name": "stderr",
     "output_type": "stream",
     "text": [
      "100%|██████████| 500/500 [17:40<00:00,  2.12s/it]\n"
     ]
    },
    {
     "name": "stdout",
     "output_type": "stream",
     "text": [
      "GCV: Calculating combo 55 of 1225: 4.49%: Projected time left 19712.014335523952min\n"
     ]
    },
    {
     "name": "stderr",
     "output_type": "stream",
     "text": [
      "100%|██████████| 500/500 [16:24<00:00,  1.97s/it]\n"
     ]
    },
    {
     "name": "stdout",
     "output_type": "stream",
     "text": [
      "GCV: Calculating combo 56 of 1225: 4.57%: Projected time left 19686.154425316552min\n"
     ]
    },
    {
     "name": "stderr",
     "output_type": "stream",
     "text": [
      "100%|██████████| 500/500 [15:30<00:00,  1.86s/it]\n"
     ]
    },
    {
     "name": "stdout",
     "output_type": "stream",
     "text": [
      "GCV: Calculating combo 57 of 1225: 4.65%: Projected time left 19642.03723766929min\n"
     ]
    },
    {
     "name": "stderr",
     "output_type": "stream",
     "text": [
      "100%|██████████| 500/500 [15:32<00:00,  1.86s/it]\n"
     ]
    },
    {
     "name": "stdout",
     "output_type": "stream",
     "text": [
      "GCV: Calculating combo 58 of 1225: 4.73%: Projected time left 19599.41467493197min\n"
     ]
    },
    {
     "name": "stderr",
     "output_type": "stream",
     "text": [
      "100%|██████████| 500/500 [15:47<00:00,  1.90s/it]\n"
     ]
    },
    {
     "name": "stdout",
     "output_type": "stream",
     "text": [
      "GCV: Calculating combo 59 of 1225: 4.82%: Projected time left 19562.930202061845min\n"
     ]
    },
    {
     "name": "stderr",
     "output_type": "stream",
     "text": [
      "100%|██████████| 500/500 [16:57<00:00,  2.03s/it]\n"
     ]
    },
    {
     "name": "stdout",
     "output_type": "stream",
     "text": [
      "GCV: Calculating combo 60 of 1225: 4.9%: Projected time left 19549.653653251462min\n"
     ]
    },
    {
     "name": "stderr",
     "output_type": "stream",
     "text": [
      "100%|██████████| 500/500 [16:47<00:00,  2.01s/it]\n"
     ]
    },
    {
     "name": "stdout",
     "output_type": "stream",
     "text": [
      "GCV: Calculating combo 61 of 1225: 4.98%: Projected time left 19533.077731338093min\n"
     ]
    },
    {
     "name": "stderr",
     "output_type": "stream",
     "text": [
      "100%|██████████| 500/500 [15:35<00:00,  1.87s/it]\n"
     ]
    },
    {
     "name": "stdout",
     "output_type": "stream",
     "text": [
      "GCV: Calculating combo 62 of 1225: 5.06%: Projected time left 19493.963765134158min\n"
     ]
    },
    {
     "name": "stderr",
     "output_type": "stream",
     "text": [
      "100%|██████████| 500/500 [15:12<00:00,  1.82s/it]\n"
     ]
    },
    {
     "name": "stdout",
     "output_type": "stream",
     "text": [
      "GCV: Calculating combo 63 of 1225: 5.14%: Projected time left 19448.538074176402min\n"
     ]
    },
    {
     "name": "stderr",
     "output_type": "stream",
     "text": [
      "100%|██████████| 500/500 [15:20<00:00,  1.84s/it]\n"
     ]
    },
    {
     "name": "stdout",
     "output_type": "stream",
     "text": [
      "GCV: Calculating combo 64 of 1225: 5.22%: Projected time left 19406.53171205744min\n"
     ]
    },
    {
     "name": "stderr",
     "output_type": "stream",
     "text": [
      "100%|██████████| 500/500 [17:27<00:00,  2.10s/it]\n"
     ]
    },
    {
     "name": "stdout",
     "output_type": "stream",
     "text": [
      "GCV: Calculating combo 65 of 1225: 5.31%: Projected time left 19403.138649074845min\n"
     ]
    },
    {
     "name": "stderr",
     "output_type": "stream",
     "text": [
      "100%|██████████| 500/500 [17:21<00:00,  2.08s/it]\n"
     ]
    },
    {
     "name": "stdout",
     "output_type": "stream",
     "text": [
      "GCV: Calculating combo 66 of 1225: 5.39%: Projected time left 19397.57660289184min\n"
     ]
    },
    {
     "name": "stderr",
     "output_type": "stream",
     "text": [
      "100%|██████████| 500/500 [15:44<00:00,  1.89s/it]\n"
     ]
    },
    {
     "name": "stdout",
     "output_type": "stream",
     "text": [
      "GCV: Calculating combo 67 of 1225: 5.47%: Projected time left 19363.62283637915min\n"
     ]
    },
    {
     "name": "stderr",
     "output_type": "stream",
     "text": [
      "100%|██████████| 500/500 [15:05<00:00,  1.81s/it]\n"
     ]
    },
    {
     "name": "stdout",
     "output_type": "stream",
     "text": [
      "GCV: Calculating combo 68 of 1225: 5.55%: Projected time left 19319.19051090467min\n"
     ]
    },
    {
     "name": "stderr",
     "output_type": "stream",
     "text": [
      "100%|██████████| 500/500 [15:50<00:00,  1.90s/it]\n"
     ]
    },
    {
     "name": "stdout",
     "output_type": "stream",
     "text": [
      "GCV: Calculating combo 69 of 1225: 5.63%: Projected time left 19288.0963687671min\n"
     ]
    },
    {
     "name": "stderr",
     "output_type": "stream",
     "text": [
      "100%|██████████| 500/500 [17:53<00:00,  2.15s/it]\n"
     ]
    },
    {
     "name": "stdout",
     "output_type": "stream",
     "text": [
      "GCV: Calculating combo 70 of 1225: 5.71%: Projected time left 19291.23313770294min\n"
     ]
    },
    {
     "name": "stderr",
     "output_type": "stream",
     "text": [
      "100%|██████████| 500/500 [16:46<00:00,  2.01s/it]\n"
     ]
    },
    {
     "name": "stdout",
     "output_type": "stream",
     "text": [
      "GCV: Calculating combo 71 of 1225: 5.8%: Projected time left 19275.65159450316min\n"
     ]
    },
    {
     "name": "stderr",
     "output_type": "stream",
     "text": [
      "100%|██████████| 500/500 [15:30<00:00,  1.86s/it]\n"
     ]
    },
    {
     "name": "stdout",
     "output_type": "stream",
     "text": [
      "GCV: Calculating combo 72 of 1225: 5.88%: Projected time left 19239.735835767126min\n"
     ]
    },
    {
     "name": "stderr",
     "output_type": "stream",
     "text": [
      "100%|██████████| 500/500 [15:13<00:00,  1.83s/it]\n"
     ]
    },
    {
     "name": "stdout",
     "output_type": "stream",
     "text": [
      "GCV: Calculating combo 73 of 1225: 5.96%: Projected time left 19199.905883789062min\n"
     ]
    },
    {
     "name": "stderr",
     "output_type": "stream",
     "text": [
      "100%|██████████| 500/500 [15:46<00:00,  1.89s/it]\n"
     ]
    },
    {
     "name": "stdout",
     "output_type": "stream",
     "text": [
      "GCV: Calculating combo 74 of 1225: 6.04%: Projected time left 19169.30553413404min\n"
     ]
    },
    {
     "name": "stderr",
     "output_type": "stream",
     "text": [
      "100%|██████████| 500/500 [17:15<00:00,  2.07s/it]\n"
     ]
    },
    {
     "name": "stdout",
     "output_type": "stream",
     "text": [
      "GCV: Calculating combo 75 of 1225: 6.12%: Projected time left 19161.895523023606min\n"
     ]
    },
    {
     "name": "stderr",
     "output_type": "stream",
     "text": [
      "100%|██████████| 500/500 [17:27<00:00,  2.10s/it]\n"
     ]
    },
    {
     "name": "stdout",
     "output_type": "stream",
     "text": [
      "GCV: Calculating combo 76 of 1225: 6.2%: Projected time left 19157.311393385655min\n"
     ]
    },
    {
     "name": "stderr",
     "output_type": "stream",
     "text": [
      "100%|██████████| 500/500 [15:27<00:00,  1.86s/it]\n"
     ]
    },
    {
     "name": "stdout",
     "output_type": "stream",
     "text": [
      "GCV: Calculating combo 77 of 1225: 6.29%: Projected time left 19122.641051993225min\n"
     ]
    },
    {
     "name": "stderr",
     "output_type": "stream",
     "text": [
      "100%|██████████| 500/500 [14:40<00:00,  1.76s/it]\n"
     ]
    },
    {
     "name": "stdout",
     "output_type": "stream",
     "text": [
      "GCV: Calculating combo 78 of 1225: 6.37%: Projected time left 19076.8766494132min\n"
     ]
    },
    {
     "name": "stderr",
     "output_type": "stream",
     "text": [
      "100%|██████████| 500/500 [17:03<00:00,  2.05s/it]\n"
     ]
    },
    {
     "name": "stdout",
     "output_type": "stream",
     "text": [
      "GCV: Calculating combo 79 of 1225: 6.45%: Projected time left 19066.473737378965min\n"
     ]
    },
    {
     "name": "stderr",
     "output_type": "stream",
     "text": [
      "100%|██████████| 500/500 [19:02<00:00,  2.29s/it]\n"
     ]
    },
    {
     "name": "stdout",
     "output_type": "stream",
     "text": [
      "GCV: Calculating combo 80 of 1225: 6.53%: Projected time left 19084.35403015887min\n"
     ]
    },
    {
     "name": "stderr",
     "output_type": "stream",
     "text": [
      "100%|██████████| 500/500 [16:26<00:00,  1.97s/it]\n"
     ]
    },
    {
     "name": "stdout",
     "output_type": "stream",
     "text": [
      "GCV: Calculating combo 81 of 1225: 6.61%: Projected time left 19064.519783630683min\n"
     ]
    },
    {
     "name": "stderr",
     "output_type": "stream",
     "text": [
      "100%|██████████| 500/500 [15:50<00:00,  1.90s/it]\n"
     ]
    },
    {
     "name": "stdout",
     "output_type": "stream",
     "text": [
      "GCV: Calculating combo 82 of 1225: 6.69%: Projected time left 19036.36866851493min\n"
     ]
    },
    {
     "name": "stderr",
     "output_type": "stream",
     "text": [
      "100%|██████████| 500/500 [15:02<00:00,  1.81s/it]\n"
     ]
    },
    {
     "name": "stdout",
     "output_type": "stream",
     "text": [
      "GCV: Calculating combo 83 of 1225: 6.78%: Projected time left 18997.590699594373min\n"
     ]
    },
    {
     "name": "stderr",
     "output_type": "stream",
     "text": [
      "100%|██████████| 500/500 [16:46<00:00,  2.01s/it]\n"
     ]
    },
    {
     "name": "stdout",
     "output_type": "stream",
     "text": [
      "GCV: Calculating combo 84 of 1225: 6.86%: Projected time left 18982.921298830708min\n"
     ]
    },
    {
     "name": "stderr",
     "output_type": "stream",
     "text": [
      "100%|██████████| 500/500 [19:45<00:00,  2.37s/it]\n"
     ]
    },
    {
     "name": "stdout",
     "output_type": "stream",
     "text": [
      "GCV: Calculating combo 85 of 1225: 6.94%: Projected time left 19008.1496941286min\n"
     ]
    },
    {
     "name": "stderr",
     "output_type": "stream",
     "text": [
      "100%|██████████| 500/500 [17:36<00:00,  2.11s/it]\n"
     ]
    },
    {
     "name": "stdout",
     "output_type": "stream",
     "text": [
      "GCV: Calculating combo 86 of 1225: 7.02%: Projected time left 19003.87361667078min\n"
     ]
    },
    {
     "name": "stderr",
     "output_type": "stream",
     "text": [
      "100%|██████████| 500/500 [16:10<00:00,  1.94s/it]\n"
     ]
    },
    {
     "name": "stdout",
     "output_type": "stream",
     "text": [
      "GCV: Calculating combo 87 of 1225: 7.1%: Projected time left 18980.464749928364min\n"
     ]
    },
    {
     "name": "stderr",
     "output_type": "stream",
     "text": [
      "100%|██████████| 500/500 [15:32<00:00,  1.87s/it]\n"
     ]
    },
    {
     "name": "stdout",
     "output_type": "stream",
     "text": [
      "GCV: Calculating combo 88 of 1225: 7.18%: Projected time left 18949.118888507513min\n"
     ]
    },
    {
     "name": "stderr",
     "output_type": "stream",
     "text": [
      "100%|██████████| 500/500 [17:10<00:00,  2.06s/it]\n"
     ]
    },
    {
     "name": "stdout",
     "output_type": "stream",
     "text": [
      "GCV: Calculating combo 89 of 1225: 7.27%: Projected time left 18938.919119314127min\n"
     ]
    },
    {
     "name": "stderr",
     "output_type": "stream",
     "text": [
      "100%|██████████| 500/500 [19:37<00:00,  2.36s/it]\n"
     ]
    },
    {
     "name": "stdout",
     "output_type": "stream",
     "text": [
      "GCV: Calculating combo 90 of 1225: 7.35%: Projected time left 18959.589614096174min\n"
     ]
    },
    {
     "name": "stderr",
     "output_type": "stream",
     "text": [
      "100%|██████████| 500/500 [17:16<00:00,  2.07s/it]\n"
     ]
    },
    {
     "name": "stdout",
     "output_type": "stream",
     "text": [
      "GCV: Calculating combo 91 of 1225: 7.43%: Projected time left 18950.079139698468min\n"
     ]
    },
    {
     "name": "stderr",
     "output_type": "stream",
     "text": [
      "100%|██████████| 500/500 [16:13<00:00,  1.95s/it]\n"
     ]
    },
    {
     "name": "stdout",
     "output_type": "stream",
     "text": [
      "GCV: Calculating combo 92 of 1225: 7.51%: Projected time left 18927.485801834948min\n"
     ]
    },
    {
     "name": "stderr",
     "output_type": "stream",
     "text": [
      "100%|██████████| 500/500 [15:44<00:00,  1.89s/it]\n"
     ]
    },
    {
     "name": "stdout",
     "output_type": "stream",
     "text": [
      "GCV: Calculating combo 93 of 1225: 7.59%: Projected time left 18899.02443876044min\n"
     ]
    },
    {
     "name": "stderr",
     "output_type": "stream",
     "text": [
      "100%|██████████| 500/500 [16:50<00:00,  2.02s/it]\n"
     ]
    },
    {
     "name": "stdout",
     "output_type": "stream",
     "text": [
      "GCV: Calculating combo 94 of 1225: 7.67%: Projected time left 18884.155918314103min\n"
     ]
    },
    {
     "name": "stderr",
     "output_type": "stream",
     "text": [
      "100%|██████████| 500/500 [19:16<00:00,  2.31s/it]\n"
     ]
    },
    {
     "name": "stdout",
     "output_type": "stream",
     "text": [
      "GCV: Calculating combo 95 of 1225: 7.76%: Projected time left 18898.224367654115min\n"
     ]
    },
    {
     "name": "stderr",
     "output_type": "stream",
     "text": [
      "100%|██████████| 500/500 [17:09<00:00,  2.06s/it]\n"
     ]
    },
    {
     "name": "stdout",
     "output_type": "stream",
     "text": [
      "GCV: Calculating combo 96 of 1225: 7.84%: Projected time left 18886.684348399478min\n"
     ]
    },
    {
     "name": "stderr",
     "output_type": "stream",
     "text": [
      "100%|██████████| 500/500 [15:54<00:00,  1.91s/it]\n"
     ]
    },
    {
     "name": "stdout",
     "output_type": "stream",
     "text": [
      "GCV: Calculating combo 97 of 1225: 7.92%: Projected time left 18860.41722908905min\n"
     ]
    },
    {
     "name": "stderr",
     "output_type": "stream",
     "text": [
      "100%|██████████| 500/500 [15:03<00:00,  1.81s/it]\n"
     ]
    },
    {
     "name": "stdout",
     "output_type": "stream",
     "text": [
      "GCV: Calculating combo 98 of 1225: 8.0%: Projected time left 18824.6342319866min\n"
     ]
    },
    {
     "name": "stderr",
     "output_type": "stream",
     "text": [
      "100%|██████████| 500/500 [16:56<00:00,  2.03s/it]\n"
     ]
    },
    {
     "name": "stdout",
     "output_type": "stream",
     "text": [
      "GCV: Calculating combo 99 of 1225: 8.08%: Projected time left 18810.54786230988min\n"
     ]
    },
    {
     "name": "stderr",
     "output_type": "stream",
     "text": [
      "100%|██████████| 500/500 [19:02<00:00,  2.29s/it]\n"
     ]
    },
    {
     "name": "stdout",
     "output_type": "stream",
     "text": [
      "GCV: Calculating combo 100 of 1225: 8.16%: Projected time left 18820.16831548512min\n"
     ]
    },
    {
     "name": "stderr",
     "output_type": "stream",
     "text": [
      "100%|██████████| 500/500 [16:58<00:00,  2.04s/it]\n"
     ]
    },
    {
     "name": "stdout",
     "output_type": "stream",
     "text": [
      "GCV: Calculating combo 101 of 1225: 8.24%: Projected time left 18806.089358167366min\n"
     ]
    },
    {
     "name": "stderr",
     "output_type": "stream",
     "text": [
      "100%|██████████| 500/500 [13:43<00:00,  1.65s/it]\n"
     ]
    },
    {
     "name": "stdout",
     "output_type": "stream",
     "text": [
      "GCV: Calculating combo 102 of 1225: 8.33%: Projected time left 18756.321687528238min\n"
     ]
    },
    {
     "name": "stderr",
     "output_type": "stream",
     "text": [
      "100%|██████████| 500/500 [15:06<00:00,  1.81s/it]\n"
     ]
    },
    {
     "name": "stdout",
     "output_type": "stream",
     "text": [
      "GCV: Calculating combo 103 of 1225: 8.41%: Projected time left 18722.327046849194min\n"
     ]
    },
    {
     "name": "stderr",
     "output_type": "stream",
     "text": [
      "100%|██████████| 500/500 [16:38<00:00,  2.00s/it]\n"
     ]
    },
    {
     "name": "stdout",
     "output_type": "stream",
     "text": [
      "GCV: Calculating combo 104 of 1225: 8.49%: Projected time left 18705.178521742117min\n"
     ]
    },
    {
     "name": "stderr",
     "output_type": "stream",
     "text": [
      "100%|██████████| 500/500 [16:58<00:00,  2.04s/it]\n"
     ]
    },
    {
     "name": "stdout",
     "output_type": "stream",
     "text": [
      "GCV: Calculating combo 105 of 1225: 8.57%: Projected time left 18691.660311550564min\n"
     ]
    },
    {
     "name": "stderr",
     "output_type": "stream",
     "text": [
      "100%|██████████| 500/500 [16:56<00:00,  2.03s/it]\n"
     ]
    },
    {
     "name": "stdout",
     "output_type": "stream",
     "text": [
      "GCV: Calculating combo 106 of 1225: 8.65%: Projected time left 18677.696497218225min\n"
     ]
    },
    {
     "name": "stderr",
     "output_type": "stream",
     "text": [
      "100%|██████████| 500/500 [14:15<00:00,  1.71s/it]\n"
     ]
    },
    {
     "name": "stdout",
     "output_type": "stream",
     "text": [
      "GCV: Calculating combo 107 of 1225: 8.73%: Projected time left 18635.660049216545min\n"
     ]
    },
    {
     "name": "stderr",
     "output_type": "stream",
     "text": [
      "100%|██████████| 500/500 [15:16<00:00,  1.83s/it]\n"
     ]
    },
    {
     "name": "stdout",
     "output_type": "stream",
     "text": [
      "GCV: Calculating combo 108 of 1225: 8.82%: Projected time left 18604.51231404116min\n"
     ]
    },
    {
     "name": "stderr",
     "output_type": "stream",
     "text": [
      "100%|██████████| 500/500 [16:05<00:00,  1.93s/it]\n"
     ]
    },
    {
     "name": "stdout",
     "output_type": "stream",
     "text": [
      "GCV: Calculating combo 109 of 1225: 8.9%: Projected time left 18582.046892078208min\n"
     ]
    },
    {
     "name": "stderr",
     "output_type": "stream",
     "text": [
      "100%|██████████| 500/500 [16:34<00:00,  1.99s/it]\n"
     ]
    },
    {
     "name": "stdout",
     "output_type": "stream",
     "text": [
      "GCV: Calculating combo 110 of 1225: 8.98%: Projected time left 18564.697225652137min\n"
     ]
    },
    {
     "name": "stderr",
     "output_type": "stream",
     "text": [
      "100%|██████████| 500/500 [16:59<00:00,  2.04s/it]\n"
     ]
    },
    {
     "name": "stdout",
     "output_type": "stream",
     "text": [
      "GCV: Calculating combo 111 of 1225: 9.06%: Projected time left 18551.541355739988min\n"
     ]
    },
    {
     "name": "stderr",
     "output_type": "stream",
     "text": [
      "100%|██████████| 500/500 [14:24<00:00,  1.73s/it]\n"
     ]
    },
    {
     "name": "stdout",
     "output_type": "stream",
     "text": [
      "GCV: Calculating combo 112 of 1225: 9.14%: Projected time left 18512.527134542168min\n"
     ]
    },
    {
     "name": "stderr",
     "output_type": "stream",
     "text": [
      "100%|██████████| 500/500 [15:19<00:00,  1.84s/it]\n"
     ]
    },
    {
     "name": "stdout",
     "output_type": "stream",
     "text": [
      "GCV: Calculating combo 113 of 1225: 9.22%: Projected time left 18482.979360209945min\n"
     ]
    },
    {
     "name": "stderr",
     "output_type": "stream",
     "text": [
      "100%|██████████| 500/500 [16:24<00:00,  1.97s/it]\n"
     ]
    },
    {
     "name": "stdout",
     "output_type": "stream",
     "text": [
      "GCV: Calculating combo 114 of 1225: 9.31%: Projected time left 18464.27411186514min\n"
     ]
    },
    {
     "name": "stderr",
     "output_type": "stream",
     "text": [
      "100%|██████████| 500/500 [16:45<00:00,  2.01s/it]\n"
     ]
    },
    {
     "name": "stdout",
     "output_type": "stream",
     "text": [
      "GCV: Calculating combo 115 of 1225: 9.39%: Projected time left 18449.017558502113min\n"
     ]
    },
    {
     "name": "stderr",
     "output_type": "stream",
     "text": [
      "100%|██████████| 500/500 [17:17<00:00,  2.08s/it]\n"
     ]
    },
    {
     "name": "stdout",
     "output_type": "stream",
     "text": [
      "GCV: Calculating combo 116 of 1225: 9.47%: Projected time left 18438.86080895169min\n"
     ]
    },
    {
     "name": "stderr",
     "output_type": "stream",
     "text": [
      "100%|██████████| 500/500 [13:52<00:00,  1.66s/it]\n"
     ]
    },
    {
     "name": "stdout",
     "output_type": "stream",
     "text": [
      "GCV: Calculating combo 117 of 1225: 9.55%: Projected time left 18396.128535134703min\n"
     ]
    },
    {
     "name": "stderr",
     "output_type": "stream",
     "text": [
      "100%|██████████| 500/500 [14:18<00:00,  1.72s/it]\n"
     ]
    },
    {
     "name": "stdout",
     "output_type": "stream",
     "text": [
      "GCV: Calculating combo 118 of 1225: 9.63%: Projected time left 18357.923056212017min\n"
     ]
    },
    {
     "name": "stderr",
     "output_type": "stream",
     "text": [
      "100%|██████████| 500/500 [16:12<00:00,  1.94s/it]\n"
     ]
    },
    {
     "name": "stdout",
     "output_type": "stream",
     "text": [
      "GCV: Calculating combo 119 of 1225: 9.71%: Projected time left 18337.816837864764min\n"
     ]
    },
    {
     "name": "stderr",
     "output_type": "stream",
     "text": [
      "100%|██████████| 500/500 [16:36<00:00,  1.99s/it]\n"
     ]
    },
    {
     "name": "stdout",
     "output_type": "stream",
     "text": [
      "GCV: Calculating combo 120 of 1225: 9.8%: Projected time left 18321.52545595517min\n"
     ]
    },
    {
     "name": "stderr",
     "output_type": "stream",
     "text": [
      "100%|██████████| 500/500 [19:21<00:00,  2.32s/it]\n"
     ]
    },
    {
     "name": "stdout",
     "output_type": "stream",
     "text": [
      "GCV: Calculating combo 121 of 1225: 9.88%: Projected time left 18330.35070197996min\n"
     ]
    },
    {
     "name": "stderr",
     "output_type": "stream",
     "text": [
      "100%|██████████| 500/500 [14:21<00:00,  1.72s/it]\n"
     ]
    },
    {
     "name": "stdout",
     "output_type": "stream",
     "text": [
      "GCV: Calculating combo 122 of 1225: 9.96%: Projected time left 18293.377364680706min\n"
     ]
    },
    {
     "name": "stderr",
     "output_type": "stream",
     "text": [
      "100%|██████████| 500/500 [15:43<00:00,  1.89s/it]\n"
     ]
    },
    {
     "name": "stdout",
     "output_type": "stream",
     "text": [
      "GCV: Calculating combo 123 of 1225: 10.04%: Projected time left 18269.038604899477min\n"
     ]
    },
    {
     "name": "stderr",
     "output_type": "stream",
     "text": [
      "100%|██████████| 500/500 [15:47<00:00,  1.90s/it]\n"
     ]
    },
    {
     "name": "stdout",
     "output_type": "stream",
     "text": [
      "GCV: Calculating combo 124 of 1225: 10.12%: Projected time left 18245.4849328491min\n"
     ]
    },
    {
     "name": "stderr",
     "output_type": "stream",
     "text": [
      "100%|██████████| 500/500 [16:40<00:00,  2.00s/it]\n"
     ]
    },
    {
     "name": "stdout",
     "output_type": "stream",
     "text": [
      "GCV: Calculating combo 125 of 1225: 10.2%: Projected time left 18229.883152945837min\n"
     ]
    },
    {
     "name": "stderr",
     "output_type": "stream",
     "text": [
      "100%|██████████| 500/500 [17:16<00:00,  2.07s/it]\n"
     ]
    },
    {
     "name": "stdout",
     "output_type": "stream",
     "text": [
      "GCV: Calculating combo 126 of 1225: 10.29%: Projected time left 18219.504202471835min\n"
     ]
    },
    {
     "name": "stderr",
     "output_type": "stream",
     "text": [
      "100%|██████████| 500/500 [13:46<00:00,  1.65s/it]\n"
     ]
    },
    {
     "name": "stdout",
     "output_type": "stream",
     "text": [
      "GCV: Calculating combo 127 of 1225: 10.37%: Projected time left 18178.744293843854min\n"
     ]
    },
    {
     "name": "stderr",
     "output_type": "stream",
     "text": [
      "100%|██████████| 500/500 [14:06<00:00,  1.69s/it]\n"
     ]
    },
    {
     "name": "stdout",
     "output_type": "stream",
     "text": [
      "GCV: Calculating combo 128 of 1225: 10.45%: Projected time left 18141.167135307005min\n"
     ]
    },
    {
     "name": "stderr",
     "output_type": "stream",
     "text": [
      "100%|██████████| 500/500 [13:54<00:00,  1.67s/it]\n"
     ]
    },
    {
     "name": "stdout",
     "output_type": "stream",
     "text": [
      "GCV: Calculating combo 129 of 1225: 10.53%: Projected time left 18102.231937850047min\n"
     ]
    },
    {
     "name": "stderr",
     "output_type": "stream",
     "text": [
      "100%|██████████| 500/500 [13:55<00:00,  1.67s/it]\n"
     ]
    },
    {
     "name": "stdout",
     "output_type": "stream",
     "text": [
      "GCV: Calculating combo 130 of 1225: 10.61%: Projected time left 18063.946325181998min\n"
     ]
    },
    {
     "name": "stderr",
     "output_type": "stream",
     "text": [
      "100%|██████████| 500/500 [14:23<00:00,  1.73s/it]\n"
     ]
    },
    {
     "name": "stdout",
     "output_type": "stream",
     "text": [
      "GCV: Calculating combo 131 of 1225: 10.69%: Projected time left 18029.935762343637min\n"
     ]
    },
    {
     "name": "stderr",
     "output_type": "stream",
     "text": [
      "100%|██████████| 500/500 [15:49<00:00,  1.90s/it]\n"
     ]
    },
    {
     "name": "stdout",
     "output_type": "stream",
     "text": [
      "GCV: Calculating combo 132 of 1225: 10.78%: Projected time left 18008.084153294625min\n"
     ]
    },
    {
     "name": "stderr",
     "output_type": "stream",
     "text": [
      "100%|██████████| 500/500 [15:50<00:00,  1.90s/it]\n"
     ]
    },
    {
     "name": "stdout",
     "output_type": "stream",
     "text": [
      "GCV: Calculating combo 133 of 1225: 10.86%: Projected time left 17986.345314081093min\n"
     ]
    },
    {
     "name": "stderr",
     "output_type": "stream",
     "text": [
      "100%|██████████| 500/500 [14:24<00:00,  1.73s/it]\n"
     ]
    },
    {
     "name": "stdout",
     "output_type": "stream",
     "text": [
      "GCV: Calculating combo 134 of 1225: 10.94%: Projected time left 17953.10283311911min\n"
     ]
    },
    {
     "name": "stderr",
     "output_type": "stream",
     "text": [
      "100%|██████████| 500/500 [13:59<00:00,  1.68s/it]\n"
     ]
    },
    {
     "name": "stdout",
     "output_type": "stream",
     "text": [
      "GCV: Calculating combo 135 of 1225: 11.02%: Projected time left 17916.690939693395min\n"
     ]
    },
    {
     "name": "stderr",
     "output_type": "stream",
     "text": [
      "100%|██████████| 500/500 [14:23<00:00,  1.73s/it]\n"
     ]
    },
    {
     "name": "stdout",
     "output_type": "stream",
     "text": [
      "GCV: Calculating combo 136 of 1225: 11.1%: Projected time left 17883.889051534145min\n"
     ]
    },
    {
     "name": "stderr",
     "output_type": "stream",
     "text": [
      "100%|██████████| 500/500 [14:11<00:00,  1.70s/it]\n"
     ]
    },
    {
     "name": "stdout",
     "output_type": "stream",
     "text": [
      "GCV: Calculating combo 137 of 1225: 11.18%: Projected time left 17849.737611528384min\n"
     ]
    },
    {
     "name": "stderr",
     "output_type": "stream",
     "text": [
      "100%|██████████| 500/500 [14:42<00:00,  1.76s/it]\n"
     ]
    },
    {
     "name": "stdout",
     "output_type": "stream",
     "text": [
      "GCV: Calculating combo 138 of 1225: 11.27%: Projected time left 17819.897716786752min\n"
     ]
    },
    {
     "name": "stderr",
     "output_type": "stream",
     "text": [
      "100%|██████████| 500/500 [15:34<00:00,  1.87s/it]\n"
     ]
    },
    {
     "name": "stdout",
     "output_type": "stream",
     "text": [
      "GCV: Calculating combo 139 of 1225: 11.35%: Projected time left 17797.160414608432min\n"
     ]
    },
    {
     "name": "stderr",
     "output_type": "stream",
     "text": [
      "100%|██████████| 500/500 [15:16<00:00,  1.83s/it]\n"
     ]
    },
    {
     "name": "stdout",
     "output_type": "stream",
     "text": [
      "GCV: Calculating combo 140 of 1225: 11.43%: Projected time left 17772.165502745906min\n"
     ]
    },
    {
     "name": "stderr",
     "output_type": "stream",
     "text": [
      "100%|██████████| 500/500 [14:17<00:00,  1.71s/it]\n"
     ]
    },
    {
     "name": "stdout",
     "output_type": "stream",
     "text": [
      "GCV: Calculating combo 141 of 1225: 11.51%: Projected time left 17739.73033702841min\n"
     ]
    },
    {
     "name": "stderr",
     "output_type": "stream",
     "text": [
      "100%|██████████| 500/500 [14:05<00:00,  1.69s/it]\n"
     ]
    },
    {
     "name": "stdout",
     "output_type": "stream",
     "text": [
      "GCV: Calculating combo 142 of 1225: 11.59%: Projected time left 17706.00130199647min\n"
     ]
    },
    {
     "name": "stderr",
     "output_type": "stream",
     "text": [
      "100%|██████████| 500/500 [14:06<00:00,  1.69s/it]\n"
     ]
    },
    {
     "name": "stdout",
     "output_type": "stream",
     "text": [
      "GCV: Calculating combo 143 of 1225: 11.67%: Projected time left 17672.669994104715min\n"
     ]
    },
    {
     "name": "stderr",
     "output_type": "stream",
     "text": [
      "100%|██████████| 500/500 [13:42<00:00,  1.64s/it]\n"
     ]
    },
    {
     "name": "stdout",
     "output_type": "stream",
     "text": [
      "GCV: Calculating combo 144 of 1225: 11.76%: Projected time left 17636.58457227396min\n"
     ]
    },
    {
     "name": "stderr",
     "output_type": "stream",
     "text": [
      "100%|██████████| 500/500 [15:42<00:00,  1.88s/it]\n"
     ]
    },
    {
     "name": "stdout",
     "output_type": "stream",
     "text": [
      "GCV: Calculating combo 145 of 1225: 11.84%: Projected time left 17615.697965427928min\n"
     ]
    },
    {
     "name": "stderr",
     "output_type": "stream",
     "text": [
      "100%|██████████| 500/500 [15:52<00:00,  1.90s/it]\n"
     ]
    },
    {
     "name": "stdout",
     "output_type": "stream",
     "text": [
      "GCV: Calculating combo 146 of 1225: 11.92%: Projected time left 17596.15885339728min\n"
     ]
    },
    {
     "name": "stderr",
     "output_type": "stream",
     "text": [
      "100%|██████████| 500/500 [14:14<00:00,  1.71s/it]\n"
     ]
    },
    {
     "name": "stdout",
     "output_type": "stream",
     "text": [
      "GCV: Calculating combo 147 of 1225: 12.0%: Projected time left 17564.713400525514min\n"
     ]
    },
    {
     "name": "stderr",
     "output_type": "stream",
     "text": [
      "100%|██████████| 500/500 [13:53<00:00,  1.67s/it]\n"
     ]
    },
    {
     "name": "stdout",
     "output_type": "stream",
     "text": [
      "GCV: Calculating combo 148 of 1225: 12.08%: Projected time left 17530.91905121787min\n"
     ]
    },
    {
     "name": "stderr",
     "output_type": "stream",
     "text": [
      "100%|██████████| 500/500 [13:37<00:00,  1.63s/it]\n"
     ]
    },
    {
     "name": "stdout",
     "output_type": "stream",
     "text": [
      "GCV: Calculating combo 149 of 1225: 12.16%: Projected time left 17495.445581566302min\n"
     ]
    },
    {
     "name": "stderr",
     "output_type": "stream",
     "text": [
      "100%|██████████| 500/500 [13:41<00:00,  1.64s/it]\n"
     ]
    },
    {
     "name": "stdout",
     "output_type": "stream",
     "text": [
      "GCV: Calculating combo 150 of 1225: 12.24%: Projected time left 17460.815906599495min\n"
     ]
    },
    {
     "name": "stderr",
     "output_type": "stream",
     "text": [
      "100%|██████████| 500/500 [14:28<00:00,  1.74s/it]\n"
     ]
    },
    {
     "name": "stdout",
     "output_type": "stream",
     "text": [
      "GCV: Calculating combo 151 of 1225: 12.33%: Projected time left 17431.980273215977min\n"
     ]
    },
    {
     "name": "stderr",
     "output_type": "stream",
     "text": [
      "100%|██████████| 500/500 [08:01<00:00,  1.04it/s]\n"
     ]
    },
    {
     "name": "stdout",
     "output_type": "stream",
     "text": [
      "GCV: Calculating combo 152 of 1225: 12.41%: Projected time left 17357.840926125515min\n"
     ]
    },
    {
     "name": "stderr",
     "output_type": "stream",
     "text": [
      "100%|██████████| 500/500 [08:05<00:00,  1.03it/s]\n"
     ]
    },
    {
     "name": "stdout",
     "output_type": "stream",
     "text": [
      "GCV: Calculating combo 153 of 1225: 12.49%: Projected time left 17285.042207577444min\n"
     ]
    },
    {
     "name": "stderr",
     "output_type": "stream",
     "text": [
      "100%|██████████| 500/500 [08:29<00:00,  1.02s/it]\n"
     ]
    },
    {
     "name": "stdout",
     "output_type": "stream",
     "text": [
      "GCV: Calculating combo 154 of 1225: 12.57%: Projected time left 17215.86224684715min\n"
     ]
    },
    {
     "name": "stderr",
     "output_type": "stream",
     "text": [
      "100%|██████████| 500/500 [08:20<00:00,  1.00s/it]\n"
     ]
    },
    {
     "name": "stdout",
     "output_type": "stream",
     "text": [
      "GCV: Calculating combo 155 of 1225: 12.65%: Projected time left 17146.443984904083min\n"
     ]
    },
    {
     "name": "stderr",
     "output_type": "stream",
     "text": [
      "100%|██████████| 500/500 [07:54<00:00,  1.05it/s]\n"
     ]
    },
    {
     "name": "stdout",
     "output_type": "stream",
     "text": [
      "GCV: Calculating combo 156 of 1225: 12.73%: Projected time left 17074.83134313929min\n"
     ]
    },
    {
     "name": "stderr",
     "output_type": "stream",
     "text": [
      "100%|██████████| 500/500 [08:01<00:00,  1.04it/s]\n"
     ]
    },
    {
     "name": "stdout",
     "output_type": "stream",
     "text": [
      "GCV: Calculating combo 157 of 1225: 12.82%: Projected time left 17004.769104627438min\n"
     ]
    },
    {
     "name": "stderr",
     "output_type": "stream",
     "text": [
      "100%|██████████| 500/500 [08:10<00:00,  1.02it/s]\n"
     ]
    },
    {
     "name": "stdout",
     "output_type": "stream",
     "text": [
      "GCV: Calculating combo 158 of 1225: 12.9%: Projected time left 16936.49085441765min\n"
     ]
    },
    {
     "name": "stderr",
     "output_type": "stream",
     "text": [
      "100%|██████████| 500/500 [08:19<00:00,  1.00it/s]\n"
     ]
    },
    {
     "name": "stdout",
     "output_type": "stream",
     "text": [
      "GCV: Calculating combo 159 of 1225: 12.98%: Projected time left 16870.022732851892min\n"
     ]
    },
    {
     "name": "stderr",
     "output_type": "stream",
     "text": [
      "100%|██████████| 500/500 [07:56<00:00,  1.05it/s]\n"
     ]
    },
    {
     "name": "stdout",
     "output_type": "stream",
     "text": [
      "GCV: Calculating combo 160 of 1225: 13.06%: Projected time left 16801.750101996957min\n"
     ]
    },
    {
     "name": "stderr",
     "output_type": "stream",
     "text": [
      "100%|██████████| 500/500 [08:06<00:00,  1.03it/s]\n"
     ]
    },
    {
     "name": "stdout",
     "output_type": "stream",
     "text": [
      "GCV: Calculating combo 161 of 1225: 13.14%: Projected time left 16735.246029364545min\n"
     ]
    },
    {
     "name": "stderr",
     "output_type": "stream",
     "text": [
      "100%|██████████| 500/500 [08:25<00:00,  1.01s/it]\n"
     ]
    },
    {
     "name": "stdout",
     "output_type": "stream",
     "text": [
      "GCV: Calculating combo 162 of 1225: 13.22%: Projected time left 16671.601035565847min\n"
     ]
    },
    {
     "name": "stderr",
     "output_type": "stream",
     "text": [
      "100%|██████████| 500/500 [08:08<00:00,  1.02it/s]\n"
     ]
    },
    {
     "name": "stdout",
     "output_type": "stream",
     "text": [
      "GCV: Calculating combo 163 of 1225: 13.31%: Projected time left 16606.75717307366min\n"
     ]
    },
    {
     "name": "stderr",
     "output_type": "stream",
     "text": [
      "100%|██████████| 500/500 [07:52<00:00,  1.06it/s]\n"
     ]
    },
    {
     "name": "stdout",
     "output_type": "stream",
     "text": [
      "GCV: Calculating combo 164 of 1225: 13.39%: Projected time left 16540.921964749865min\n"
     ]
    },
    {
     "name": "stderr",
     "output_type": "stream",
     "text": [
      "100%|██████████| 500/500 [07:58<00:00,  1.05it/s]\n"
     ]
    },
    {
     "name": "stdout",
     "output_type": "stream",
     "text": [
      "GCV: Calculating combo 165 of 1225: 13.47%: Projected time left 16476.381967413545min\n"
     ]
    },
    {
     "name": "stderr",
     "output_type": "stream",
     "text": [
      "100%|██████████| 500/500 [08:08<00:00,  1.02it/s]\n"
     ]
    },
    {
     "name": "stdout",
     "output_type": "stream",
     "text": [
      "GCV: Calculating combo 166 of 1225: 13.55%: Projected time left 16413.5804732169min\n"
     ]
    },
    {
     "name": "stderr",
     "output_type": "stream",
     "text": [
      "100%|██████████| 500/500 [08:02<00:00,  1.04it/s]\n"
     ]
    },
    {
     "name": "stdout",
     "output_type": "stream",
     "text": [
      "GCV: Calculating combo 167 of 1225: 13.63%: Projected time left 16350.800295702378min\n"
     ]
    },
    {
     "name": "stderr",
     "output_type": "stream",
     "text": [
      "100%|██████████| 500/500 [08:24<00:00,  1.01s/it]\n"
     ]
    },
    {
     "name": "stdout",
     "output_type": "stream",
     "text": [
      "GCV: Calculating combo 168 of 1225: 13.71%: Projected time left 16291.029866131477min\n"
     ]
    },
    {
     "name": "stderr",
     "output_type": "stream",
     "text": [
      "100%|██████████| 500/500 [07:58<00:00,  1.04it/s]\n"
     ]
    },
    {
     "name": "stdout",
     "output_type": "stream",
     "text": [
      "GCV: Calculating combo 169 of 1225: 13.8%: Projected time left 16229.170436394143min\n"
     ]
    },
    {
     "name": "stderr",
     "output_type": "stream",
     "text": [
      "100%|██████████| 500/500 [07:56<00:00,  1.05it/s]\n"
     ]
    },
    {
     "name": "stdout",
     "output_type": "stream",
     "text": [
      "GCV: Calculating combo 170 of 1225: 13.88%: Projected time left 16167.688042454743min\n"
     ]
    },
    {
     "name": "stderr",
     "output_type": "stream",
     "text": [
      "100%|██████████| 500/500 [08:00<00:00,  1.04it/s]\n"
     ]
    },
    {
     "name": "stdout",
     "output_type": "stream",
     "text": [
      "GCV: Calculating combo 171 of 1225: 13.96%: Projected time left 16107.279581813134min\n"
     ]
    },
    {
     "name": "stderr",
     "output_type": "stream",
     "text": [
      "100%|██████████| 500/500 [08:02<00:00,  1.04it/s]\n"
     ]
    },
    {
     "name": "stdout",
     "output_type": "stream",
     "text": [
      "GCV: Calculating combo 172 of 1225: 14.04%: Projected time left 16047.647259650605min\n"
     ]
    },
    {
     "name": "stderr",
     "output_type": "stream",
     "text": [
      "100%|██████████| 500/500 [08:04<00:00,  1.03it/s]\n"
     ]
    },
    {
     "name": "stdout",
     "output_type": "stream",
     "text": [
      "GCV: Calculating combo 173 of 1225: 14.12%: Projected time left 15988.882334869306min\n"
     ]
    },
    {
     "name": "stderr",
     "output_type": "stream",
     "text": [
      "100%|██████████| 500/500 [08:04<00:00,  1.03it/s]\n"
     ]
    },
    {
     "name": "stdout",
     "output_type": "stream",
     "text": [
      "GCV: Calculating combo 174 of 1225: 14.2%: Projected time left 15930.668930603602min\n"
     ]
    },
    {
     "name": "stderr",
     "output_type": "stream",
     "text": [
      "100%|██████████| 500/500 [07:54<00:00,  1.05it/s]\n"
     ]
    },
    {
     "name": "stdout",
     "output_type": "stream",
     "text": [
      "GCV: Calculating combo 175 of 1225: 14.29%: Projected time left 15871.973373198509min\n"
     ]
    },
    {
     "name": "stderr",
     "output_type": "stream",
     "text": [
      "100%|██████████| 500/500 [08:22<00:00,  1.00s/it]\n"
     ]
    },
    {
     "name": "stdout",
     "output_type": "stream",
     "text": [
      "GCV: Calculating combo 176 of 1225: 14.37%: Projected time left 15816.640484593652min\n"
     ]
    },
    {
     "name": "stderr",
     "output_type": "stream",
     "text": [
      "100%|██████████| 500/500 [10:00<00:00,  1.20s/it]\n"
     ]
    },
    {
     "name": "stdout",
     "output_type": "stream",
     "text": [
      "GCV: Calculating combo 177 of 1225: 14.45%: Projected time left 15771.549114319609min\n"
     ]
    },
    {
     "name": "stderr",
     "output_type": "stream",
     "text": [
      "100%|██████████| 500/500 [09:29<00:00,  1.14s/it]\n"
     ]
    },
    {
     "name": "stdout",
     "output_type": "stream",
     "text": [
      "GCV: Calculating combo 178 of 1225: 14.53%: Projected time left 15723.815535417767min\n"
     ]
    },
    {
     "name": "stderr",
     "output_type": "stream",
     "text": [
      "100%|██████████| 500/500 [09:20<00:00,  1.12s/it]\n"
     ]
    },
    {
     "name": "stdout",
     "output_type": "stream",
     "text": [
      "GCV: Calculating combo 179 of 1225: 14.61%: Projected time left 15675.622022897705min\n"
     ]
    },
    {
     "name": "stderr",
     "output_type": "stream",
     "text": [
      "100%|██████████| 500/500 [09:10<00:00,  1.10s/it]\n"
     ]
    },
    {
     "name": "stdout",
     "output_type": "stream",
     "text": [
      "GCV: Calculating combo 180 of 1225: 14.69%: Projected time left 15626.860998051254min\n"
     ]
    },
    {
     "name": "stderr",
     "output_type": "stream",
     "text": [
      "100%|██████████| 500/500 [09:21<00:00,  1.12s/it]\n"
     ]
    },
    {
     "name": "stdout",
     "output_type": "stream",
     "text": [
      "GCV: Calculating combo 181 of 1225: 14.78%: Projected time left 15579.588318781562min\n"
     ]
    },
    {
     "name": "stderr",
     "output_type": "stream",
     "text": [
      "100%|██████████| 500/500 [08:47<00:00,  1.06s/it]\n"
     ]
    },
    {
     "name": "stdout",
     "output_type": "stream",
     "text": [
      "GCV: Calculating combo 182 of 1225: 14.86%: Projected time left 15529.56762908254min\n"
     ]
    },
    {
     "name": "stderr",
     "output_type": "stream",
     "text": [
      "100%|██████████| 500/500 [09:55<00:00,  1.19s/it]\n"
     ]
    },
    {
     "name": "stdout",
     "output_type": "stream",
     "text": [
      "GCV: Calculating combo 183 of 1225: 14.94%: Projected time left 15486.431528289244min\n"
     ]
    },
    {
     "name": "stderr",
     "output_type": "stream",
     "text": [
      "100%|██████████| 500/500 [10:01<00:00,  1.20s/it]\n"
     ]
    },
    {
     "name": "stdout",
     "output_type": "stream",
     "text": [
      "GCV: Calculating combo 184 of 1225: 15.02%: Projected time left 15444.217625579431min\n"
     ]
    },
    {
     "name": "stderr",
     "output_type": "stream",
     "text": [
      "100%|██████████| 500/500 [08:39<00:00,  1.04s/it]\n"
     ]
    },
    {
     "name": "stdout",
     "output_type": "stream",
     "text": [
      "GCV: Calculating combo 185 of 1225: 15.1%: Projected time left 15394.626550676157min\n"
     ]
    },
    {
     "name": "stderr",
     "output_type": "stream",
     "text": [
      "100%|██████████| 500/500 [09:02<00:00,  1.09s/it]\n"
     ]
    },
    {
     "name": "stdout",
     "output_type": "stream",
     "text": [
      "GCV: Calculating combo 186 of 1225: 15.18%: Projected time left 15347.688484984743min\n"
     ]
    },
    {
     "name": "stderr",
     "output_type": "stream",
     "text": [
      "100%|██████████| 500/500 [09:37<00:00,  1.16s/it]\n"
     ]
    },
    {
     "name": "stdout",
     "output_type": "stream",
     "text": [
      "GCV: Calculating combo 187 of 1225: 15.27%: Projected time left 15304.375006837894min\n"
     ]
    },
    {
     "name": "stderr",
     "output_type": "stream",
     "text": [
      "100%|██████████| 500/500 [11:19<00:00,  1.36s/it]\n"
     ]
    },
    {
     "name": "stdout",
     "output_type": "stream",
     "text": [
      "GCV: Calculating combo 188 of 1225: 15.35%: Projected time left 15270.81172147224min\n"
     ]
    },
    {
     "name": "stderr",
     "output_type": "stream",
     "text": [
      "100%|██████████| 500/500 [10:18<00:00,  1.24s/it]\n"
     ]
    },
    {
     "name": "stdout",
     "output_type": "stream",
     "text": [
      "GCV: Calculating combo 189 of 1225: 15.43%: Projected time left 15231.855568190564min\n"
     ]
    },
    {
     "name": "stderr",
     "output_type": "stream",
     "text": [
      "100%|██████████| 500/500 [09:28<00:00,  1.14s/it]\n"
     ]
    },
    {
     "name": "stdout",
     "output_type": "stream",
     "text": [
      "GCV: Calculating combo 190 of 1225: 15.51%: Projected time left 15188.638253133548min\n"
     ]
    },
    {
     "name": "stderr",
     "output_type": "stream",
     "text": [
      "100%|██████████| 500/500 [09:23<00:00,  1.13s/it]\n"
     ]
    },
    {
     "name": "stdout",
     "output_type": "stream",
     "text": [
      "GCV: Calculating combo 191 of 1225: 15.59%: Projected time left 15145.332680373374min\n"
     ]
    },
    {
     "name": "stderr",
     "output_type": "stream",
     "text": [
      "100%|██████████| 500/500 [12:15<00:00,  1.47s/it]\n"
     ]
    },
    {
     "name": "stdout",
     "output_type": "stream",
     "text": [
      "GCV: Calculating combo 192 of 1225: 15.67%: Projected time left 15117.828380792153min\n"
     ]
    },
    {
     "name": "stderr",
     "output_type": "stream",
     "text": [
      "100%|██████████| 500/500 [12:54<00:00,  1.55s/it]\n"
     ]
    },
    {
     "name": "stdout",
     "output_type": "stream",
     "text": [
      "GCV: Calculating combo 193 of 1225: 15.76%: Projected time left 15093.995127494594min\n"
     ]
    },
    {
     "name": "stderr",
     "output_type": "stream",
     "text": [
      "100%|██████████| 500/500 [10:52<00:00,  1.31s/it]\n"
     ]
    },
    {
     "name": "stdout",
     "output_type": "stream",
     "text": [
      "GCV: Calculating combo 194 of 1225: 15.84%: Projected time left 15059.465742307695min\n"
     ]
    },
    {
     "name": "stderr",
     "output_type": "stream",
     "text": [
      "100%|██████████| 500/500 [10:17<00:00,  1.24s/it]\n"
     ]
    },
    {
     "name": "stdout",
     "output_type": "stream",
     "text": [
      "GCV: Calculating combo 195 of 1225: 15.92%: Projected time left 15022.087415698248min\n"
     ]
    },
    {
     "name": "stderr",
     "output_type": "stream",
     "text": [
      "100%|██████████| 500/500 [09:51<00:00,  1.18s/it]\n"
     ]
    },
    {
     "name": "stdout",
     "output_type": "stream",
     "text": [
      "GCV: Calculating combo 196 of 1225: 16.0%: Projected time left 14982.708914387225min\n"
     ]
    },
    {
     "name": "stderr",
     "output_type": "stream",
     "text": [
      "100%|██████████| 500/500 [15:09<00:00,  1.82s/it]\n"
     ]
    },
    {
     "name": "stdout",
     "output_type": "stream",
     "text": [
      "GCV: Calculating combo 197 of 1225: 16.08%: Projected time left 14971.27438578638min\n"
     ]
    },
    {
     "name": "stderr",
     "output_type": "stream",
     "text": [
      "100%|██████████| 500/500 [14:23<00:00,  1.73s/it]\n"
     ]
    },
    {
     "name": "stdout",
     "output_type": "stream",
     "text": [
      "GCV: Calculating combo 198 of 1225: 16.16%: Projected time left 14955.817070250378min\n"
     ]
    },
    {
     "name": "stderr",
     "output_type": "stream",
     "text": [
      "100%|██████████| 500/500 [12:13<00:00,  1.47s/it]\n"
     ]
    },
    {
     "name": "stdout",
     "output_type": "stream",
     "text": [
      "GCV: Calculating combo 199 of 1225: 16.24%: Projected time left 14929.18493804692min\n"
     ]
    },
    {
     "name": "stderr",
     "output_type": "stream",
     "text": [
      "100%|██████████| 500/500 [10:57<00:00,  1.32s/it]\n"
     ]
    },
    {
     "name": "stdout",
     "output_type": "stream",
     "text": [
      "GCV: Calculating combo 200 of 1225: 16.33%: Projected time left 14896.231868388752min\n"
     ]
    },
    {
     "name": "stderr",
     "output_type": "stream",
     "text": [
      "100%|██████████| 500/500 [10:22<00:00,  1.25s/it]\n"
     ]
    },
    {
     "name": "stdout",
     "output_type": "stream",
     "text": [
      "GCV: Calculating combo 201 of 1225: 16.41%: Projected time left 14860.536359847087min\n"
     ]
    },
    {
     "name": "stderr",
     "output_type": "stream",
     "text": [
      "100%|██████████| 500/500 [10:13<00:00,  1.23s/it]\n"
     ]
    },
    {
     "name": "stdout",
     "output_type": "stream",
     "text": [
      "GCV: Calculating combo 202 of 1225: 16.49%: Projected time left 14824.281979892985min\n"
     ]
    },
    {
     "name": "stderr",
     "output_type": "stream",
     "text": [
      "100%|██████████| 500/500 [08:53<00:00,  1.07s/it]\n"
     ]
    },
    {
     "name": "stdout",
     "output_type": "stream",
     "text": [
      "GCV: Calculating combo 203 of 1225: 16.57%: Projected time left 14781.627169284877min\n"
     ]
    },
    {
     "name": "stderr",
     "output_type": "stream",
     "text": [
      "100%|██████████| 500/500 [08:48<00:00,  1.06s/it]\n"
     ]
    },
    {
     "name": "stdout",
     "output_type": "stream",
     "text": [
      "GCV: Calculating combo 204 of 1225: 16.65%: Projected time left 14738.853851610287min\n"
     ]
    },
    {
     "name": "stderr",
     "output_type": "stream",
     "text": [
      "100%|██████████| 500/500 [09:45<00:00,  1.17s/it]\n"
     ]
    },
    {
     "name": "stdout",
     "output_type": "stream",
     "text": [
      "GCV: Calculating combo 205 of 1225: 16.73%: Projected time left 14701.177101352738min\n"
     ]
    },
    {
     "name": "stderr",
     "output_type": "stream",
     "text": [
      "100%|██████████| 500/500 [09:51<00:00,  1.18s/it]\n"
     ]
    },
    {
     "name": "stdout",
     "output_type": "stream",
     "text": [
      "GCV: Calculating combo 206 of 1225: 16.82%: Projected time left 14664.210102447954min\n"
     ]
    },
    {
     "name": "stderr",
     "output_type": "stream",
     "text": [
      "100%|██████████| 500/500 [10:29<00:00,  1.26s/it]\n"
     ]
    },
    {
     "name": "stdout",
     "output_type": "stream",
     "text": [
      "GCV: Calculating combo 207 of 1225: 16.9%: Projected time left 14630.68144560156min\n"
     ]
    },
    {
     "name": "stderr",
     "output_type": "stream",
     "text": [
      "100%|██████████| 500/500 [09:42<00:00,  1.16s/it]\n"
     ]
    },
    {
     "name": "stdout",
     "output_type": "stream",
     "text": [
      "GCV: Calculating combo 208 of 1225: 16.98%: Projected time left 14593.466894129779min\n"
     ]
    },
    {
     "name": "stderr",
     "output_type": "stream",
     "text": [
      "100%|██████████| 500/500 [09:12<00:00,  1.11s/it]\n"
     ]
    },
    {
     "name": "stdout",
     "output_type": "stream",
     "text": [
      "GCV: Calculating combo 209 of 1225: 17.06%: Projected time left 14554.134431006387min\n"
     ]
    },
    {
     "name": "stderr",
     "output_type": "stream",
     "text": [
      "100%|██████████| 500/500 [08:17<00:00,  1.01it/s]\n"
     ]
    },
    {
     "name": "stdout",
     "output_type": "stream",
     "text": [
      "GCV: Calculating combo 210 of 1225: 17.14%: Projected time left 14510.618205581772min\n"
     ]
    },
    {
     "name": "stderr",
     "output_type": "stream",
     "text": [
      "100%|██████████| 500/500 [08:27<00:00,  1.02s/it]\n"
     ]
    },
    {
     "name": "stdout",
     "output_type": "stream",
     "text": [
      "GCV: Calculating combo 211 of 1225: 17.22%: Projected time left 14468.277822498689min\n"
     ]
    },
    {
     "name": "stderr",
     "output_type": "stream",
     "text": [
      "100%|██████████| 500/500 [11:18<00:00,  1.36s/it]\n"
     ]
    },
    {
     "name": "stdout",
     "output_type": "stream",
     "text": [
      "GCV: Calculating combo 212 of 1225: 17.31%: Projected time left 14439.85353899137min\n"
     ]
    },
    {
     "name": "stderr",
     "output_type": "stream",
     "text": [
      "100%|██████████| 500/500 [10:04<00:00,  1.21s/it]\n"
     ]
    },
    {
     "name": "stdout",
     "output_type": "stream",
     "text": [
      "GCV: Calculating combo 213 of 1225: 17.39%: Projected time left 14405.749541217208min\n"
     ]
    },
    {
     "name": "stderr",
     "output_type": "stream",
     "text": [
      "100%|██████████| 500/500 [09:30<00:00,  1.14s/it]\n"
     ]
    },
    {
     "name": "stdout",
     "output_type": "stream",
     "text": [
      "GCV: Calculating combo 214 of 1225: 17.47%: Projected time left 14369.189567512163min\n"
     ]
    },
    {
     "name": "stderr",
     "output_type": "stream",
     "text": [
      "100%|██████████| 500/500 [09:02<00:00,  1.08s/it]\n"
     ]
    },
    {
     "name": "stdout",
     "output_type": "stream",
     "text": [
      "GCV: Calculating combo 215 of 1225: 17.55%: Projected time left 14330.647969040205min\n"
     ]
    },
    {
     "name": "stderr",
     "output_type": "stream",
     "text": [
      "100%|██████████| 500/500 [08:32<00:00,  1.03s/it]\n"
     ]
    },
    {
     "name": "stdout",
     "output_type": "stream",
     "text": [
      "GCV: Calculating combo 216 of 1225: 17.63%: Projected time left 14290.098804296922min\n"
     ]
    },
    {
     "name": "stderr",
     "output_type": "stream",
     "text": [
      "100%|██████████| 500/500 [13:46<00:00,  1.65s/it]\n"
     ]
    },
    {
     "name": "stdout",
     "output_type": "stream",
     "text": [
      "GCV: Calculating combo 217 of 1225: 17.71%: Projected time left 14274.130758180927min\n"
     ]
    },
    {
     "name": "stderr",
     "output_type": "stream",
     "text": [
      "100%|██████████| 500/500 [11:28<00:00,  1.38s/it]\n"
     ]
    },
    {
     "name": "stdout",
     "output_type": "stream",
     "text": [
      "GCV: Calculating combo 218 of 1225: 17.8%: Projected time left 14247.530239697753min\n"
     ]
    },
    {
     "name": "stderr",
     "output_type": "stream",
     "text": [
      "100%|██████████| 500/500 [10:58<00:00,  1.32s/it]\n"
     ]
    },
    {
     "name": "stdout",
     "output_type": "stream",
     "text": [
      "GCV: Calculating combo 219 of 1225: 17.88%: Projected time left 14218.841967453187min\n"
     ]
    },
    {
     "name": "stderr",
     "output_type": "stream",
     "text": [
      "100%|██████████| 500/500 [09:56<00:00,  1.19s/it]\n"
     ]
    },
    {
     "name": "stdout",
     "output_type": "stream",
     "text": [
      "GCV: Calculating combo 220 of 1225: 17.96%: Projected time left 14185.57047010579min\n"
     ]
    },
    {
     "name": "stderr",
     "output_type": "stream",
     "text": [
      "100%|██████████| 500/500 [09:27<00:00,  1.14s/it]\n"
     ]
    },
    {
     "name": "stdout",
     "output_type": "stream",
     "text": [
      "GCV: Calculating combo 221 of 1225: 18.04%: Projected time left 14150.30072593322min\n"
     ]
    },
    {
     "name": "stderr",
     "output_type": "stream",
     "text": [
      "100%|██████████| 500/500 [15:38<00:00,  1.88s/it]\n"
     ]
    },
    {
     "name": "stdout",
     "output_type": "stream",
     "text": [
      "GCV: Calculating combo 222 of 1225: 18.12%: Projected time left 14143.177996265693min\n"
     ]
    },
    {
     "name": "stderr",
     "output_type": "stream",
     "text": [
      "100%|██████████| 500/500 [13:51<00:00,  1.66s/it]\n"
     ]
    },
    {
     "name": "stdout",
     "output_type": "stream",
     "text": [
      "GCV: Calculating combo 223 of 1225: 18.2%: Projected time left 14128.010108104201min\n"
     ]
    },
    {
     "name": "stderr",
     "output_type": "stream",
     "text": [
      "100%|██████████| 500/500 [12:21<00:00,  1.48s/it]\n"
     ]
    },
    {
     "name": "stdout",
     "output_type": "stream",
     "text": [
      "GCV: Calculating combo 224 of 1225: 18.29%: Projected time left 14106.153838107113min\n"
     ]
    },
    {
     "name": "stderr",
     "output_type": "stream",
     "text": [
      "100%|██████████| 500/500 [10:35<00:00,  1.27s/it]\n"
     ]
    },
    {
     "name": "stdout",
     "output_type": "stream",
     "text": [
      "GCV: Calculating combo 225 of 1225: 18.37%: Projected time left 14076.502496825324min\n"
     ]
    },
    {
     "name": "stderr",
     "output_type": "stream",
     "text": [
      "100%|██████████| 500/500 [09:38<00:00,  1.16s/it]\n"
     ]
    },
    {
     "name": "stdout",
     "output_type": "stream",
     "text": [
      "GCV: Calculating combo 226 of 1225: 18.45%: Projected time left 14042.79618566685min\n"
     ]
    },
    {
     "name": "stderr",
     "output_type": "stream",
     "text": [
      "100%|██████████| 500/500 [08:38<00:00,  1.04s/it]\n"
     ]
    },
    {
     "name": "stdout",
     "output_type": "stream",
     "text": [
      "GCV: Calculating combo 227 of 1225: 18.53%: Projected time left 14004.965619350634min\n"
     ]
    },
    {
     "name": "stderr",
     "output_type": "stream",
     "text": [
      "100%|██████████| 500/500 [09:34<00:00,  1.15s/it]\n"
     ]
    },
    {
     "name": "stdout",
     "output_type": "stream",
     "text": [
      "GCV: Calculating combo 228 of 1225: 18.61%: Projected time left 13971.450416783999min\n"
     ]
    },
    {
     "name": "stderr",
     "output_type": "stream",
     "text": [
      "100%|██████████| 500/500 [07:57<00:00,  1.05it/s]\n"
     ]
    },
    {
     "name": "stdout",
     "output_type": "stream",
     "text": [
      "GCV: Calculating combo 229 of 1225: 18.69%: Projected time left 13931.07443297565min\n"
     ]
    },
    {
     "name": "stderr",
     "output_type": "stream",
     "text": [
      "100%|██████████| 500/500 [07:50<00:00,  1.06it/s]\n"
     ]
    },
    {
     "name": "stdout",
     "output_type": "stream",
     "text": [
      "GCV: Calculating combo 230 of 1225: 18.78%: Projected time left 13890.521228522493min\n"
     ]
    },
    {
     "name": "stderr",
     "output_type": "stream",
     "text": [
      "100%|██████████| 500/500 [08:21<00:00,  1.00s/it]\n"
     ]
    },
    {
     "name": "stdout",
     "output_type": "stream",
     "text": [
      "GCV: Calculating combo 231 of 1225: 18.86%: Projected time left 13852.43117929998min\n"
     ]
    },
    {
     "name": "stderr",
     "output_type": "stream",
     "text": [
      "100%|██████████| 500/500 [09:11<00:00,  1.10s/it]\n"
     ]
    },
    {
     "name": "stdout",
     "output_type": "stream",
     "text": [
      "GCV: Calculating combo 232 of 1225: 18.94%: Projected time left 13818.187564026744min\n"
     ]
    },
    {
     "name": "stderr",
     "output_type": "stream",
     "text": [
      "100%|██████████| 500/500 [09:08<00:00,  1.10s/it]\n"
     ]
    },
    {
     "name": "stdout",
     "output_type": "stream",
     "text": [
      "GCV: Calculating combo 233 of 1225: 19.02%: Projected time left 13783.93788097802min\n"
     ]
    },
    {
     "name": "stderr",
     "output_type": "stream",
     "text": [
      "100%|██████████| 500/500 [08:49<00:00,  1.06s/it]\n"
     ]
    },
    {
     "name": "stdout",
     "output_type": "stream",
     "text": [
      "GCV: Calculating combo 234 of 1225: 19.1%: Projected time left 13748.582183016211min\n"
     ]
    },
    {
     "name": "stderr",
     "output_type": "stream",
     "text": [
      "100%|██████████| 500/500 [07:47<00:00,  1.07it/s]\n"
     ]
    },
    {
     "name": "stdout",
     "output_type": "stream",
     "text": [
      "GCV: Calculating combo 235 of 1225: 19.18%: Projected time left 13709.078564506895min\n"
     ]
    },
    {
     "name": "stderr",
     "output_type": "stream",
     "text": [
      "100%|██████████| 500/500 [08:02<00:00,  1.04it/s]\n"
     ]
    },
    {
     "name": "stdout",
     "output_type": "stream",
     "text": [
      "GCV: Calculating combo 236 of 1225: 19.27%: Projected time left 13670.899800144902min\n"
     ]
    },
    {
     "name": "stderr",
     "output_type": "stream",
     "text": [
      "100%|██████████| 500/500 [12:15<00:00,  1.47s/it]\n"
     ]
    },
    {
     "name": "stdout",
     "output_type": "stream",
     "text": [
      "GCV: Calculating combo 237 of 1225: 19.35%: Projected time left 13650.559318406404min\n"
     ]
    },
    {
     "name": "stderr",
     "output_type": "stream",
     "text": [
      "100%|██████████| 500/500 [10:04<00:00,  1.21s/it]\n"
     ]
    },
    {
     "name": "stdout",
     "output_type": "stream",
     "text": [
      "GCV: Calculating combo 238 of 1225: 19.43%: Projected time left 13621.251042264348min\n"
     ]
    },
    {
     "name": "stderr",
     "output_type": "stream",
     "text": [
      "100%|██████████| 500/500 [08:57<00:00,  1.08s/it]\n"
     ]
    },
    {
     "name": "stdout",
     "output_type": "stream",
     "text": [
      "GCV: Calculating combo 239 of 1225: 19.51%: Projected time left 13587.48684707253min\n"
     ]
    },
    {
     "name": "stderr",
     "output_type": "stream",
     "text": [
      "100%|██████████| 500/500 [08:02<00:00,  1.04it/s]\n"
     ]
    },
    {
     "name": "stdout",
     "output_type": "stream",
     "text": [
      "GCV: Calculating combo 240 of 1225: 19.59%: Projected time left 13550.149071361124min\n"
     ]
    },
    {
     "name": "stderr",
     "output_type": "stream",
     "text": [
      "100%|██████████| 500/500 [07:46<00:00,  1.07it/s]\n"
     ]
    },
    {
     "name": "stdout",
     "output_type": "stream",
     "text": [
      "GCV: Calculating combo 241 of 1225: 19.67%: Projected time left 13511.977738964113min\n"
     ]
    },
    {
     "name": "stderr",
     "output_type": "stream",
     "text": [
      "100%|██████████| 500/500 [14:39<00:00,  1.76s/it]\n"
     ]
    },
    {
     "name": "stdout",
     "output_type": "stream",
     "text": [
      "GCV: Calculating combo 242 of 1225: 19.76%: Projected time left 13502.014755345095min\n"
     ]
    },
    {
     "name": "stderr",
     "output_type": "stream",
     "text": [
      "100%|██████████| 500/500 [10:39<00:00,  1.28s/it]\n"
     ]
    },
    {
     "name": "stdout",
     "output_type": "stream",
     "text": [
      "GCV: Calculating combo 243 of 1225: 19.84%: Projected time left 13475.866430862874min\n"
     ]
    },
    {
     "name": "stderr",
     "output_type": "stream",
     "text": [
      "100%|██████████| 500/500 [09:18<00:00,  1.12s/it]\n"
     ]
    },
    {
     "name": "stdout",
     "output_type": "stream",
     "text": [
      "GCV: Calculating combo 244 of 1225: 19.92%: Projected time left 13444.398931039259min\n"
     ]
    },
    {
     "name": "stderr",
     "output_type": "stream",
     "text": [
      "100%|██████████| 500/500 [08:44<00:00,  1.05s/it]\n"
     ]
    },
    {
     "name": "stdout",
     "output_type": "stream",
     "text": [
      "GCV: Calculating combo 245 of 1225: 20.0%: Projected time left 13410.864330005646min\n"
     ]
    },
    {
     "name": "stderr",
     "output_type": "stream",
     "text": [
      "100%|██████████| 500/500 [08:04<00:00,  1.03it/s]\n"
     ]
    },
    {
     "name": "stdout",
     "output_type": "stream",
     "text": [
      "GCV: Calculating combo 246 of 1225: 20.08%: Projected time left 13374.882933389623min\n"
     ]
    },
    {
     "name": "stderr",
     "output_type": "stream",
     "text": [
      "100%|██████████| 500/500 [16:29<00:00,  1.98s/it]\n"
     ]
    },
    {
     "name": "stdout",
     "output_type": "stream",
     "text": [
      "GCV: Calculating combo 247 of 1225: 20.16%: Projected time left 13372.429426633202min\n"
     ]
    },
    {
     "name": "stderr",
     "output_type": "stream",
     "text": [
      "100%|██████████| 500/500 [12:53<00:00,  1.55s/it]\n"
     ]
    },
    {
     "name": "stdout",
     "output_type": "stream",
     "text": [
      "GCV: Calculating combo 248 of 1225: 20.24%: Projected time left 13355.657194213296min\n"
     ]
    },
    {
     "name": "stderr",
     "output_type": "stream",
     "text": [
      "100%|██████████| 500/500 [10:14<00:00,  1.23s/it]\n"
     ]
    },
    {
     "name": "stdout",
     "output_type": "stream",
     "text": [
      "GCV: Calculating combo 249 of 1225: 20.33%: Projected time left 13328.569808741906min\n"
     ]
    },
    {
     "name": "stderr",
     "output_type": "stream",
     "text": [
      "100%|██████████| 500/500 [09:11<00:00,  1.10s/it]\n"
     ]
    },
    {
     "name": "stdout",
     "output_type": "stream",
     "text": [
      "GCV: Calculating combo 250 of 1225: 20.41%: Projected time left 13297.491629458666min\n"
     ]
    },
    {
     "name": "stderr",
     "output_type": "stream",
     "text": [
      "100%|██████████| 500/500 [08:59<00:00,  1.08s/it]\n"
     ]
    },
    {
     "name": "stdout",
     "output_type": "stream",
     "text": [
      "GCV: Calculating combo 251 of 1225: 20.49%: Projected time left 13265.845633569721min\n"
     ]
    },
    {
     "name": "stderr",
     "output_type": "stream",
     "text": [
      "100%|██████████| 500/500 [07:58<00:00,  1.04it/s]\n"
     ]
    },
    {
     "name": "stdout",
     "output_type": "stream",
     "text": [
      "GCV: Calculating combo 252 of 1225: 20.57%: Projected time left 13230.448682403454min\n"
     ]
    },
    {
     "name": "stderr",
     "output_type": "stream",
     "text": [
      " 19%|█▉        | 95/500 [01:46<07:35,  1.13s/it]\n"
     ]
    },
    {
     "ename": "KeyboardInterrupt",
     "evalue": "",
     "output_type": "error",
     "traceback": [
      "\u001b[1;31m---------------------------------------------------------------------------\u001b[0m",
      "\u001b[1;31mKeyboardInterrupt\u001b[0m                         Traceback (most recent call last)",
      "Cell \u001b[1;32mIn [30], line 35\u001b[0m\n\u001b[0;32m     33\u001b[0m \u001b[39mif\u001b[39;00m GCV_opt:\n\u001b[0;32m     34\u001b[0m     start_time \u001b[39m=\u001b[39m time\u001b[39m.\u001b[39mtime()\n\u001b[1;32m---> 35\u001b[0m     GCV_MSE_array, GCV_lambda_array, GCV_imp_array, GCV_imp_bias_array, GCV_imp_var_array \u001b[39m=\u001b[39m get_lam_selection_MSE_array(\n\u001b[0;32m     36\u001b[0m         c1_set, c2_set, T21_set, T22_set, lambdas, \u001b[39m'\u001b[39;49m\u001b[39mGCV\u001b[39;49m\u001b[39m'\u001b[39;49m, verbose \u001b[39m=\u001b[39;49m \u001b[39mTrue\u001b[39;49;00m)\n\u001b[0;32m     37\u001b[0m     \u001b[39mprint\u001b[39m(\u001b[39m'\u001b[39m\u001b[39mGCV time:\u001b[39m\u001b[39m'\u001b[39m, (time\u001b[39m.\u001b[39mtime()\u001b[39m-\u001b[39mstart_time)\u001b[39m/\u001b[39m\u001b[39m60\u001b[39m, \u001b[39m'\u001b[39m\u001b[39m minutes\u001b[39m\u001b[39m'\u001b[39m)\n",
      "Cell \u001b[1;32mIn [21], line 243\u001b[0m, in \u001b[0;36mget_lam_selection_MSE_array\u001b[1;34m(c1_set, c2_set, T21_set, T22_set, lambdas, lam_select, noise_iterations, verbose, aggregate, safety_factor, model)\u001b[0m\n\u001b[0;32m    241\u001b[0m     lam \u001b[39m=\u001b[39m DNN_lambda(data, model)\n\u001b[0;32m    242\u001b[0m lambda_array[ic1,ic2,iT21,iT22,:] \u001b[39m=\u001b[39m lam\n\u001b[1;32m--> 243\u001b[0m est \u001b[39m=\u001b[39m estimate_parameters(data, lam)\n\u001b[0;32m    244\u001b[0m est_unreg \u001b[39m=\u001b[39m estimate_parameters(data, \u001b[39m0\u001b[39m)\n\u001b[0;32m    245\u001b[0m estimates[i,:] \u001b[39m=\u001b[39m est\n",
      "Cell \u001b[1;32mIn [21], line 40\u001b[0m, in \u001b[0;36mestimate_parameters\u001b[1;34m(data, lam, n_initials, post_normalize)\u001b[0m\n\u001b[0;32m     36\u001b[0m p0 \u001b[39m=\u001b[39m [ic1,ic2,iT21,iT22]\n\u001b[0;32m     38\u001b[0m data_tilde \u001b[39m=\u001b[39m np\u001b[39m.\u001b[39mappend(data, [\u001b[39m0\u001b[39m,\u001b[39m0\u001b[39m,\u001b[39m0\u001b[39m,\u001b[39m0\u001b[39m])  \n\u001b[1;32m---> 40\u001b[0m (c1e, c2e, T21e, T22e), cov \u001b[39m=\u001b[39m curve_fit(G_tilde(lam), tdata, data_tilde, bounds \u001b[39m=\u001b[39;49m (\u001b[39m0\u001b[39;49m, upper_bound), p0\u001b[39m=\u001b[39;49mp0, max_nfev \u001b[39m=\u001b[39;49m \u001b[39m4000\u001b[39;49m)\n\u001b[0;32m     42\u001b[0m \u001b[39m#Require T22>T21\u001b[39;00m\n\u001b[0;32m     43\u001b[0m \u001b[39mif\u001b[39;00m T22e \u001b[39m>\u001b[39m T21e:\n",
      "File \u001b[1;32mc:\\co\\NIA\\.grif_venv\\lib\\site-packages\\scipy\\optimize\\_minpack_py.py:845\u001b[0m, in \u001b[0;36mcurve_fit\u001b[1;34m(f, xdata, ydata, p0, sigma, absolute_sigma, check_finite, bounds, method, jac, full_output, **kwargs)\u001b[0m\n\u001b[0;32m    842\u001b[0m \u001b[39mif\u001b[39;00m \u001b[39m'\u001b[39m\u001b[39mmax_nfev\u001b[39m\u001b[39m'\u001b[39m \u001b[39mnot\u001b[39;00m \u001b[39min\u001b[39;00m kwargs:\n\u001b[0;32m    843\u001b[0m     kwargs[\u001b[39m'\u001b[39m\u001b[39mmax_nfev\u001b[39m\u001b[39m'\u001b[39m] \u001b[39m=\u001b[39m kwargs\u001b[39m.\u001b[39mpop(\u001b[39m'\u001b[39m\u001b[39mmaxfev\u001b[39m\u001b[39m'\u001b[39m, \u001b[39mNone\u001b[39;00m)\n\u001b[1;32m--> 845\u001b[0m res \u001b[39m=\u001b[39m least_squares(func, p0, jac\u001b[39m=\u001b[39mjac, bounds\u001b[39m=\u001b[39mbounds, method\u001b[39m=\u001b[39mmethod,\n\u001b[0;32m    846\u001b[0m                     \u001b[39m*\u001b[39m\u001b[39m*\u001b[39mkwargs)\n\u001b[0;32m    848\u001b[0m \u001b[39mif\u001b[39;00m \u001b[39mnot\u001b[39;00m res\u001b[39m.\u001b[39msuccess:\n\u001b[0;32m    849\u001b[0m     \u001b[39mraise\u001b[39;00m \u001b[39mRuntimeError\u001b[39;00m(\u001b[39m\"\u001b[39m\u001b[39mOptimal parameters not found: \u001b[39m\u001b[39m\"\u001b[39m \u001b[39m+\u001b[39m res\u001b[39m.\u001b[39mmessage)\n",
      "File \u001b[1;32mc:\\co\\NIA\\.grif_venv\\lib\\site-packages\\scipy\\optimize\\_lsq\\least_squares.py:928\u001b[0m, in \u001b[0;36mleast_squares\u001b[1;34m(fun, x0, jac, bounds, method, ftol, xtol, gtol, x_scale, loss, f_scale, diff_step, tr_solver, tr_options, jac_sparsity, max_nfev, verbose, args, kwargs)\u001b[0m\n\u001b[0;32m    924\u001b[0m     result \u001b[39m=\u001b[39m call_minpack(fun_wrapped, x0, jac_wrapped, ftol, xtol, gtol,\n\u001b[0;32m    925\u001b[0m                           max_nfev, x_scale, diff_step)\n\u001b[0;32m    927\u001b[0m \u001b[39melif\u001b[39;00m method \u001b[39m==\u001b[39m \u001b[39m'\u001b[39m\u001b[39mtrf\u001b[39m\u001b[39m'\u001b[39m:\n\u001b[1;32m--> 928\u001b[0m     result \u001b[39m=\u001b[39m trf(fun_wrapped, jac_wrapped, x0, f0, J0, lb, ub, ftol, xtol,\n\u001b[0;32m    929\u001b[0m                  gtol, max_nfev, x_scale, loss_function, tr_solver,\n\u001b[0;32m    930\u001b[0m                  tr_options\u001b[39m.\u001b[39;49mcopy(), verbose)\n\u001b[0;32m    932\u001b[0m \u001b[39melif\u001b[39;00m method \u001b[39m==\u001b[39m \u001b[39m'\u001b[39m\u001b[39mdogbox\u001b[39m\u001b[39m'\u001b[39m:\n\u001b[0;32m    933\u001b[0m     \u001b[39mif\u001b[39;00m tr_solver \u001b[39m==\u001b[39m \u001b[39m'\u001b[39m\u001b[39mlsmr\u001b[39m\u001b[39m'\u001b[39m \u001b[39mand\u001b[39;00m \u001b[39m'\u001b[39m\u001b[39mregularize\u001b[39m\u001b[39m'\u001b[39m \u001b[39min\u001b[39;00m tr_options:\n",
      "File \u001b[1;32mc:\\co\\NIA\\.grif_venv\\lib\\site-packages\\scipy\\optimize\\_lsq\\trf.py:123\u001b[0m, in \u001b[0;36mtrf\u001b[1;34m(fun, jac, x0, f0, J0, lb, ub, ftol, xtol, gtol, max_nfev, x_scale, loss_function, tr_solver, tr_options, verbose)\u001b[0m\n\u001b[0;32m    119\u001b[0m     \u001b[39mreturn\u001b[39;00m trf_no_bounds(\n\u001b[0;32m    120\u001b[0m         fun, jac, x0, f0, J0, ftol, xtol, gtol, max_nfev, x_scale,\n\u001b[0;32m    121\u001b[0m         loss_function, tr_solver, tr_options, verbose)\n\u001b[0;32m    122\u001b[0m \u001b[39melse\u001b[39;00m:\n\u001b[1;32m--> 123\u001b[0m     \u001b[39mreturn\u001b[39;00m trf_bounds(\n\u001b[0;32m    124\u001b[0m         fun, jac, x0, f0, J0, lb, ub, ftol, xtol, gtol, max_nfev, x_scale,\n\u001b[0;32m    125\u001b[0m         loss_function, tr_solver, tr_options, verbose)\n",
      "File \u001b[1;32mc:\\co\\NIA\\.grif_venv\\lib\\site-packages\\scipy\\optimize\\_lsq\\trf.py:300\u001b[0m, in \u001b[0;36mtrf_bounds\u001b[1;34m(fun, jac, x0, f0, J0, lb, ub, ftol, xtol, gtol, max_nfev, x_scale, loss_function, tr_solver, tr_options, verbose)\u001b[0m\n\u001b[0;32m    298\u001b[0m J_augmented[:m] \u001b[39m=\u001b[39m J \u001b[39m*\u001b[39m d\n\u001b[0;32m    299\u001b[0m J_h \u001b[39m=\u001b[39m J_augmented[:m]  \u001b[39m# Memory view.\u001b[39;00m\n\u001b[1;32m--> 300\u001b[0m J_augmented[m:] \u001b[39m=\u001b[39m np\u001b[39m.\u001b[39;49mdiag(diag_h\u001b[39m*\u001b[39;49m\u001b[39m*\u001b[39;49m\u001b[39m0.5\u001b[39;49m)\n\u001b[0;32m    301\u001b[0m U, s, V \u001b[39m=\u001b[39m svd(J_augmented, full_matrices\u001b[39m=\u001b[39m\u001b[39mFalse\u001b[39;00m)\n\u001b[0;32m    302\u001b[0m V \u001b[39m=\u001b[39m V\u001b[39m.\u001b[39mT\n",
      "File \u001b[1;32m<__array_function__ internals>:177\u001b[0m, in \u001b[0;36mdiag\u001b[1;34m(*args, **kwargs)\u001b[0m\n",
      "File \u001b[1;32m_pydevd_bundle/pydevd_cython.pyx:1443\u001b[0m, in \u001b[0;36m_pydevd_bundle.pydevd_cython.SafeCallWrapper.__call__\u001b[1;34m()\u001b[0m\n",
      "File \u001b[1;32m_pydevd_bundle/pydevd_cython.pyx:1744\u001b[0m, in \u001b[0;36m_pydevd_bundle.pydevd_cython.ThreadTracer.__call__\u001b[1;34m()\u001b[0m\n",
      "File \u001b[1;32mc:\\co\\NIA\\.grif_venv\\lib\\site-packages\\debugpy\\_vendored\\pydevd\\_pydev_bundle\\pydev_is_thread_alive.py:9\u001b[0m, in \u001b[0;36mis_thread_alive\u001b[1;34m(t)\u001b[0m\n\u001b[0;32m      6\u001b[0m _temp \u001b[39m=\u001b[39m threading\u001b[39m.\u001b[39mThread()\n\u001b[0;32m      7\u001b[0m \u001b[39mif\u001b[39;00m \u001b[39mhasattr\u001b[39m(_temp, \u001b[39m'\u001b[39m\u001b[39m_is_stopped\u001b[39m\u001b[39m'\u001b[39m):  \u001b[39m# Python 3.x has this\u001b[39;00m\n\u001b[1;32m----> 9\u001b[0m     \u001b[39mdef\u001b[39;00m \u001b[39mis_thread_alive\u001b[39m(t):\n\u001b[0;32m     10\u001b[0m         \u001b[39mreturn\u001b[39;00m \u001b[39mnot\u001b[39;00m t\u001b[39m.\u001b[39m_is_stopped\n\u001b[0;32m     12\u001b[0m \u001b[39melif\u001b[39;00m \u001b[39mhasattr\u001b[39m(_temp, \u001b[39m'\u001b[39m\u001b[39m_Thread__stopped\u001b[39m\u001b[39m'\u001b[39m):  \u001b[39m# Python 2.x has this\u001b[39;00m\n",
      "\u001b[1;31mKeyboardInterrupt\u001b[0m: "
     ]
    }
   ],
   "source": [
    "if load_fig2:\n",
    "    if minMSE_opt:\n",
    "        print('TODO')\n",
    "\n",
    "    if oracle_opt:\n",
    "        print('TODO')\n",
    "\n",
    "    if GCV_opt:\n",
    "        with h5py.File(f'SimulationSets//GCV//fig2set_100_10Nov22.hdf5','a') as f:\n",
    "            #Save a data set\n",
    "            # dset = f.create_dataset('runInfo',data=runInfo)\n",
    "            GCV_MSE_array = np.array(f['MSE_array'])\n",
    "            GCV_lambda_array = np.array(f['lambda_array'])\n",
    "            GCV_imp_array = np.array(f['improvement_array'])\n",
    "        with open('SimulationSets//GCV//runInfo_100_10Nov22.pkl', 'rb') as handle:\n",
    "            dict = pickle.load(handle)\n",
    "        SNR = dict['SNR']\n",
    "\n",
    "    \n",
    "else:\n",
    "    if minMSE_opt:\n",
    "        start_time = time.time()\n",
    "        min_MSE_array, min_lambda_array, min_MSE_imp_array, unreg_MSE_array = get_min_MSE_array(\n",
    "            c1_set, c2_set, T21_set, T22_set, lambdas, verbose=False)\n",
    "        print('Min MSE time:', (time.time()-start_time)/60, ' minutes')\n",
    "\n",
    "    if oracle_opt:\n",
    "        start_time = time.time()\n",
    "        oracle_MSE_array, oracle_lambda_array, oracle_imp_array = get_lam_selection_MSE_array(\n",
    "            c1_set, c2_set, T21_set, T22_set, lambdas, 'oracle', aggregate=True)\n",
    "        print('Oracle time:', (time.time()-start_time)/60, ' minutes')\n",
    "\n",
    "    if GCV_opt:\n",
    "        start_time = time.time()\n",
    "        GCV_MSE_array, GCV_lambda_array, GCV_imp_array, GCV_imp_bias_array, GCV_imp_var_array = get_lam_selection_MSE_array(\n",
    "            c1_set, c2_set, T21_set, T22_set, lambdas, 'GCV', verbose = True)\n",
    "        print('GCV time:', (time.time()-start_time)/60, ' minutes')\n",
    "\n",
    "\n",
    "# model = load_model('DNN Networks//reg_model SNR 100 3-23.h5')\n",
    "# DNN_MSE_array, DNN_lambda_array, DNN_imp_array = get_lam_selection_MSE_array(\n",
    "    # c1_set, c2_set, T21_set, T22_set, lambdas, 'DNN', model=model)"
   ]
  },
  {
   "cell_type": "code",
   "execution_count": null,
   "id": "75f90303-f05e-409b-bb4b-148874699c55",
   "metadata": {},
   "outputs": [],
   "source": [
    "if oracle_opt:\n",
    "    #Parameter of interest, using the standard indexing for this code\n",
    "    POI = 0\n",
    "    fig, ax = plt.subplots(figsize = (5, 5), tight_layout=True)\n",
    "    fig.suptitle(\"Oracle Improvement over NLLS, SNR = %s\" % SNR)\n",
    "    imc1 = ax.imshow(oracle_imp_array[0,0,:,:,POI], cmap = 'Oranges', vmin = 0, vmax = 1.2)\n",
    "\n",
    "    ax.set_title('Improvement in c1 MSE')\n",
    "    ax.set_xticks(np.arange(len(T22_set)))\n",
    "    ax.set_yticks(np.arange(len(T21_set)))\n",
    "    ax.set_xticklabels(T22_set)\n",
    "    ax.set_yticklabels(T21_set)\n",
    "    ax.set_ylabel('T21 values')\n",
    "    ax.set_xlabel('T22 values')\n",
    "\n",
    "    for i in range(len(T21_set)):\n",
    "        for j in range(len(T22_set)):\n",
    "            text = ax.text(j, i, round(oracle_imp_array[0,0,i,j,0], 3), ha=\"center\", va=\"center\", color=\"black\")\n",
    "\n",
    "    with h5py.File(f'SimulationSets//oracle//fig2set_{SNR}_' + day + month + year +'.hdf5','a') as f:\n",
    "        #Save a data set\n",
    "        dset = f.create_dataset('runInfo',data=runInfo)\n",
    "        dset = f.create_dataset('MSE_array',data=oracle_MSE_array)\n",
    "        dset = f.create_dataset('lambda_array',data=oracle_lambda_array)\n",
    "        dset = f.create_dataset('improvement_array',data=oracle_imp_array)"
   ]
  },
  {
   "cell_type": "code",
   "execution_count": null,
   "id": "2cedf751",
   "metadata": {},
   "outputs": [],
   "source": [
    "if minMSE_opt:\n",
    "    #Parameter of interest, using the standard indexing for this code\n",
    "    POI = 0\n",
    "    fig, ax = plt.subplots(figsize = (5, 5), tight_layout=True)\n",
    "    fig.suptitle(\"min MSE Improvement over NLLS, SNR = %s\" % SNR)\n",
    "    imc1 = ax.imshow(min_MSE_imp_array[0,0,:,:,POI], cmap = 'Oranges', vmin = 0, vmax = 1.2)\n",
    "\n",
    "    ax.set_title('Improvement in c1 MSE')\n",
    "    ax.set_xticks(np.arange(len(T22_set)))\n",
    "    ax.set_yticks(np.arange(len(T21_set)))\n",
    "    ax.set_xticklabels(T22_set)\n",
    "    ax.set_yticklabels(T21_set)\n",
    "    ax.set_ylabel('T21 values')\n",
    "    ax.set_xlabel('T22 values')\n",
    "\n",
    "    for i in range(len(T21_set)):\n",
    "        for j in range(len(T22_set)):\n",
    "            text = ax.text(j, i, round(min_MSE_imp_array[0,0,i,j,0], 3), ha=\"center\", va=\"center\", color=\"black\")\n",
    "\n",
    "    with h5py.File(f'SimulationSets//minMSE//fig2set_{SNR}_' + day + month + year +'.hdf5','a') as f:\n",
    "        #Save a data set\n",
    "        dset = f.create_dataset('runInfo',data=runInfo)\n",
    "        dset = f.create_dataset('MSE_array',data=min_MSE_array)\n",
    "        dset = f.create_dataset('lambda_array',data=min_lambda_array)\n",
    "        dset = f.create_dataset('improvement_array',data=min_MSE_imp_array)\n",
    "        dset = f.create_dataset('unreg_MSE_array',data=unreg_MSE_array)"
   ]
  },
  {
   "cell_type": "code",
   "execution_count": null,
   "id": "296a0088",
   "metadata": {},
   "outputs": [
    {
     "ename": "ValueError",
     "evalue": "Unable to create dataset (name already exists)",
     "output_type": "error",
     "traceback": [
      "\u001b[1;31m---------------------------------------------------------------------------\u001b[0m",
      "\u001b[1;31mValueError\u001b[0m                                Traceback (most recent call last)",
      "Cell \u001b[1;32mIn [17], line 24\u001b[0m\n\u001b[0;32m     19\u001b[0m         text \u001b[39m=\u001b[39m ax\u001b[39m.\u001b[39mtext(j, i, MSE_summary, ha\u001b[39m=\u001b[39m\u001b[39m\"\u001b[39m\u001b[39mcenter\u001b[39m\u001b[39m\"\u001b[39m, va\u001b[39m=\u001b[39m\u001b[39m\"\u001b[39m\u001b[39mcenter\u001b[39m\u001b[39m\"\u001b[39m, color\u001b[39m=\u001b[39m\u001b[39m\"\u001b[39m\u001b[39mblack\u001b[39m\u001b[39m\"\u001b[39m)\n\u001b[0;32m     21\u001b[0m \u001b[39mwith\u001b[39;00m h5py\u001b[39m.\u001b[39mFile(\u001b[39mf\u001b[39m\u001b[39m'\u001b[39m\u001b[39mSimulationSets//GCV//fig2set_\u001b[39m\u001b[39m{\u001b[39;00mSNR\u001b[39m}\u001b[39;00m\u001b[39m_\u001b[39m\u001b[39m'\u001b[39m \u001b[39m+\u001b[39m day \u001b[39m+\u001b[39m month \u001b[39m+\u001b[39m year \u001b[39m+\u001b[39m\u001b[39m'\u001b[39m\u001b[39m.hdf5\u001b[39m\u001b[39m'\u001b[39m,\u001b[39m'\u001b[39m\u001b[39ma\u001b[39m\u001b[39m'\u001b[39m) \u001b[39mas\u001b[39;00m f:\n\u001b[0;32m     22\u001b[0m     \u001b[39m#Save a data set\u001b[39;00m\n\u001b[0;32m     23\u001b[0m     \u001b[39m# dset = f.create_dataset('runInfo',data=runInfo)\u001b[39;00m\n\u001b[1;32m---> 24\u001b[0m     dset \u001b[39m=\u001b[39m f\u001b[39m.\u001b[39;49mcreate_dataset(\u001b[39m'\u001b[39;49m\u001b[39mMSE_array\u001b[39;49m\u001b[39m'\u001b[39;49m,data\u001b[39m=\u001b[39;49mGCV_MSE_array)\n\u001b[0;32m     25\u001b[0m     dset \u001b[39m=\u001b[39m f\u001b[39m.\u001b[39mcreate_dataset(\u001b[39m'\u001b[39m\u001b[39mlambda_array\u001b[39m\u001b[39m'\u001b[39m,data\u001b[39m=\u001b[39mGCV_lambda_array)\n\u001b[0;32m     26\u001b[0m     dset \u001b[39m=\u001b[39m f\u001b[39m.\u001b[39mcreate_dataset(\u001b[39m'\u001b[39m\u001b[39mimprovement_array\u001b[39m\u001b[39m'\u001b[39m,data\u001b[39m=\u001b[39mGCV_imp_array)\n",
      "File \u001b[1;32mc:\\co\\NIA\\.grif_venv\\lib\\site-packages\\h5py\\_hl\\group.py:161\u001b[0m, in \u001b[0;36mGroup.create_dataset\u001b[1;34m(self, name, shape, dtype, data, **kwds)\u001b[0m\n\u001b[0;32m    158\u001b[0m         parent_path, name \u001b[39m=\u001b[39m name\u001b[39m.\u001b[39mrsplit(\u001b[39mb\u001b[39m\u001b[39m'\u001b[39m\u001b[39m/\u001b[39m\u001b[39m'\u001b[39m, \u001b[39m1\u001b[39m)\n\u001b[0;32m    159\u001b[0m         group \u001b[39m=\u001b[39m \u001b[39mself\u001b[39m\u001b[39m.\u001b[39mrequire_group(parent_path)\n\u001b[1;32m--> 161\u001b[0m dsid \u001b[39m=\u001b[39m dataset\u001b[39m.\u001b[39mmake_new_dset(group, shape, dtype, data, name, \u001b[39m*\u001b[39m\u001b[39m*\u001b[39mkwds)\n\u001b[0;32m    162\u001b[0m dset \u001b[39m=\u001b[39m dataset\u001b[39m.\u001b[39mDataset(dsid)\n\u001b[0;32m    163\u001b[0m \u001b[39mreturn\u001b[39;00m dset\n",
      "File \u001b[1;32mc:\\co\\NIA\\.grif_venv\\lib\\site-packages\\h5py\\_hl\\dataset.py:156\u001b[0m, in \u001b[0;36mmake_new_dset\u001b[1;34m(parent, shape, dtype, data, name, chunks, compression, shuffle, fletcher32, maxshape, compression_opts, fillvalue, scaleoffset, track_times, external, track_order, dcpl, dapl, efile_prefix, virtual_prefix, allow_unknown_filter)\u001b[0m\n\u001b[0;32m    152\u001b[0m \u001b[39melse\u001b[39;00m:\n\u001b[0;32m    153\u001b[0m     sid \u001b[39m=\u001b[39m h5s\u001b[39m.\u001b[39mcreate_simple(shape, maxshape)\n\u001b[1;32m--> 156\u001b[0m dset_id \u001b[39m=\u001b[39m h5d\u001b[39m.\u001b[39;49mcreate(parent\u001b[39m.\u001b[39;49mid, name, tid, sid, dcpl\u001b[39m=\u001b[39;49mdcpl, dapl\u001b[39m=\u001b[39;49mdapl)\n\u001b[0;32m    158\u001b[0m \u001b[39mif\u001b[39;00m (data \u001b[39mis\u001b[39;00m \u001b[39mnot\u001b[39;00m \u001b[39mNone\u001b[39;00m) \u001b[39mand\u001b[39;00m (\u001b[39mnot\u001b[39;00m \u001b[39misinstance\u001b[39m(data, Empty)):\n\u001b[0;32m    159\u001b[0m     dset_id\u001b[39m.\u001b[39mwrite(h5s\u001b[39m.\u001b[39mALL, h5s\u001b[39m.\u001b[39mALL, data)\n",
      "File \u001b[1;32mh5py\\_objects.pyx:54\u001b[0m, in \u001b[0;36mh5py._objects.with_phil.wrapper\u001b[1;34m()\u001b[0m\n",
      "File \u001b[1;32mh5py\\_objects.pyx:55\u001b[0m, in \u001b[0;36mh5py._objects.with_phil.wrapper\u001b[1;34m()\u001b[0m\n",
      "File \u001b[1;32mh5py\\h5d.pyx:87\u001b[0m, in \u001b[0;36mh5py.h5d.create\u001b[1;34m()\u001b[0m\n",
      "\u001b[1;31mValueError\u001b[0m: Unable to create dataset (name already exists)"
     ]
    },
    {
     "data": {
      "image/png": "[encoded data removed]",
      "text/plain": [
       "<Figure size 500x500 with 1 Axes>"
      ]
     },
     "metadata": {},
     "output_type": "display_data"
    }
   ],
   "source": [
    "if GCV_opt:\n",
    "    #Parameter of interest, using the standard indexing for this code\n",
    "    POI = 0\n",
    "    fig, ax = plt.subplots(figsize = (5, 5), tight_layout=True)\n",
    "    fig.suptitle(\"GCV Improvement over NLLS, SNR = %s\" % SNR)\n",
    "    imc1 = ax.imshow(GCV_imp_array[0,0,:,:,POI], cmap = 'Oranges', vmin = 0, vmax = 1.2)\n",
    "\n",
    "    ax.set_title('Improvement in c1 MSE')\n",
    "    ax.set_xticks(np.arange(len(T22_set)))\n",
    "    ax.set_yticks(np.arange(len(T21_set)))\n",
    "    ax.set_xticklabels(T22_set)\n",
    "    ax.set_yticklabels(T21_set)\n",
    "    ax.set_ylabel('T21 values')\n",
    "    ax.set_xlabel('T22 values')\n",
    "\n",
    "    for i in range(len(T21_set)):\n",
    "        for j in range(len(T22_set)):\n",
    "            MSE_summary = (f\"{round(GCV_imp_array[0,0,i,j,0], 3)}\\n{round(GCV_imp_bias_array[0,0,i,j,0], 3)}\\n{round(GCV_imp_var_array[0,0,i,j,0], 3)}\")\n",
    "            text = ax.text(j, i, MSE_summary, ha=\"center\", va=\"center\", color=\"black\")\n",
    "\n",
    "    with h5py.File(f'SimulationSets//GCV//fig2set_{SNR}_' + day + month + year +'.hdf5','a') as f:\n",
    "        #Save a data set\n",
    "        # dset = f.create_dataset('runInfo',data=runInfo)\n",
    "        dset = f.create_dataset('MSE_array',data=GCV_MSE_array)\n",
    "        dset = f.create_dataset('lambda_array',data=GCV_lambda_array)\n",
    "        dset = f.create_dataset('improvement_array',data=GCV_imp_array)\n",
    "        dset = f.create_dataset('bias_improvement_array',data=GCV_imp_bias_array)\n",
    "        dset = f.create_dataset('variance_improvement_array',data=GCV_imp_var_array)\n",
    "\n",
    "    f = open(f'SimulationSets//GCV//runInfo_{SNR}_' + day + month + year +'.pkl','wb')\n",
    "    pickle.dump(runInfo,f)"
   ]
  },
  {
   "cell_type": "code",
   "execution_count": null,
   "id": "8c3c784d-9811-44ae-bdf3-04ea9a61c38a",
   "metadata": {},
   "outputs": [],
   "source": [
    "#POI = 0\n",
    "# fig, ax = plt.subplots(2, 2, figsize = (10, 10), tight_layout=True)\n",
    "# fig.suptitle(\"DNN improvement over NLLS, SNR = %s\" % SNR)\n",
    "# imc1 = ax[0,0].imshow(DNN_imp_array[0,0,:,:,0])\n",
    "# imc2 = ax[0,1].imshow(DNN_imp_array[0,0,:,:,1])\n",
    "# imT21 = ax[1,0].imshow(DNN_imp_array[0,0,:,:,2])\n",
    "# imT22 = ax[1,1].imshow(DNN_imp_array[0,0,:,:,3])\n",
    "\n",
    "# ax[0,0].set_title('Improvement in c1 MSE')\n",
    "# ax[0,0].set_xticks(np.arange(len(T22_set)))\n",
    "# ax[0,0].set_yticks(np.arange(len(T21_set)))\n",
    "# ax[0,0].set_xticklabels(T22_set)\n",
    "# ax[0,0].set_yticklabels(T21_set)\n",
    "# ax[0,0].set_ylabel('T21 values')\n",
    "# ax[0,0].set_xlabel('T22 values')\n",
    "\n",
    "# for i in range(len(T21_set)):\n",
    "#     for j in range(len(T22_set)):\n",
    "#         text = ax[0,0].text(j, i, round(DNN_imp_array[0,0,i,j,0], 2), ha=\"center\", va=\"center\", color=\"red\")\n",
    "        \n",
    "# ax[1,0].set_title('Improvement in c2 MSE')\n",
    "# ax[1,0].set_xticks(np.arange(len(T22_set)))\n",
    "# ax[1,0].set_yticks(np.arange(len(T21_set)))\n",
    "# ax[1,0].set_xticklabels(T22_set)\n",
    "# ax[1,0].set_yticklabels(T21_set)\n",
    "# ax[1,0].set_ylabel('T21 values')\n",
    "# ax[1,0].set_xlabel('T22 values')\n",
    "\n",
    "# for i in range(len(T21_set)):\n",
    "#     for j in range(len(T22_set)):\n",
    "#         text = ax[1,0].text(j, i, round(DNN_imp_array[0,0,i,j,1], 2), ha=\"center\", va=\"center\", color=\"red\")\n",
    "        \n",
    "# ax[0,1].set_title('Improvement in T21 MSE')\n",
    "# ax[0,1].set_xticks(np.arange(len(T22_set)))\n",
    "# ax[0,1].set_yticks(np.arange(len(T21_set)))\n",
    "# ax[0,1].set_xticklabels(T22_set)\n",
    "# ax[0,1].set_yticklabels(T21_set)\n",
    "# ax[0,1].set_ylabel('T21 values')\n",
    "# ax[0,1].set_xlabel('T22 values')\n",
    "\n",
    "# for i in range(len(T21_set)):\n",
    "#     for j in range(len(T22_set)):\n",
    "#         text = ax[0,1].text(j, i, round(DNN_imp_array[0,0,i,j,2], 2), ha=\"center\", va=\"center\", color=\"red\")\n",
    "        \n",
    "# ax[1,1].set_title('Improvement in T22 MSE')\n",
    "# ax[1,1].set_xticks(np.arange(len(T22_set)))\n",
    "# ax[1,1].set_yticks(np.arange(len(T21_set)))\n",
    "# ax[1,1].set_xticklabels(T22_set)\n",
    "# ax[1,1].set_yticklabels(T21_set)\n",
    "# ax[1,1].set_ylabel('T21 values')\n",
    "# ax[1,1].set_xlabel('T22 values')\n",
    "\n",
    "# for i in range(len(T21_set)):\n",
    "#     for j in range(len(T22_set)):\n",
    "#         text = ax[1,1].text(j, i, round(DNN_imp_array[0,0,i,j,3], 2), ha=\"center\", va=\"center\", color=\"red\")\n",
    "# plt.show()"
   ]
  },
  {
   "cell_type": "markdown",
   "id": "8c8d5630",
   "metadata": {},
   "source": [
    "##### Exploring the corner cases"
   ]
  },
  {
   "cell_type": "code",
   "execution_count": null,
   "id": "8bef37a8",
   "metadata": {},
   "outputs": [],
   "source": [
    "if explore_corners:\n",
    "\n",
    "    c1_set = [0.5]\n",
    "    c2_set = [0.5]\n",
    "    T21_set1 = [10]\n",
    "    T22_set1 = [150]\n",
    "\n",
    "    T21_set2 = [50]\n",
    "    T22_set2 = [70]\n",
    "\n",
    "    n_opt = 25\n",
    "    n_iters = np.linspace(500//n_opt,500,25)\n",
    "    iter_length = np.size(n_iters)\n",
    "\n",
    "    oracle_topRight_MSE = np.zeros((iter_length,4))\n",
    "    oracle_botLeft_MSE = np.zeros((iter_length,4))\n",
    "    GCV_topRight_MSE = np.zeros((iter_length,4))\n",
    "    GCV_botLeft_MSE = np.zeros((iter_length,4))\n",
    "\n",
    "    for i in trange(iter_length):\n",
    "\n",
    "        iter_size = n_iters[i]\n",
    "\n",
    "        oracle_MSE_array, oracle_lambda_array, oracle_imp_array = get_lam_selection_MSE_array(\n",
    "            c1_set, c2_set, T21_set1, T22_set1, lambdas, 'oracle', aggregate=True, noise_iterations = iter_size)\n",
    "        oracle_topRight_MSE[i,:] = oracle_MSE_array[0,0,0,0,:]\n",
    "            \n",
    "        GCV_MSE_array, GCV_lambda_array, GCV_imp_array = get_lam_selection_MSE_array(\n",
    "            c1_set, c2_set, T21_set1, T22_set1, lambdas, 'GCV', noise_iterations = iter_size)\n",
    "        GCV_topRight_MSE[i,:] =  GCV_MSE_array[0,0,0,0,:]\n",
    "\n",
    "        oracle_MSE_array, oracle_lambda_array, oracle_imp_array = get_lam_selection_MSE_array(\n",
    "            c1_set, c2_set, T21_set2, T22_set2, lambdas, 'oracle', aggregate=True, noise_iterations = iter_size)\n",
    "        oracle_botLeft_MSE[i,:] = oracle_MSE_array[0,0,0,0,:]\n",
    "            \n",
    "        GCV_MSE_array, GCV_lambda_array, GCV_imp_array = get_lam_selection_MSE_array(\n",
    "            c1_set, c2_set, T21_set2, T22_set2, lambdas, 'GCV', noise_iterations = iter_size)\n",
    "        GCV_botLeft_MSE[i,:] =  GCV_MSE_array[0,0,0,0,:]"
   ]
  },
  {
   "cell_type": "code",
   "execution_count": null,
   "id": "a115fd9e",
   "metadata": {},
   "outputs": [],
   "source": [
    "if explore_corners:\n",
    "    save_MSE_array = False\n",
    "    load_MSE_array = False\n",
    "    n_iters = np.arange(10,501,10)\n",
    "\n",
    "    if save_MSE_array:\n",
    "        try:\n",
    "            with h5py.File('Storage//CornerCases.hdf5','a') as f:\n",
    "                #Save a data set\n",
    "                dset = f.create_dataset('oracle_topRight',data=oracle_topRight_MSE)\n",
    "                dset = f.create_dataset('oracle_botLeft',data=oracle_botLeft_MSE)\n",
    "                dset = f.create_dataset('GCV_topRight',data=GCV_topRight_MSE)\n",
    "                dset = f.create_dataset('GCV_botLeft',data=GCV_botLeft_MSE)\n",
    "        except:\n",
    "            print(\"Error\")\n",
    "\n",
    "    if load_MSE_array:\n",
    "        with h5py.File('Storage//CornerCases.hdf5','a') as f:\n",
    "            oracle_topRight_MSE = np.array(f['oracle_topRight'])\n",
    "            oracle_botLeft_MSE = np.array(f['oracle_botLeft'])\n",
    "            GCV_topRight_MSE = np.array(f['GCV_topRight'])\n",
    "            GCV_botLeft_MSE = np.array(f['GCV_botLeft'])"
   ]
  },
  {
   "cell_type": "code",
   "execution_count": null,
   "id": "5751c90e",
   "metadata": {},
   "outputs": [],
   "source": [
    "if explore_corners:\n",
    "    fig, ax = plt.subplots(1,2,figsize=(10,5), tight_layout=True)\n",
    "    fig.suptitle('MSE Compared to Iteration')\n",
    "    ax[0].plot(n_iters, oracle_topRight_MSE[:,0], label= 'Oracle TopRight', alpha = 0.7)\n",
    "    ax[0].plot(n_iters, GCV_topRight_MSE[:,0], label= 'GCV TopRight', alpha = 0.7)\n",
    "    ax[1].plot(n_iters, oracle_botLeft_MSE[:,0], label= 'Oracle BotLeft', alpha = 0.7)\n",
    "    ax[1].plot(n_iters, GCV_botLeft_MSE[:,0], label= 'GCV BotLeft', alpha = 0.7)\n",
    "    ax[0].set_xlabel('Number of Iterations')\n",
    "    ax[0].set_ylabel('MSE')\n",
    "    ax[0].set_title('T21 = 10 & T22 = 150')\n",
    "    ax[1].set_xlabel('Number of Iterations')\n",
    "    ax[1].set_ylabel('MSE')\n",
    "    ax[1].set_title('T21 = 50 & T22 = 70')\n",
    "    ax[0].legend()\n",
    "    ax[1].legend()\n",
    "    plt.show()"
   ]
  },
  {
   "cell_type": "markdown",
   "id": "73fd008c-a0b6-4f28-9dae-ebd5e314bfe6",
   "metadata": {},
   "source": [
    "# Use a numerical method to calculate the biased CRLB"
   ]
  },
  {
   "cell_type": "code",
   "execution_count": null,
   "id": "1c1041d7-fb9f-4e2e-9cf8-5db8ba29c9e5",
   "metadata": {},
   "outputs": [],
   "source": [
    "def construct_P_theta_n(theta_n, c_range, T2_range, M):\n",
    "    #theta_n are the 4 parameters to perturb around, given as a numpy array\n",
    "    #c_range and T2_range are define the range of the perturbations about ci and T2i\n",
    "    #M is the number of total perturbations\n",
    "    #The first entry in P_theta_n is always just theta_n\n",
    "    P_theta_n = np.zeros((4, M+1))\n",
    "    P_theta_n[:,0] = theta_n\n",
    "    for m in range(M):\n",
    "        a1_m = np.random.uniform(low=c_range[0],high=c_range[1])\n",
    "        a2_m = np.random.uniform(low=c_range[0],high=c_range[1])\n",
    "        tau1_m = np.random.uniform(low=T2_range[0],high=T2_range[1])\n",
    "        tau2_m = np.random.uniform(low=T2_range[0],high=T2_range[1])\n",
    "        \n",
    "        T_theta_nm = np.append(a1_m, [a2_m, tau1_m, tau2_m])\n",
    "        \n",
    "        P_theta_n[:, m+1] = theta_n + T_theta_nm\n",
    "        \n",
    "    return P_theta_n\n",
    "\n",
    "def construct_A_n(P_theta_n):\n",
    "    #Gives matrix A_n for least squares minimization to get biased CRLB for parameters theta_n\n",
    "    #P_theta_n is the perturbation matrix about some theta_n\n",
    "    M = P_theta_n.shape[1]-1\n",
    "    theta_n = P_theta_n[:,0]\n",
    "    \n",
    "    #Get first four rows of A_n first\n",
    "    z = P_theta_n[:,1] - theta_n\n",
    "    B1 = [z[0],0,0,0,z[1],0,0,0,z[2],0,0,0,z[3],0,0,0]\n",
    "    B2 = [0,z[0],0,0,0,z[1],0,0,0,z[2],0,0,0,z[3],0,0]\n",
    "    B3 = [0,0,z[0],0,0,0,z[1],0,0,0,z[2],0,0,0,z[3],0]\n",
    "    B4 = [0,0,0,z[0],0,0,0,z[1],0,0,0,z[2],0,0,0,z[3]]\n",
    "    A_n = np.stack((B1, B2, B3, B4),axis=0)\n",
    "    #Then get the rest of the rows\n",
    "    for m in range(M-1):\n",
    "        z = P_theta_n[:,m+2] - theta_n\n",
    "        B1 = [z[0],0,0,0,z[1],0,0,0,z[2],0,0,0,z[3],0,0,0]\n",
    "        B2 = [0,z[0],0,0,0,z[1],0,0,0,z[2],0,0,0,z[3],0,0]\n",
    "        B3 = [0,0,z[0],0,0,0,z[1],0,0,0,z[2],0,0,0,z[3],0]\n",
    "        B4 = [0,0,0,z[0],0,0,0,z[1],0,0,0,z[2],0,0,0,z[3]]\n",
    "        \n",
    "        B_mn = np.stack((B1, B2, B3, B4), axis=0)\n",
    "        A_n = np.concatenate((A_n, B_mn),axis=0)\n",
    "        \n",
    "    return A_n\n",
    "\n",
    "def run_NR_P_theta_n(P_theta_n, n_noise_realizations):\n",
    "    M = P_theta_n.shape[1]\n",
    "    estimates = np.zeros((4, M, n_noise_realizations))\n",
    "    for m in range(M):\n",
    "        [c1, c2, T21, T22] = P_theta_n[:,m]\n",
    "        \n",
    "        #np.random.seed(m)\n",
    "        noiseless_curve = G(tdata, c1, c2, T21, T22)\n",
    "        for i in range(n_noise_realizations):\n",
    "            noise_realization = add_noise(noiseless_curve, SNR)\n",
    "            est = estimate_parameters(noise_realization, 0)\n",
    "            estimates[:,m,i] = est\n",
    "    return estimates\n",
    "\n",
    "def x_cost_fun(bias_var_n, A_n):\n",
    "    def function(x):\n",
    "        #For giving least squares the vector of the residual\n",
    "        return (bias_var_n - A_n@x)\n",
    "    return function\n",
    "\n",
    "def biased_CRLB(theta_n, c_range, T2_range, M, n_noise_realizations):\n",
    "    #Calculates the biased CRLB about a set of parameters theta_n\n",
    "    P_theta_n = construct_P_theta_n(theta_n, c_range, T2_range, M)\n",
    "    estimates = run_NR_P_theta_n(P_theta_n, n_noise_realizations)\n",
    "    \n",
    "    sample_mean = np.mean(estimates,axis=-1)\n",
    "    Q_0 = sample_mean[:,0]\n",
    "    sample_mean_shortened = sample_mean[:,1:]\n",
    "    \n",
    "    bias_var_n = np.reshape((sample_mean_shortened.transpose() - Q_0),-1)\n",
    "    \n",
    "    A_n = construct_A_n(P_theta_n)\n",
    "    \n",
    "    minimization = x_cost_fun(bias_var_n, A_n)\n",
    "    x_hat_n = least_squares(minimization, np.zeros(16))['x']\n",
    "    \n",
    "    #x_hat_n = (np.linalg.inv(A_n.transpose()@A_n)@A_n.transpose())@bias_var_n\n",
    "    S_hat_n = np.transpose(np.reshape(x_hat_n, (4,4)))\n",
    "    CRLB_n = cov_matrix(theta_n[0],theta_n[1],theta_n[2],theta_n[3], SNR)\n",
    "\n",
    "    biased_CRLB = S_hat_n@CRLB_n@S_hat_n.transpose()\n",
    "    \n",
    "    return biased_CRLB, S_hat_n\n",
    "\n",
    "def check_CRLB_convergence(n_set, theta_n, c_range, T2_range, M, verbose=False):\n",
    "    n_checks = len(n_set)\n",
    "    P_theta_n = construct_P_theta_n(theta_n, c_range, T2_range, M)\n",
    "    CRLB_n = cov_matrix(theta_n[0],theta_n[1],theta_n[2],theta_n[3], SNR)\n",
    "    biased_CRLB_set = []\n",
    "    c1_CRLB_set = []\n",
    "    c2_CRLB_set = []\n",
    "    T21_CRLB_set = []\n",
    "    T22_CRLB_set = []\n",
    "    sensitivity_set = []\n",
    "    for i in trange(n_checks):\n",
    "        if i == 0:\n",
    "            n_noise_realizations = n_set[i]\n",
    "            estimates = run_NR_P_theta_n(P_theta_n, n_noise_realizations)\n",
    "        else:\n",
    "            n_noise_realizations = n_set[i] - n_set[i-1]\n",
    "            new_estimates = run_NR_P_theta_n(P_theta_n, n_noise_realizations)\n",
    "            estimates = np.append(estimates, new_estimates,axis=-1)\n",
    "        sample_mean = np.mean(estimates, axis=-1)\n",
    "        Q_0 = sample_mean[:,0]\n",
    "        sample_mean_shortened = sample_mean[:,1:]\n",
    "        bias_var_n = np.reshape((sample_mean_shortened.transpose() - Q_0),-1)\n",
    "        A_n = construct_A_n(P_theta_n)\n",
    "        \n",
    "        minimization = x_cost_fun(bias_var_n, A_n)\n",
    "        x_hat_n = least_squares(minimization, np.zeros(16))['x']\n",
    "        S_hat_n = np.transpose(np.reshape(x_hat_n, (4,4)))\n",
    "        sensitivity_set.append(S_hat_n)\n",
    "\n",
    "        biased_CRLB = S_hat_n@CRLB_n@(S_hat_n.transpose())\n",
    "        biased_CRLB_set.append(biased_CRLB)\n",
    "        \n",
    "        c1_CRLB = biased_CRLB[0,0]\n",
    "        c1_CRLB_set.append(c1_CRLB)\n",
    "        c2_CRLB = biased_CRLB[1,1]\n",
    "        c2_CRLB_set.append(c2_CRLB)\n",
    "        T21_CRLB = biased_CRLB[2,2]\n",
    "        T21_CRLB_set.append(T21_CRLB)\n",
    "        T22_CRLB = biased_CRLB[3,3] \n",
    "        T22_CRLB_set.append(T22_CRLB)\n",
    "        if verbose:\n",
    "            print('Biased CRLB at %s noise realizations:'%(n_set[i]), c1_CRLB, c2_CRLB, T21_CRLB, T22_CRLB)\n",
    "            \n",
    "    return biased_CRLB_set, c1_CRLB_set, c2_CRLB_set, T21_CRLB_set, T22_CRLB_set, sensitivity_set"
   ]
  },
  {
   "cell_type": "code",
   "execution_count": null,
   "id": "3423482f-f656-4d1b-abcd-431a0528a014",
   "metadata": {
    "tags": []
   },
   "outputs": [],
   "source": [
    "theta_n = np.array((0.3, 0.7, 50, 90))\n",
    "c_range = [-0.05, 0.05]\n",
    "T2_range = [-2.5, 2.5]\n",
    "M = 10\n",
    "n_noise_realizations = 100\n",
    "\n",
    "CRLB_n = cov_matrix(theta_n[0],theta_n[1],theta_n[2],theta_n[3], SNR)\n",
    "biased_CRLB_n, sensitivity = biased_CRLB(theta_n, c_range, T2_range, M, n_noise_realizations)"
   ]
  },
  {
   "cell_type": "code",
   "execution_count": null,
   "id": "b418f8ee-92b5-4052-92ad-194c6051832e",
   "metadata": {},
   "outputs": [
    {
     "name": "stderr",
     "output_type": "stream",
     "text": [
      " 30%|███       | 305/1000 [6:13:29<14:11:03, 73.47s/it] \n"
     ]
    },
    {
     "ename": "KeyboardInterrupt",
     "evalue": "",
     "output_type": "error",
     "traceback": [
      "\u001b[1;31m---------------------------------------------------------------------------\u001b[0m",
      "\u001b[1;31mKeyboardInterrupt\u001b[0m                         Traceback (most recent call last)",
      "Cell \u001b[1;32mIn [49], line 7\u001b[0m\n\u001b[0;32m      5\u001b[0m M \u001b[39m=\u001b[39m \u001b[39m10\u001b[39m\n\u001b[0;32m      6\u001b[0m n_set \u001b[39m=\u001b[39m np\u001b[39m.\u001b[39mlinspace(\u001b[39m100\u001b[39m, \u001b[39m100000\u001b[39m, \u001b[39m1000\u001b[39m, dtype\u001b[39m=\u001b[39m\u001b[39mint\u001b[39m)\n\u001b[1;32m----> 7\u001b[0m biased_CRLB_set, c1_CRLB_set, c2_CRLB_set, T21_CRLB_set, T22_CRLB_set, sensitivity_set \u001b[39m=\u001b[39m check_CRLB_convergence(\n\u001b[0;32m      8\u001b[0m     n_set, theta_n, c_range, T2_range, M, verbose\u001b[39m=\u001b[39;49m\u001b[39mFalse\u001b[39;49;00m)\n",
      "Cell \u001b[1;32mIn [47], line 106\u001b[0m, in \u001b[0;36mcheck_CRLB_convergence\u001b[1;34m(n_set, theta_n, c_range, T2_range, M, verbose)\u001b[0m\n\u001b[0;32m    104\u001b[0m \u001b[39melse\u001b[39;00m:\n\u001b[0;32m    105\u001b[0m     n_noise_realizations \u001b[39m=\u001b[39m n_set[i] \u001b[39m-\u001b[39m n_set[i\u001b[39m-\u001b[39m\u001b[39m1\u001b[39m]\n\u001b[1;32m--> 106\u001b[0m     new_estimates \u001b[39m=\u001b[39m run_NR_P_theta_n(P_theta_n, n_noise_realizations)\n\u001b[0;32m    107\u001b[0m     estimates \u001b[39m=\u001b[39m np\u001b[39m.\u001b[39mappend(estimates, new_estimates,axis\u001b[39m=\u001b[39m\u001b[39m-\u001b[39m\u001b[39m1\u001b[39m)\n\u001b[0;32m    108\u001b[0m sample_mean \u001b[39m=\u001b[39m np\u001b[39m.\u001b[39mmean(estimates, axis\u001b[39m=\u001b[39m\u001b[39m-\u001b[39m\u001b[39m1\u001b[39m)\n",
      "Cell \u001b[1;32mIn [47], line 56\u001b[0m, in \u001b[0;36mrun_NR_P_theta_n\u001b[1;34m(P_theta_n, n_noise_realizations)\u001b[0m\n\u001b[0;32m     54\u001b[0m     \u001b[39mfor\u001b[39;00m i \u001b[39min\u001b[39;00m \u001b[39mrange\u001b[39m(n_noise_realizations):\n\u001b[0;32m     55\u001b[0m         noise_realization \u001b[39m=\u001b[39m add_noise(noiseless_curve, SNR)\n\u001b[1;32m---> 56\u001b[0m         est \u001b[39m=\u001b[39m estimate_parameters(noise_realization, \u001b[39m0\u001b[39;49m)\n\u001b[0;32m     57\u001b[0m         estimates[:,m,i] \u001b[39m=\u001b[39m est\n\u001b[0;32m     58\u001b[0m \u001b[39mreturn\u001b[39;00m estimates\n",
      "Cell \u001b[1;32mIn [30], line 40\u001b[0m, in \u001b[0;36mestimate_parameters\u001b[1;34m(data, lam, n_initials, post_normalize)\u001b[0m\n\u001b[0;32m     36\u001b[0m p0 \u001b[39m=\u001b[39m [ic1,ic2,iT21,iT22]\n\u001b[0;32m     38\u001b[0m data_tilde \u001b[39m=\u001b[39m np\u001b[39m.\u001b[39mappend(data, [\u001b[39m0\u001b[39m,\u001b[39m0\u001b[39m,\u001b[39m0\u001b[39m,\u001b[39m0\u001b[39m])  \n\u001b[1;32m---> 40\u001b[0m (c1e, c2e, T21e, T22e), cov \u001b[39m=\u001b[39m curve_fit(G_tilde(lam), tdata, data_tilde, bounds \u001b[39m=\u001b[39;49m (\u001b[39m0\u001b[39;49m, upper_bound), p0\u001b[39m=\u001b[39;49mp0, max_nfev \u001b[39m=\u001b[39;49m \u001b[39m4000\u001b[39;49m)\n\u001b[0;32m     42\u001b[0m \u001b[39m#Require T22>T21\u001b[39;00m\n\u001b[0;32m     43\u001b[0m \u001b[39mif\u001b[39;00m T22e \u001b[39m>\u001b[39m T21e:\n",
      "File \u001b[1;32mc:\\co\\NIA\\.grif_venv\\lib\\site-packages\\scipy\\optimize\\_minpack_py.py:845\u001b[0m, in \u001b[0;36mcurve_fit\u001b[1;34m(f, xdata, ydata, p0, sigma, absolute_sigma, check_finite, bounds, method, jac, full_output, **kwargs)\u001b[0m\n\u001b[0;32m    842\u001b[0m \u001b[39mif\u001b[39;00m \u001b[39m'\u001b[39m\u001b[39mmax_nfev\u001b[39m\u001b[39m'\u001b[39m \u001b[39mnot\u001b[39;00m \u001b[39min\u001b[39;00m kwargs:\n\u001b[0;32m    843\u001b[0m     kwargs[\u001b[39m'\u001b[39m\u001b[39mmax_nfev\u001b[39m\u001b[39m'\u001b[39m] \u001b[39m=\u001b[39m kwargs\u001b[39m.\u001b[39mpop(\u001b[39m'\u001b[39m\u001b[39mmaxfev\u001b[39m\u001b[39m'\u001b[39m, \u001b[39mNone\u001b[39;00m)\n\u001b[1;32m--> 845\u001b[0m res \u001b[39m=\u001b[39m least_squares(func, p0, jac\u001b[39m=\u001b[39mjac, bounds\u001b[39m=\u001b[39mbounds, method\u001b[39m=\u001b[39mmethod,\n\u001b[0;32m    846\u001b[0m                     \u001b[39m*\u001b[39m\u001b[39m*\u001b[39mkwargs)\n\u001b[0;32m    848\u001b[0m \u001b[39mif\u001b[39;00m \u001b[39mnot\u001b[39;00m res\u001b[39m.\u001b[39msuccess:\n\u001b[0;32m    849\u001b[0m     \u001b[39mraise\u001b[39;00m \u001b[39mRuntimeError\u001b[39;00m(\u001b[39m\"\u001b[39m\u001b[39mOptimal parameters not found: \u001b[39m\u001b[39m\"\u001b[39m \u001b[39m+\u001b[39m res\u001b[39m.\u001b[39mmessage)\n",
      "File \u001b[1;32mc:\\co\\NIA\\.grif_venv\\lib\\site-packages\\scipy\\optimize\\_lsq\\least_squares.py:928\u001b[0m, in \u001b[0;36mleast_squares\u001b[1;34m(fun, x0, jac, bounds, method, ftol, xtol, gtol, x_scale, loss, f_scale, diff_step, tr_solver, tr_options, jac_sparsity, max_nfev, verbose, args, kwargs)\u001b[0m\n\u001b[0;32m    924\u001b[0m     result \u001b[39m=\u001b[39m call_minpack(fun_wrapped, x0, jac_wrapped, ftol, xtol, gtol,\n\u001b[0;32m    925\u001b[0m                           max_nfev, x_scale, diff_step)\n\u001b[0;32m    927\u001b[0m \u001b[39melif\u001b[39;00m method \u001b[39m==\u001b[39m \u001b[39m'\u001b[39m\u001b[39mtrf\u001b[39m\u001b[39m'\u001b[39m:\n\u001b[1;32m--> 928\u001b[0m     result \u001b[39m=\u001b[39m trf(fun_wrapped, jac_wrapped, x0, f0, J0, lb, ub, ftol, xtol,\n\u001b[0;32m    929\u001b[0m                  gtol, max_nfev, x_scale, loss_function, tr_solver,\n\u001b[0;32m    930\u001b[0m                  tr_options\u001b[39m.\u001b[39;49mcopy(), verbose)\n\u001b[0;32m    932\u001b[0m \u001b[39melif\u001b[39;00m method \u001b[39m==\u001b[39m \u001b[39m'\u001b[39m\u001b[39mdogbox\u001b[39m\u001b[39m'\u001b[39m:\n\u001b[0;32m    933\u001b[0m     \u001b[39mif\u001b[39;00m tr_solver \u001b[39m==\u001b[39m \u001b[39m'\u001b[39m\u001b[39mlsmr\u001b[39m\u001b[39m'\u001b[39m \u001b[39mand\u001b[39;00m \u001b[39m'\u001b[39m\u001b[39mregularize\u001b[39m\u001b[39m'\u001b[39m \u001b[39min\u001b[39;00m tr_options:\n",
      "File \u001b[1;32mc:\\co\\NIA\\.grif_venv\\lib\\site-packages\\scipy\\optimize\\_lsq\\trf.py:123\u001b[0m, in \u001b[0;36mtrf\u001b[1;34m(fun, jac, x0, f0, J0, lb, ub, ftol, xtol, gtol, max_nfev, x_scale, loss_function, tr_solver, tr_options, verbose)\u001b[0m\n\u001b[0;32m    119\u001b[0m     \u001b[39mreturn\u001b[39;00m trf_no_bounds(\n\u001b[0;32m    120\u001b[0m         fun, jac, x0, f0, J0, ftol, xtol, gtol, max_nfev, x_scale,\n\u001b[0;32m    121\u001b[0m         loss_function, tr_solver, tr_options, verbose)\n\u001b[0;32m    122\u001b[0m \u001b[39melse\u001b[39;00m:\n\u001b[1;32m--> 123\u001b[0m     \u001b[39mreturn\u001b[39;00m trf_bounds(\n\u001b[0;32m    124\u001b[0m         fun, jac, x0, f0, J0, lb, ub, ftol, xtol, gtol, max_nfev, x_scale,\n\u001b[0;32m    125\u001b[0m         loss_function, tr_solver, tr_options, verbose)\n",
      "File \u001b[1;32mc:\\co\\NIA\\.grif_venv\\lib\\site-packages\\scipy\\optimize\\_lsq\\trf.py:381\u001b[0m, in \u001b[0;36mtrf_bounds\u001b[1;34m(fun, jac, x0, f0, J0, lb, ub, ftol, xtol, gtol, max_nfev, x_scale, loss_function, tr_solver, tr_options, verbose)\u001b[0m\n\u001b[0;32m    378\u001b[0m     rho \u001b[39m=\u001b[39m loss_function(f)\n\u001b[0;32m    379\u001b[0m     J, f \u001b[39m=\u001b[39m scale_for_robust_loss_function(J, f, rho)\n\u001b[1;32m--> 381\u001b[0m g \u001b[39m=\u001b[39m compute_grad(J, f)\n\u001b[0;32m    383\u001b[0m \u001b[39mif\u001b[39;00m jac_scale:\n\u001b[0;32m    384\u001b[0m     scale, scale_inv \u001b[39m=\u001b[39m compute_jac_scale(J, scale_inv)\n",
      "File \u001b[1;32mc:\\co\\NIA\\.grif_venv\\lib\\site-packages\\scipy\\optimize\\_lsq\\common.py:598\u001b[0m, in \u001b[0;36mcompute_grad\u001b[1;34m(J, f)\u001b[0m\n\u001b[0;32m    596\u001b[0m     \u001b[39mreturn\u001b[39;00m J\u001b[39m.\u001b[39mrmatvec(f)\n\u001b[0;32m    597\u001b[0m \u001b[39melse\u001b[39;00m:\n\u001b[1;32m--> 598\u001b[0m     \u001b[39mreturn\u001b[39;00m J\u001b[39m.\u001b[39;49mT\u001b[39m.\u001b[39;49mdot(f)\n",
      "\u001b[1;31mKeyboardInterrupt\u001b[0m: "
     ]
    }
   ],
   "source": [
    "#Check for convergence\n",
    "theta_n = np.array((0.5, 0.5, 20, 200))\n",
    "c_range = [-0.05, 0.05]\n",
    "T2_range = [-2.5, 2.5]\n",
    "M = 10\n",
    "n_set = np.linspace(100, 100000, 1000, dtype=int)\n",
    "biased_CRLB_set, c1_CRLB_set, c2_CRLB_set, T21_CRLB_set, T22_CRLB_set, sensitivity_set = check_CRLB_convergence(\n",
    "    n_set, theta_n, c_range, T2_range, M, verbose=False)"
   ]
  },
  {
   "cell_type": "code",
   "execution_count": null,
   "id": "f24a8e93-d5f5-4fd5-95e7-8e51ea9c70ab",
   "metadata": {},
   "outputs": [],
   "source": [
    "CRLB_n = cov_matrix(theta_n[0],theta_n[1],theta_n[2],theta_n[3], SNR)\n",
    "c1_CRLB = CRLB_n[0,0]\n",
    "c2_CRLB = CRLB_n[1,1]\n",
    "T21_CRLB = CRLB_n[2,2]\n",
    "T22_CRLB = CRLB_n[3,3]\n",
    "fig, ax = plt.subplots(1,4,figsize=(18,4),tight_layout=True)\n",
    "fig.suptitle('Convergence of biased CRLB at SNR %s'%SNR)\n",
    "ax[0].plot(n_set, c1_CRLB_set, label='c1 biased CRLB')\n",
    "ax[0].axhline(y=c1_CRLB, label = 'c1 CRLB', color='r')\n",
    "ax[0].set_xlabel('Noise realizations')\n",
    "ax[0].set_ylabel('CRLB')\n",
    "ax[0].set_title('c1 convergence')\n",
    "ax[0].legend()\n",
    "ax[1].plot(n_set, c2_CRLB_set, label='c2 biased CRLB')\n",
    "ax[1].axhline(y=c2_CRLB, label = 'c2 CRLB', color='r')\n",
    "ax[1].set_xlabel('Noise realizations')\n",
    "ax[1].set_ylabel('CRLB')\n",
    "ax[1].set_title('c2 convergence')\n",
    "ax[1].legend()\n",
    "ax[2].plot(n_set, T21_CRLB_set, label='T21 biased CRLB')\n",
    "ax[2].axhline(y=T21_CRLB, label = 'T21 CRLB', color='r')\n",
    "ax[2].set_xlabel('Noise realizations')\n",
    "ax[2].set_ylabel('CRLB')\n",
    "ax[2].set_title('T21 convergence')\n",
    "ax[2].legend()\n",
    "ax[3].plot(n_set, T22_CRLB_set, label='T22 biased CRLB')\n",
    "ax[3].axhline(y=T22_CRLB, label = 'T22 CRLB', color='r')\n",
    "ax[3].set_xlabel('Noise realizations')\n",
    "ax[3].set_ylabel('CRLB')\n",
    "ax[3].set_title('T22 convergence')\n",
    "ax[3].legend()\n",
    "\n",
    "plt.show()"
   ]
  },
  {
   "cell_type": "code",
   "execution_count": null,
   "id": "b923597c-9e2a-4059-be1a-2b1ad03e124c",
   "metadata": {},
   "outputs": [],
   "source": [
    "# with h5py.File('Brain MWF Maps//Biased CRLB SNR 1 Convergence, 1e5 NR 5-22.hdf5','a') as f2:\n",
    "#     f2.create_dataset('biased CRLB', data=biased_CRLB_set)\n",
    "#     f2.create_dataset('sensitivity', data=sensitivity_set)"
   ]
  }
 ],
 "metadata": {
  "kernelspec": {
   "display_name": "Python 3",
   "language": "python",
   "name": "python3"
  },
  "language_info": {
   "codemirror_mode": {
    "name": "ipython",
    "version": 3
   },
   "file_extension": ".py",
   "mimetype": "text/x-python",
   "name": "python",
   "nbconvert_exporter": "python",
   "pygments_lexer": "ipython3",
   "version": "3.10.7 (tags/v3.10.7:6cc6b13, Sep  5 2022, 14:08:36) [MSC v.1933 64 bit (AMD64)]"
  },
  "vscode": {
   "interpreter": {
    "hash": "1f9461e57c8aaeccb5a4202f3eb0df437b94cded3914cf93be397abab25dc6de"
   }
  }
 },
 "nbformat": 4,
 "nbformat_minor": 5
}
