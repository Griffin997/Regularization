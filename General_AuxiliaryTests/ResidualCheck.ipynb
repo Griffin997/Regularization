{
 "cells": [
  {
   "cell_type": "code",
   "execution_count": 22,
   "metadata": {},
   "outputs": [],
   "source": [
    "import scipy\n",
    "import scipy.io\n",
    "from scipy.optimize import curve_fit\n",
    "from scipy.optimize import least_squares\n",
    "import matplotlib as mpl\n",
    "import matplotlib.pyplot as plt\n",
    "import numpy as np\n",
    "import statistics\n",
    "import math\n",
    "import time\n",
    "import itertools\n",
    "from tqdm import trange\n",
    "from datetime import date\n",
    "import pickle\n",
    "import pandas as pd\n",
    "import sys\n",
    "import os\n",
    "import functools"
   ]
  },
  {
   "cell_type": "code",
   "execution_count": 23,
   "metadata": {},
   "outputs": [],
   "source": [
    "TE_DATA = np.linspace(8, 512, 64) #ms units\n",
    "\n",
    "noise_opt = True\n",
    "SNR_value = 100\n",
    "\n",
    "T21_center = 50\n",
    "T22_center = 100\n",
    "\n",
    "c1 = 0.2\n",
    "c2 = 0.8\n",
    "\n",
    "T21_range = np.arange(T21_center-30, T21_center+30+.001, 1)\n",
    "T22_range = np.arange(T22_center-30, T22_center+30+.001, 1)\n",
    "\n",
    "mT21, mT22 = np.meshgrid(T21_range, T22_range)\n",
    "\n",
    "repetitions = 1000\n",
    "\n",
    "lamb_oi = 0.1\n",
    "lamb_oi2 = 0.2\n",
    "\n",
    "RRSS = r'RSS$^{1/2}$'\n",
    "T21_label = r'$T_{21}$'\n",
    "T22_label = r'$T_{22}$'\n",
    "c1_label = r'$c_1$'\n",
    "c2_label = r'$c_2$'\n",
    "lamb_lab = r'$\\lambda$'\n",
    "\n",
    "\n",
    "if noise_opt:\n",
    "    noise_info = f\"SNR = {SNR_value}\"\n",
    "else:\n",
    "    noise_info = \"noiseless\""
   ]
  },
  {
   "cell_type": "code",
   "execution_count": 24,
   "metadata": {},
   "outputs": [],
   "source": [
    "def G_biX(t, con_1, con_2, tau_1, tau_2): \n",
    "    signal = con_1*np.exp(-t/tau_1) + con_2*np.exp(-t/tau_2)\n",
    "    return signal\n",
    "\n",
    "def G_tilde(lam):\n",
    "    def Gt_lam(t, con1, con2, tau1, tau2):\n",
    "        return np.append(G_biX(t, con1, con2, tau1, tau2), [lam*con1, lam*con2, lam*tau1/100, lam*tau2/100])\n",
    "    return Gt_lam\n",
    "\n",
    "def J_biX(TE, d1, d2, T21, T22):\n",
    "    #Returns the Jacobian of our 4 parameter, 2D problem\n",
    "    dd1 = np.exp(-TE/T21)\n",
    "    dd2 = np.exp(-TE/T22)\n",
    "    dT21 = (d1*TE/T21**2)*np.exp(-TE/T21)\n",
    "    dT22 = (d2*TE/T22**2)*np.exp(-TE/T22)\n",
    "    \n",
    "    jacobian = np.stack((dd1, dd2, dT21, dT22), axis = -1)\n",
    "    return jacobian"
   ]
  },
  {
   "cell_type": "code",
   "execution_count": 25,
   "metadata": {},
   "outputs": [],
   "source": [
    "def add_noise(data, SNR):\n",
    "    #returns a noised vector of data using the SNR given\n",
    "    sigma = 1/SNR #np.max(np.abs(data))/SNR\n",
    "    noise = np.random.normal(0,sigma,data.shape)\n",
    "    noised_data = data + noise\n",
    "    return noised_data\n",
    "\n",
    "\n",
    "def format_fn(tick_val, tick_pos, labels = \"\"):\n",
    "    if int(tick_val) < len(labels):\n",
    "        return labels[int(tick_val)]\n",
    "    else:\n",
    "        return ''\n",
    "\n",
    "def calculate_RSS(input, func, popt, data):\n",
    "    est_curve = func(input, *popt)\n",
    "    RSS = np.sum((est_curve - data)**2)\n",
    "    \n",
    "    return RSS\n",
    "\n",
    "def calculate_regRSS(input, func, popt, lamb, data):\n",
    "    est_curve = func(input, *popt)\n",
    "    RSS = np.sum((est_curve - data)**2)\n",
    "    weights = np.array([1,1,1/100,1/100])\n",
    "    reg = np.sum(lamb**2 *(popt*weights)**2)\n",
    "    \n",
    "    return RSS+reg"
   ]
  },
  {
   "cell_type": "markdown",
   "metadata": {},
   "source": [
    "# Using the Curve Fit Full Output"
   ]
  },
  {
   "cell_type": "code",
   "execution_count": 26,
   "metadata": {},
   "outputs": [
    {
     "name": "stdout",
     "output_type": "stream",
     "text": [
      "Nonreg results for parameter estimation\n",
      "RSS with simple RSS calculation =  0.00721\n",
      "RSS with regularized RSS calculation =  0.00721\n",
      "RSS with from residuals of cf =  0.00721\n"
     ]
    }
   ],
   "source": [
    "true_signal = G_biX(TE_DATA, c1, c2, T21_center, T22_center)\n",
    "noisey_sig = add_noise(true_signal, SNR_value)\n",
    "data_tilde = np.append(noisey_sig, [0,0,0,0])\n",
    "p_init = [0.3, 0.7, 20, 80]\n",
    "\n",
    "lamb_oi = 0\n",
    "\n",
    "popt_nonreg, _, info_nonreg, _, _ = curve_fit(G_tilde(lamb_oi), TE_DATA, data_tilde, bounds = (0, [2,2,100,300]), p0=p_init, max_nfev = 4000, full_output=True)\n",
    "resid_nonreg = info_nonreg['fvec']\n",
    "\n",
    "RSS_nonreg_simple = calculate_RSS(TE_DATA, G_biX, popt_nonreg, noisey_sig)\n",
    "RSS_nonreg_reg = calculate_regRSS(TE_DATA, G_biX, popt_nonreg, lamb_oi, noisey_sig)\n",
    "RSS_nonreg_sum = np.sum(resid_nonreg**2)\n",
    "\n",
    "print(f\"Nonreg results for parameter estimation\")\n",
    "print(f\"RSS with simple RSS calculation = {RSS_nonreg_simple: 0.5f}\")\n",
    "print(f\"RSS with regularized RSS calculation = {RSS_nonreg_reg: 0.5f}\")\n",
    "print(f\"RSS with from residuals of cf = {RSS_nonreg_sum: 0.5f}\")"
   ]
  },
  {
   "cell_type": "code",
   "execution_count": 27,
   "metadata": {},
   "outputs": [
    {
     "name": "stdout",
     "output_type": "stream",
     "text": [
      "Nonreg results for parameter estimation with \n",
      "RSS with simple RSS calculation =  0.00820\n",
      "RSS with regularized RSS calculation =  0.02603\n",
      "RSS with from residuals of cf =  0.02603\n"
     ]
    }
   ],
   "source": [
    "lamb_oi = 0.1\n",
    "\n",
    "popt_nonreg, _, info_nonreg, _, _ = curve_fit(G_tilde(lamb_oi), TE_DATA, data_tilde, bounds = (0, [2,2,100,300]), p0=p_init, max_nfev = 4000, full_output=True)\n",
    "resid_nonreg = info_nonreg['fvec']\n",
    "\n",
    "RSS_nonreg_simple = calculate_RSS(TE_DATA, G_biX, popt_nonreg, noisey_sig)\n",
    "RSS_nonreg_reg = calculate_regRSS(TE_DATA, G_biX, popt_nonreg, lamb_oi, noisey_sig)\n",
    "RSS_nonreg_sum = np.sum(resid_nonreg**2)\n",
    "\n",
    "print(f\"Nonreg results for parameter estimation with \")\n",
    "print(f\"RSS with simple RSS calculation = {RSS_nonreg_simple: 0.5f}\")\n",
    "print(f\"RSS with regularized RSS calculation = {RSS_nonreg_reg: 0.5f}\")\n",
    "print(f\"RSS with from residuals of cf = {RSS_nonreg_sum: 0.5f}\")"
   ]
  }
 ],
 "metadata": {
  "kernelspec": {
   "display_name": "Python 3",
   "language": "python",
   "name": "python3"
  },
  "language_info": {
   "codemirror_mode": {
    "name": "ipython",
    "version": 3
   },
   "file_extension": ".py",
   "mimetype": "text/x-python",
   "name": "python",
   "nbconvert_exporter": "python",
   "pygments_lexer": "ipython3",
   "version": "3.10.7"
  },
  "orig_nbformat": 4
 },
 "nbformat": 4,
 "nbformat_minor": 2
}
